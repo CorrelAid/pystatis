{
 "cells": [
  {
   "cell_type": "code",
   "execution_count": null,
   "id": "165da3a1",
   "metadata": {
    "scrolled": true
   },
   "outputs": [],
   "source": [
    "import logging\n",
    "\n",
    "from pystatis import Table\n",
    "\n",
    "logging.basicConfig(level=logging.INFO)"
   ]
  },
  {
   "cell_type": "markdown",
   "id": "8e14f4db",
   "metadata": {},
   "source": [
    "# The `Table` Class\n",
    "\n",
    "The `Table` class in `pystatis` is the main interface for users to interact with the different databases and download the data/tables in form of `pandas` `DataFrames`.\n"
   ]
  },
  {
   "cell_type": "markdown",
   "id": "07f3dee4",
   "metadata": {},
   "source": [
    "To use the class, you have to pass only a single parameter: the `name` of the table you want to download.\n"
   ]
  },
  {
   "cell_type": "code",
   "execution_count": null,
   "id": "5d25c79a",
   "metadata": {},
   "outputs": [],
   "source": [
    "t = Table(name=\"81000-0001\")"
   ]
  },
  {
   "cell_type": "markdown",
   "id": "8ca8127a",
   "metadata": {},
   "source": [
    "## Downloading data\n"
   ]
  },
  {
   "cell_type": "markdown",
   "id": "3d841f94",
   "metadata": {},
   "source": [
    "However, creating a new `Table` instance does not automatically retrieve the data from the database (or cache). Instead, you have to call another method: `get_data()`. The reason for this decision was to give you full control over the download process and avoid unnecessary downloads of big tables unless you are certain you want to start the download.\n"
   ]
  },
  {
   "cell_type": "code",
   "execution_count": null,
   "id": "632fc783",
   "metadata": {
    "scrolled": false
   },
   "outputs": [],
   "source": [
    "t.get_data()"
   ]
  },
  {
   "cell_type": "markdown",
   "id": "2370bd5e",
   "metadata": {},
   "source": [
    "You can access the name of a table via the `.name` attribute.\n"
   ]
  },
  {
   "cell_type": "code",
   "execution_count": null,
   "id": "f5f1aded",
   "metadata": {},
   "outputs": [],
   "source": [
    "t.name"
   ]
  },
  {
   "cell_type": "markdown",
   "id": "4e050eed",
   "metadata": {},
   "source": [
    "After a successful download (or cache retrieval), you can always access the raw data, that is the original response from the web API as a string, via the `.raw_data` attribute.\n"
   ]
  },
  {
   "cell_type": "code",
   "execution_count": null,
   "id": "8fede338",
   "metadata": {},
   "outputs": [],
   "source": [
    "print(t.raw_data)"
   ]
  },
  {
   "cell_type": "markdown",
   "id": "5ae90416",
   "metadata": {},
   "source": [
    "More likely, you are interested in the `pandas` `DataFrame`, which is accessible via the `.data` attribute.\n"
   ]
  },
  {
   "cell_type": "code",
   "execution_count": null,
   "id": "874bbbb9",
   "metadata": {},
   "outputs": [],
   "source": [
    "t.data.head()"
   ]
  },
  {
   "cell_type": "markdown",
   "id": "677d68b7",
   "metadata": {},
   "source": [
    "Finally, you can also access the metadata for this table via the `.metadata` attribute.\n"
   ]
  },
  {
   "cell_type": "code",
   "execution_count": null,
   "id": "5f3672e9",
   "metadata": {},
   "outputs": [],
   "source": [
    "from pprint import pprint\n",
    "\n",
    "pprint(t.metadata)"
   ]
  },
  {
   "cell_type": "markdown",
   "id": "953d7cb2",
   "metadata": {},
   "source": [
    "## How `pystatis` prepares the data for you\n"
   ]
  },
  {
   "cell_type": "markdown",
   "id": "22b075b6",
   "metadata": {},
   "source": [
    "As you can notice from a comparison between the `.raw_data` and `.data` formats, `pystatis` is doing a lot behind the scenes to provide you with a format that is hopefully the most useful for you. You will see and learn that there are a few parameters that you can use to actually change this behavior and adjust the table to your needs.\n",
    "\n",
    "But first we would like to explain to you how `pystatis` is preparing the data by default so you have a better understanding of the underlying process.\n"
   ]
  },
  {
   "cell_type": "markdown",
   "id": "889e27db",
   "metadata": {},
   "source": [
    "When we look at the header of the raw data, we can notice a few things:\n",
    "\n",
    "- Many columns always come in a pair of `*_Code` and `*_Label` columns. Both contain the same information, only provided differently.\n",
    "- There are columns that don't have a direct use as they contain information not needed in the table, like the `Statistik_Code` and `Statistik_Label` columns at the beginning. You already know the statistic from the name of the table and this information is the same for each and every row anyway.\n",
    "- There is always a time dimension, broken down into three different columns `Zeit_Code`, `Zeit_Label` and `Zeit` (or `time_*` in English).\n",
    "- The other dimensions are called variables (German \"Merkmale\") and they always come in groups of four columns: `N_Merkmal_Code`, `N_Merkmal_Label`, `N_Auspraegung_Code`, and `N_Auspraegung_Label` (English: variable code and label and variable value code and label).\n",
    "- The actual measurements or values are at the end of the table after the variables and each measurement has one column. The name of this column follows the format `<CODE>__<LABEL>__<UNIT>`, e.g. \"BWS001**Bruttowertschoepfung**jew.\\_ME\". \"BWS001\" is the unique code for this variable, \"Bruttowertschoepfung\" is the human readable label of the variable, and \"jew.\\_ME\" is the unit the measurement was recorded in.\n",
    "\n",
    "**Note** This is only true for tables from Genesis and Regionalstatistik, the format of the Zensus tables is noticeably different from this. However, we follow a similar approach to provide you the same convenient output format.\n"
   ]
  },
  {
   "cell_type": "markdown",
   "id": "ef48ba95",
   "metadata": {},
   "source": [
    "The following table hopefully makes it a little bit clearer what is happening when going from the raw data string to the pandas `DataFrame`. The example is showing the Table \"11111-02-01-4\" from Regionalstatistik, but remember, that Genesis and Regionalstatistik have identically formats. The table has a time dimension, one attribute and one value.\n",
    "\n",
    "| Statistik_Code | Statistik_Label                 | Zeit_Code | Zeit_Label | Zeit       | 1_Merkmal_Code | 1_Merkmal_Label              | 1_Auspraegung_Code | 1_Auspraegung_Label | GEM001**Zahl_der_Gemeinden**Anzahl |\n",
    "| -------------- | ------------------------------- | --------- | ---------- | ---------- | -------------- | ---------------------------- | ------------------ | ------------------- | ---------------------------------- |\n",
    "| 11111          | Feststellung des Gebietsstandes | STAG      | Stichtag   | 31.12.2022 | KREISE         | Kreise und kreisfreie Städte | DG                 | Deutschland         | 10786                              |\n",
    "| 11111          | Feststellung des Gebietsstandes | STAG      | Stichtag   | 31.12.2022 | KREISE         | Kreise und kreisfreie Städte | 01                 | Schleswig-Holstein  | 1106                               |\n"
   ]
  },
  {
   "cell_type": "markdown",
   "id": "663d6fd9",
   "metadata": {},
   "source": [
    "The same table has the following pandas representation after being \"prettified\" by `pystatis`:\n"
   ]
  },
  {
   "cell_type": "code",
   "execution_count": null,
   "id": "483a1a0e",
   "metadata": {},
   "outputs": [],
   "source": [
    "t = Table(\"11111-02-01-4\")\n",
    "t.get_data()\n",
    "t.data.head(2)"
   ]
  },
  {
   "cell_type": "markdown",
   "id": "08ee995a",
   "metadata": {},
   "source": [
    "As you can see and hopefully agree, the pandas version (what we call \"prettified\") provides the same information, actually even more, because the header column names have become meaningful and there is a lot less noise that you need to filter out before you can get to the actual data.\n"
   ]
  },
  {
   "cell_type": "markdown",
   "id": "1e048322",
   "metadata": {},
   "source": [
    "For Zensus `pystatis` is basically doing the same, but in a slightly different way because since the release of Zensus 2022 the API no longer returns each measurement as a single column but only a single column for all values. `pystatis` is transforming this long data format back into a wide data format, so you can work with a tidy data set. See the following example of Table \"4000W-1002\" to understand what is going on.\n",
    "\n",
    "| statistics_code | statistics_label                    | time_code | time_label | time       | 1_variable_code | 1_variable_label | 1_variable_attribute_code | 1_variable_attribute_label | 2_variable_code | 2_variable_label                      | 2_variable_attribute_code | 2_variable_attribute_label | value   | value_unit | value_variable_code | value_variable_label               |\n",
    "| --------------- | ----------------------------------- | --------- | ---------- | ---------- | --------------- | ---------------- | ------------------------- | -------------------------- | --------------- | ------------------------------------- | ------------------------- | -------------------------- | ------- | ---------- | ------------------- | ---------------------------------- |\n",
    "| 4000W           | Wohnungen (Gebietsstand 15.05.2022) | STAG      | Stichtag   | 2022-05-15 | GEODL1          | Deutschland      | DG                        | Deutschland                | WHGFL2          | Fläche der Wohnung (10 m²-Intervalle) | WFL170B179                | 170 - 179 m²               | 1,2     | %          | WHG002              | Wohnungen in Gebäuden mit Wohnraum |\n",
    "| 4000W           | Wohnungen (Gebietsstand 15.05.2022) | STAG      | Stichtag   | 2022-05-15 | GEODL1          | Deutschland      | DG                        | Deutschland                | WHGFL2          | Fläche der Wohnung (10 m²-Intervalle) | WFL170B179                | 170 - 179 m²               | 509041  | Anzahl     | WHG002              | Wohnungen in Gebäuden mit Wohnraum |\n",
    "| 4000W           | Wohnungen (Gebietsstand 15.05.2022) | STAG      | Stichtag   | 2022-05-15 | GEODL1          | Deutschland      | DG                        | Deutschland                | WHGFL2          | Fläche der Wohnung (10 m²-Intervalle) | WFL090B099                | 90 - 99 m²                 | 7,2     | %          | WHG002              | Wohnungen in Gebäuden mit Wohnraum |\n",
    "| 4000W           | Wohnungen (Gebietsstand 15.05.2022) | STAG      | Stichtag   | 2022-05-15 | GEODL1          | Deutschland      | DG                        | Deutschland                | WHGFL2          | Fläche der Wohnung (10 m²-Intervalle) | WFL090B099                | 90 - 99 m²                 | 3082890 | Anzahl     | WHG002              | Wohnungen in Gebäuden mit Wohnraum |\n"
   ]
  },
  {
   "cell_type": "code",
   "execution_count": null,
   "id": "b1c811c2",
   "metadata": {},
   "outputs": [],
   "source": [
    "t = Table(\"4000W-1002\")\n",
    "t.get_data()\n",
    "t.data.head(2)"
   ]
  },
  {
   "cell_type": "markdown",
   "id": "61d6df19",
   "metadata": {},
   "source": [
    "As you can see, `pystatis` is not only increasing readability and making data access easy, it also reduces the amount of data you have to work with. Going from a long format back to a tidy wide format means cutting the number of rows to 1/3 because all three measurements get back their own column.\n"
   ]
  },
  {
   "cell_type": "markdown",
   "id": "57acff63",
   "metadata": {},
   "source": [
    "`pystatis` is doing the following things (by default) when parsing the original raw string:\n",
    "\n",
    "- remove the information about the statistic\n",
    "- for all variables: only keep the value column and choose the variable label as the column name\n",
    "- for all measurements: remove the variable code from the column name, only keep label and unit\n",
    "- set the proper data types (`datetime` for the time variable, if appropriate; `str` for regional codes)\n",
    "- handling missing values (i.e. replacing characters \"...\", \".\", \"-\", \"/\" and \"x\" by proper `NaN` values) and special characters\n",
    "- choosing the right decimal character depending on the specified language (German: \",\", English: \".\")\n"
   ]
  },
  {
   "cell_type": "markdown",
   "id": "051de4fa",
   "metadata": {},
   "source": [
    "All of this happens behind the scenes when you are downloading the data with `get_data()` and access it via the `Table.data` attribute.\n"
   ]
  },
  {
   "cell_type": "markdown",
   "id": "1c9a8e49",
   "metadata": {},
   "source": [
    "## All `get_data()` parameters explained\n"
   ]
  },
  {
   "cell_type": "markdown",
   "id": "cbd4c6bb",
   "metadata": {},
   "source": [
    "You can find a list of all parameters in the [documentation](https://correlaid.github.io/pystatis/dev/pystatis.html#pystatis.table.Table.get_data) or in the docstring. All parameters are keyword parameters only (fancy Python star syntax: `f(*, everything from here on has to be a keyword only parameter)`).\n"
   ]
  },
  {
   "cell_type": "code",
   "execution_count": null,
   "id": "e67dcfb7",
   "metadata": {},
   "outputs": [],
   "source": [
    "?t.get_data"
   ]
  },
  {
   "cell_type": "markdown",
   "id": "27f2deb1",
   "metadata": {},
   "source": [
    "### `prettify`\n"
   ]
  },
  {
   "cell_type": "markdown",
   "id": "1f2dcb9e",
   "metadata": {},
   "source": [
    "`prettify` is a boolean and can only be `True` or `False`. The default is `True` because `prettify` is basically doing all the above mentioned work behind the scenes to transform the raw data into the nicer tidy version. However, as we don't know what specific requirements you have, it can always be the case that we are not doing what you want to do or we are doing it in a wrong way. Instead of starting from scratch with the raw string, `prettify=False` will still give you a pandas `DataFrame` but without the transformations described in the previous sections. Basically, `prettify=False` gives you the raw data as a pandas `DataFrame` instead of a string without any transformation from our side.\n"
   ]
  },
  {
   "cell_type": "code",
   "execution_count": null,
   "id": "5953416f",
   "metadata": {},
   "outputs": [],
   "source": [
    "t = Table(\"1000A-0000\")\n",
    "t.get_data(prettify=False)\n",
    "t.data.head(3)"
   ]
  },
  {
   "cell_type": "code",
   "execution_count": null,
   "id": "993660a3",
   "metadata": {},
   "outputs": [],
   "source": [
    "# don't be confused by the query, we have to query by ARS in this example because prettify=True sorts the data by ARS and the order is different from above\n",
    "t = Table(\"1000A-0000\")\n",
    "t.get_data(prettify=True)\n",
    "t.data[\n",
    "    t.data[\"Amtlicher Regionalschlüssel (ARS)\"].isin(\n",
    "        [\"092760130130\", \"073355011022\", \"130765654053\"]\n",
    "    )\n",
    "]"
   ]
  },
  {
   "cell_type": "code",
   "execution_count": null,
   "id": "caef5440",
   "metadata": {},
   "outputs": [],
   "source": [
    "t.data.info()"
   ]
  },
  {
   "cell_type": "markdown",
   "id": "2a9d87bb",
   "metadata": {},
   "source": [
    "### `area`\n"
   ]
  },
  {
   "cell_type": "markdown",
   "id": "91c8216b",
   "metadata": {},
   "source": [
    "We don't have a good explanation for this one, so if you have a concrete use case, please let us know!\n",
    "\n",
    "Here is the description from the official [documentation](https://www-genesis.destatis.de/genesis/misc/GENESIS-Webservices_Einfuehrung.pdf):\n",
    "\n",
    "The area query parameter specifies the area in which the object is stored, which is analogous to online navigation. Here is the breakdown:\n",
    "\n",
    "For internal users:\n",
    "\n",
    "- Meine/Benutzer\n",
    "- Gruppe\n",
    "- Amt\n",
    "- Katalog/Öffentlich\n",
    "- Alle\n",
    "\n",
    "For external users:\n",
    "\n",
    "- Meine/Benutzer\n",
    "- Katalog/Öffentlich\n",
    "\n",
    "This parameter corresponds to:\n",
    "\n",
    "- Bereich=Benutzer as Bereich=Meine\n",
    "- Bereich=Öffentlich as Bereich=Katalog\n"
   ]
  },
  {
   "cell_type": "markdown",
   "id": "b1bc5047",
   "metadata": {},
   "source": [
    "### `startyear`, `endyear` and `timeslices`\n"
   ]
  },
  {
   "cell_type": "markdown",
   "id": "e72f9b69",
   "metadata": {},
   "source": [
    "All three parameters can be used to fetch data of a certain time range for the given Table. The default is Table specific and has to be checked for each Table, often it is just the latest period of time available.\n",
    "\n",
    "The important thing here is that `timeslices` is **cumulative** to the other two options, meaning that `timeslices=N` will give you N years after `startyear` or before `endyear`.\n"
   ]
  },
  {
   "cell_type": "markdown",
   "id": "d21d8bf4",
   "metadata": {},
   "source": [
    "Let's say you are interested in school-leaving qualifications over the years in Germany. Then Table [21111-0004](https://www-genesis.destatis.de/genesis//online?operation=table&code=21111-0004) might be of interest to you. The description of the table mentions that data is available for the years 1997/98 - 2021/22. But what will the API return if you specify no time parameter?\n"
   ]
  },
  {
   "cell_type": "code",
   "execution_count": null,
   "id": "c1e32498",
   "metadata": {},
   "outputs": [],
   "source": [
    "t = Table(\"21111-0004\")\n",
    "t.get_data()\n",
    "t.data[\"Schuljahr\"].unique()"
   ]
  },
  {
   "cell_type": "markdown",
   "id": "f687bd08",
   "metadata": {},
   "source": [
    "As you can see, `pystatis` only returns you, for whatever reason, the years 2020/21 and 2021/22. How can you get the ten latest years? Let's see:\n"
   ]
  },
  {
   "cell_type": "code",
   "execution_count": null,
   "id": "9b34306a",
   "metadata": {},
   "outputs": [],
   "source": [
    "t.get_data(timeslices=10)\n",
    "t.data[\"Schuljahr\"].unique()"
   ]
  },
  {
   "cell_type": "code",
   "execution_count": null,
   "id": "037dfbd8",
   "metadata": {},
   "outputs": [],
   "source": [
    "t.get_data(startyear=\"2012\")\n",
    "t.data[\"Schuljahr\"].unique()"
   ]
  },
  {
   "cell_type": "markdown",
   "id": "630d5fff",
   "metadata": {},
   "source": [
    "If you are only interested in a time period somewhere in between, you need to use both `startyear` and `endyear`:\n"
   ]
  },
  {
   "cell_type": "code",
   "execution_count": null,
   "id": "d0b70aad",
   "metadata": {},
   "outputs": [],
   "source": [
    "t.get_data(startyear=\"2012\", endyear=\"2015\")\n",
    "t.data[\"Schuljahr\"].unique()"
   ]
  },
  {
   "cell_type": "markdown",
   "id": "6edd09e4",
   "metadata": {},
   "source": [
    "You might expect that using `startyear` and `timeslices` might give the same result, but it turns out that this is not the case and quite misleading. In fact, `timeslices` is always coming on top of whatever you have selected with `startyear` and `endyear`. Is that confusing? We definitely think so!\n"
   ]
  },
  {
   "cell_type": "code",
   "execution_count": null,
   "id": "9bc604d4",
   "metadata": {},
   "outputs": [],
   "source": [
    "t.get_data(\n",
    "    startyear=\"2012\", endyear=\"2015\", timeslices=3\n",
    ")  # gives everything between 2012 and 2015 three more years\n",
    "t.data[\"Schuljahr\"].unique()"
   ]
  },
  {
   "cell_type": "markdown",
   "id": "31cfa070",
   "metadata": {},
   "source": []
  },
  {
   "cell_type": "code",
   "execution_count": null,
   "id": "b3bbe0ed",
   "metadata": {},
   "outputs": [],
   "source": [
    "t.get_data(\n",
    "    endyear=\"2015\", timeslices=3\n",
    ")  # gives everything up to 2015 and three more years\n",
    "t.data[\"Schuljahr\"].unique()"
   ]
  },
  {
   "cell_type": "markdown",
   "id": "1293aa0f",
   "metadata": {},
   "source": [
    "### `regionalvariable` and `regionalkey`\n"
   ]
  },
  {
   "cell_type": "markdown",
   "id": "561f5029",
   "metadata": {},
   "source": [
    "Tables that end with a \"B\" in Regionalstatistik are special: They allow to change the regional depth of the data, meaning that you can fetch data for different regional areas depending on these two variables. The same is true for all Zensus tables.\n",
    "\n",
    "To select a specific region area, you can either specify `regionalvariable` and pass one of the reserved codes for this geo variable, or you can directly select a specific region via its key. Let's see some examples, so let's analyze Table [12613-01-01-5-B](https://www.regionalstatistik.de/genesis//online?operation=table&code=12613-01-01-5-B):\n"
   ]
  },
  {
   "cell_type": "code",
   "execution_count": null,
   "id": "0a5ac832",
   "metadata": {},
   "outputs": [],
   "source": [
    "t = Table(\"12613-01-01-5-B\")\n",
    "t.get_data()\n",
    "t.data.head(5)"
   ]
  },
  {
   "cell_type": "markdown",
   "id": "e173637e",
   "metadata": {},
   "source": [
    "Instead of fetching the data for all municipalities, we can choose a different regional depth (see the codes [here](https://correlaid.github.io/pystatis/dev/pystatis.html#module-pystatis.table)), for example \"KRESIE\", one level above \"GEMEINDE\", which is the default for this table.\n"
   ]
  },
  {
   "cell_type": "code",
   "execution_count": null,
   "id": "ad1ee900",
   "metadata": {},
   "outputs": [],
   "source": [
    "t = Table(\"12613-01-01-5-B\")\n",
    "t.get_data(regionalvariable=\"KREISE\")\n",
    "t.data.head(5)"
   ]
  },
  {
   "cell_type": "markdown",
   "id": "783cbae6",
   "metadata": {},
   "source": [
    "`regionalkey` can be used to fetch only certain areas, see <https://datengui.de/statistik-erklaert/ags>. We now fetch only municipalities in Baden-Württemberg:\n"
   ]
  },
  {
   "cell_type": "code",
   "execution_count": null,
   "id": "84329699",
   "metadata": {},
   "outputs": [],
   "source": [
    "t = Table(\"12613-01-01-5-B\")\n",
    "t.get_data(regionalkey=\"08*\")\n",
    "t.data.head(5)"
   ]
  },
  {
   "cell_type": "markdown",
   "id": "d1497a9a",
   "metadata": {},
   "source": [
    "### `stand`\n"
   ]
  },
  {
   "cell_type": "markdown",
   "id": "5aa0d3d6",
   "metadata": {},
   "source": [
    "Can be used to only download tables that have a version newer than the given date.\n"
   ]
  },
  {
   "cell_type": "code",
   "execution_count": null,
   "id": "055850e8",
   "metadata": {},
   "outputs": [],
   "source": [
    "t = Table(\"21111-0004\")\n",
    "t.get_data()\n",
    "t.data.head(5)"
   ]
  },
  {
   "cell_type": "code",
   "execution_count": null,
   "id": "8928e0de",
   "metadata": {},
   "outputs": [],
   "source": [
    "t.metadata[\"Object\"][\"Updated\"]"
   ]
  },
  {
   "cell_type": "code",
   "execution_count": null,
   "id": "4bb78e4f",
   "metadata": {},
   "outputs": [],
   "source": [
    "t.get_data(stand=\"01.01.2023\")  # before updated date, so should return data\n",
    "t.data.head()"
   ]
  },
  {
   "cell_type": "code",
   "execution_count": null,
   "id": "b40994e3",
   "metadata": {},
   "outputs": [],
   "source": [
    "t.get_data(stand=\"01.12.2024\")  # after updated date, so error\n",
    "t.data.head()"
   ]
  },
  {
   "cell_type": "markdown",
   "id": "b1040396",
   "metadata": {},
   "source": [
    "### `language`\n"
   ]
  },
  {
   "cell_type": "markdown",
   "id": "43f5a88b",
   "metadata": {},
   "source": [
    "`language` can either be \"de\" or \"en, with \"de\" being the default, obviously. Regionalstatistik is not supporting \"en\" and will not translate any data, Genesis and Zensus have some support for English, but you have to check for yourself, if the data is translated and to what extend.\n"
   ]
  },
  {
   "cell_type": "code",
   "execution_count": null,
   "id": "a714ddf8",
   "metadata": {},
   "outputs": [],
   "source": [
    "t = Table(\"81000-0001\")\n",
    "t.get_data()\n",
    "t.data.head(1)"
   ]
  },
  {
   "cell_type": "code",
   "execution_count": null,
   "id": "49f4d094",
   "metadata": {},
   "outputs": [],
   "source": [
    "t = Table(\"81000-0001\")\n",
    "t.get_data(language=\"en\")\n",
    "t.data.head(1)"
   ]
  },
  {
   "cell_type": "markdown",
   "id": "6fa9de37",
   "metadata": {},
   "source": [
    "### `quality`\n"
   ]
  },
  {
   "cell_type": "markdown",
   "id": "762e1744",
   "metadata": {},
   "source": [
    "`quality` can be either \"on\" or \"off\", with \"off\" being the default. When switching to \"on\", the downloaded table has additional quality columns \"\\_\\_q\" for each value column with quality symbols. Check [Explanation of symbols](https://www-genesis.destatis.de/genesis/online?operation=ergebnistabelleQualitaet&language=en&levelindex=3&levelid=1719342760835#abreadcrumb.) Not supported for all tables or databases.\n"
   ]
  },
  {
   "cell_type": "code",
   "execution_count": null,
   "id": "f3467e20",
   "metadata": {},
   "outputs": [],
   "source": [
    "t = Table(\"52111-0001\")\n",
    "t.get_data(quality=\"on\")\n",
    "t.data.head(1)"
   ]
  },
  {
   "cell_type": "code",
   "execution_count": null,
   "id": "955f782d",
   "metadata": {},
   "outputs": [],
   "source": [
    "t = Table(\"12211-Z-11\")\n",
    "t.get_data(quality=\"on\")  # not supported, ignored, but also no warning\n",
    "t.data.head(1)"
   ]
  },
  {
   "cell_type": "code",
   "execution_count": null,
   "id": "f5700bc3",
   "metadata": {},
   "outputs": [],
   "source": [
    "t = Table(\"1000A-0000\")\n",
    "t.get_data(quality=\"on\")\n",
    "t.data.head(1)"
   ]
  }
 ],
 "metadata": {
  "kernelspec": {
   "display_name": "pystatis",
   "language": "python",
   "name": "python3"
  },
  "language_info": {
   "codemirror_mode": {
    "name": "ipython",
    "version": 3
   },
   "file_extension": ".py",
   "mimetype": "text/x-python",
   "name": "python",
   "nbconvert_exporter": "python",
   "pygments_lexer": "ipython3",
   "version": "3.12.4"
  }
 },
 "nbformat": 4,
 "nbformat_minor": 5
}
