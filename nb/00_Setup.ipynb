{
 "cells": [
  {
   "cell_type": "code",
   "execution_count": null,
   "id": "0f4d35be-2e17-4e1a-8da4-0a3075f9911f",
   "metadata": {},
   "outputs": [],
   "source": [
    "!pip install python-dotenv"
   ]
  },
  {
   "cell_type": "code",
   "execution_count": null,
   "id": "888706f5-3a9e-4e0a-9ca6-fa430280bc03",
   "metadata": {},
   "outputs": [],
   "source": [
    "\n",
    "import dotenv\n",
    "import pystatis\n",
    "from pystatis.config import get_supported_db, config\n",
    "\n",
    "print(\"pystatis version: \", pystatis.__version__)\n",
    "dotenv.load_dotenv()"
   ]
  },
  {
   "cell_type": "code",
   "execution_count": null,
   "id": "ee7969b6",
   "metadata": {},
   "outputs": [],
   "source": [
    "# only execute if you want to delete your config file for test purposes\n",
    "pystatis.config.delete_config()\n",
    "pystatis.config.init_config()"
   ]
  },
  {
   "cell_type": "markdown",
   "id": "3928f347",
   "metadata": {},
   "source": [
    "`init_config` is called when loading pystatis, so a config with empty credentials will be created in your user home directory by default."
   ]
  },
  {
   "cell_type": "markdown",
   "id": "18c2633f",
   "metadata": {},
   "source": [
    "The only thin you have to do is to set up your user credentials.\n",
    "\n",
    "You can do so either by:\n",
    "1. specifying the 4 environment variables `PYSTATIS_GENESIS_API_USERNAME|PASSWORD`, and `PYSTATIS_ZENSUS_API_USERNAME|PASSWORD`\n",
    "2. calling the function `setup_credentials()` which will guide you through the process\n",
    "\n",
    "Even if you do 1. please call `setup_credentials()` once as it will read out the environment variables and write the credentials to the `config.ini` in your config dir."
   ]
  },
  {
   "cell_type": "code",
   "execution_count": null,
   "id": "6c301da5",
   "metadata": {},
   "outputs": [],
   "source": [
    "pystatis.setup_credentials()"
   ]
  },
  {
   "cell_type": "markdown",
   "id": "d7d92f0d",
   "metadata": {},
   "source": [
    "Once you have set up your credentials, they are stored in the `config.ini`. You can use `pystatis.config.load_config()` to retrieve these values."
   ]
  },
  {
   "cell_type": "code",
   "execution_count": null,
   "id": "7ce103d9",
   "metadata": {},
   "outputs": [],
   "source": [
    "from pprint import pprint\n",
    "\n",
    "for db in get_supported_db():\n",
    "    print(\"Database: \", db)\n",
    "    for k, v in config[db].items():\n",
    "        print(k, v)\n",
    "    print()"
   ]
  }
 ],
 "metadata": {
  "kernelspec": {
   "display_name": "Python 3 (ipykernel)",
   "language": "python",
   "name": "python3"
  },
  "language_info": {
   "codemirror_mode": {
    "name": "ipython",
    "version": 3
   },
   "file_extension": ".py",
   "mimetype": "text/x-python",
   "name": "python",
   "nbconvert_exporter": "python",
   "pygments_lexer": "ipython3",
   "version": "3.11.5"
  }
 },
 "nbformat": 4,
 "nbformat_minor": 5
}
