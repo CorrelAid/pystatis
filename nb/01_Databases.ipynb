{
 "cells": [
  {
   "cell_type": "markdown",
   "metadata": {},
   "source": [
    "# Using different databases\n",
    "\n",
    "Once you have at least once called `setup_credentials()` you are good to use any method of this package with any of the supported databases.\n",
    "\n",
    "The respective database (GENESIS-online, Zensusdatenbank, or Regionaldatenbank) will be determined automatically, all you need to provide the item code.\n",
    "\n",
    "There are a few functions in pystatis that cannot determine the database automatically, such as checking your login credentials or setting a new password. In these cases you need to explicitly specify the database you want to work with. If you don't know the names of the supported databases, ask `pystatis.config.get_supported_db()`."
   ]
  },
  {
   "cell_type": "code",
   "execution_count": 1,
   "metadata": {},
   "outputs": [],
   "source": [
    "from pystatis import logincheck\n",
    "from pystatis import config"
   ]
  },
  {
   "cell_type": "code",
   "execution_count": 2,
   "metadata": {},
   "outputs": [
    {
     "data": {
      "text/plain": [
       "['genesis', 'zensus', 'regio']"
      ]
     },
     "execution_count": 2,
     "metadata": {},
     "output_type": "execute_result"
    }
   ],
   "source": [
    "config.get_supported_db()"
   ]
  },
  {
   "cell_type": "code",
   "execution_count": null,
   "metadata": {},
   "outputs": [],
   "source": [
    "logincheck('genesis')"
   ]
  },
  {
   "cell_type": "code",
   "execution_count": null,
   "metadata": {},
   "outputs": [],
   "source": [
    "logincheck(\"zensus\")"
   ]
  },
  {
   "cell_type": "code",
   "execution_count": null,
   "metadata": {},
   "outputs": [],
   "source": [
    "logincheck(\"regio\")"
   ]
  }
 ],
 "metadata": {
  "kernelspec": {
   "display_name": "pystatis",
   "language": "python",
   "name": "python3"
  },
  "language_info": {
   "codemirror_mode": {
    "name": "ipython",
    "version": 3
   },
   "file_extension": ".py",
   "mimetype": "text/x-python",
   "name": "python",
   "nbconvert_exporter": "python",
   "pygments_lexer": "ipython3",
   "version": "3.11.5"
  }
 },
 "nbformat": 4,
 "nbformat_minor": 2
}
