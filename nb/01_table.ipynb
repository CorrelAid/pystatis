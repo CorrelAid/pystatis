{
 "cells": [
  {
   "cell_type": "code",
   "execution_count": 1,
   "id": "165da3a1",
   "metadata": {
    "scrolled": true
   },
   "outputs": [],
   "source": [
    "import logging\n",
    "logging.basicConfig(level=logging.INFO)\n",
    "\n",
    "from pystatis import Table"
   ]
  },
  {
   "cell_type": "markdown",
   "id": "8e14f4db",
   "metadata": {},
   "source": [
    "# The `Table` class\n",
    "\n",
    "The `Table` class in `pystatis` is the main interface for users to interact with the different databases and download the data/tables in form of `pandas` data frames."
   ]
  },
  {
   "cell_type": "markdown",
   "id": "07f3dee4",
   "metadata": {},
   "source": [
    "To use the class, you have to pass only a single parameter: the `name` of the table you want to download."
   ]
  },
  {
   "cell_type": "code",
   "execution_count": 2,
   "id": "5d25c79a",
   "metadata": {},
   "outputs": [],
   "source": [
    "t = Table(name=\"81000-0001\")"
   ]
  },
  {
   "cell_type": "markdown",
   "id": "8ca8127a",
   "metadata": {},
   "source": [
    "## Downloading data"
   ]
  },
  {
   "cell_type": "markdown",
   "id": "3d841f94",
   "metadata": {},
   "source": [
    "However, creating a new `Table` instance does not automatically retrieve the data from the database (or cache). Instead, you have to call another method: `get_data()`. The reason for this decision was to give you full control over the download process and avoid unnecessary downloads of big tables unless you are certain you want to start the download."
   ]
  },
  {
   "cell_type": "code",
   "execution_count": 3,
   "id": "632fc783",
   "metadata": {
    "scrolled": false
   },
   "outputs": [
    {
     "name": "stderr",
     "output_type": "stream",
     "text": [
      "INFO:pystatis.cache:Data was successfully cached under C:\\Users\\MDick\\.pystatis\\data\\81000-0001\\22f1c95a5b4dbac1ad74\\20240626.csv.\n",
      "INFO:pystatis.http_helper:Code 0: erfolgreich\n"
     ]
    }
   ],
   "source": [
    "t.get_data()"
   ]
  },
  {
   "cell_type": "markdown",
   "id": "2370bd5e",
   "metadata": {},
   "source": [
    "You can access the name of a table via the `.name` attribute."
   ]
  },
  {
   "cell_type": "code",
   "execution_count": 4,
   "id": "f5f1aded",
   "metadata": {},
   "outputs": [
    {
     "data": {
      "text/plain": [
       "'81000-0001'"
      ]
     },
     "execution_count": 4,
     "metadata": {},
     "output_type": "execute_result"
    }
   ],
   "source": [
    "t.name"
   ]
  },
  {
   "cell_type": "markdown",
   "id": "4e050eed",
   "metadata": {},
   "source": [
    "After a successful download (or cache retrieval), you can always access the raw data, that is the original response from the web API as string, via the `.raw_data` attribute."
   ]
  },
  {
   "cell_type": "code",
   "execution_count": 5,
   "id": "8fede338",
   "metadata": {},
   "outputs": [
    {
     "name": "stdout",
     "output_type": "stream",
     "text": [
      "Statistik_Code;Statistik_Label;Zeit_Code;Zeit_Label;Zeit;1_Merkmal_Code;1_Merkmal_Label;1_Auspraegung_Code;1_Auspraegung_Label;2_Merkmal_Code;2_Merkmal_Label;2_Auspraegung_Code;2_Auspraegung_Label;BWS001__Bruttowertschoepfung__jew._ME;STR006__Guetersteuern_abzuegl._Guetersubventionen__jew._ME;STR020_______Guetersteuern__jew._ME;SUB003_______Guetersubventionen__jew._ME;VGR014__Bruttoinlandsprodukt__jew._ME;BIP005__nachr.:_Bruttoinlandsprodukt_(Veraenderung_in_%)__Prozent;BIP004__nachr.:_Bruttoinlandsprodukt_je_Einwohner__jew._ME\n",
      "81000;Volkswirtschaftliche Gesamtrechnungen des Bundes;JAHR;Jahr;2014;DINSG;Deutschland insgesamt;DG;Deutschland;VGRPB5;Preisbasis;VGRJPM;in jeweiligen Preisen (Mrd. EUR);2635,393;292,037;298,774;6,737;2927,430;4,1;36149,000\n",
      "81000;Volkswirtschaftliche Gesamtrechnungen des Bundes;JAHR;Jahr;2014;DINSG;Deutschland insgesamt;DG;Deutschland;VGRPB5;Preisbasis;VGRPKM;preisbereinigt, Kettenindex (2015=100);98,810;96,150;96,250;100,970;98,530;2,2;99,380\n",
      "81000;Volkswirtschaftliche Gesamtrechnungen des Bundes;JAHR;Jahr;2014;DINSG;Deutschland insgesamt;DG;Deutschland;VGRPB5;Preisbasis;VGRPVK;preisbereinigt, verkettete Volumenang. (Mrd. EUR);2689,628;-;-;-;2981,695;2,2;-\n",
      "81000;Volkswirtschaftliche Gesamtrechnungen des Bundes;JAHR;Jahr;2014;DINSG;Deutschland insgesamt;DG;Deutschland;VGRPB5;Preisbasis;VGRPVU;preisbereinigt, unverkettete Volumenang.(Mrd. EUR);2584,829;-;-;-;2873,722;-;-\n",
      "81000;Volkswirtschaftliche Gesamtrechnungen des Bundes;JAHR;Jahr;2015;DINSG;Deutschland insgesamt;DG;Deutschland;VGRPB5;Preisbasis;VGRJPM;in jeweiligen Preisen (Mrd. EUR);2722,020;304,160;310,942;6,782;3026,180;3,4;37046,000\n",
      "81000;Volkswirtschaftliche Gesamtrechnungen des Bundes;JAHR;Jahr;2015;DINSG;Deutschland insgesamt;DG;Deutschland;VGRPB5;Preisbasis;VGRPKM;preisbereinigt, Kettenindex (2015=100);100,000;100,000;100,000;100,000;100,000;1,5;100,000\n",
      "81000;Volkswirtschaftliche Gesamtrechnungen des Bundes;JAHR;Jahr;2015;DINSG;Deutschland insgesamt;DG;Deutschland;VGRPB5;Preisbasis;VGRPVK;preisbereinigt, verkettete Volumenang. (Mrd. EUR);2722,020;-;-;-;3026,180;1,5;-\n",
      "81000;Volkswirtschaftliche Gesamtrechnungen des Bundes;JAHR;Jahr;2015;DINSG;Deutschland insgesamt;DG;Deutschland;VGRPB5;Preisbasis;VGRPVU;preisbereinigt, unverkettete Volumenang.(Mrd. EUR);2667,231;-;-;-;2970,965;-;-\n",
      "81000;Volkswirtschaftliche Gesamtrechnungen des Bundes;JAHR;Jahr;2016;DINSG;Deutschland insgesamt;DG;Deutschland;VGRPB5;Preisbasis;VGRJPM;in jeweiligen Preisen (Mrd. EUR);2822,443;312,297;319,143;6,846;3134,740;3,6;38067,000\n",
      "81000;Volkswirtschaftliche Gesamtrechnungen des Bundes;JAHR;Jahr;2016;DINSG;Deutschland insgesamt;DG;Deutschland;VGRPB5;Preisbasis;VGRPKM;preisbereinigt, Kettenindex (2015=100);102,250;102,030;101,990;100,240;102,230;2,2;101,410\n",
      "81000;Volkswirtschaftliche Gesamtrechnungen des Bundes;JAHR;Jahr;2016;DINSG;Deutschland insgesamt;DG;Deutschland;VGRPB5;Preisbasis;VGRPVK;preisbereinigt, verkettete Volumenang. (Mrd. EUR);2783,265;-;-;-;3093,664;2,2;-\n",
      "81000;Volkswirtschaftliche Gesamtrechnungen des Bundes;JAHR;Jahr;2016;DINSG;Deutschland insgesamt;DG;Deutschland;VGRPB5;Preisbasis;VGRPVU;preisbereinigt, unverkettete Volumenang.(Mrd. EUR);2783,371;-;-;-;3093,710;-;-\n",
      "81000;Volkswirtschaftliche Gesamtrechnungen des Bundes;JAHR;Jahr;2017;DINSG;Deutschland insgesamt;DG;Deutschland;VGRPB5;Preisbasis;VGRJPM;in jeweiligen Preisen (Mrd. EUR);2944,074;323,086;329,847;6,761;3267,160;4,2;39527,000\n",
      "81000;Volkswirtschaftliche Gesamtrechnungen des Bundes;JAHR;Jahr;2017;DINSG;Deutschland insgesamt;DG;Deutschland;VGRPB5;Preisbasis;VGRPKM;preisbereinigt, Kettenindex (2015=100);105,110;103,760;103,700;101,290;104,970;2,7;103,740\n",
      "81000;Volkswirtschaftliche Gesamtrechnungen des Bundes;JAHR;Jahr;2017;DINSG;Deutschland insgesamt;DG;Deutschland;VGRPB5;Preisbasis;VGRPVK;preisbereinigt, verkettete Volumenang. (Mrd. EUR);2861,115;-;-;-;3176,581;2,7;-\n",
      "81000;Volkswirtschaftliche Gesamtrechnungen des Bundes;JAHR;Jahr;2017;DINSG;Deutschland insgesamt;DG;Deutschland;VGRPB5;Preisbasis;VGRPVU;preisbereinigt, unverkettete Volumenang.(Mrd. EUR);2901,242;-;-;-;3218,826;-;-\n",
      "81000;Volkswirtschaftliche Gesamtrechnungen des Bundes;JAHR;Jahr;2018;DINSG;Deutschland insgesamt;DG;Deutschland;VGRPB5;Preisbasis;VGRJPM;in jeweiligen Preisen (Mrd. EUR);3032,736;332,714;339,600;6,886;3365,450;3,0;40594,000\n",
      "81000;Volkswirtschaftliche Gesamtrechnungen des Bundes;JAHR;Jahr;2018;DINSG;Deutschland insgesamt;DG;Deutschland;VGRPB5;Preisbasis;VGRPKM;preisbereinigt, Kettenindex (2015=100);106,100;105,160;105,070;101,020;106,000;1,0;104,440\n",
      "81000;Volkswirtschaftliche Gesamtrechnungen des Bundes;JAHR;Jahr;2018;DINSG;Deutschland insgesamt;DG;Deutschland;VGRPB5;Preisbasis;VGRPVK;preisbereinigt, verkettete Volumenang. (Mrd. EUR);2888,063;-;-;-;3207,751;1,0;-\n",
      "81000;Volkswirtschaftliche Gesamtrechnungen des Bundes;JAHR;Jahr;2018;DINSG;Deutschland insgesamt;DG;Deutschland;VGRPB5;Preisbasis;VGRPVU;preisbereinigt, unverkettete Volumenang.(Mrd. EUR);2971,786;-;-;-;3299,232;-;-\n",
      "81000;Volkswirtschaftliche Gesamtrechnungen des Bundes;JAHR;Jahr;2019;DINSG;Deutschland insgesamt;DG;Deutschland;VGRPB5;Preisbasis;VGRJPM;in jeweiligen Preisen (Mrd. EUR);3130,567;343,543;350,942;7,399;3474,110;3,2;41810,000\n",
      "81000;Volkswirtschaftliche Gesamtrechnungen des Bundes;JAHR;Jahr;2019;DINSG;Deutschland insgesamt;DG;Deutschland;VGRPB5;Preisbasis;VGRPKM;preisbereinigt, Kettenindex (2015=100);107,000;108,390;108,240;101,420;107,140;1,1;105,330\n",
      "81000;Volkswirtschaftliche Gesamtrechnungen des Bundes;JAHR;Jahr;2019;DINSG;Deutschland insgesamt;DG;Deutschland;VGRPB5;Preisbasis;VGRPVK;preisbereinigt, verkettete Volumenang. (Mrd. EUR);2912,561;-;-;-;3242,249;1,1;-\n",
      "81000;Volkswirtschaftliche Gesamtrechnungen des Bundes;JAHR;Jahr;2019;DINSG;Deutschland insgesamt;DG;Deutschland;VGRPB5;Preisbasis;VGRPVU;preisbereinigt, unverkettete Volumenang.(Mrd. EUR);3058,504;-;-;-;3401,440;-;-\n",
      "81000;Volkswirtschaftliche Gesamtrechnungen des Bundes;JAHR;Jahr;2020;DINSG;Deutschland insgesamt;DG;Deutschland;VGRPB5;Preisbasis;VGRJPM;in jeweiligen Preisen (Mrd. EUR);3086,377;317,353;325,967;8,614;3403,730;-2,0;40929,000\n",
      "81000;Volkswirtschaftliche Gesamtrechnungen des Bundes;JAHR;Jahr;2020;DINSG;Deutschland insgesamt;DG;Deutschland;VGRPB5;Preisbasis;VGRPKM;preisbereinigt, Kettenindex (2015=100);102,670;106,400;105,560;68,580;103,040;-3,8;101,220\n",
      "81000;Volkswirtschaftliche Gesamtrechnungen des Bundes;JAHR;Jahr;2020;DINSG;Deutschland insgesamt;DG;Deutschland;VGRPB5;Preisbasis;VGRPVK;preisbereinigt, verkettete Volumenang. (Mrd. EUR);2794,698;-;-;-;3118,176;-3,8;-\n",
      "81000;Volkswirtschaftliche Gesamtrechnungen des Bundes;JAHR;Jahr;2020;DINSG;Deutschland insgesamt;DG;Deutschland;VGRPB5;Preisbasis;VGRPVU;preisbereinigt, unverkettete Volumenang.(Mrd. EUR);3003,872;-;-;-;3341,107;-;-\n",
      "81000;Volkswirtschaftliche Gesamtrechnungen des Bundes;JAHR;Jahr;2021;DINSG;Deutschland insgesamt;DG;Deutschland;VGRPB5;Preisbasis;VGRJPM;in jeweiligen Preisen (Mrd. EUR);3276,377;341,073;365,141;24,068;3617,450;6,3;43481,000\n",
      "81000;Volkswirtschaftliche Gesamtrechnungen des Bundes;JAHR;Jahr;2021;DINSG;Deutschland insgesamt;DG;Deutschland;VGRPB5;Preisbasis;VGRPKM;preisbereinigt, Kettenindex (2015=100);106,060;108,380;107,530;70,100;106,300;3,2;104,370\n",
      "81000;Volkswirtschaftliche Gesamtrechnungen des Bundes;JAHR;Jahr;2021;DINSG;Deutschland insgesamt;DG;Deutschland;VGRPB5;Preisbasis;VGRPVK;preisbereinigt, verkettete Volumenang. (Mrd. EUR);2886,974;-;-;-;3216,829;3,2;-\n",
      "81000;Volkswirtschaftliche Gesamtrechnungen des Bundes;JAHR;Jahr;2021;DINSG;Deutschland insgesamt;DG;Deutschland;VGRPB5;Preisbasis;VGRPVU;preisbereinigt, unverkettete Volumenang.(Mrd. EUR);3188,250;-;-;-;3511,508;-;-\n",
      "81000;Volkswirtschaftliche Gesamtrechnungen des Bundes;JAHR;Jahr;2022;DINSG;Deutschland insgesamt;DG;Deutschland;VGRPB5;Preisbasis;VGRJPM;in jeweiligen Preisen (Mrd. EUR);3509,628;367,182;390,670;23,488;3876,810;7,2;46264,000\n",
      "81000;Volkswirtschaftliche Gesamtrechnungen des Bundes;JAHR;Jahr;2022;DINSG;Deutschland insgesamt;DG;Deutschland;VGRPB5;Preisbasis;VGRPKM;preisbereinigt, Kettenindex (2015=100);107,860;111,470;108,370;50,060;108,220;1,8;105,500\n",
      "81000;Volkswirtschaftliche Gesamtrechnungen des Bundes;JAHR;Jahr;2022;DINSG;Deutschland insgesamt;DG;Deutschland;VGRPB5;Preisbasis;VGRPVK;preisbereinigt, verkettete Volumenang. (Mrd. EUR);2935,971;-;-;-;3274,932;1,8;-\n",
      "81000;Volkswirtschaftliche Gesamtrechnungen des Bundes;JAHR;Jahr;2022;DINSG;Deutschland insgesamt;DG;Deutschland;VGRPB5;Preisbasis;VGRPVU;preisbereinigt, unverkettete Volumenang.(Mrd. EUR);3331,942;-;-;-;3682,747;-;-\n",
      "81000;Volkswirtschaftliche Gesamtrechnungen des Bundes;JAHR;Jahr;2023;DINSG;Deutschland insgesamt;DG;Deutschland;VGRPB5;Preisbasis;VGRJPM;in jeweiligen Preisen (Mrd. EUR);3767,909;354,301;390,660;36,359;4122,210;6,3;48775,000\n",
      "81000;Volkswirtschaftliche Gesamtrechnungen des Bundes;JAHR;Jahr;2023;DINSG;Deutschland insgesamt;DG;Deutschland;VGRPB5;Preisbasis;VGRPKM;preisbereinigt, Kettenindex (2015=100);107,930;108,460;104,270;39,670;108,010;-0,2;104,400\n",
      "81000;Volkswirtschaftliche Gesamtrechnungen des Bundes;JAHR;Jahr;2023;DINSG;Deutschland insgesamt;DG;Deutschland;VGRPB5;Preisbasis;VGRPVK;preisbereinigt, verkettete Volumenang. (Mrd. EUR);2937,876;-;-;-;3268,577;-0,2;-\n",
      "81000;Volkswirtschaftliche Gesamtrechnungen des Bundes;JAHR;Jahr;2023;DINSG;Deutschland insgesamt;DG;Deutschland;VGRPB5;Preisbasis;VGRPVU;preisbereinigt, unverkettete Volumenang.(Mrd. EUR);3511,999;-;-;-;3869,273;-;-\n",
      "\n"
     ]
    }
   ],
   "source": [
    "print(t.raw_data)"
   ]
  },
  {
   "cell_type": "markdown",
   "id": "5ae90416",
   "metadata": {},
   "source": [
    "More likely, you are interested in the `pandas` `DataFrame`, which is accessible via the `.data` attribute."
   ]
  },
  {
   "cell_type": "code",
   "execution_count": 6,
   "id": "874bbbb9",
   "metadata": {},
   "outputs": [
    {
     "data": {
      "text/html": [
       "<div>\n",
       "<style scoped>\n",
       "    .dataframe tbody tr th:only-of-type {\n",
       "        vertical-align: middle;\n",
       "    }\n",
       "\n",
       "    .dataframe tbody tr th {\n",
       "        vertical-align: top;\n",
       "    }\n",
       "\n",
       "    .dataframe thead th {\n",
       "        text-align: right;\n",
       "    }\n",
       "</style>\n",
       "<table border=\"1\" class=\"dataframe\">\n",
       "  <thead>\n",
       "    <tr style=\"text-align: right;\">\n",
       "      <th></th>\n",
       "      <th>Jahr</th>\n",
       "      <th>Deutschland insgesamt</th>\n",
       "      <th>Preisbasis</th>\n",
       "      <th>Bruttowertschoepfung__jew._ME</th>\n",
       "      <th>Guetersteuern_abzuegl._Guetersubventionen__jew._ME</th>\n",
       "      <th>Guetersteuern__jew._ME</th>\n",
       "      <th>Guetersubventionen__jew._ME</th>\n",
       "      <th>Bruttoinlandsprodukt__jew._ME</th>\n",
       "      <th>nachr.:_Bruttoinlandsprodukt_(Veraenderung_in_%)__Prozent</th>\n",
       "      <th>nachr.:_Bruttoinlandsprodukt_je_Einwohner__jew._ME</th>\n",
       "    </tr>\n",
       "  </thead>\n",
       "  <tbody>\n",
       "    <tr>\n",
       "      <th>0</th>\n",
       "      <td>2014</td>\n",
       "      <td>Deutschland</td>\n",
       "      <td>in jeweiligen Preisen (Mrd. EUR)</td>\n",
       "      <td>2635,393</td>\n",
       "      <td>292,037</td>\n",
       "      <td>298,774</td>\n",
       "      <td>6,737</td>\n",
       "      <td>2927,430</td>\n",
       "      <td>4,1</td>\n",
       "      <td>36149,000</td>\n",
       "    </tr>\n",
       "    <tr>\n",
       "      <th>1</th>\n",
       "      <td>2014</td>\n",
       "      <td>Deutschland</td>\n",
       "      <td>preisbereinigt, Kettenindex (2015=100)</td>\n",
       "      <td>98,810</td>\n",
       "      <td>96,150</td>\n",
       "      <td>96,250</td>\n",
       "      <td>100,970</td>\n",
       "      <td>98,530</td>\n",
       "      <td>2,2</td>\n",
       "      <td>99,380</td>\n",
       "    </tr>\n",
       "    <tr>\n",
       "      <th>2</th>\n",
       "      <td>2014</td>\n",
       "      <td>Deutschland</td>\n",
       "      <td>preisbereinigt, verkettete Volumenang. (Mrd. EUR)</td>\n",
       "      <td>2689,628</td>\n",
       "      <td>NaN</td>\n",
       "      <td>NaN</td>\n",
       "      <td>NaN</td>\n",
       "      <td>2981,695</td>\n",
       "      <td>2,2</td>\n",
       "      <td>NaN</td>\n",
       "    </tr>\n",
       "    <tr>\n",
       "      <th>3</th>\n",
       "      <td>2014</td>\n",
       "      <td>Deutschland</td>\n",
       "      <td>preisbereinigt, unverkettete Volumenang.(Mrd. EUR)</td>\n",
       "      <td>2584,829</td>\n",
       "      <td>NaN</td>\n",
       "      <td>NaN</td>\n",
       "      <td>NaN</td>\n",
       "      <td>2873,722</td>\n",
       "      <td>NaN</td>\n",
       "      <td>NaN</td>\n",
       "    </tr>\n",
       "    <tr>\n",
       "      <th>4</th>\n",
       "      <td>2015</td>\n",
       "      <td>Deutschland</td>\n",
       "      <td>in jeweiligen Preisen (Mrd. EUR)</td>\n",
       "      <td>2722,020</td>\n",
       "      <td>304,160</td>\n",
       "      <td>310,942</td>\n",
       "      <td>6,782</td>\n",
       "      <td>3026,180</td>\n",
       "      <td>3,4</td>\n",
       "      <td>37046,000</td>\n",
       "    </tr>\n",
       "  </tbody>\n",
       "</table>\n",
       "</div>"
      ],
      "text/plain": [
       "   Jahr Deutschland insgesamt                                          Preisbasis Bruttowertschoepfung__jew._ME Guetersteuern_abzuegl._Guetersubventionen__jew._ME Guetersteuern__jew._ME Guetersubventionen__jew._ME Bruttoinlandsprodukt__jew._ME nachr.:_Bruttoinlandsprodukt_(Veraenderung_in_%)__Prozent nachr.:_Bruttoinlandsprodukt_je_Einwohner__jew._ME\n",
       "0  2014           Deutschland                    in jeweiligen Preisen (Mrd. EUR)                      2635,393                                            292,037                298,774                       6,737                      2927,430                                                       4,1                                          36149,000\n",
       "1  2014           Deutschland              preisbereinigt, Kettenindex (2015=100)                        98,810                                             96,150                 96,250                     100,970                        98,530                                                       2,2                                             99,380\n",
       "2  2014           Deutschland   preisbereinigt, verkettete Volumenang. (Mrd. EUR)                      2689,628                                                NaN                    NaN                         NaN                      2981,695                                                       2,2                                                NaN\n",
       "3  2014           Deutschland  preisbereinigt, unverkettete Volumenang.(Mrd. EUR)                      2584,829                                                NaN                    NaN                         NaN                      2873,722                                                       NaN                                                NaN\n",
       "4  2015           Deutschland                    in jeweiligen Preisen (Mrd. EUR)                      2722,020                                            304,160                310,942                       6,782                      3026,180                                                       3,4                                          37046,000"
      ]
     },
     "execution_count": 6,
     "metadata": {},
     "output_type": "execute_result"
    }
   ],
   "source": [
    "t.data.head()"
   ]
  },
  {
   "cell_type": "markdown",
   "id": "677d68b7",
   "metadata": {},
   "source": [
    "Finally, you can also access the metadata for this table via the `.metadata` attribute."
   ]
  },
  {
   "cell_type": "code",
   "execution_count": 7,
   "id": "5f3672e9",
   "metadata": {},
   "outputs": [
    {
     "name": "stdout",
     "output_type": "stream",
     "text": [
      "{'Copyright': '© Statistisches Bundesamt (Destatis), 2024',\n",
      " 'Ident': {'Method': 'table', 'Service': 'metadata'},\n",
      " 'Object': {'Code': '81000-0001',\n",
      "            'Content': 'VGR des Bundes - Bruttowertschöpfung, '\n",
      "                       'Bruttoinlandsprodukt\\n'\n",
      "                       '(nominal/preisbereinigt): Deutschland, Jahre',\n",
      "            'Structure': {'Columns': [{'Code': 'JAHR',\n",
      "                                       'Content': 'Jahr',\n",
      "                                       'Selected': '10',\n",
      "                                       'Structure': None,\n",
      "                                       'Type': 'Merkmal',\n",
      "                                       'Updated': 'see parent',\n",
      "                                       'Values': '10'}],\n",
      "                          'Head': {'Code': '81000',\n",
      "                                   'Content': 'Volkswirtschaftliche '\n",
      "                                              'Gesamtrechnungen des Bundes',\n",
      "                                   'Selected': None,\n",
      "                                   'Structure': [{'Code': 'DINSG',\n",
      "                                                  'Content': 'Deutschland '\n",
      "                                                             'insgesamt',\n",
      "                                                  'Selected': '1',\n",
      "                                                  'Structure': None,\n",
      "                                                  'Type': 'Merkmal',\n",
      "                                                  'Updated': 'see parent',\n",
      "                                                  'Values': '1'}],\n",
      "                                   'Type': 'Statistik',\n",
      "                                   'Updated': 'see parent',\n",
      "                                   'Values': None},\n",
      "                          'Rows': [{'Code': 'BWS001',\n",
      "                                    'Content': 'Bruttowertschöpfung',\n",
      "                                    'Selected': None,\n",
      "                                    'Structure': None,\n",
      "                                    'Type': 'Merkmal',\n",
      "                                    'Updated': 'see parent',\n",
      "                                    'Values': None},\n",
      "                                   {'Code': 'STR006',\n",
      "                                    'Content': 'Gütersteuern abzügl. '\n",
      "                                               'Gütersubventionen',\n",
      "                                    'Selected': None,\n",
      "                                    'Structure': None,\n",
      "                                    'Type': 'Merkmal',\n",
      "                                    'Updated': 'see parent',\n",
      "                                    'Values': None},\n",
      "                                   {'Code': 'STR020',\n",
      "                                    'Content': 'Gütersteuern',\n",
      "                                    'Selected': None,\n",
      "                                    'Structure': None,\n",
      "                                    'Type': 'Merkmal',\n",
      "                                    'Updated': 'see parent',\n",
      "                                    'Values': None},\n",
      "                                   {'Code': 'SUB003',\n",
      "                                    'Content': 'Gütersubventionen',\n",
      "                                    'Selected': None,\n",
      "                                    'Structure': None,\n",
      "                                    'Type': 'Merkmal',\n",
      "                                    'Updated': 'see parent',\n",
      "                                    'Values': None},\n",
      "                                   {'Code': 'VGR014',\n",
      "                                    'Content': 'Bruttoinlandsprodukt',\n",
      "                                    'Selected': None,\n",
      "                                    'Structure': None,\n",
      "                                    'Type': 'Merkmal',\n",
      "                                    'Updated': 'see parent',\n",
      "                                    'Values': None},\n",
      "                                   {'Code': 'BIP005',\n",
      "                                    'Content': 'Bruttoinlandsprodukt '\n",
      "                                               '(Veränderung in %)',\n",
      "                                    'Selected': None,\n",
      "                                    'Structure': None,\n",
      "                                    'Type': 'Merkmal',\n",
      "                                    'Updated': 'see parent',\n",
      "                                    'Values': None},\n",
      "                                   {'Code': 'BIP004',\n",
      "                                    'Content': 'Bruttoinlandsprodukt je '\n",
      "                                               'Einwohner',\n",
      "                                    'Selected': None,\n",
      "                                    'Structure': None,\n",
      "                                    'Type': 'Merkmal',\n",
      "                                    'Updated': 'see parent',\n",
      "                                    'Values': None}],\n",
      "                          'Subheading': {'Code': 'VGRPB5',\n",
      "                                         'Content': 'Preisbasis (jeweilige '\n",
      "                                                    'Preise / preisbereinigt)',\n",
      "                                         'Selected': None,\n",
      "                                         'Structure': None,\n",
      "                                         'Type': 'Merkmal',\n",
      "                                         'Updated': 'see parent',\n",
      "                                         'Values': None},\n",
      "                          'Subtitel': None},\n",
      "            'Time': {'From': '1991', 'To': '2023'},\n",
      "            'Updated': '28.12.2022 17:19:48h',\n",
      "            'Valid': 'false'},\n",
      " 'Parameter': {'area': 'Alle',\n",
      "               'language': 'de',\n",
      "               'name': '81000-0001',\n",
      "               'password': '********************',\n",
      "               'username': '********************'},\n",
      " 'Status': {'Code': 0, 'Content': 'erfolgreich', 'Type': 'Information'}}\n"
     ]
    }
   ],
   "source": [
    "from pprint import pprint\n",
    "\n",
    "pprint(t.metadata)"
   ]
  },
  {
   "cell_type": "markdown",
   "id": "953d7cb2",
   "metadata": {},
   "source": [
    "## How `pystatis` prepares the data for you"
   ]
  },
  {
   "cell_type": "markdown",
   "id": "22b075b6",
   "metadata": {},
   "source": [
    "As you can notice from a comparison between the `.raw_data` and `.data` formats, `pystatis` is doing a lot behind the scenes to provide you with a format that is hopefully the most useful to you. You will see and learn that there are a few parameters that you can use to actually change this behavior and adjust the table to your needs. \n",
    "\n",
    "But first we would like to explain to you how `pystatis` is preparing the data by default so you have a better understanding of the underlying process."
   ]
  },
  {
   "cell_type": "markdown",
   "id": "889e27db",
   "metadata": {},
   "source": [
    "When we look at the header of the raw data, we can notice a few things:\n",
    "- There are columns that don't have a direct use as they contain information not needed in the table, like the `Statistik_Code` and `Statistik_Label` columns at the beginning. You already know the statistic from the name of the table and this information is the same for each and every row anyway.\n",
    "- There is always a time dimension, broken down into three different columns `Zeit_Code`, `Zeit_Label` and `Zeit`.\n",
    "- The other dimensions are called variables (German \"Merkmale\") and they always come in groups of four columns: `N_Merkmal_Code`, `N_Merkmal_Label`, `N_Auspraegung_Code`, and `N_Auspraegung_Label`.\n",
    "- The actual measurements or values are at the end of the table after the variables and each measurement has one column. The name of this column follows the format `<CODE>__<LABEL>__<UNIT>`, e.g. \"BWS001__Bruttowertschoepfung__jew._ME\". \"BWS001\" is the unique code for this variable, \"Bruttowertschoepfung\" is the human readable label of the variable, and \"jew._ME\" is the unit the measurement was recorded in.\n",
    "\n",
    "**Note** This is only true for tables from Genesis and Regionalstatistik, the format of the Zensus tables is noticeably different from this, but we follow a similar approach to provide you the same convenient "
   ]
  },
  {
   "cell_type": "code",
   "execution_count": 8,
   "id": "6f52c221",
   "metadata": {},
   "outputs": [
    {
     "name": "stdout",
     "output_type": "stream",
     "text": [
      "Statistik_Code;Statistik_Label;Zeit_Code;Zeit_Label;Zeit;1_Merkmal_Code;1_Merkmal_Label;1_Auspraegung_Code;1_Auspraegung_Label;2_Merkmal_Code;2_Merkmal_Label;2_Auspraegung_Code;2_Auspraegung_Label;BWS001__Bruttowertschoepfung__jew._ME;STR006__Guetersteuern_abzuegl._Guetersubventionen__jew._ME;STR020_______Guetersteuern__jew._ME;SUB003_______Guetersubventionen__jew._ME;VGR014__Bruttoinlandsprodukt__jew._ME;BIP005__nachr.:_Bruttoinlandsprodukt_(Veraenderung_in_%)__Prozent;BIP004__nachr.:_Bruttoinlandsprodukt_je_Einwohner__jew._ME\n",
      "81000;Volkswirtschaftliche Gesamtrechnungen des Bundes;JAHR;Jahr;2014;DINSG;Deutschland insgesamt;DG;Deutschland;VGRPB5;Preisbasis;VGRJPM;in jeweiligen Preisen (Mrd. EUR);2635,393;292,037;298,774;6,737;2927,430;4,1;36149,000\n"
     ]
    }
   ],
   "source": [
    "print(\"\\n\".join(t.raw_data.splitlines()[:2]))"
   ]
  },
  {
   "cell_type": "markdown",
   "id": "57acff63",
   "metadata": {},
   "source": [
    "`pystatis` is doing the following things (by default) when parsing the original raw string:\n",
    "- remove the information about the statistic\n",
    "- for all variables: only keep the value column and choose the variable label as the column name\n",
    "- for all measurements: remove the variable code from the column name, only keep label and unit\n",
    "- set the proper data types\n",
    "- handling missing values and special characters"
   ]
  },
  {
   "cell_type": "code",
   "execution_count": 9,
   "id": "15c9a984",
   "metadata": {},
   "outputs": [
    {
     "data": {
      "text/html": [
       "<div>\n",
       "<style scoped>\n",
       "    .dataframe tbody tr th:only-of-type {\n",
       "        vertical-align: middle;\n",
       "    }\n",
       "\n",
       "    .dataframe tbody tr th {\n",
       "        vertical-align: top;\n",
       "    }\n",
       "\n",
       "    .dataframe thead th {\n",
       "        text-align: right;\n",
       "    }\n",
       "</style>\n",
       "<table border=\"1\" class=\"dataframe\">\n",
       "  <thead>\n",
       "    <tr style=\"text-align: right;\">\n",
       "      <th></th>\n",
       "      <th>Jahr</th>\n",
       "      <th>Deutschland insgesamt</th>\n",
       "      <th>Preisbasis</th>\n",
       "      <th>Bruttowertschoepfung__jew._ME</th>\n",
       "      <th>Guetersteuern_abzuegl._Guetersubventionen__jew._ME</th>\n",
       "      <th>Guetersteuern__jew._ME</th>\n",
       "      <th>Guetersubventionen__jew._ME</th>\n",
       "      <th>Bruttoinlandsprodukt__jew._ME</th>\n",
       "      <th>nachr.:_Bruttoinlandsprodukt_(Veraenderung_in_%)__Prozent</th>\n",
       "      <th>nachr.:_Bruttoinlandsprodukt_je_Einwohner__jew._ME</th>\n",
       "    </tr>\n",
       "  </thead>\n",
       "  <tbody>\n",
       "    <tr>\n",
       "      <th>0</th>\n",
       "      <td>2014</td>\n",
       "      <td>Deutschland</td>\n",
       "      <td>in jeweiligen Preisen (Mrd. EUR)</td>\n",
       "      <td>2635,393</td>\n",
       "      <td>292,037</td>\n",
       "      <td>298,774</td>\n",
       "      <td>6,737</td>\n",
       "      <td>2927,430</td>\n",
       "      <td>4,1</td>\n",
       "      <td>36149,000</td>\n",
       "    </tr>\n",
       "  </tbody>\n",
       "</table>\n",
       "</div>"
      ],
      "text/plain": [
       "   Jahr Deutschland insgesamt                        Preisbasis Bruttowertschoepfung__jew._ME Guetersteuern_abzuegl._Guetersubventionen__jew._ME Guetersteuern__jew._ME Guetersubventionen__jew._ME Bruttoinlandsprodukt__jew._ME nachr.:_Bruttoinlandsprodukt_(Veraenderung_in_%)__Prozent nachr.:_Bruttoinlandsprodukt_je_Einwohner__jew._ME\n",
       "0  2014           Deutschland  in jeweiligen Preisen (Mrd. EUR)                      2635,393                                            292,037                298,774                       6,737                      2927,430                                                       4,1                                          36149,000"
      ]
     },
     "execution_count": 9,
     "metadata": {},
     "output_type": "execute_result"
    }
   ],
   "source": [
    "t.data.head(1)"
   ]
  },
  {
   "cell_type": "markdown",
   "id": "1c9a8e49",
   "metadata": {},
   "source": [
    "## All `get_data()` parameters explained"
   ]
  },
  {
   "cell_type": "markdown",
   "id": "cbd4c6bb",
   "metadata": {},
   "source": [
    "You can find a list of all parameters in the [documentation](https://correlaid.github.io/pystatis/dev/pystatis.html#pystatis.table.Table.get_data) or in the docstring. All parameters are keyword parameters only."
   ]
  },
  {
   "cell_type": "code",
   "execution_count": 10,
   "id": "e67dcfb7",
   "metadata": {},
   "outputs": [
    {
     "name": "stdout",
     "output_type": "stream",
     "text": [
      "\u001b[1;31mSignature:\u001b[0m\n",
      "\u001b[0mt\u001b[0m\u001b[1;33m.\u001b[0m\u001b[0mget_data\u001b[0m\u001b[1;33m(\u001b[0m\u001b[1;33m\n",
      "\u001b[0m    \u001b[1;33m*\u001b[0m\u001b[1;33m,\u001b[0m\u001b[1;33m\n",
      "\u001b[0m    \u001b[0mprettify\u001b[0m\u001b[1;33m:\u001b[0m \u001b[0mbool\u001b[0m \u001b[1;33m=\u001b[0m \u001b[1;32mTrue\u001b[0m\u001b[1;33m,\u001b[0m\u001b[1;33m\n",
      "\u001b[0m    \u001b[0marea\u001b[0m\u001b[1;33m:\u001b[0m \u001b[0mstr\u001b[0m \u001b[1;33m=\u001b[0m \u001b[1;34m'all'\u001b[0m\u001b[1;33m,\u001b[0m\u001b[1;33m\n",
      "\u001b[0m    \u001b[0mstartyear\u001b[0m\u001b[1;33m:\u001b[0m \u001b[0mstr\u001b[0m \u001b[1;33m=\u001b[0m \u001b[1;34m''\u001b[0m\u001b[1;33m,\u001b[0m\u001b[1;33m\n",
      "\u001b[0m    \u001b[0mendyear\u001b[0m\u001b[1;33m:\u001b[0m \u001b[0mstr\u001b[0m \u001b[1;33m=\u001b[0m \u001b[1;34m''\u001b[0m\u001b[1;33m,\u001b[0m\u001b[1;33m\n",
      "\u001b[0m    \u001b[0mtimeslices\u001b[0m\u001b[1;33m:\u001b[0m \u001b[0mstr\u001b[0m \u001b[1;33m=\u001b[0m \u001b[1;34m''\u001b[0m\u001b[1;33m,\u001b[0m\u001b[1;33m\n",
      "\u001b[0m    \u001b[0mregionalvariable\u001b[0m\u001b[1;33m:\u001b[0m \u001b[0mstr\u001b[0m \u001b[1;33m=\u001b[0m \u001b[1;34m''\u001b[0m\u001b[1;33m,\u001b[0m\u001b[1;33m\n",
      "\u001b[0m    \u001b[0mregionalkey\u001b[0m\u001b[1;33m:\u001b[0m \u001b[0mstr\u001b[0m \u001b[1;33m=\u001b[0m \u001b[1;34m''\u001b[0m\u001b[1;33m,\u001b[0m\u001b[1;33m\n",
      "\u001b[0m    \u001b[0mstand\u001b[0m\u001b[1;33m:\u001b[0m \u001b[0mstr\u001b[0m \u001b[1;33m=\u001b[0m \u001b[1;34m''\u001b[0m\u001b[1;33m,\u001b[0m\u001b[1;33m\n",
      "\u001b[0m    \u001b[0mlanguage\u001b[0m\u001b[1;33m:\u001b[0m \u001b[0mstr\u001b[0m \u001b[1;33m=\u001b[0m \u001b[1;34m'de'\u001b[0m\u001b[1;33m,\u001b[0m\u001b[1;33m\n",
      "\u001b[0m    \u001b[0mquality\u001b[0m\u001b[1;33m:\u001b[0m \u001b[0mbool\u001b[0m \u001b[1;33m=\u001b[0m \u001b[1;32mFalse\u001b[0m\u001b[1;33m,\u001b[0m\u001b[1;33m\n",
      "\u001b[0m\u001b[1;33m)\u001b[0m\u001b[1;33m\u001b[0m\u001b[1;33m\u001b[0m\u001b[0m\n",
      "\u001b[1;31mDocstring:\u001b[0m\n",
      "Downloads raw data and metadata from GENESIS-Online.\n",
      "\n",
      "Additional keyword arguments are passed on to the GENESIS-Online GET request for tablefile.\n",
      "\n",
      "Args:\n",
      "    prettify (bool, optional): Reformats the table into a readable format. Defaults to True.\n",
      "    area (str, optional): Area to search for the object in GENESIS-Online. Defaults to \"all\".\n",
      "    startyear (str, optional): Data beginning with that year will be returned.\n",
      "        Parameter is cumulative to `timeslices`. Supports 4 digits (jjjj) or 4+2 digits (jjjj/jj).\n",
      "        Accepts values between \"1900\" and \"2100\".\n",
      "    endyear (str, optional): Data ending with that year will be returned.\n",
      "        Parameter is cumulative to `timeslices`. Supports 4 digits (jjjj) or 4+2 digits (jjjj/jj).\n",
      "        Accepts values between \"1900\" and \"2100\".\n",
      "    timeslices (str, optional): Number of time slices to be returned.\n",
      "        This parameter is cumulative to `startyear` and `endyear`.\n",
      "    regionalvariable (str, optional): \"code\" of the regional classification (RKMerkmal),\n",
      "        to which the selection using `regionalkey` is to be applied.\n",
      "        Accepts 1-6 characters.\n",
      "        Possible values:\n",
      "        - Regionalstatistik (only for tables ending with \"B\", see /catalogue/variables):\n",
      "            - \"DG\" (Deutschland, 1) -> will not return extra column\n",
      "            - \"DLAND\" (Bundesländer, 16)\n",
      "            - \"REGBEZ\" (Regierungsbezirke, 44)\n",
      "            - \"KREISE\" (Kreise und kreisfreie Städte, 489)\n",
      "            - \"GEMEIN\" (Gemeinden, 13564)\n",
      "        - Zensusdatenbank (for all tables, see /catalogue/variables):\n",
      "            - \"GEODL1\" (Deutschland, 1) -> will not return extra column\n",
      "            - \"GEODL3\" (Deutschland, 1) -> will not return extra column\n",
      "            - \"GEOBL1\" (Bundesländer, 16)\n",
      "            - \"GEOBL3\" (Bundesländer, 16)\n",
      "            - \"GEOGM1\" (Gemeinden, 11340)\n",
      "            - \"GEOGM2\" (Gemeinden mit min. 10_000 Einwohnern, 1574)\n",
      "            - \"GEOGM3\" (Gemeinden mit min. 10_000 Einwohnern, 1574)\n",
      "            - \"GEOLK1\" (Landkreise und kreisfreie Städte, 412)\n",
      "            - \"GEOLK3\" (Landkreise und kreisfreie Städte, 412)\n",
      "            - \"GEORB1\" (Regierungsbezirke/Statistische Regionen, 36)\n",
      "            - \"GEORB3\" (Regierungsbezirke/Statistische Regionen, 36)\n",
      "            - \"GEOVB1\" (Gemeindeverbände, 1333)\n",
      "            - \"GEOVB2\" (Gemeindeverbände mit mindestens 10 000 Einwohnern, 338)\n",
      "            - \"GEOVB3\" (Gemeindeverbände mit mindestens 10 000 Einwohnern, 157)\n",
      "    regionalkey (str, optional): Official municipality key (AGS).\n",
      "        Multiple values can be passed as a comma-separated list.\n",
      "        Accepts 1-12 characters. \"*\" can be used as wildcard.\n",
      "    stand (str, optional): Only download the table if it is newer than the status date.\n",
      "        \"tt.mm.jjjj hh:mm\" or \"tt.mm.jjjj\". Example: \"24.12.2001 19:15\".\n",
      "    language (str, optional): Messages and data descriptions are supplied in this language.\n",
      "    quality (bool, optional): If True, Value-adding quality labels are issued.\n",
      "\u001b[1;31mFile:\u001b[0m      c:\\users\\mdick\\documents\\github\\pystatis\\src\\pystatis\\table.py\n",
      "\u001b[1;31mType:\u001b[0m      method"
     ]
    }
   ],
   "source": [
    "?t.get_data"
   ]
  },
  {
   "cell_type": "markdown",
   "id": "735ce1f9",
   "metadata": {},
   "source": [
    "As shown in the two cells below, the `startyear` parameter allows to restrict the requested data to the years 2020 and later, for example."
   ]
  },
  {
   "cell_type": "code",
   "execution_count": 11,
   "id": "933a1ad6",
   "metadata": {},
   "outputs": [
    {
     "name": "stderr",
     "output_type": "stream",
     "text": [
      "INFO:pystatis.cache:Data was successfully cached under C:\\Users\\MDick\\.pystatis\\data\\81000-0001\\e2c29800559cb4db2d87\\20240626.csv.\n",
      "INFO:pystatis.http_helper:Code 0: erfolgreich\n"
     ]
    }
   ],
   "source": [
    "t.get_data(startyear=2020)"
   ]
  },
  {
   "cell_type": "code",
   "execution_count": 12,
   "id": "9e8c9d1b",
   "metadata": {},
   "outputs": [
    {
     "data": {
      "text/html": [
       "<div>\n",
       "<style scoped>\n",
       "    .dataframe tbody tr th:only-of-type {\n",
       "        vertical-align: middle;\n",
       "    }\n",
       "\n",
       "    .dataframe tbody tr th {\n",
       "        vertical-align: top;\n",
       "    }\n",
       "\n",
       "    .dataframe thead th {\n",
       "        text-align: right;\n",
       "    }\n",
       "</style>\n",
       "<table border=\"1\" class=\"dataframe\">\n",
       "  <thead>\n",
       "    <tr style=\"text-align: right;\">\n",
       "      <th></th>\n",
       "      <th>Jahr</th>\n",
       "      <th>Deutschland insgesamt</th>\n",
       "      <th>Preisbasis</th>\n",
       "      <th>Bruttowertschoepfung__jew._ME</th>\n",
       "      <th>Guetersteuern_abzuegl._Guetersubventionen__jew._ME</th>\n",
       "      <th>Guetersteuern__jew._ME</th>\n",
       "      <th>Guetersubventionen__jew._ME</th>\n",
       "      <th>Bruttoinlandsprodukt__jew._ME</th>\n",
       "      <th>nachr.:_Bruttoinlandsprodukt_(Veraenderung_in_%)__Prozent</th>\n",
       "      <th>nachr.:_Bruttoinlandsprodukt_je_Einwohner__jew._ME</th>\n",
       "    </tr>\n",
       "  </thead>\n",
       "  <tbody>\n",
       "    <tr>\n",
       "      <th>0</th>\n",
       "      <td>2020</td>\n",
       "      <td>Deutschland</td>\n",
       "      <td>in jeweiligen Preisen (Mrd. EUR)</td>\n",
       "      <td>3086,377</td>\n",
       "      <td>317,353</td>\n",
       "      <td>325,967</td>\n",
       "      <td>8,614</td>\n",
       "      <td>3403,730</td>\n",
       "      <td>-2,0</td>\n",
       "      <td>40929,000</td>\n",
       "    </tr>\n",
       "    <tr>\n",
       "      <th>1</th>\n",
       "      <td>2020</td>\n",
       "      <td>Deutschland</td>\n",
       "      <td>preisbereinigt, Kettenindex (2015=100)</td>\n",
       "      <td>102,670</td>\n",
       "      <td>106,400</td>\n",
       "      <td>105,560</td>\n",
       "      <td>68,580</td>\n",
       "      <td>103,040</td>\n",
       "      <td>-3,8</td>\n",
       "      <td>101,220</td>\n",
       "    </tr>\n",
       "    <tr>\n",
       "      <th>2</th>\n",
       "      <td>2020</td>\n",
       "      <td>Deutschland</td>\n",
       "      <td>preisbereinigt, verkettete Volumenang. (Mrd. EUR)</td>\n",
       "      <td>2794,698</td>\n",
       "      <td>NaN</td>\n",
       "      <td>NaN</td>\n",
       "      <td>NaN</td>\n",
       "      <td>3118,176</td>\n",
       "      <td>-3,8</td>\n",
       "      <td>NaN</td>\n",
       "    </tr>\n",
       "    <tr>\n",
       "      <th>3</th>\n",
       "      <td>2020</td>\n",
       "      <td>Deutschland</td>\n",
       "      <td>preisbereinigt, unverkettete Volumenang.(Mrd. EUR)</td>\n",
       "      <td>3003,872</td>\n",
       "      <td>NaN</td>\n",
       "      <td>NaN</td>\n",
       "      <td>NaN</td>\n",
       "      <td>3341,107</td>\n",
       "      <td>NaN</td>\n",
       "      <td>NaN</td>\n",
       "    </tr>\n",
       "    <tr>\n",
       "      <th>4</th>\n",
       "      <td>2021</td>\n",
       "      <td>Deutschland</td>\n",
       "      <td>in jeweiligen Preisen (Mrd. EUR)</td>\n",
       "      <td>3276,377</td>\n",
       "      <td>341,073</td>\n",
       "      <td>365,141</td>\n",
       "      <td>24,068</td>\n",
       "      <td>3617,450</td>\n",
       "      <td>6,3</td>\n",
       "      <td>43481,000</td>\n",
       "    </tr>\n",
       "    <tr>\n",
       "      <th>5</th>\n",
       "      <td>2021</td>\n",
       "      <td>Deutschland</td>\n",
       "      <td>preisbereinigt, Kettenindex (2015=100)</td>\n",
       "      <td>106,060</td>\n",
       "      <td>108,380</td>\n",
       "      <td>107,530</td>\n",
       "      <td>70,100</td>\n",
       "      <td>106,300</td>\n",
       "      <td>3,2</td>\n",
       "      <td>104,370</td>\n",
       "    </tr>\n",
       "    <tr>\n",
       "      <th>6</th>\n",
       "      <td>2021</td>\n",
       "      <td>Deutschland</td>\n",
       "      <td>preisbereinigt, verkettete Volumenang. (Mrd. EUR)</td>\n",
       "      <td>2886,974</td>\n",
       "      <td>NaN</td>\n",
       "      <td>NaN</td>\n",
       "      <td>NaN</td>\n",
       "      <td>3216,829</td>\n",
       "      <td>3,2</td>\n",
       "      <td>NaN</td>\n",
       "    </tr>\n",
       "    <tr>\n",
       "      <th>7</th>\n",
       "      <td>2021</td>\n",
       "      <td>Deutschland</td>\n",
       "      <td>preisbereinigt, unverkettete Volumenang.(Mrd. EUR)</td>\n",
       "      <td>3188,250</td>\n",
       "      <td>NaN</td>\n",
       "      <td>NaN</td>\n",
       "      <td>NaN</td>\n",
       "      <td>3511,508</td>\n",
       "      <td>NaN</td>\n",
       "      <td>NaN</td>\n",
       "    </tr>\n",
       "    <tr>\n",
       "      <th>8</th>\n",
       "      <td>2022</td>\n",
       "      <td>Deutschland</td>\n",
       "      <td>in jeweiligen Preisen (Mrd. EUR)</td>\n",
       "      <td>3509,628</td>\n",
       "      <td>367,182</td>\n",
       "      <td>390,670</td>\n",
       "      <td>23,488</td>\n",
       "      <td>3876,810</td>\n",
       "      <td>7,2</td>\n",
       "      <td>46264,000</td>\n",
       "    </tr>\n",
       "    <tr>\n",
       "      <th>9</th>\n",
       "      <td>2022</td>\n",
       "      <td>Deutschland</td>\n",
       "      <td>preisbereinigt, Kettenindex (2015=100)</td>\n",
       "      <td>107,860</td>\n",
       "      <td>111,470</td>\n",
       "      <td>108,370</td>\n",
       "      <td>50,060</td>\n",
       "      <td>108,220</td>\n",
       "      <td>1,8</td>\n",
       "      <td>105,500</td>\n",
       "    </tr>\n",
       "    <tr>\n",
       "      <th>10</th>\n",
       "      <td>2022</td>\n",
       "      <td>Deutschland</td>\n",
       "      <td>preisbereinigt, verkettete Volumenang. (Mrd. EUR)</td>\n",
       "      <td>2935,971</td>\n",
       "      <td>NaN</td>\n",
       "      <td>NaN</td>\n",
       "      <td>NaN</td>\n",
       "      <td>3274,932</td>\n",
       "      <td>1,8</td>\n",
       "      <td>NaN</td>\n",
       "    </tr>\n",
       "    <tr>\n",
       "      <th>11</th>\n",
       "      <td>2022</td>\n",
       "      <td>Deutschland</td>\n",
       "      <td>preisbereinigt, unverkettete Volumenang.(Mrd. EUR)</td>\n",
       "      <td>3331,942</td>\n",
       "      <td>NaN</td>\n",
       "      <td>NaN</td>\n",
       "      <td>NaN</td>\n",
       "      <td>3682,747</td>\n",
       "      <td>NaN</td>\n",
       "      <td>NaN</td>\n",
       "    </tr>\n",
       "    <tr>\n",
       "      <th>12</th>\n",
       "      <td>2023</td>\n",
       "      <td>Deutschland</td>\n",
       "      <td>in jeweiligen Preisen (Mrd. EUR)</td>\n",
       "      <td>3767,909</td>\n",
       "      <td>354,301</td>\n",
       "      <td>390,660</td>\n",
       "      <td>36,359</td>\n",
       "      <td>4122,210</td>\n",
       "      <td>6,3</td>\n",
       "      <td>48775,000</td>\n",
       "    </tr>\n",
       "    <tr>\n",
       "      <th>13</th>\n",
       "      <td>2023</td>\n",
       "      <td>Deutschland</td>\n",
       "      <td>preisbereinigt, Kettenindex (2015=100)</td>\n",
       "      <td>107,930</td>\n",
       "      <td>108,460</td>\n",
       "      <td>104,270</td>\n",
       "      <td>39,670</td>\n",
       "      <td>108,010</td>\n",
       "      <td>-0,2</td>\n",
       "      <td>104,400</td>\n",
       "    </tr>\n",
       "    <tr>\n",
       "      <th>14</th>\n",
       "      <td>2023</td>\n",
       "      <td>Deutschland</td>\n",
       "      <td>preisbereinigt, verkettete Volumenang. (Mrd. EUR)</td>\n",
       "      <td>2937,876</td>\n",
       "      <td>NaN</td>\n",
       "      <td>NaN</td>\n",
       "      <td>NaN</td>\n",
       "      <td>3268,577</td>\n",
       "      <td>-0,2</td>\n",
       "      <td>NaN</td>\n",
       "    </tr>\n",
       "    <tr>\n",
       "      <th>15</th>\n",
       "      <td>2023</td>\n",
       "      <td>Deutschland</td>\n",
       "      <td>preisbereinigt, unverkettete Volumenang.(Mrd. EUR)</td>\n",
       "      <td>3511,999</td>\n",
       "      <td>NaN</td>\n",
       "      <td>NaN</td>\n",
       "      <td>NaN</td>\n",
       "      <td>3869,273</td>\n",
       "      <td>NaN</td>\n",
       "      <td>NaN</td>\n",
       "    </tr>\n",
       "  </tbody>\n",
       "</table>\n",
       "</div>"
      ],
      "text/plain": [
       "    Jahr Deutschland insgesamt                                          Preisbasis Bruttowertschoepfung__jew._ME Guetersteuern_abzuegl._Guetersubventionen__jew._ME Guetersteuern__jew._ME Guetersubventionen__jew._ME Bruttoinlandsprodukt__jew._ME nachr.:_Bruttoinlandsprodukt_(Veraenderung_in_%)__Prozent nachr.:_Bruttoinlandsprodukt_je_Einwohner__jew._ME\n",
       "0   2020           Deutschland                    in jeweiligen Preisen (Mrd. EUR)                      3086,377                                            317,353                325,967                       8,614                      3403,730                                                      -2,0                                          40929,000\n",
       "1   2020           Deutschland              preisbereinigt, Kettenindex (2015=100)                       102,670                                            106,400                105,560                      68,580                       103,040                                                      -3,8                                            101,220\n",
       "2   2020           Deutschland   preisbereinigt, verkettete Volumenang. (Mrd. EUR)                      2794,698                                                NaN                    NaN                         NaN                      3118,176                                                      -3,8                                                NaN\n",
       "3   2020           Deutschland  preisbereinigt, unverkettete Volumenang.(Mrd. EUR)                      3003,872                                                NaN                    NaN                         NaN                      3341,107                                                       NaN                                                NaN\n",
       "4   2021           Deutschland                    in jeweiligen Preisen (Mrd. EUR)                      3276,377                                            341,073                365,141                      24,068                      3617,450                                                       6,3                                          43481,000\n",
       "5   2021           Deutschland              preisbereinigt, Kettenindex (2015=100)                       106,060                                            108,380                107,530                      70,100                       106,300                                                       3,2                                            104,370\n",
       "6   2021           Deutschland   preisbereinigt, verkettete Volumenang. (Mrd. EUR)                      2886,974                                                NaN                    NaN                         NaN                      3216,829                                                       3,2                                                NaN\n",
       "7   2021           Deutschland  preisbereinigt, unverkettete Volumenang.(Mrd. EUR)                      3188,250                                                NaN                    NaN                         NaN                      3511,508                                                       NaN                                                NaN\n",
       "8   2022           Deutschland                    in jeweiligen Preisen (Mrd. EUR)                      3509,628                                            367,182                390,670                      23,488                      3876,810                                                       7,2                                          46264,000\n",
       "9   2022           Deutschland              preisbereinigt, Kettenindex (2015=100)                       107,860                                            111,470                108,370                      50,060                       108,220                                                       1,8                                            105,500\n",
       "10  2022           Deutschland   preisbereinigt, verkettete Volumenang. (Mrd. EUR)                      2935,971                                                NaN                    NaN                         NaN                      3274,932                                                       1,8                                                NaN\n",
       "11  2022           Deutschland  preisbereinigt, unverkettete Volumenang.(Mrd. EUR)                      3331,942                                                NaN                    NaN                         NaN                      3682,747                                                       NaN                                                NaN\n",
       "12  2023           Deutschland                    in jeweiligen Preisen (Mrd. EUR)                      3767,909                                            354,301                390,660                      36,359                      4122,210                                                       6,3                                          48775,000\n",
       "13  2023           Deutschland              preisbereinigt, Kettenindex (2015=100)                       107,930                                            108,460                104,270                      39,670                       108,010                                                      -0,2                                            104,400\n",
       "14  2023           Deutschland   preisbereinigt, verkettete Volumenang. (Mrd. EUR)                      2937,876                                                NaN                    NaN                         NaN                      3268,577                                                      -0,2                                                NaN\n",
       "15  2023           Deutschland  preisbereinigt, unverkettete Volumenang.(Mrd. EUR)                      3511,999                                                NaN                    NaN                         NaN                      3869,273                                                       NaN                                                NaN"
      ]
     },
     "execution_count": 12,
     "metadata": {},
     "output_type": "execute_result"
    }
   ],
   "source": [
    "t.data"
   ]
  }
 ],
 "metadata": {
  "kernelspec": {
   "display_name": "Python 3.9.7 ('.venv': poetry)",
   "language": "python",
   "name": "python3"
  },
  "language_info": {
   "codemirror_mode": {
    "name": "ipython",
    "version": 3
   },
   "file_extension": ".py",
   "mimetype": "text/x-python",
   "name": "python",
   "nbconvert_exporter": "python",
   "pygments_lexer": "ipython3",
   "version": "3.10.13"
  },
  "vscode": {
   "interpreter": {
    "hash": "02e23b522f8c3795158421909d41ced4ef90521258d58d1c53bee449d96f71e3"
   }
  }
 },
 "nbformat": 4,
 "nbformat_minor": 5
}
