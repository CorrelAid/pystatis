{
 "cells": [
  {
   "cell_type": "code",
   "execution_count": 1,
   "id": "165da3a1",
   "metadata": {
    "scrolled": true
   },
   "outputs": [],
   "source": [
    "import logging\n",
    "logging.basicConfig(level=logging.INFO)\n",
    "\n",
    "from pystatis import Table"
   ]
  },
  {
   "cell_type": "markdown",
   "id": "8e14f4db",
   "metadata": {},
   "source": [
    "# The `Table` class\n",
    "\n",
    "The `Table` class in `pystatis` is the main interface for users to interact with the different databases and download the data/tables in form of `pandas` data frames."
   ]
  },
  {
   "cell_type": "markdown",
   "id": "07f3dee4",
   "metadata": {},
   "source": [
    "To use the class, you have to pass only a single parameter: the `name` of the table you want to download."
   ]
  },
  {
   "cell_type": "code",
   "execution_count": 2,
   "id": "5d25c79a",
   "metadata": {},
   "outputs": [],
   "source": [
    "t = Table(name=\"81000-0001\")"
   ]
  },
  {
   "cell_type": "markdown",
   "id": "8ca8127a",
   "metadata": {},
   "source": [
    "## Downloading data"
   ]
  },
  {
   "cell_type": "markdown",
   "id": "3d841f94",
   "metadata": {},
   "source": [
    "However, creating a new `Table` instance does not automatically retrieve the data from the database (or cache). Instead, you have to call another method: `get_data()`. The reason for this decision was to give you full control over the download process and avoid unnecessary downloads of big tables unless you are certain you want to start the download."
   ]
  },
  {
   "cell_type": "code",
   "execution_count": 3,
   "id": "632fc783",
   "metadata": {
    "scrolled": false
   },
   "outputs": [
    {
     "name": "stderr",
     "output_type": "stream",
     "text": [
      "INFO:pystatis.cache:Data was successfully cached under /Users/miay/.pystatis/data/81000-0001/22f1c95a5b4dbac1ad74/20240625.csv.\n",
      "INFO:pystatis.http_helper:Code 0: erfolgreich\n"
     ]
    }
   ],
   "source": [
    "t.get_data()"
   ]
  },
  {
   "cell_type": "markdown",
   "id": "2370bd5e",
   "metadata": {},
   "source": [
    "You can access the name of a table via the `.name` attribute."
   ]
  },
  {
   "cell_type": "code",
   "execution_count": 4,
   "id": "f5f1aded",
   "metadata": {},
   "outputs": [
    {
     "data": {
      "text/plain": [
       "'81000-0001'"
      ]
     },
     "execution_count": 4,
     "metadata": {},
     "output_type": "execute_result"
    }
   ],
   "source": [
    "t.name"
   ]
  },
  {
   "cell_type": "markdown",
   "id": "4e050eed",
   "metadata": {},
   "source": [
    "After a successful download (or cache retrieval), you can always access the raw data, that is the original response from the web API as string, via the `.raw_data` attribute."
   ]
  },
  {
   "cell_type": "code",
   "execution_count": 8,
   "id": "8fede338",
   "metadata": {},
   "outputs": [
    {
     "name": "stdout",
     "output_type": "stream",
     "text": [
      "Statistik_Code;Statistik_Label;Zeit_Code;Zeit_Label;Zeit;1_Merkmal_Code;1_Merkmal_Label;1_Auspraegung_Code;1_Auspraegung_Label;2_Merkmal_Code;2_Merkmal_Label;2_Auspraegung_Code;2_Auspraegung_Label;BWS001__Bruttowertschoepfung__jew._ME;STR006__Guetersteuern_abzuegl._Guetersubventionen__jew._ME;STR020_______Guetersteuern__jew._ME;SUB003_______Guetersubventionen__jew._ME;VGR014__Bruttoinlandsprodukt__jew._ME;BIP005__nachr.:_Bruttoinlandsprodukt_(Veraenderung_in_%)__Prozent;BIP004__nachr.:_Bruttoinlandsprodukt_je_Einwohner__jew._ME\n",
      "81000;Volkswirtschaftliche Gesamtrechnungen des Bundes;JAHR;Jahr;2014;DINSG;Deutschland insgesamt;DG;Deutschland;VGRPB5;Preisbasis;VGRJPM;in jeweiligen Preisen (Mrd. EUR);2635,393;292,037;298,774;6,737;2927,430;4,1;36149,000\n",
      "81000;Volkswirtschaftliche Gesamtrechnungen des Bundes;JAHR;Jahr;2014;DINSG;Deutschland insgesamt;DG;Deutschland;VGRPB5;Preisbasis;VGRPKM;preisbereinigt, Kettenindex (2015=100);98,810;96,150;96,250;100,970;98,530;2,2;99,380\n",
      "81000;Volkswirtschaftliche Gesamtrechnungen des Bundes;JAHR;Jahr;2014;DINSG;Deutschland insgesamt;DG;Deutschland;VGRPB5;Preisbasis;VGRPVK;preisbereinigt, verkettete Volumenang. (Mrd. EUR);2689,628;-;-;-;2981,695;2,2;-\n",
      "81000;Volkswirtschaftliche Gesamtrechnungen des Bundes;JAHR;Jahr;2014;DINSG;Deutschland insgesamt;DG;Deutschland;VGRPB5;Preisbasis;VGRPVU;preisbereinigt, unverkettete Volumenang.(Mrd. EUR);2584,829;-;-;-;2873,722;-;-\n",
      "81000;Volkswirtschaftliche Gesamtrechnungen des Bundes;JAHR;Jahr;2015;DINSG;Deutschland insgesamt;DG;Deutschland;VGRPB5;Preisbasis;VGRJPM;in jeweiligen Preisen (Mrd. EUR);2722,020;304,160;310,942;6,782;3026,180;3,4;37046,000\n",
      "81000;Volkswirtschaftliche Gesamtrechnungen des Bundes;JAHR;Jahr;2015;DINSG;Deutschland insgesamt;DG;Deutschland;VGRPB5;Preisbasis;VGRPKM;preisbereinigt, Kettenindex (2015=100);100,000;100,000;100,000;100,000;100,000;1,5;100,000\n",
      "81000;Volkswirtschaftliche Gesamtrechnungen des Bundes;JAHR;Jahr;2015;DINSG;Deutschland insgesamt;DG;Deutschland;VGRPB5;Preisbasis;VGRPVK;preisbereinigt, verkettete Volumenang. (Mrd. EUR);2722,020;-;-;-;3026,180;1,5;-\n",
      "81000;Volkswirtschaftliche Gesamtrechnungen des Bundes;JAHR;Jahr;2015;DINSG;Deutschland insgesamt;DG;Deutschland;VGRPB5;Preisbasis;VGRPVU;preisbereinigt, unverkettete Volumenang.(Mrd. EUR);2667,231;-;-;-;2970,965;-;-\n",
      "81000;Volkswirtschaftliche Gesamtrechnungen des Bundes;JAHR;Jahr;2016;DINSG;Deutschland insgesamt;DG;Deutschland;VGRPB5;Preisbasis;VGRJPM;in jeweiligen Preisen (Mrd. EUR);2822,443;312,297;319,143;6,846;3134,740;3,6;38067,000\n",
      "81000;Volkswirtschaftliche Gesamtrechnungen des Bundes;JAHR;Jahr;2016;DINSG;Deutschland insgesamt;DG;Deutschland;VGRPB5;Preisbasis;VGRPKM;preisbereinigt, Kettenindex (2015=100);102,250;102,030;101,990;100,240;102,230;2,2;101,410\n",
      "81000;Volkswirtschaftliche Gesamtrechnungen des Bundes;JAHR;Jahr;2016;DINSG;Deutschland insgesamt;DG;Deutschland;VGRPB5;Preisbasis;VGRPVK;preisbereinigt, verkettete Volumenang. (Mrd. EUR);2783,265;-;-;-;3093,664;2,2;-\n",
      "81000;Volkswirtschaftliche Gesamtrechnungen des Bundes;JAHR;Jahr;2016;DINSG;Deutschland insgesamt;DG;Deutschland;VGRPB5;Preisbasis;VGRPVU;preisbereinigt, unverkettete Volumenang.(Mrd. EUR);2783,371;-;-;-;3093,710;-;-\n",
      "81000;Volkswirtschaftliche Gesamtrechnungen des Bundes;JAHR;Jahr;2017;DINSG;Deutschland insgesamt;DG;Deutschland;VGRPB5;Preisbasis;VGRJPM;in jeweiligen Preisen (Mrd. EUR);2944,074;323,086;329,847;6,761;3267,160;4,2;39527,000\n",
      "81000;Volkswirtschaftliche Gesamtrechnungen des Bundes;JAHR;Jahr;2017;DINSG;Deutschland insgesamt;DG;Deutschland;VGRPB5;Preisbasis;VGRPKM;preisbereinigt, Kettenindex (2015=100);105,110;103,760;103,700;101,290;104,970;2,7;103,740\n",
      "81000;Volkswirtschaftliche Gesamtrechnungen des Bundes;JAHR;Jahr;2017;DINSG;Deutschland insgesamt;DG;Deutschland;VGRPB5;Preisbasis;VGRPVK;preisbereinigt, verkettete Volumenang. (Mrd. EUR);2861,115;-;-;-;3176,581;2,7;-\n",
      "81000;Volkswirtschaftliche Gesamtrechnungen des Bundes;JAHR;Jahr;2017;DINSG;Deutschland insgesamt;DG;Deutschland;VGRPB5;Preisbasis;VGRPVU;preisbereinigt, unverkettete Volumenang.(Mrd. EUR);2901,242;-;-;-;3218,826;-;-\n",
      "81000;Volkswirtschaftliche Gesamtrechnungen des Bundes;JAHR;Jahr;2018;DINSG;Deutschland insgesamt;DG;Deutschland;VGRPB5;Preisbasis;VGRJPM;in jeweiligen Preisen (Mrd. EUR);3032,736;332,714;339,600;6,886;3365,450;3,0;40594,000\n",
      "81000;Volkswirtschaftliche Gesamtrechnungen des Bundes;JAHR;Jahr;2018;DINSG;Deutschland insgesamt;DG;Deutschland;VGRPB5;Preisbasis;VGRPKM;preisbereinigt, Kettenindex (2015=100);106,100;105,160;105,070;101,020;106,000;1,0;104,440\n",
      "81000;Volkswirtschaftliche Gesamtrechnungen des Bundes;JAHR;Jahr;2018;DINSG;Deutschland insgesamt;DG;Deutschland;VGRPB5;Preisbasis;VGRPVK;preisbereinigt, verkettete Volumenang. (Mrd. EUR);2888,063;-;-;-;3207,751;1,0;-\n",
      "81000;Volkswirtschaftliche Gesamtrechnungen des Bundes;JAHR;Jahr;2018;DINSG;Deutschland insgesamt;DG;Deutschland;VGRPB5;Preisbasis;VGRPVU;preisbereinigt, unverkettete Volumenang.(Mrd. EUR);2971,786;-;-;-;3299,232;-;-\n",
      "81000;Volkswirtschaftliche Gesamtrechnungen des Bundes;JAHR;Jahr;2019;DINSG;Deutschland insgesamt;DG;Deutschland;VGRPB5;Preisbasis;VGRJPM;in jeweiligen Preisen (Mrd. EUR);3130,567;343,543;350,942;7,399;3474,110;3,2;41810,000\n",
      "81000;Volkswirtschaftliche Gesamtrechnungen des Bundes;JAHR;Jahr;2019;DINSG;Deutschland insgesamt;DG;Deutschland;VGRPB5;Preisbasis;VGRPKM;preisbereinigt, Kettenindex (2015=100);107,000;108,390;108,240;101,420;107,140;1,1;105,330\n",
      "81000;Volkswirtschaftliche Gesamtrechnungen des Bundes;JAHR;Jahr;2019;DINSG;Deutschland insgesamt;DG;Deutschland;VGRPB5;Preisbasis;VGRPVK;preisbereinigt, verkettete Volumenang. (Mrd. EUR);2912,561;-;-;-;3242,249;1,1;-\n",
      "81000;Volkswirtschaftliche Gesamtrechnungen des Bundes;JAHR;Jahr;2019;DINSG;Deutschland insgesamt;DG;Deutschland;VGRPB5;Preisbasis;VGRPVU;preisbereinigt, unverkettete Volumenang.(Mrd. EUR);3058,504;-;-;-;3401,440;-;-\n",
      "81000;Volkswirtschaftliche Gesamtrechnungen des Bundes;JAHR;Jahr;2020;DINSG;Deutschland insgesamt;DG;Deutschland;VGRPB5;Preisbasis;VGRJPM;in jeweiligen Preisen (Mrd. EUR);3086,377;317,353;325,967;8,614;3403,730;-2,0;40929,000\n",
      "81000;Volkswirtschaftliche Gesamtrechnungen des Bundes;JAHR;Jahr;2020;DINSG;Deutschland insgesamt;DG;Deutschland;VGRPB5;Preisbasis;VGRPKM;preisbereinigt, Kettenindex (2015=100);102,670;106,400;105,560;68,580;103,040;-3,8;101,220\n",
      "81000;Volkswirtschaftliche Gesamtrechnungen des Bundes;JAHR;Jahr;2020;DINSG;Deutschland insgesamt;DG;Deutschland;VGRPB5;Preisbasis;VGRPVK;preisbereinigt, verkettete Volumenang. (Mrd. EUR);2794,698;-;-;-;3118,176;-3,8;-\n",
      "81000;Volkswirtschaftliche Gesamtrechnungen des Bundes;JAHR;Jahr;2020;DINSG;Deutschland insgesamt;DG;Deutschland;VGRPB5;Preisbasis;VGRPVU;preisbereinigt, unverkettete Volumenang.(Mrd. EUR);3003,872;-;-;-;3341,107;-;-\n",
      "81000;Volkswirtschaftliche Gesamtrechnungen des Bundes;JAHR;Jahr;2021;DINSG;Deutschland insgesamt;DG;Deutschland;VGRPB5;Preisbasis;VGRJPM;in jeweiligen Preisen (Mrd. EUR);3276,377;341,073;365,141;24,068;3617,450;6,3;43481,000\n",
      "81000;Volkswirtschaftliche Gesamtrechnungen des Bundes;JAHR;Jahr;2021;DINSG;Deutschland insgesamt;DG;Deutschland;VGRPB5;Preisbasis;VGRPKM;preisbereinigt, Kettenindex (2015=100);106,060;108,380;107,530;70,100;106,300;3,2;104,370\n",
      "81000;Volkswirtschaftliche Gesamtrechnungen des Bundes;JAHR;Jahr;2021;DINSG;Deutschland insgesamt;DG;Deutschland;VGRPB5;Preisbasis;VGRPVK;preisbereinigt, verkettete Volumenang. (Mrd. EUR);2886,974;-;-;-;3216,829;3,2;-\n",
      "81000;Volkswirtschaftliche Gesamtrechnungen des Bundes;JAHR;Jahr;2021;DINSG;Deutschland insgesamt;DG;Deutschland;VGRPB5;Preisbasis;VGRPVU;preisbereinigt, unverkettete Volumenang.(Mrd. EUR);3188,250;-;-;-;3511,508;-;-\n",
      "81000;Volkswirtschaftliche Gesamtrechnungen des Bundes;JAHR;Jahr;2022;DINSG;Deutschland insgesamt;DG;Deutschland;VGRPB5;Preisbasis;VGRJPM;in jeweiligen Preisen (Mrd. EUR);3509,628;367,182;390,670;23,488;3876,810;7,2;46264,000\n",
      "81000;Volkswirtschaftliche Gesamtrechnungen des Bundes;JAHR;Jahr;2022;DINSG;Deutschland insgesamt;DG;Deutschland;VGRPB5;Preisbasis;VGRPKM;preisbereinigt, Kettenindex (2015=100);107,860;111,470;108,370;50,060;108,220;1,8;105,500\n",
      "81000;Volkswirtschaftliche Gesamtrechnungen des Bundes;JAHR;Jahr;2022;DINSG;Deutschland insgesamt;DG;Deutschland;VGRPB5;Preisbasis;VGRPVK;preisbereinigt, verkettete Volumenang. (Mrd. EUR);2935,971;-;-;-;3274,932;1,8;-\n",
      "81000;Volkswirtschaftliche Gesamtrechnungen des Bundes;JAHR;Jahr;2022;DINSG;Deutschland insgesamt;DG;Deutschland;VGRPB5;Preisbasis;VGRPVU;preisbereinigt, unverkettete Volumenang.(Mrd. EUR);3331,942;-;-;-;3682,747;-;-\n",
      "81000;Volkswirtschaftliche Gesamtrechnungen des Bundes;JAHR;Jahr;2023;DINSG;Deutschland insgesamt;DG;Deutschland;VGRPB5;Preisbasis;VGRJPM;in jeweiligen Preisen (Mrd. EUR);3767,909;354,301;390,660;36,359;4122,210;6,3;48775,000\n",
      "81000;Volkswirtschaftliche Gesamtrechnungen des Bundes;JAHR;Jahr;2023;DINSG;Deutschland insgesamt;DG;Deutschland;VGRPB5;Preisbasis;VGRPKM;preisbereinigt, Kettenindex (2015=100);107,930;108,460;104,270;39,670;108,010;-0,2;104,400\n",
      "81000;Volkswirtschaftliche Gesamtrechnungen des Bundes;JAHR;Jahr;2023;DINSG;Deutschland insgesamt;DG;Deutschland;VGRPB5;Preisbasis;VGRPVK;preisbereinigt, verkettete Volumenang. (Mrd. EUR);2937,876;-;-;-;3268,577;-0,2;-\n",
      "81000;Volkswirtschaftliche Gesamtrechnungen des Bundes;JAHR;Jahr;2023;DINSG;Deutschland insgesamt;DG;Deutschland;VGRPB5;Preisbasis;VGRPVU;preisbereinigt, unverkettete Volumenang.(Mrd. EUR);3511,999;-;-;-;3869,273;-;-\n",
      "\n"
     ]
    }
   ],
   "source": [
    "print(t.raw_data)"
   ]
  },
  {
   "cell_type": "markdown",
   "id": "5ae90416",
   "metadata": {},
   "source": [
    "More likely, you are interested in the `pandas` `DataFrame`, which is accessible via the `.data` attribute."
   ]
  },
  {
   "cell_type": "code",
   "execution_count": 13,
   "id": "874bbbb9",
   "metadata": {},
   "outputs": [
    {
     "data": {
      "text/html": [
       "<div>\n",
       "<style scoped>\n",
       "    .dataframe tbody tr th:only-of-type {\n",
       "        vertical-align: middle;\n",
       "    }\n",
       "\n",
       "    .dataframe tbody tr th {\n",
       "        vertical-align: top;\n",
       "    }\n",
       "\n",
       "    .dataframe thead th {\n",
       "        text-align: right;\n",
       "    }\n",
       "</style>\n",
       "<table border=\"1\" class=\"dataframe\">\n",
       "  <thead>\n",
       "    <tr style=\"text-align: right;\">\n",
       "      <th></th>\n",
       "      <th>Jahr</th>\n",
       "      <th>Deutschland insgesamt</th>\n",
       "      <th>Preisbasis</th>\n",
       "      <th>Bruttowertschoepfung__jew._ME</th>\n",
       "      <th>Guetersteuern_abzuegl._Guetersubventionen__jew._ME</th>\n",
       "      <th>_____Guetersteuern__jew._ME</th>\n",
       "      <th>_____Guetersubventionen__jew._ME</th>\n",
       "      <th>Bruttoinlandsprodukt__jew._ME</th>\n",
       "      <th>nachr.:_Bruttoinlandsprodukt_(Veraenderung_in_%)__Prozent</th>\n",
       "      <th>nachr.:_Bruttoinlandsprodukt_je_Einwohner__jew._ME</th>\n",
       "    </tr>\n",
       "  </thead>\n",
       "  <tbody>\n",
       "    <tr>\n",
       "      <th>0</th>\n",
       "      <td>2014</td>\n",
       "      <td>Deutschland</td>\n",
       "      <td>in jeweiligen Preisen (Mrd. EUR)</td>\n",
       "      <td>2635,393</td>\n",
       "      <td>292,037</td>\n",
       "      <td>298,774</td>\n",
       "      <td>6,737</td>\n",
       "      <td>2927,430</td>\n",
       "      <td>4,1</td>\n",
       "      <td>36149,000</td>\n",
       "    </tr>\n",
       "    <tr>\n",
       "      <th>1</th>\n",
       "      <td>2014</td>\n",
       "      <td>Deutschland</td>\n",
       "      <td>preisbereinigt, Kettenindex (2015=100)</td>\n",
       "      <td>98,810</td>\n",
       "      <td>96,150</td>\n",
       "      <td>96,250</td>\n",
       "      <td>100,970</td>\n",
       "      <td>98,530</td>\n",
       "      <td>2,2</td>\n",
       "      <td>99,380</td>\n",
       "    </tr>\n",
       "    <tr>\n",
       "      <th>2</th>\n",
       "      <td>2014</td>\n",
       "      <td>Deutschland</td>\n",
       "      <td>preisbereinigt, verkettete Volumenang. (Mrd. EUR)</td>\n",
       "      <td>2689,628</td>\n",
       "      <td>NaN</td>\n",
       "      <td>NaN</td>\n",
       "      <td>NaN</td>\n",
       "      <td>2981,695</td>\n",
       "      <td>2,2</td>\n",
       "      <td>NaN</td>\n",
       "    </tr>\n",
       "    <tr>\n",
       "      <th>3</th>\n",
       "      <td>2014</td>\n",
       "      <td>Deutschland</td>\n",
       "      <td>preisbereinigt, unverkettete Volumenang.(Mrd. EUR)</td>\n",
       "      <td>2584,829</td>\n",
       "      <td>NaN</td>\n",
       "      <td>NaN</td>\n",
       "      <td>NaN</td>\n",
       "      <td>2873,722</td>\n",
       "      <td>NaN</td>\n",
       "      <td>NaN</td>\n",
       "    </tr>\n",
       "    <tr>\n",
       "      <th>4</th>\n",
       "      <td>2015</td>\n",
       "      <td>Deutschland</td>\n",
       "      <td>in jeweiligen Preisen (Mrd. EUR)</td>\n",
       "      <td>2722,020</td>\n",
       "      <td>304,160</td>\n",
       "      <td>310,942</td>\n",
       "      <td>6,782</td>\n",
       "      <td>3026,180</td>\n",
       "      <td>3,4</td>\n",
       "      <td>37046,000</td>\n",
       "    </tr>\n",
       "  </tbody>\n",
       "</table>\n",
       "</div>"
      ],
      "text/plain": [
       "   Jahr Deutschland insgesamt                                          Preisbasis Bruttowertschoepfung__jew._ME Guetersteuern_abzuegl._Guetersubventionen__jew._ME _____Guetersteuern__jew._ME _____Guetersubventionen__jew._ME Bruttoinlandsprodukt__jew._ME nachr.:_Bruttoinlandsprodukt_(Veraenderung_in_%)__Prozent nachr.:_Bruttoinlandsprodukt_je_Einwohner__jew._ME\n",
       "0  2014           Deutschland                    in jeweiligen Preisen (Mrd. EUR)                      2635,393                                            292,037                     298,774                            6,737                      2927,430                                                       4,1                                          36149,000\n",
       "1  2014           Deutschland              preisbereinigt, Kettenindex (2015=100)                        98,810                                             96,150                      96,250                          100,970                        98,530                                                       2,2                                             99,380\n",
       "2  2014           Deutschland   preisbereinigt, verkettete Volumenang. (Mrd. EUR)                      2689,628                                                NaN                         NaN                              NaN                      2981,695                                                       2,2                                                NaN\n",
       "3  2014           Deutschland  preisbereinigt, unverkettete Volumenang.(Mrd. EUR)                      2584,829                                                NaN                         NaN                              NaN                      2873,722                                                       NaN                                                NaN\n",
       "4  2015           Deutschland                    in jeweiligen Preisen (Mrd. EUR)                      2722,020                                            304,160                     310,942                            6,782                      3026,180                                                       3,4                                          37046,000"
      ]
     },
     "execution_count": 13,
     "metadata": {},
     "output_type": "execute_result"
    }
   ],
   "source": [
    "t.data.head()"
   ]
  },
  {
   "cell_type": "markdown",
   "id": "953d7cb2",
   "metadata": {},
   "source": [
    "## How `pystatis` prepares the data for you"
   ]
  },
  {
   "cell_type": "markdown",
   "id": "22b075b6",
   "metadata": {},
   "source": [
    "As you can notice from a comparison between the `.raw_data` and `.data` formats, `pystatis` is doing a lot behind the scenes to provide you with a format that is hopefully the most useful to you. You will see and learn that there are a few parameters that you can use to actually change this behavior and adjust the table to your needs. \n",
    "\n",
    "But first we would like to explain to you how `pystatis` is preparing the data by default so you have a better understanding of the underlying process."
   ]
  },
  {
   "cell_type": "markdown",
   "id": "889e27db",
   "metadata": {},
   "source": [
    "When we look at the header of the raw data, we can notice a few things:\n",
    "- There are columns that don't have a direct use as they contain information not needed in the table, like the `Statistik_Code` and `Statistik_Label` columns at the beginning. You already know the statistic from the name of the table and this information is the same for each and every row anyway.\n",
    "- There is always a time dimension, broken down into three different columns `Zeit_Code`, `Zeit_Label` and `Zeit`.\n",
    "- The other dimensions are called variables (German \"Merkmale\") and they always come in groups of four columns: `N_Merkmal_Code`, `N_Merkmal_Label`, `N_Auspraegung_Code`, and `N_Auspraegung_Label`.\n",
    "- The actual measurements or values are at the end of the table after the variables and each measurement has one column. The name of this column follows the format `<CODE>__<LABEL>__<UNIT>`, e.g. \"BWS001__Bruttowertschoepfung__jew._ME\". \"BWS001\" is the unique code for this variable, \"Bruttowertschoepfung\" is the human readable label of the variable, and \"jew._ME\" is the unit the measurement was recorded in.\n",
    "\n",
    "**Note** This is only true for tables from Genesis and Regionalstatistik, the format of the Zensus tables is noticeably different from this, but we follow a similar approach to provide you the same convenient "
   ]
  },
  {
   "cell_type": "code",
   "execution_count": 20,
   "id": "6f52c221",
   "metadata": {},
   "outputs": [
    {
     "name": "stdout",
     "output_type": "stream",
     "text": [
      "Statistik_Code;Statistik_Label;Zeit_Code;Zeit_Label;Zeit;1_Merkmal_Code;1_Merkmal_Label;1_Auspraegung_Code;1_Auspraegung_Label;2_Merkmal_Code;2_Merkmal_Label;2_Auspraegung_Code;2_Auspraegung_Label;BWS001__Bruttowertschoepfung__jew._ME;STR006__Guetersteuern_abzuegl._Guetersubventionen__jew._ME;STR020_______Guetersteuern__jew._ME;SUB003_______Guetersubventionen__jew._ME;VGR014__Bruttoinlandsprodukt__jew._ME;BIP005__nachr.:_Bruttoinlandsprodukt_(Veraenderung_in_%)__Prozent;BIP004__nachr.:_Bruttoinlandsprodukt_je_Einwohner__jew._ME\n",
      "81000;Volkswirtschaftliche Gesamtrechnungen des Bundes;JAHR;Jahr;2014;DINSG;Deutschland insgesamt;DG;Deutschland;VGRPB5;Preisbasis;VGRJPM;in jeweiligen Preisen (Mrd. EUR);2635,393;292,037;298,774;6,737;2927,430;4,1;36149,000\n"
     ]
    }
   ],
   "source": [
    "print(\"\\n\".join(t.raw_data.splitlines()[:2]))"
   ]
  },
  {
   "cell_type": "markdown",
   "id": "3d622e5b",
   "metadata": {},
   "source": []
  },
  {
   "cell_type": "markdown",
   "id": "1c9a8e49",
   "metadata": {},
   "source": [
    "## All `get_data()` parameters explained"
   ]
  },
  {
   "cell_type": "code",
   "execution_count": 24,
   "id": "933a1ad6",
   "metadata": {},
   "outputs": [
    {
     "name": "stderr",
     "output_type": "stream",
     "text": [
      "INFO:pystatis.http_helper:Code 0: erfolgreich\n"
     ]
    }
   ],
   "source": [
    "t.get_data(startyear=2020)"
   ]
  },
  {
   "cell_type": "code",
   "execution_count": 10,
   "id": "81d27994",
   "metadata": {},
   "outputs": [
    {
     "name": "stdout",
     "output_type": "stream",
     "text": [
      "{'Copyright': '© Statistisches Bundesamt (Destatis), 2024',\n",
      " 'Ident': {'Method': 'table', 'Service': 'metadata'},\n",
      " 'Object': {'Code': '81000-0001',\n",
      "            'Content': 'VGR des Bundes - Bruttowertschöpfung, '\n",
      "                       'Bruttoinlandsprodukt\\n'\n",
      "                       '(nominal/preisbereinigt): Deutschland, Jahre',\n",
      "            'Structure': {'Columns': [{'Code': 'JAHR',\n",
      "                                       'Content': 'Jahr',\n",
      "                                       'Selected': '10',\n",
      "                                       'Structure': None,\n",
      "                                       'Type': 'Merkmal',\n",
      "                                       'Updated': 'see parent',\n",
      "                                       'Values': '10'}],\n",
      "                          'Head': {'Code': '81000',\n",
      "                                   'Content': 'Volkswirtschaftliche '\n",
      "                                              'Gesamtrechnungen des Bundes',\n",
      "                                   'Selected': None,\n",
      "                                   'Structure': [{'Code': 'DINSG',\n",
      "                                                  'Content': 'Deutschland '\n",
      "                                                             'insgesamt',\n",
      "                                                  'Selected': '1',\n",
      "                                                  'Structure': None,\n",
      "                                                  'Type': 'Merkmal',\n",
      "                                                  'Updated': 'see parent',\n",
      "                                                  'Values': '1'}],\n",
      "                                   'Type': 'Statistik',\n",
      "                                   'Updated': 'see parent',\n",
      "                                   'Values': None},\n",
      "                          'Rows': [{'Code': 'BWS001',\n",
      "                                    'Content': 'Bruttowertschöpfung',\n",
      "                                    'Selected': None,\n",
      "                                    'Structure': None,\n",
      "                                    'Type': 'Merkmal',\n",
      "                                    'Updated': 'see parent',\n",
      "                                    'Values': None},\n",
      "                                   {'Code': 'STR006',\n",
      "                                    'Content': 'Gütersteuern abzügl. '\n",
      "                                               'Gütersubventionen',\n",
      "                                    'Selected': None,\n",
      "                                    'Structure': None,\n",
      "                                    'Type': 'Merkmal',\n",
      "                                    'Updated': 'see parent',\n",
      "                                    'Values': None},\n",
      "                                   {'Code': 'STR020',\n",
      "                                    'Content': 'Gütersteuern',\n",
      "                                    'Selected': None,\n",
      "                                    'Structure': None,\n",
      "                                    'Type': 'Merkmal',\n",
      "                                    'Updated': 'see parent',\n",
      "                                    'Values': None},\n",
      "                                   {'Code': 'SUB003',\n",
      "                                    'Content': 'Gütersubventionen',\n",
      "                                    'Selected': None,\n",
      "                                    'Structure': None,\n",
      "                                    'Type': 'Merkmal',\n",
      "                                    'Updated': 'see parent',\n",
      "                                    'Values': None},\n",
      "                                   {'Code': 'VGR014',\n",
      "                                    'Content': 'Bruttoinlandsprodukt',\n",
      "                                    'Selected': None,\n",
      "                                    'Structure': None,\n",
      "                                    'Type': 'Merkmal',\n",
      "                                    'Updated': 'see parent',\n",
      "                                    'Values': None},\n",
      "                                   {'Code': 'BIP005',\n",
      "                                    'Content': 'Bruttoinlandsprodukt '\n",
      "                                               '(Veränderung in %)',\n",
      "                                    'Selected': None,\n",
      "                                    'Structure': None,\n",
      "                                    'Type': 'Merkmal',\n",
      "                                    'Updated': 'see parent',\n",
      "                                    'Values': None},\n",
      "                                   {'Code': 'BIP004',\n",
      "                                    'Content': 'Bruttoinlandsprodukt je '\n",
      "                                               'Einwohner',\n",
      "                                    'Selected': None,\n",
      "                                    'Structure': None,\n",
      "                                    'Type': 'Merkmal',\n",
      "                                    'Updated': 'see parent',\n",
      "                                    'Values': None}],\n",
      "                          'Subheading': {'Code': 'VGRPB5',\n",
      "                                         'Content': 'Preisbasis (jeweilige '\n",
      "                                                    'Preise / preisbereinigt)',\n",
      "                                         'Selected': None,\n",
      "                                         'Structure': None,\n",
      "                                         'Type': 'Merkmal',\n",
      "                                         'Updated': 'see parent',\n",
      "                                         'Values': None},\n",
      "                          'Subtitel': None},\n",
      "            'Time': {'From': '1991', 'To': '2023'},\n",
      "            'Updated': '28.12.2022 17:19:48h',\n",
      "            'Valid': 'false'},\n",
      " 'Parameter': {'area': 'Alle',\n",
      "               'language': 'de',\n",
      "               'name': '81000-0001',\n",
      "               'password': '********************',\n",
      "               'username': '********************'},\n",
      " 'Status': {'Code': 0, 'Content': 'erfolgreich', 'Type': 'Information'}}\n"
     ]
    }
   ],
   "source": [
    "from pprint import pprint\n",
    "\n",
    "pprint(t.metadata)"
   ]
  }
 ],
 "metadata": {
  "kernelspec": {
   "display_name": "Python 3.9.7 ('.venv': poetry)",
   "language": "python",
   "name": "python3"
  },
  "language_info": {
   "codemirror_mode": {
    "name": "ipython",
    "version": 3
   },
   "file_extension": ".py",
   "mimetype": "text/x-python",
   "name": "python",
   "nbconvert_exporter": "python",
   "pygments_lexer": "ipython3",
   "version": "3.11.6"
  },
  "vscode": {
   "interpreter": {
    "hash": "02e23b522f8c3795158421909d41ced4ef90521258d58d1c53bee449d96f71e3"
   }
  }
 },
 "nbformat": 4,
 "nbformat_minor": 5
}
