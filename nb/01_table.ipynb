{
 "cells": [
  {
   "cell_type": "code",
   "execution_count": 1,
   "id": "165da3a1",
   "metadata": {
    "scrolled": true
   },
   "outputs": [],
   "source": [
    "import logging\n",
    "\n",
    "from pystatis import Table\n",
    "\n",
    "logging.basicConfig(level=logging.INFO)"
   ]
  },
  {
   "cell_type": "markdown",
   "id": "8e14f4db",
   "metadata": {},
   "source": [
    "# The `Table` Class\n",
    "\n",
    "The `Table` class in `pystatis` is the main interface for users to interact with the different databases and download the data/tables in form of `pandas` `DataFrames`.\n"
   ]
  },
  {
   "cell_type": "markdown",
   "id": "07f3dee4",
   "metadata": {},
   "source": [
    "To use the class, you have to pass only a single parameter: the `name` of the table you want to download.\n"
   ]
  },
  {
   "cell_type": "code",
   "execution_count": 2,
   "id": "5d25c79a",
   "metadata": {},
   "outputs": [],
   "source": [
    "t = Table(name=\"81000-0001\")"
   ]
  },
  {
   "cell_type": "markdown",
   "id": "8ca8127a",
   "metadata": {},
   "source": [
    "## Downloading data\n"
   ]
  },
  {
   "cell_type": "markdown",
   "id": "3d841f94",
   "metadata": {},
   "source": [
    "However, creating a new `Table` instance does not automatically retrieve the data from the database (or cache). Instead, you have to call another method: `get_data()`. The reason for this decision was to give you full control over the download process and avoid unnecessary downloads of big tables unless you are certain you want to start the download.\n"
   ]
  },
  {
   "cell_type": "code",
   "execution_count": 3,
   "id": "632fc783",
   "metadata": {
    "scrolled": false
   },
   "outputs": [
    {
     "name": "stderr",
     "output_type": "stream",
     "text": [
      "INFO:pystatis.http_helper:Database selected: genesis\n"
     ]
    },
    {
     "name": "stdout",
     "output_type": "stream",
     "text": [
      "hit\n"
     ]
    },
    {
     "name": "stderr",
     "output_type": "stream",
     "text": [
      "INFO:pystatis.http_helper:Code 0: erfolgreich\n"
     ]
    }
   ],
   "source": [
    "t.get_data()"
   ]
  },
  {
   "cell_type": "markdown",
   "id": "2370bd5e",
   "metadata": {},
   "source": [
    "You can access the name of a table via the `.name` attribute.\n"
   ]
  },
  {
   "cell_type": "code",
   "execution_count": 4,
   "id": "f5f1aded",
   "metadata": {},
   "outputs": [
    {
     "data": {
      "text/plain": [
       "'81000-0001'"
      ]
     },
     "execution_count": 4,
     "metadata": {},
     "output_type": "execute_result"
    }
   ],
   "source": [
    "t.name"
   ]
  },
  {
   "cell_type": "markdown",
   "id": "4e050eed",
   "metadata": {},
   "source": [
    "After a successful download (or cache retrieval), you can always access the raw data, that is the original response from the web API as a string, via the `.raw_data` attribute.\n"
   ]
  },
  {
   "cell_type": "code",
   "execution_count": 5,
   "id": "8fede338",
   "metadata": {},
   "outputs": [
    {
     "name": "stdout",
     "output_type": "stream",
     "text": [
      "statistics_code;statistics_label;time_code;time_label;time;1_variable_code;1_variable_label;1_variable_attribute_code;1_variable_attribute_label;2_variable_code;2_variable_label;2_variable_attribute_code;2_variable_attribute_label;value;value_unit;value_variable_code;value_variable_label\n",
      "81000;Volkswirtschaftliche Gesamtrechnungen des Bundes;JAHR;Jahr;2020;DINSG;Deutschland insgesamt;DG;Deutschland;VGRPB5;Preisbasis (jeweilige Preise / preisbereinigt);VGRPVU;preisbereinigt, unverkettete Volumenang.(Mrd. EUR);-;jew. ME;BIP004;Bruttoinlandsprodukt je Einwohner\n",
      "81000;Volkswirtschaftliche Gesamtrechnungen des Bundes;JAHR;Jahr;2020;DINSG;Deutschland insgesamt;DG;Deutschland;VGRPB5;Preisbasis (jeweilige Preise / preisbereinigt);VGRPVU;preisbereinigt, unverkettete Volumenang.(Mrd. EUR);-;jew. ME;STR020;Gütersteuern\n",
      "81000;Volkswirtschaftliche Gesamtrechnungen des Bundes;JAHR;Jahr;2020;DINSG;Deutschland insgesamt;DG;Deutschland;VGRPB5;Preisbasis (jeweilige Preise / preisbereinigt);VGRPVU;preisbereinigt, unverkettete Volumenang.(Mrd. EUR);-;Prozent;BIP005;Bruttoinlandsprodukt (Veränderung in %)\n",
      "81000;Volkswirtschaftliche Gesamtrechnungen des Bundes;JAHR;Jahr;2020;DINSG;Deutschland insgesamt;DG;Deutschland;VGRPB5;Preisbasis (jeweilige Preise / preisbereinigt);VGRPVU;preisbereinigt, unverkettete Volumenang.(Mrd. EUR);3390,028;jew. ME;VGR014;Bruttoinlandsprodukt\n",
      "81000;Volkswirtschaftliche Gesamtrechnungen des Bundes;JAHR;Jahr;2020;DINSG;Deutschland insgesamt;DG;Deutschland;VGRPB5;Preisbasis (jeweilige Preise / preisbereinigt);VGRPVU;preisbereinigt, unverkettete Volumenang.(Mrd. EUR);-;jew. ME;STR006;Gütersteuern abzügl. Gütersubventionen\n",
      "81000;Volkswirtschaftliche Gesamtrechnungen des Bundes;JAHR;Jahr;2020;DINSG;Deutschland insgesamt;DG;Deutschland;VGRPB5;Preisbasis (jeweilige Preise / preisbereinigt);VGRPVU;preisbereinigt, unverkettete Volumenang.(Mrd. EUR);3023,844;jew. ME;BWS001;Bruttowertschöpfung\n",
      "81000;Volkswirtschaftliche Gesamtrechnungen des Bundes;JAHR;Jahr;2020;DINSG;Deutschland insgesamt;DG;Deutschland;VGRPB5;Preisbasis (jeweilige Preise / preisbereinigt);VGRPVU;preisbereinigt, unverkettete Volumenang.(Mrd. EUR);-;jew. ME;SUB003;Gütersubventionen\n",
      "81000;Volkswirtschaftliche Gesamtrechnungen des Bundes;JAHR;Jahr;2016;DINSG;Deutschland insgesamt;DG;Deutschland;VGRPB5;Preisbasis (jeweilige Preise / preisbereinigt);VGRPKM;preisbereinigt, Kettenindex (2020=100);100,390;jew. ME;BIP004;Bruttoinlandsprodukt je Einwohner\n",
      "81000;Volkswirtschaftliche Gesamtrechnungen des Bundes;JAHR;Jahr;2016;DINSG;Deutschland insgesamt;DG;Deutschland;VGRPB5;Preisbasis (jeweilige Preise / preisbereinigt);VGRPKM;preisbereinigt, Kettenindex (2020=100);96,750;jew. ME;STR020;Gütersteuern\n",
      "81000;Volkswirtschaftliche Gesamtrechnungen des Bundes;JAHR;Jahr;2016;DINSG;Deutschland insgesamt;DG;Deutschland;VGRPB5;Preisbasis (jeweilige Preise / preisbereinigt);VGRPKM;preisbereinigt, Kettenindex (2020=100);2,3;Prozent;BIP005;Bruttoinlandsprodukt (Veränderung in %)\n",
      "81000;Volkswirtschaftliche Gesamtrechnungen des Bundes;JAHR;Jahr;2016;DINSG;Deutschland insgesamt;DG;Deutschland;VGRPB5;Preisbasis (jeweilige Preise / preisbereinigt);VGRPKM;preisbereinigt, Kettenindex (2020=100);99,410;jew. ME;VGR014;Bruttoinlandsprodukt\n",
      "81000;Volkswirtschaftliche Gesamtrechnungen des Bundes;JAHR;Jahr;2016;DINSG;Deutschland insgesamt;DG;Deutschland;VGRPB5;Preisbasis (jeweilige Preise / preisbereinigt);VGRPKM;preisbereinigt, Kettenindex (2020=100);96,820;jew. ME;STR006;Gütersteuern abzügl. Gütersubventionen\n",
      "81000;Volkswirtschaftliche Gesamtrechnungen des Bundes;JAHR;Jahr;2016;DINSG;Deutschland insgesamt;DG;Deutschland;VGRPB5;Preisbasis (jeweilige Preise / preisbereinigt);VGRPKM;preisbereinigt, Kettenindex (2020=100);99,730;jew. ME;BWS001;Bruttowertschöpfung\n",
      "81000;Volkswirtschaftliche Gesamtrechnungen des Bundes;JAHR;Jahr;2016;DINSG;Deutschland insgesamt;DG;Deutschland;VGRPB5;Preisbasis (jeweilige Preise / preisbereinigt);VGRPKM;preisbereinigt, Kettenindex (2020=100);16,700;jew. ME;SUB003;Gütersubventionen\n",
      "81000;Volkswirtschaftliche Gesamtrechnungen des Bundes;JAHR;Jahr;2015;DINSG;Deutschland insgesamt;DG;Deutschland;VGRPB5;Preisbasis (jeweilige Preise / preisbereinigt);VGRJPM;in jeweiligen Preisen (Mrd. EUR);37774,000;jew. ME;BIP004;Bruttoinlandsprodukt je Einwohner\n",
      "81000;Volkswirtschaftliche Gesamtrechnungen des Bundes;JAHR;Jahr;2015;DINSG;Deutschland insgesamt;DG;Deutschland;VGRPB5;Preisbasis (jeweilige Preise / preisbereinigt);VGRJPM;in jeweiligen Preisen (Mrd. EUR);333,770;jew. ME;STR020;Gütersteuern\n",
      "81000;Volkswirtschaftliche Gesamtrechnungen des Bundes;JAHR;Jahr;2015;DINSG;Deutschland insgesamt;DG;Deutschland;VGRPB5;Preisbasis (jeweilige Preise / preisbereinigt);VGRJPM;in jeweiligen Preisen (Mrd. EUR);3,4;Prozent;BIP005;Bruttoinlandsprodukt (Veränderung in %)\n",
      "81000;Volkswirtschaftliche Gesamtrechnungen des Bundes;JAHR;Jahr;2015;DINSG;Deutschland insgesamt;DG;Deutschland;VGRPB5;Preisbasis (jeweilige Preise / preisbereinigt);VGRJPM;in jeweiligen Preisen (Mrd. EUR);3085,650;jew. ME;VGR014;Bruttoinlandsprodukt\n",
      "81000;Volkswirtschaftliche Gesamtrechnungen des Bundes;JAHR;Jahr;2015;DINSG;Deutschland insgesamt;DG;Deutschland;VGRPB5;Preisbasis (jeweilige Preise / preisbereinigt);VGRJPM;in jeweiligen Preisen (Mrd. EUR);333,713;jew. ME;STR006;Gütersteuern abzügl. Gütersubventionen\n",
      "81000;Volkswirtschaftliche Gesamtrechnungen des Bundes;JAHR;Jahr;2015;DINSG;Deutschland insgesamt;DG;Deutschland;VGRPB5;Preisbasis (jeweilige Preise / preisbereinigt);VGRJPM;in jeweiligen Preisen (Mrd. EUR);2751,937;jew. ME;BWS001;Bruttowertschöpfung\n",
      "81000;Volkswirtschaftliche Gesamtrechnungen des Bundes;JAHR;Jahr;2015;DINSG;Deutschland insgesamt;DG;Deutschland;VGRPB5;Preisbasis (jeweilige Preise / preisbereinigt);VGRJPM;in jeweiligen Preisen (Mrd. EUR);0,057;jew. ME;SUB003;Gütersubventionen\n",
      "81000;Volkswirtschaftliche Gesamtrechnungen des Bundes;JAHR;Jahr;2017;DINSG;Deutschland insgesamt;DG;Deutschland;VGRPB5;Preisbasis (jeweilige Preise / preisbereinigt);VGRPVU;preisbereinigt, unverkettete Volumenang.(Mrd. EUR);-;jew. ME;BIP004;Bruttoinlandsprodukt je Einwohner\n",
      "81000;Volkswirtschaftliche Gesamtrechnungen des Bundes;JAHR;Jahr;2017;DINSG;Deutschland insgesamt;DG;Deutschland;VGRPB5;Preisbasis (jeweilige Preise / preisbereinigt);VGRPVU;preisbereinigt, unverkettete Volumenang.(Mrd. EUR);-;jew. ME;STR020;Gütersteuern\n",
      "81000;Volkswirtschaftliche Gesamtrechnungen des Bundes;JAHR;Jahr;2017;DINSG;Deutschland insgesamt;DG;Deutschland;VGRPB5;Preisbasis (jeweilige Preise / preisbereinigt);VGRPVU;preisbereinigt, unverkettete Volumenang.(Mrd. EUR);-;Prozent;BIP005;Bruttoinlandsprodukt (Veränderung in %)\n",
      "81000;Volkswirtschaftliche Gesamtrechnungen des Bundes;JAHR;Jahr;2017;DINSG;Deutschland insgesamt;DG;Deutschland;VGRPB5;Preisbasis (jeweilige Preise / preisbereinigt);VGRPVU;preisbereinigt, unverkettete Volumenang.(Mrd. EUR);3282,849;jew. ME;VGR014;Bruttoinlandsprodukt\n",
      "81000;Volkswirtschaftliche Gesamtrechnungen des Bundes;JAHR;Jahr;2017;DINSG;Deutschland insgesamt;DG;Deutschland;VGRPB5;Preisbasis (jeweilige Preise / preisbereinigt);VGRPVU;preisbereinigt, unverkettete Volumenang.(Mrd. EUR);-;jew. ME;STR006;Gütersteuern abzügl. Gütersubventionen\n",
      "81000;Volkswirtschaftliche Gesamtrechnungen des Bundes;JAHR;Jahr;2017;DINSG;Deutschland insgesamt;DG;Deutschland;VGRPB5;Preisbasis (jeweilige Preise / preisbereinigt);VGRPVU;preisbereinigt, unverkettete Volumenang.(Mrd. EUR);2933,002;jew. ME;BWS001;Bruttowertschöpfung\n",
      "81000;Volkswirtschaftliche Gesamtrechnungen des Bundes;JAHR;Jahr;2017;DINSG;Deutschland insgesamt;DG;Deutschland;VGRPB5;Preisbasis (jeweilige Preise / preisbereinigt);VGRPVU;preisbereinigt, unverkettete Volumenang.(Mrd. EUR);-;jew. ME;SUB003;Gütersubventionen\n",
      "81000;Volkswirtschaftliche Gesamtrechnungen des Bundes;JAHR;Jahr;2023;DINSG;Deutschland insgesamt;DG;Deutschland;VGRPB5;Preisbasis (jeweilige Preise / preisbereinigt);VGRJPM;in jeweiligen Preisen (Mrd. EUR);49525,000;jew. ME;BIP004;Bruttoinlandsprodukt je Einwohner\n",
      "81000;Volkswirtschaftliche Gesamtrechnungen des Bundes;JAHR;Jahr;2023;DINSG;Deutschland insgesamt;DG;Deutschland;VGRPB5;Preisbasis (jeweilige Preise / preisbereinigt);VGRJPM;in jeweiligen Preisen (Mrd. EUR);397,741;jew. ME;STR020;Gütersteuern\n",
      "81000;Volkswirtschaftliche Gesamtrechnungen des Bundes;JAHR;Jahr;2023;DINSG;Deutschland insgesamt;DG;Deutschland;VGRPB5;Preisbasis (jeweilige Preise / preisbereinigt);VGRJPM;in jeweiligen Preisen (Mrd. EUR);5,9;Prozent;BIP005;Bruttoinlandsprodukt (Veränderung in %)\n",
      "81000;Volkswirtschaftliche Gesamtrechnungen des Bundes;JAHR;Jahr;2023;DINSG;Deutschland insgesamt;DG;Deutschland;VGRPB5;Preisbasis (jeweilige Preise / preisbereinigt);VGRJPM;in jeweiligen Preisen (Mrd. EUR);4185,550;jew. ME;VGR014;Bruttoinlandsprodukt\n",
      "81000;Volkswirtschaftliche Gesamtrechnungen des Bundes;JAHR;Jahr;2023;DINSG;Deutschland insgesamt;DG;Deutschland;VGRPB5;Preisbasis (jeweilige Preise / preisbereinigt);VGRJPM;in jeweiligen Preisen (Mrd. EUR);364,696;jew. ME;STR006;Gütersteuern abzügl. Gütersubventionen\n",
      "81000;Volkswirtschaftliche Gesamtrechnungen des Bundes;JAHR;Jahr;2023;DINSG;Deutschland insgesamt;DG;Deutschland;VGRPB5;Preisbasis (jeweilige Preise / preisbereinigt);VGRJPM;in jeweiligen Preisen (Mrd. EUR);3820,854;jew. ME;BWS001;Bruttowertschöpfung\n",
      "81000;Volkswirtschaftliche Gesamtrechnungen des Bundes;JAHR;Jahr;2023;DINSG;Deutschland insgesamt;DG;Deutschland;VGRPB5;Preisbasis (jeweilige Preise / preisbereinigt);VGRJPM;in jeweiligen Preisen (Mrd. EUR);33,045;jew. ME;SUB003;Gütersubventionen\n",
      "81000;Volkswirtschaftliche Gesamtrechnungen des Bundes;JAHR;Jahr;2023;DINSG;Deutschland insgesamt;DG;Deutschland;VGRPB5;Preisbasis (jeweilige Preise / preisbereinigt);VGRPVU;preisbereinigt, unverkettete Volumenang.(Mrd. EUR);-;jew. ME;BIP004;Bruttoinlandsprodukt je Einwohner\n",
      "81000;Volkswirtschaftliche Gesamtrechnungen des Bundes;JAHR;Jahr;2023;DINSG;Deutschland insgesamt;DG;Deutschland;VGRPB5;Preisbasis (jeweilige Preise / preisbereinigt);VGRPVU;preisbereinigt, unverkettete Volumenang.(Mrd. EUR);-;jew. ME;STR020;Gütersteuern\n",
      "81000;Volkswirtschaftliche Gesamtrechnungen des Bundes;JAHR;Jahr;2023;DINSG;Deutschland insgesamt;DG;Deutschland;VGRPB5;Preisbasis (jeweilige Preise / preisbereinigt);VGRPVU;preisbereinigt, unverkettete Volumenang.(Mrd. EUR);-;Prozent;BIP005;Bruttoinlandsprodukt (Veränderung in %)\n",
      "81000;Volkswirtschaftliche Gesamtrechnungen des Bundes;JAHR;Jahr;2023;DINSG;Deutschland insgesamt;DG;Deutschland;VGRPB5;Preisbasis (jeweilige Preise / preisbereinigt);VGRPVU;preisbereinigt, unverkettete Volumenang.(Mrd. EUR);3943,367;jew. ME;VGR014;Bruttoinlandsprodukt\n",
      "81000;Volkswirtschaftliche Gesamtrechnungen des Bundes;JAHR;Jahr;2023;DINSG;Deutschland insgesamt;DG;Deutschland;VGRPB5;Preisbasis (jeweilige Preise / preisbereinigt);VGRPVU;preisbereinigt, unverkettete Volumenang.(Mrd. EUR);-;jew. ME;STR006;Gütersteuern abzügl. Gütersubventionen\n",
      "81000;Volkswirtschaftliche Gesamtrechnungen des Bundes;JAHR;Jahr;2023;DINSG;Deutschland insgesamt;DG;Deutschland;VGRPB5;Preisbasis (jeweilige Preise / preisbereinigt);VGRPVU;preisbereinigt, unverkettete Volumenang.(Mrd. EUR);3570,771;jew. ME;BWS001;Bruttowertschöpfung\n",
      "81000;Volkswirtschaftliche Gesamtrechnungen des Bundes;JAHR;Jahr;2023;DINSG;Deutschland insgesamt;DG;Deutschland;VGRPB5;Preisbasis (jeweilige Preise / preisbereinigt);VGRPVU;preisbereinigt, unverkettete Volumenang.(Mrd. EUR);-;jew. ME;SUB003;Gütersubventionen\n",
      "81000;Volkswirtschaftliche Gesamtrechnungen des Bundes;JAHR;Jahr;2024;DINSG;Deutschland insgesamt;DG;Deutschland;VGRPB5;Preisbasis (jeweilige Preise / preisbereinigt);VGRPKM;preisbereinigt, Kettenindex (2020=100);102,640;jew. ME;BIP004;Bruttoinlandsprodukt je Einwohner\n",
      "81000;Volkswirtschaftliche Gesamtrechnungen des Bundes;JAHR;Jahr;2024;DINSG;Deutschland insgesamt;DG;Deutschland;VGRPB5;Preisbasis (jeweilige Preise / preisbereinigt);VGRPKM;preisbereinigt, Kettenindex (2020=100);96,290;jew. ME;STR020;Gütersteuern\n",
      "81000;Volkswirtschaftliche Gesamtrechnungen des Bundes;JAHR;Jahr;2024;DINSG;Deutschland insgesamt;DG;Deutschland;VGRPB5;Preisbasis (jeweilige Preise / preisbereinigt);VGRPKM;preisbereinigt, Kettenindex (2020=100);-0,2;Prozent;BIP005;Bruttoinlandsprodukt (Veränderung in %)\n",
      "81000;Volkswirtschaftliche Gesamtrechnungen des Bundes;JAHR;Jahr;2024;DINSG;Deutschland insgesamt;DG;Deutschland;VGRPB5;Preisbasis (jeweilige Preise / preisbereinigt);VGRPKM;preisbereinigt, Kettenindex (2020=100);104,560;jew. ME;VGR014;Bruttoinlandsprodukt\n",
      "81000;Volkswirtschaftliche Gesamtrechnungen des Bundes;JAHR;Jahr;2024;DINSG;Deutschland insgesamt;DG;Deutschland;VGRPB5;Preisbasis (jeweilige Preise / preisbereinigt);VGRPKM;preisbereinigt, Kettenindex (2020=100);96,190;jew. ME;STR006;Gütersteuern abzügl. Gütersubventionen\n",
      "81000;Volkswirtschaftliche Gesamtrechnungen des Bundes;JAHR;Jahr;2024;DINSG;Deutschland insgesamt;DG;Deutschland;VGRPB5;Preisbasis (jeweilige Preise / preisbereinigt);VGRPKM;preisbereinigt, Kettenindex (2020=100);105,540;jew. ME;BWS001;Bruttowertschöpfung\n",
      "81000;Volkswirtschaftliche Gesamtrechnungen des Bundes;JAHR;Jahr;2024;DINSG;Deutschland insgesamt;DG;Deutschland;VGRPB5;Preisbasis (jeweilige Preise / preisbereinigt);VGRPKM;preisbereinigt, Kettenindex (2020=100);488,000;jew. ME;SUB003;Gütersubventionen\n",
      "81000;Volkswirtschaftliche Gesamtrechnungen des Bundes;JAHR;Jahr;2017;DINSG;Deutschland insgesamt;DG;Deutschland;VGRPB5;Preisbasis (jeweilige Preise / preisbereinigt);VGRPVK;preisbereinigt, verkettete Volumenang. (Mrd. EUR);-;jew. ME;BIP004;Bruttoinlandsprodukt je Einwohner\n",
      "81000;Volkswirtschaftliche Gesamtrechnungen des Bundes;JAHR;Jahr;2017;DINSG;Deutschland insgesamt;DG;Deutschland;VGRPB5;Preisbasis (jeweilige Preise / preisbereinigt);VGRPVK;preisbereinigt, verkettete Volumenang. (Mrd. EUR);-;jew. ME;STR020;Gütersteuern\n",
      "81000;Volkswirtschaftliche Gesamtrechnungen des Bundes;JAHR;Jahr;2017;DINSG;Deutschland insgesamt;DG;Deutschland;VGRPB5;Preisbasis (jeweilige Preise / preisbereinigt);VGRPVK;preisbereinigt, verkettete Volumenang. (Mrd. EUR);-;Prozent;BIP005;Bruttoinlandsprodukt (Veränderung in %)\n",
      "81000;Volkswirtschaftliche Gesamtrechnungen des Bundes;JAHR;Jahr;2017;DINSG;Deutschland insgesamt;DG;Deutschland;VGRPB5;Preisbasis (jeweilige Preise / preisbereinigt);VGRPVK;preisbereinigt, verkettete Volumenang. (Mrd. EUR);3522,407;jew. ME;VGR014;Bruttoinlandsprodukt\n",
      "81000;Volkswirtschaftliche Gesamtrechnungen des Bundes;JAHR;Jahr;2017;DINSG;Deutschland insgesamt;DG;Deutschland;VGRPB5;Preisbasis (jeweilige Preise / preisbereinigt);VGRPVK;preisbereinigt, verkettete Volumenang. (Mrd. EUR);-;jew. ME;STR006;Gütersteuern abzügl. Gütersubventionen\n",
      "81000;Volkswirtschaftliche Gesamtrechnungen des Bundes;JAHR;Jahr;2017;DINSG;Deutschland insgesamt;DG;Deutschland;VGRPB5;Preisbasis (jeweilige Preise / preisbereinigt);VGRPVK;preisbereinigt, verkettete Volumenang. (Mrd. EUR);3177,092;jew. ME;BWS001;Bruttowertschöpfung\n",
      "81000;Volkswirtschaftliche Gesamtrechnungen des Bundes;JAHR;Jahr;2017;DINSG;Deutschland insgesamt;DG;Deutschland;VGRPB5;Preisbasis (jeweilige Preise / preisbereinigt);VGRPVK;preisbereinigt, verkettete Volumenang. (Mrd. EUR);-;jew. ME;SUB003;Gütersubventionen\n",
      "81000;Volkswirtschaftliche Gesamtrechnungen des Bundes;JAHR;Jahr;2016;DINSG;Deutschland insgesamt;DG;Deutschland;VGRPB5;Preisbasis (jeweilige Preise / preisbereinigt);VGRPVK;preisbereinigt, verkettete Volumenang. (Mrd. EUR);-;jew. ME;BIP004;Bruttoinlandsprodukt je Einwohner\n",
      "81000;Volkswirtschaftliche Gesamtrechnungen des Bundes;JAHR;Jahr;2016;DINSG;Deutschland insgesamt;DG;Deutschland;VGRPB5;Preisbasis (jeweilige Preise / preisbereinigt);VGRPVK;preisbereinigt, verkettete Volumenang. (Mrd. EUR);-;jew. ME;STR020;Gütersteuern\n",
      "81000;Volkswirtschaftliche Gesamtrechnungen des Bundes;JAHR;Jahr;2016;DINSG;Deutschland insgesamt;DG;Deutschland;VGRPB5;Preisbasis (jeweilige Preise / preisbereinigt);VGRPVK;preisbereinigt, verkettete Volumenang. (Mrd. EUR);-;Prozent;BIP005;Bruttoinlandsprodukt (Veränderung in %)\n",
      "81000;Volkswirtschaftliche Gesamtrechnungen des Bundes;JAHR;Jahr;2016;DINSG;Deutschland insgesamt;DG;Deutschland;VGRPB5;Preisbasis (jeweilige Preise / preisbereinigt);VGRPVK;preisbereinigt, verkettete Volumenang. (Mrd. EUR);3429,267;jew. ME;VGR014;Bruttoinlandsprodukt\n",
      "81000;Volkswirtschaftliche Gesamtrechnungen des Bundes;JAHR;Jahr;2016;DINSG;Deutschland insgesamt;DG;Deutschland;VGRPB5;Preisbasis (jeweilige Preise / preisbereinigt);VGRPVK;preisbereinigt, verkettete Volumenang. (Mrd. EUR);-;jew. ME;STR006;Gütersteuern abzügl. Gütersubventionen\n",
      "81000;Volkswirtschaftliche Gesamtrechnungen des Bundes;JAHR;Jahr;2016;DINSG;Deutschland insgesamt;DG;Deutschland;VGRPB5;Preisbasis (jeweilige Preise / preisbereinigt);VGRPVK;preisbereinigt, verkettete Volumenang. (Mrd. EUR);3090,630;jew. ME;BWS001;Bruttowertschöpfung\n",
      "81000;Volkswirtschaftliche Gesamtrechnungen des Bundes;JAHR;Jahr;2016;DINSG;Deutschland insgesamt;DG;Deutschland;VGRPB5;Preisbasis (jeweilige Preise / preisbereinigt);VGRPVK;preisbereinigt, verkettete Volumenang. (Mrd. EUR);-;jew. ME;SUB003;Gütersubventionen\n",
      "81000;Volkswirtschaftliche Gesamtrechnungen des Bundes;JAHR;Jahr;2018;DINSG;Deutschland insgesamt;DG;Deutschland;VGRPB5;Preisbasis (jeweilige Preise / preisbereinigt);VGRJPM;in jeweiligen Preisen (Mrd. EUR);41386,000;jew. ME;BIP004;Bruttoinlandsprodukt je Einwohner\n",
      "81000;Volkswirtschaftliche Gesamtrechnungen des Bundes;JAHR;Jahr;2018;DINSG;Deutschland insgesamt;DG;Deutschland;VGRPB5;Preisbasis (jeweilige Preise / preisbereinigt);VGRJPM;in jeweiligen Preisen (Mrd. EUR);364,778;jew. ME;STR020;Gütersteuern\n",
      "81000;Volkswirtschaftliche Gesamtrechnungen des Bundes;JAHR;Jahr;2018;DINSG;Deutschland insgesamt;DG;Deutschland;VGRPB5;Preisbasis (jeweilige Preise / preisbereinigt);VGRJPM;in jeweiligen Preisen (Mrd. EUR);3,0;Prozent;BIP005;Bruttoinlandsprodukt (Veränderung in %)\n",
      "81000;Volkswirtschaftliche Gesamtrechnungen des Bundes;JAHR;Jahr;2018;DINSG;Deutschland insgesamt;DG;Deutschland;VGRPB5;Preisbasis (jeweilige Preise / preisbereinigt);VGRJPM;in jeweiligen Preisen (Mrd. EUR);3431,130;jew. ME;VGR014;Bruttoinlandsprodukt\n",
      "81000;Volkswirtschaftliche Gesamtrechnungen des Bundes;JAHR;Jahr;2018;DINSG;Deutschland insgesamt;DG;Deutschland;VGRPB5;Preisbasis (jeweilige Preise / preisbereinigt);VGRJPM;in jeweiligen Preisen (Mrd. EUR);364,714;jew. ME;STR006;Gütersteuern abzügl. Gütersubventionen\n",
      "81000;Volkswirtschaftliche Gesamtrechnungen des Bundes;JAHR;Jahr;2018;DINSG;Deutschland insgesamt;DG;Deutschland;VGRPB5;Preisbasis (jeweilige Preise / preisbereinigt);VGRJPM;in jeweiligen Preisen (Mrd. EUR);3066,416;jew. ME;BWS001;Bruttowertschöpfung\n",
      "81000;Volkswirtschaftliche Gesamtrechnungen des Bundes;JAHR;Jahr;2018;DINSG;Deutschland insgesamt;DG;Deutschland;VGRPB5;Preisbasis (jeweilige Preise / preisbereinigt);VGRJPM;in jeweiligen Preisen (Mrd. EUR);0,064;jew. ME;SUB003;Gütersubventionen\n",
      "81000;Volkswirtschaftliche Gesamtrechnungen des Bundes;JAHR;Jahr;2018;DINSG;Deutschland insgesamt;DG;Deutschland;VGRPB5;Preisbasis (jeweilige Preise / preisbereinigt);VGRPKM;preisbereinigt, Kettenindex (2020=100);103,570;jew. ME;BIP004;Bruttoinlandsprodukt je Einwohner\n",
      "81000;Volkswirtschaftliche Gesamtrechnungen des Bundes;JAHR;Jahr;2018;DINSG;Deutschland insgesamt;DG;Deutschland;VGRPB5;Preisbasis (jeweilige Preise / preisbereinigt);VGRPKM;preisbereinigt, Kettenindex (2020=100);99,100;jew. ME;STR020;Gütersteuern\n",
      "81000;Volkswirtschaftliche Gesamtrechnungen des Bundes;JAHR;Jahr;2018;DINSG;Deutschland insgesamt;DG;Deutschland;VGRPB5;Preisbasis (jeweilige Preise / preisbereinigt);VGRPKM;preisbereinigt, Kettenindex (2020=100);1,1;Prozent;BIP005;Bruttoinlandsprodukt (Veränderung in %)\n",
      "81000;Volkswirtschaftliche Gesamtrechnungen des Bundes;JAHR;Jahr;2018;DINSG;Deutschland insgesamt;DG;Deutschland;VGRPB5;Preisbasis (jeweilige Preise / preisbereinigt);VGRPKM;preisbereinigt, Kettenindex (2020=100);103,250;jew. ME;VGR014;Bruttoinlandsprodukt\n",
      "81000;Volkswirtschaftliche Gesamtrechnungen des Bundes;JAHR;Jahr;2018;DINSG;Deutschland insgesamt;DG;Deutschland;VGRPB5;Preisbasis (jeweilige Preise / preisbereinigt);VGRPKM;preisbereinigt, Kettenindex (2020=100);99,180;jew. ME;STR006;Gütersteuern abzügl. Gütersubventionen\n",
      "81000;Volkswirtschaftliche Gesamtrechnungen des Bundes;JAHR;Jahr;2018;DINSG;Deutschland insgesamt;DG;Deutschland;VGRPB5;Preisbasis (jeweilige Preise / preisbereinigt);VGRPKM;preisbereinigt, Kettenindex (2020=100);103,750;jew. ME;BWS001;Bruttowertschöpfung\n",
      "81000;Volkswirtschaftliche Gesamtrechnungen des Bundes;JAHR;Jahr;2018;DINSG;Deutschland insgesamt;DG;Deutschland;VGRPB5;Preisbasis (jeweilige Preise / preisbereinigt);VGRPKM;preisbereinigt, Kettenindex (2020=100);19,510;jew. ME;SUB003;Gütersubventionen\n",
      "81000;Volkswirtschaftliche Gesamtrechnungen des Bundes;JAHR;Jahr;2022;DINSG;Deutschland insgesamt;DG;Deutschland;VGRPB5;Preisbasis (jeweilige Preise / preisbereinigt);VGRPVK;preisbereinigt, verkettete Volumenang. (Mrd. EUR);-;jew. ME;BIP004;Bruttoinlandsprodukt je Einwohner\n",
      "81000;Volkswirtschaftliche Gesamtrechnungen des Bundes;JAHR;Jahr;2022;DINSG;Deutschland insgesamt;DG;Deutschland;VGRPB5;Preisbasis (jeweilige Preise / preisbereinigt);VGRPVK;preisbereinigt, verkettete Volumenang. (Mrd. EUR);-;jew. ME;STR020;Gütersteuern\n",
      "81000;Volkswirtschaftliche Gesamtrechnungen des Bundes;JAHR;Jahr;2022;DINSG;Deutschland insgesamt;DG;Deutschland;VGRPB5;Preisbasis (jeweilige Preise / preisbereinigt);VGRPVK;preisbereinigt, verkettete Volumenang. (Mrd. EUR);-;Prozent;BIP005;Bruttoinlandsprodukt (Veränderung in %)\n",
      "81000;Volkswirtschaftliche Gesamtrechnungen des Bundes;JAHR;Jahr;2022;DINSG;Deutschland insgesamt;DG;Deutschland;VGRPB5;Preisbasis (jeweilige Preise / preisbereinigt);VGRPVK;preisbereinigt, verkettete Volumenang. (Mrd. EUR);3625,206;jew. ME;VGR014;Bruttoinlandsprodukt\n",
      "81000;Volkswirtschaftliche Gesamtrechnungen des Bundes;JAHR;Jahr;2022;DINSG;Deutschland insgesamt;DG;Deutschland;VGRPB5;Preisbasis (jeweilige Preise / preisbereinigt);VGRPVK;preisbereinigt, verkettete Volumenang. (Mrd. EUR);-;jew. ME;STR006;Gütersteuern abzügl. Gütersubventionen\n",
      "81000;Volkswirtschaftliche Gesamtrechnungen des Bundes;JAHR;Jahr;2022;DINSG;Deutschland insgesamt;DG;Deutschland;VGRPB5;Preisbasis (jeweilige Preise / preisbereinigt);VGRPVK;preisbereinigt, verkettete Volumenang. (Mrd. EUR);3272,541;jew. ME;BWS001;Bruttowertschöpfung\n",
      "81000;Volkswirtschaftliche Gesamtrechnungen des Bundes;JAHR;Jahr;2022;DINSG;Deutschland insgesamt;DG;Deutschland;VGRPB5;Preisbasis (jeweilige Preise / preisbereinigt);VGRPVK;preisbereinigt, verkettete Volumenang. (Mrd. EUR);-;jew. ME;SUB003;Gütersubventionen\n",
      "81000;Volkswirtschaftliche Gesamtrechnungen des Bundes;JAHR;Jahr;2024;DINSG;Deutschland insgesamt;DG;Deutschland;VGRPB5;Preisbasis (jeweilige Preise / preisbereinigt);VGRJPM;in jeweiligen Preisen (Mrd. EUR);50819,000;jew. ME;BIP004;Bruttoinlandsprodukt je Einwohner\n",
      "81000;Volkswirtschaftliche Gesamtrechnungen des Bundes;JAHR;Jahr;2024;DINSG;Deutschland insgesamt;DG;Deutschland;VGRPB5;Preisbasis (jeweilige Preise / preisbereinigt);VGRJPM;in jeweiligen Preisen (Mrd. EUR);406,056;jew. ME;STR020;Gütersteuern\n",
      "81000;Volkswirtschaftliche Gesamtrechnungen des Bundes;JAHR;Jahr;2024;DINSG;Deutschland insgesamt;DG;Deutschland;VGRPB5;Preisbasis (jeweilige Preise / preisbereinigt);VGRJPM;in jeweiligen Preisen (Mrd. EUR);2,9;Prozent;BIP005;Bruttoinlandsprodukt (Veränderung in %)\n",
      "81000;Volkswirtschaftliche Gesamtrechnungen des Bundes;JAHR;Jahr;2024;DINSG;Deutschland insgesamt;DG;Deutschland;VGRPB5;Preisbasis (jeweilige Preise / preisbereinigt);VGRJPM;in jeweiligen Preisen (Mrd. EUR);4305,260;jew. ME;VGR014;Bruttoinlandsprodukt\n",
      "81000;Volkswirtschaftliche Gesamtrechnungen des Bundes;JAHR;Jahr;2024;DINSG;Deutschland insgesamt;DG;Deutschland;VGRPB5;Preisbasis (jeweilige Preise / preisbereinigt);VGRJPM;in jeweiligen Preisen (Mrd. EUR);405,818;jew. ME;STR006;Gütersteuern abzügl. Gütersubventionen\n",
      "81000;Volkswirtschaftliche Gesamtrechnungen des Bundes;JAHR;Jahr;2024;DINSG;Deutschland insgesamt;DG;Deutschland;VGRPB5;Preisbasis (jeweilige Preise / preisbereinigt);VGRJPM;in jeweiligen Preisen (Mrd. EUR);3899,442;jew. ME;BWS001;Bruttowertschöpfung\n",
      "81000;Volkswirtschaftliche Gesamtrechnungen des Bundes;JAHR;Jahr;2024;DINSG;Deutschland insgesamt;DG;Deutschland;VGRPB5;Preisbasis (jeweilige Preise / preisbereinigt);VGRJPM;in jeweiligen Preisen (Mrd. EUR);0,238;jew. ME;SUB003;Gütersubventionen\n",
      "81000;Volkswirtschaftliche Gesamtrechnungen des Bundes;JAHR;Jahr;2021;DINSG;Deutschland insgesamt;DG;Deutschland;VGRPB5;Preisbasis (jeweilige Preise / preisbereinigt);VGRPKM;preisbereinigt, Kettenindex (2020=100);103,630;jew. ME;BIP004;Bruttoinlandsprodukt je Einwohner\n",
      "81000;Volkswirtschaftliche Gesamtrechnungen des Bundes;JAHR;Jahr;2021;DINSG;Deutschland insgesamt;DG;Deutschland;VGRPB5;Preisbasis (jeweilige Preise / preisbereinigt);VGRPKM;preisbereinigt, Kettenindex (2020=100);103,200;jew. ME;STR020;Gütersteuern\n",
      "81000;Volkswirtschaftliche Gesamtrechnungen des Bundes;JAHR;Jahr;2021;DINSG;Deutschland insgesamt;DG;Deutschland;VGRPB5;Preisbasis (jeweilige Preise / preisbereinigt);VGRPKM;preisbereinigt, Kettenindex (2020=100);3,7;Prozent;BIP005;Bruttoinlandsprodukt (Veränderung in %)\n",
      "81000;Volkswirtschaftliche Gesamtrechnungen des Bundes;JAHR;Jahr;2021;DINSG;Deutschland insgesamt;DG;Deutschland;VGRPB5;Preisbasis (jeweilige Preise / preisbereinigt);VGRPKM;preisbereinigt, Kettenindex (2020=100);103,670;jew. ME;VGR014;Bruttoinlandsprodukt\n",
      "81000;Volkswirtschaftliche Gesamtrechnungen des Bundes;JAHR;Jahr;2021;DINSG;Deutschland insgesamt;DG;Deutschland;VGRPB5;Preisbasis (jeweilige Preise / preisbereinigt);VGRPKM;preisbereinigt, Kettenindex (2020=100);102,510;jew. ME;STR006;Gütersteuern abzügl. Gütersubventionen\n",
      "81000;Volkswirtschaftliche Gesamtrechnungen des Bundes;JAHR;Jahr;2021;DINSG;Deutschland insgesamt;DG;Deutschland;VGRPB5;Preisbasis (jeweilige Preise / preisbereinigt);VGRPKM;preisbereinigt, Kettenindex (2020=100);103,800;jew. ME;BWS001;Bruttowertschöpfung\n",
      "81000;Volkswirtschaftliche Gesamtrechnungen des Bundes;JAHR;Jahr;2021;DINSG;Deutschland insgesamt;DG;Deutschland;VGRPB5;Preisbasis (jeweilige Preise / preisbereinigt);VGRPKM;preisbereinigt, Kettenindex (2020=100);472,320;jew. ME;SUB003;Gütersubventionen\n",
      "81000;Volkswirtschaftliche Gesamtrechnungen des Bundes;JAHR;Jahr;2022;DINSG;Deutschland insgesamt;DG;Deutschland;VGRPB5;Preisbasis (jeweilige Preise / preisbereinigt);VGRPVU;preisbereinigt, unverkettete Volumenang.(Mrd. EUR);-;jew. ME;BIP004;Bruttoinlandsprodukt je Einwohner\n",
      "81000;Volkswirtschaftliche Gesamtrechnungen des Bundes;JAHR;Jahr;2022;DINSG;Deutschland insgesamt;DG;Deutschland;VGRPB5;Preisbasis (jeweilige Preise / preisbereinigt);VGRPVU;preisbereinigt, unverkettete Volumenang.(Mrd. EUR);-;jew. ME;STR020;Gütersteuern\n",
      "81000;Volkswirtschaftliche Gesamtrechnungen des Bundes;JAHR;Jahr;2022;DINSG;Deutschland insgesamt;DG;Deutschland;VGRPB5;Preisbasis (jeweilige Preise / preisbereinigt);VGRPVU;preisbereinigt, unverkettete Volumenang.(Mrd. EUR);-;Prozent;BIP005;Bruttoinlandsprodukt (Veränderung in %)\n",
      "81000;Volkswirtschaftliche Gesamtrechnungen des Bundes;JAHR;Jahr;2022;DINSG;Deutschland insgesamt;DG;Deutschland;VGRPB5;Preisbasis (jeweilige Preise / preisbereinigt);VGRPVU;preisbereinigt, unverkettete Volumenang.(Mrd. EUR);3726,798;jew. ME;VGR014;Bruttoinlandsprodukt\n",
      "81000;Volkswirtschaftliche Gesamtrechnungen des Bundes;JAHR;Jahr;2022;DINSG;Deutschland insgesamt;DG;Deutschland;VGRPB5;Preisbasis (jeweilige Preise / preisbereinigt);VGRPVU;preisbereinigt, unverkettete Volumenang.(Mrd. EUR);-;jew. ME;STR006;Gütersteuern abzügl. Gütersubventionen\n",
      "81000;Volkswirtschaftliche Gesamtrechnungen des Bundes;JAHR;Jahr;2022;DINSG;Deutschland insgesamt;DG;Deutschland;VGRPB5;Preisbasis (jeweilige Preise / preisbereinigt);VGRPVU;preisbereinigt, unverkettete Volumenang.(Mrd. EUR);3345,263;jew. ME;BWS001;Bruttowertschöpfung\n",
      "81000;Volkswirtschaftliche Gesamtrechnungen des Bundes;JAHR;Jahr;2022;DINSG;Deutschland insgesamt;DG;Deutschland;VGRPB5;Preisbasis (jeweilige Preise / preisbereinigt);VGRPVU;preisbereinigt, unverkettete Volumenang.(Mrd. EUR);-;jew. ME;SUB003;Gütersubventionen\n",
      "81000;Volkswirtschaftliche Gesamtrechnungen des Bundes;JAHR;Jahr;2019;DINSG;Deutschland insgesamt;DG;Deutschland;VGRPB5;Preisbasis (jeweilige Preise / preisbereinigt);VGRPVU;preisbereinigt, unverkettete Volumenang.(Mrd. EUR);-;jew. ME;BIP004;Bruttoinlandsprodukt je Einwohner\n",
      "81000;Volkswirtschaftliche Gesamtrechnungen des Bundes;JAHR;Jahr;2019;DINSG;Deutschland insgesamt;DG;Deutschland;VGRPB5;Preisbasis (jeweilige Preise / preisbereinigt);VGRPVU;preisbereinigt, unverkettete Volumenang.(Mrd. EUR);-;jew. ME;STR020;Gütersteuern\n",
      "81000;Volkswirtschaftliche Gesamtrechnungen des Bundes;JAHR;Jahr;2019;DINSG;Deutschland insgesamt;DG;Deutschland;VGRPB5;Preisbasis (jeweilige Preise / preisbereinigt);VGRPVU;preisbereinigt, unverkettete Volumenang.(Mrd. EUR);-;Prozent;BIP005;Bruttoinlandsprodukt (Veränderung in %)\n",
      "81000;Volkswirtschaftliche Gesamtrechnungen des Bundes;JAHR;Jahr;2019;DINSG;Deutschland insgesamt;DG;Deutschland;VGRPB5;Preisbasis (jeweilige Preise / preisbereinigt);VGRPVU;preisbereinigt, unverkettete Volumenang.(Mrd. EUR);3465,133;jew. ME;VGR014;Bruttoinlandsprodukt\n",
      "81000;Volkswirtschaftliche Gesamtrechnungen des Bundes;JAHR;Jahr;2019;DINSG;Deutschland insgesamt;DG;Deutschland;VGRPB5;Preisbasis (jeweilige Preise / preisbereinigt);VGRPVU;preisbereinigt, unverkettete Volumenang.(Mrd. EUR);-;jew. ME;STR006;Gütersteuern abzügl. Gütersubventionen\n",
      "81000;Volkswirtschaftliche Gesamtrechnungen des Bundes;JAHR;Jahr;2019;DINSG;Deutschland insgesamt;DG;Deutschland;VGRPB5;Preisbasis (jeweilige Preise / preisbereinigt);VGRPVU;preisbereinigt, unverkettete Volumenang.(Mrd. EUR);3087,923;jew. ME;BWS001;Bruttowertschöpfung\n",
      "81000;Volkswirtschaftliche Gesamtrechnungen des Bundes;JAHR;Jahr;2019;DINSG;Deutschland insgesamt;DG;Deutschland;VGRPB5;Preisbasis (jeweilige Preise / preisbereinigt);VGRPVU;preisbereinigt, unverkettete Volumenang.(Mrd. EUR);-;jew. ME;SUB003;Gütersubventionen\n",
      "81000;Volkswirtschaftliche Gesamtrechnungen des Bundes;JAHR;Jahr;2023;DINSG;Deutschland insgesamt;DG;Deutschland;VGRPB5;Preisbasis (jeweilige Preise / preisbereinigt);VGRPVK;preisbereinigt, verkettete Volumenang. (Mrd. EUR);-;jew. ME;BIP004;Bruttoinlandsprodukt je Einwohner\n",
      "81000;Volkswirtschaftliche Gesamtrechnungen des Bundes;JAHR;Jahr;2023;DINSG;Deutschland insgesamt;DG;Deutschland;VGRPB5;Preisbasis (jeweilige Preise / preisbereinigt);VGRPVK;preisbereinigt, verkettete Volumenang. (Mrd. EUR);-;jew. ME;STR020;Gütersteuern\n",
      "81000;Volkswirtschaftliche Gesamtrechnungen des Bundes;JAHR;Jahr;2023;DINSG;Deutschland insgesamt;DG;Deutschland;VGRPB5;Preisbasis (jeweilige Preise / preisbereinigt);VGRPVK;preisbereinigt, verkettete Volumenang. (Mrd. EUR);-;Prozent;BIP005;Bruttoinlandsprodukt (Veränderung in %)\n",
      "81000;Volkswirtschaftliche Gesamtrechnungen des Bundes;JAHR;Jahr;2023;DINSG;Deutschland insgesamt;DG;Deutschland;VGRPB5;Preisbasis (jeweilige Preise / preisbereinigt);VGRPVK;preisbereinigt, verkettete Volumenang. (Mrd. EUR);3615,547;jew. ME;VGR014;Bruttoinlandsprodukt\n",
      "81000;Volkswirtschaftliche Gesamtrechnungen des Bundes;JAHR;Jahr;2023;DINSG;Deutschland insgesamt;DG;Deutschland;VGRPB5;Preisbasis (jeweilige Preise / preisbereinigt);VGRPVK;preisbereinigt, verkettete Volumenang. (Mrd. EUR);-;jew. ME;STR006;Gütersteuern abzügl. Gütersubventionen\n",
      "81000;Volkswirtschaftliche Gesamtrechnungen des Bundes;JAHR;Jahr;2023;DINSG;Deutschland insgesamt;DG;Deutschland;VGRPB5;Preisbasis (jeweilige Preise / preisbereinigt);VGRPVK;preisbereinigt, verkettete Volumenang. (Mrd. EUR);3279,669;jew. ME;BWS001;Bruttowertschöpfung\n",
      "81000;Volkswirtschaftliche Gesamtrechnungen des Bundes;JAHR;Jahr;2023;DINSG;Deutschland insgesamt;DG;Deutschland;VGRPB5;Preisbasis (jeweilige Preise / preisbereinigt);VGRPVK;preisbereinigt, verkettete Volumenang. (Mrd. EUR);-;jew. ME;SUB003;Gütersubventionen\n",
      "81000;Volkswirtschaftliche Gesamtrechnungen des Bundes;JAHR;Jahr;2017;DINSG;Deutschland insgesamt;DG;Deutschland;VGRPB5;Preisbasis (jeweilige Preise / preisbereinigt);VGRJPM;in jeweiligen Preisen (Mrd. EUR);40300,000;jew. ME;BIP004;Bruttoinlandsprodukt je Einwohner\n",
      "81000;Volkswirtschaftliche Gesamtrechnungen des Bundes;JAHR;Jahr;2017;DINSG;Deutschland insgesamt;DG;Deutschland;VGRPB5;Preisbasis (jeweilige Preise / preisbereinigt);VGRJPM;in jeweiligen Preisen (Mrd. EUR);355,876;jew. ME;STR020;Gütersteuern\n",
      "81000;Volkswirtschaftliche Gesamtrechnungen des Bundes;JAHR;Jahr;2017;DINSG;Deutschland insgesamt;DG;Deutschland;VGRPB5;Preisbasis (jeweilige Preise / preisbereinigt);VGRJPM;in jeweiligen Preisen (Mrd. EUR);4,2;Prozent;BIP005;Bruttoinlandsprodukt (Veränderung in %)\n",
      "81000;Volkswirtschaftliche Gesamtrechnungen des Bundes;JAHR;Jahr;2017;DINSG;Deutschland insgesamt;DG;Deutschland;VGRPB5;Preisbasis (jeweilige Preise / preisbereinigt);VGRJPM;in jeweiligen Preisen (Mrd. EUR);3331,110;jew. ME;VGR014;Bruttoinlandsprodukt\n",
      "81000;Volkswirtschaftliche Gesamtrechnungen des Bundes;JAHR;Jahr;2017;DINSG;Deutschland insgesamt;DG;Deutschland;VGRPB5;Preisbasis (jeweilige Preise / preisbereinigt);VGRJPM;in jeweiligen Preisen (Mrd. EUR);355,792;jew. ME;STR006;Gütersteuern abzügl. Gütersubventionen\n",
      "81000;Volkswirtschaftliche Gesamtrechnungen des Bundes;JAHR;Jahr;2017;DINSG;Deutschland insgesamt;DG;Deutschland;VGRPB5;Preisbasis (jeweilige Preise / preisbereinigt);VGRJPM;in jeweiligen Preisen (Mrd. EUR);2975,318;jew. ME;BWS001;Bruttowertschöpfung\n",
      "81000;Volkswirtschaftliche Gesamtrechnungen des Bundes;JAHR;Jahr;2017;DINSG;Deutschland insgesamt;DG;Deutschland;VGRPB5;Preisbasis (jeweilige Preise / preisbereinigt);VGRJPM;in jeweiligen Preisen (Mrd. EUR);0,084;jew. ME;SUB003;Gütersubventionen\n",
      "81000;Volkswirtschaftliche Gesamtrechnungen des Bundes;JAHR;Jahr;2016;DINSG;Deutschland insgesamt;DG;Deutschland;VGRPB5;Preisbasis (jeweilige Preise / preisbereinigt);VGRPVU;preisbereinigt, unverkettete Volumenang.(Mrd. EUR);-;jew. ME;BIP004;Bruttoinlandsprodukt je Einwohner\n",
      "81000;Volkswirtschaftliche Gesamtrechnungen des Bundes;JAHR;Jahr;2016;DINSG;Deutschland insgesamt;DG;Deutschland;VGRPB5;Preisbasis (jeweilige Preise / preisbereinigt);VGRPVU;preisbereinigt, unverkettete Volumenang.(Mrd. EUR);-;jew. ME;STR020;Gütersteuern\n",
      "81000;Volkswirtschaftliche Gesamtrechnungen des Bundes;JAHR;Jahr;2016;DINSG;Deutschland insgesamt;DG;Deutschland;VGRPB5;Preisbasis (jeweilige Preise / preisbereinigt);VGRPVU;preisbereinigt, unverkettete Volumenang.(Mrd. EUR);-;Prozent;BIP005;Bruttoinlandsprodukt (Veränderung in %)\n",
      "81000;Volkswirtschaftliche Gesamtrechnungen des Bundes;JAHR;Jahr;2016;DINSG;Deutschland insgesamt;DG;Deutschland;VGRPB5;Preisbasis (jeweilige Preise / preisbereinigt);VGRPVU;preisbereinigt, unverkettete Volumenang.(Mrd. EUR);3156,368;jew. ME;VGR014;Bruttoinlandsprodukt\n",
      "81000;Volkswirtschaftliche Gesamtrechnungen des Bundes;JAHR;Jahr;2016;DINSG;Deutschland insgesamt;DG;Deutschland;VGRPB5;Preisbasis (jeweilige Preise / preisbereinigt);VGRPVU;preisbereinigt, unverkettete Volumenang.(Mrd. EUR);-;jew. ME;STR006;Gütersteuern abzügl. Gütersubventionen\n",
      "81000;Volkswirtschaftliche Gesamtrechnungen des Bundes;JAHR;Jahr;2016;DINSG;Deutschland insgesamt;DG;Deutschland;VGRPB5;Preisbasis (jeweilige Preise / preisbereinigt);VGRPVU;preisbereinigt, unverkettete Volumenang.(Mrd. EUR);2817,555;jew. ME;BWS001;Bruttowertschöpfung\n",
      "81000;Volkswirtschaftliche Gesamtrechnungen des Bundes;JAHR;Jahr;2016;DINSG;Deutschland insgesamt;DG;Deutschland;VGRPB5;Preisbasis (jeweilige Preise / preisbereinigt);VGRPVU;preisbereinigt, unverkettete Volumenang.(Mrd. EUR);-;jew. ME;SUB003;Gütersubventionen\n",
      "81000;Volkswirtschaftliche Gesamtrechnungen des Bundes;JAHR;Jahr;2020;DINSG;Deutschland insgesamt;DG;Deutschland;VGRPB5;Preisbasis (jeweilige Preise / preisbereinigt);VGRPVK;preisbereinigt, verkettete Volumenang. (Mrd. EUR);-;jew. ME;BIP004;Bruttoinlandsprodukt je Einwohner\n",
      "81000;Volkswirtschaftliche Gesamtrechnungen des Bundes;JAHR;Jahr;2020;DINSG;Deutschland insgesamt;DG;Deutschland;VGRPB5;Preisbasis (jeweilige Preise / preisbereinigt);VGRPVK;preisbereinigt, verkettete Volumenang. (Mrd. EUR);-;jew. ME;STR020;Gütersteuern\n",
      "81000;Volkswirtschaftliche Gesamtrechnungen des Bundes;JAHR;Jahr;2020;DINSG;Deutschland insgesamt;DG;Deutschland;VGRPB5;Preisbasis (jeweilige Preise / preisbereinigt);VGRPVK;preisbereinigt, verkettete Volumenang. (Mrd. EUR);-;Prozent;BIP005;Bruttoinlandsprodukt (Veränderung in %)\n",
      "81000;Volkswirtschaftliche Gesamtrechnungen des Bundes;JAHR;Jahr;2020;DINSG;Deutschland insgesamt;DG;Deutschland;VGRPB5;Preisbasis (jeweilige Preise / preisbereinigt);VGRPVK;preisbereinigt, verkettete Volumenang. (Mrd. EUR);3449,620;jew. ME;VGR014;Bruttoinlandsprodukt\n",
      "81000;Volkswirtschaftliche Gesamtrechnungen des Bundes;JAHR;Jahr;2020;DINSG;Deutschland insgesamt;DG;Deutschland;VGRPB5;Preisbasis (jeweilige Preise / preisbereinigt);VGRPVK;preisbereinigt, verkettete Volumenang. (Mrd. EUR);-;jew. ME;STR006;Gütersteuern abzügl. Gütersubventionen\n",
      "81000;Volkswirtschaftliche Gesamtrechnungen des Bundes;JAHR;Jahr;2020;DINSG;Deutschland insgesamt;DG;Deutschland;VGRPB5;Preisbasis (jeweilige Preise / preisbereinigt);VGRPVK;preisbereinigt, verkettete Volumenang. (Mrd. EUR);3098,997;jew. ME;BWS001;Bruttowertschöpfung\n",
      "81000;Volkswirtschaftliche Gesamtrechnungen des Bundes;JAHR;Jahr;2020;DINSG;Deutschland insgesamt;DG;Deutschland;VGRPB5;Preisbasis (jeweilige Preise / preisbereinigt);VGRPVK;preisbereinigt, verkettete Volumenang. (Mrd. EUR);-;jew. ME;SUB003;Gütersubventionen\n",
      "81000;Volkswirtschaftliche Gesamtrechnungen des Bundes;JAHR;Jahr;2019;DINSG;Deutschland insgesamt;DG;Deutschland;VGRPB5;Preisbasis (jeweilige Preise / preisbereinigt);VGRPVK;preisbereinigt, verkettete Volumenang. (Mrd. EUR);-;jew. ME;BIP004;Bruttoinlandsprodukt je Einwohner\n",
      "81000;Volkswirtschaftliche Gesamtrechnungen des Bundes;JAHR;Jahr;2019;DINSG;Deutschland insgesamt;DG;Deutschland;VGRPB5;Preisbasis (jeweilige Preise / preisbereinigt);VGRPVK;preisbereinigt, verkettete Volumenang. (Mrd. EUR);-;jew. ME;STR020;Gütersteuern\n",
      "81000;Volkswirtschaftliche Gesamtrechnungen des Bundes;JAHR;Jahr;2019;DINSG;Deutschland insgesamt;DG;Deutschland;VGRPB5;Preisbasis (jeweilige Preise / preisbereinigt);VGRPVK;preisbereinigt, verkettete Volumenang. (Mrd. EUR);-;Prozent;BIP005;Bruttoinlandsprodukt (Veränderung in %)\n",
      "81000;Volkswirtschaftliche Gesamtrechnungen des Bundes;JAHR;Jahr;2019;DINSG;Deutschland insgesamt;DG;Deutschland;VGRPB5;Preisbasis (jeweilige Preise / preisbereinigt);VGRPVK;preisbereinigt, verkettete Volumenang. (Mrd. EUR);3596,919;jew. ME;VGR014;Bruttoinlandsprodukt\n",
      "81000;Volkswirtschaftliche Gesamtrechnungen des Bundes;JAHR;Jahr;2019;DINSG;Deutschland insgesamt;DG;Deutschland;VGRPB5;Preisbasis (jeweilige Preise / preisbereinigt);VGRPVK;preisbereinigt, verkettete Volumenang. (Mrd. EUR);-;jew. ME;STR006;Gütersteuern abzügl. Gütersubventionen\n",
      "81000;Volkswirtschaftliche Gesamtrechnungen des Bundes;JAHR;Jahr;2019;DINSG;Deutschland insgesamt;DG;Deutschland;VGRPB5;Preisbasis (jeweilige Preise / preisbereinigt);VGRPVK;preisbereinigt, verkettete Volumenang. (Mrd. EUR);3237,832;jew. ME;BWS001;Bruttowertschöpfung\n",
      "81000;Volkswirtschaftliche Gesamtrechnungen des Bundes;JAHR;Jahr;2019;DINSG;Deutschland insgesamt;DG;Deutschland;VGRPB5;Preisbasis (jeweilige Preise / preisbereinigt);VGRPVK;preisbereinigt, verkettete Volumenang. (Mrd. EUR);-;jew. ME;SUB003;Gütersubventionen\n",
      "81000;Volkswirtschaftliche Gesamtrechnungen des Bundes;JAHR;Jahr;2015;DINSG;Deutschland insgesamt;DG;Deutschland;VGRPB5;Preisbasis (jeweilige Preise / preisbereinigt);VGRPKM;preisbereinigt, Kettenindex (2020=100);98,930;jew. ME;BIP004;Bruttoinlandsprodukt je Einwohner\n",
      "81000;Volkswirtschaftliche Gesamtrechnungen des Bundes;JAHR;Jahr;2015;DINSG;Deutschland insgesamt;DG;Deutschland;VGRPB5;Preisbasis (jeweilige Preise / preisbereinigt);VGRPKM;preisbereinigt, Kettenindex (2020=100);95,290;jew. ME;STR020;Gütersteuern\n",
      "81000;Volkswirtschaftliche Gesamtrechnungen des Bundes;JAHR;Jahr;2015;DINSG;Deutschland insgesamt;DG;Deutschland;VGRPB5;Preisbasis (jeweilige Preise / preisbereinigt);VGRPKM;preisbereinigt, Kettenindex (2020=100);1,7;Prozent;BIP005;Bruttoinlandsprodukt (Veränderung in %)\n",
      "81000;Volkswirtschaftliche Gesamtrechnungen des Bundes;JAHR;Jahr;2015;DINSG;Deutschland insgesamt;DG;Deutschland;VGRPB5;Preisbasis (jeweilige Preise / preisbereinigt);VGRPKM;preisbereinigt, Kettenindex (2020=100);97,180;jew. ME;VGR014;Bruttoinlandsprodukt\n",
      "81000;Volkswirtschaftliche Gesamtrechnungen des Bundes;JAHR;Jahr;2015;DINSG;Deutschland insgesamt;DG;Deutschland;VGRPB5;Preisbasis (jeweilige Preise / preisbereinigt);VGRPKM;preisbereinigt, Kettenindex (2020=100);95,360;jew. ME;STR006;Gütersteuern abzügl. Gütersubventionen\n",
      "81000;Volkswirtschaftliche Gesamtrechnungen des Bundes;JAHR;Jahr;2015;DINSG;Deutschland insgesamt;DG;Deutschland;VGRPB5;Preisbasis (jeweilige Preise / preisbereinigt);VGRPKM;preisbereinigt, Kettenindex (2020=100);97,410;jew. ME;BWS001;Bruttowertschöpfung\n",
      "81000;Volkswirtschaftliche Gesamtrechnungen des Bundes;JAHR;Jahr;2015;DINSG;Deutschland insgesamt;DG;Deutschland;VGRPB5;Preisbasis (jeweilige Preise / preisbereinigt);VGRPKM;preisbereinigt, Kettenindex (2020=100);17,960;jew. ME;SUB003;Gütersubventionen\n",
      "81000;Volkswirtschaftliche Gesamtrechnungen des Bundes;JAHR;Jahr;2021;DINSG;Deutschland insgesamt;DG;Deutschland;VGRPB5;Preisbasis (jeweilige Preise / preisbereinigt);VGRJPM;in jeweiligen Preisen (Mrd. EUR);44190,000;jew. ME;BIP004;Bruttoinlandsprodukt je Einwohner\n",
      "81000;Volkswirtschaftliche Gesamtrechnungen des Bundes;JAHR;Jahr;2021;DINSG;Deutschland insgesamt;DG;Deutschland;VGRPB5;Preisbasis (jeweilige Preise / preisbereinigt);VGRJPM;in jeweiligen Preisen (Mrd. EUR);391,305;jew. ME;STR020;Gütersteuern\n",
      "81000;Volkswirtschaftliche Gesamtrechnungen des Bundes;JAHR;Jahr;2021;DINSG;Deutschland insgesamt;DG;Deutschland;VGRPB5;Preisbasis (jeweilige Preise / preisbereinigt);VGRJPM;in jeweiligen Preisen (Mrd. EUR);6,6;Prozent;BIP005;Bruttoinlandsprodukt (Veränderung in %)\n",
      "81000;Volkswirtschaftliche Gesamtrechnungen des Bundes;JAHR;Jahr;2021;DINSG;Deutschland insgesamt;DG;Deutschland;VGRPB5;Preisbasis (jeweilige Preise / preisbereinigt);VGRJPM;in jeweiligen Preisen (Mrd. EUR);3676,460;jew. ME;VGR014;Bruttoinlandsprodukt\n",
      "81000;Volkswirtschaftliche Gesamtrechnungen des Bundes;JAHR;Jahr;2021;DINSG;Deutschland insgesamt;DG;Deutschland;VGRPB5;Preisbasis (jeweilige Preise / preisbereinigt);VGRJPM;in jeweiligen Preisen (Mrd. EUR);388,217;jew. ME;STR006;Gütersteuern abzügl. Gütersubventionen\n",
      "81000;Volkswirtschaftliche Gesamtrechnungen des Bundes;JAHR;Jahr;2021;DINSG;Deutschland insgesamt;DG;Deutschland;VGRPB5;Preisbasis (jeweilige Preise / preisbereinigt);VGRJPM;in jeweiligen Preisen (Mrd. EUR);3288,243;jew. ME;BWS001;Bruttowertschöpfung\n",
      "81000;Volkswirtschaftliche Gesamtrechnungen des Bundes;JAHR;Jahr;2021;DINSG;Deutschland insgesamt;DG;Deutschland;VGRPB5;Preisbasis (jeweilige Preise / preisbereinigt);VGRJPM;in jeweiligen Preisen (Mrd. EUR);3,088;jew. ME;SUB003;Gütersubventionen\n",
      "81000;Volkswirtschaftliche Gesamtrechnungen des Bundes;JAHR;Jahr;2022;DINSG;Deutschland insgesamt;DG;Deutschland;VGRPB5;Preisbasis (jeweilige Preise / preisbereinigt);VGRJPM;in jeweiligen Preisen (Mrd. EUR);47183,000;jew. ME;BIP004;Bruttoinlandsprodukt je Einwohner\n",
      "81000;Volkswirtschaftliche Gesamtrechnungen des Bundes;JAHR;Jahr;2022;DINSG;Deutschland insgesamt;DG;Deutschland;VGRPB5;Preisbasis (jeweilige Preise / preisbereinigt);VGRJPM;in jeweiligen Preisen (Mrd. EUR);402,996;jew. ME;STR020;Gütersteuern\n",
      "81000;Volkswirtschaftliche Gesamtrechnungen des Bundes;JAHR;Jahr;2022;DINSG;Deutschland insgesamt;DG;Deutschland;VGRPB5;Preisbasis (jeweilige Preise / preisbereinigt);VGRJPM;in jeweiligen Preisen (Mrd. EUR);7,5;Prozent;BIP005;Bruttoinlandsprodukt (Veränderung in %)\n",
      "81000;Volkswirtschaftliche Gesamtrechnungen des Bundes;JAHR;Jahr;2022;DINSG;Deutschland insgesamt;DG;Deutschland;VGRPB5;Preisbasis (jeweilige Preise / preisbereinigt);VGRJPM;in jeweiligen Preisen (Mrd. EUR);3953,850;jew. ME;VGR014;Bruttoinlandsprodukt\n",
      "81000;Volkswirtschaftliche Gesamtrechnungen des Bundes;JAHR;Jahr;2022;DINSG;Deutschland insgesamt;DG;Deutschland;VGRPB5;Preisbasis (jeweilige Preise / preisbereinigt);VGRJPM;in jeweiligen Preisen (Mrd. EUR);391,028;jew. ME;STR006;Gütersteuern abzügl. Gütersubventionen\n",
      "81000;Volkswirtschaftliche Gesamtrechnungen des Bundes;JAHR;Jahr;2022;DINSG;Deutschland insgesamt;DG;Deutschland;VGRPB5;Preisbasis (jeweilige Preise / preisbereinigt);VGRJPM;in jeweiligen Preisen (Mrd. EUR);3562,822;jew. ME;BWS001;Bruttowertschöpfung\n",
      "81000;Volkswirtschaftliche Gesamtrechnungen des Bundes;JAHR;Jahr;2022;DINSG;Deutschland insgesamt;DG;Deutschland;VGRPB5;Preisbasis (jeweilige Preise / preisbereinigt);VGRJPM;in jeweiligen Preisen (Mrd. EUR);11,968;jew. ME;SUB003;Gütersubventionen\n",
      "81000;Volkswirtschaftliche Gesamtrechnungen des Bundes;JAHR;Jahr;2023;DINSG;Deutschland insgesamt;DG;Deutschland;VGRPB5;Preisbasis (jeweilige Preise / preisbereinigt);VGRPKM;preisbereinigt, Kettenindex (2020=100);103,130;jew. ME;BIP004;Bruttoinlandsprodukt je Einwohner\n",
      "81000;Volkswirtschaftliche Gesamtrechnungen des Bundes;JAHR;Jahr;2023;DINSG;Deutschland insgesamt;DG;Deutschland;VGRPB5;Preisbasis (jeweilige Preise / preisbereinigt);VGRPKM;preisbereinigt, Kettenindex (2020=100);97,000;jew. ME;STR020;Gütersteuern\n",
      "81000;Volkswirtschaftliche Gesamtrechnungen des Bundes;JAHR;Jahr;2023;DINSG;Deutschland insgesamt;DG;Deutschland;VGRPB5;Preisbasis (jeweilige Preise / preisbereinigt);VGRPKM;preisbereinigt, Kettenindex (2020=100);-0,3;Prozent;BIP005;Bruttoinlandsprodukt (Veränderung in %)\n",
      "81000;Volkswirtschaftliche Gesamtrechnungen des Bundes;JAHR;Jahr;2023;DINSG;Deutschland insgesamt;DG;Deutschland;VGRPB5;Preisbasis (jeweilige Preise / preisbereinigt);VGRPKM;preisbereinigt, Kettenindex (2020=100);104,810;jew. ME;VGR014;Bruttoinlandsprodukt\n",
      "81000;Volkswirtschaftliche Gesamtrechnungen des Bundes;JAHR;Jahr;2023;DINSG;Deutschland insgesamt;DG;Deutschland;VGRPB5;Preisbasis (jeweilige Preise / preisbereinigt);VGRPKM;preisbereinigt, Kettenindex (2020=100);95,990;jew. ME;STR006;Gütersteuern abzügl. Gütersubventionen\n",
      "81000;Volkswirtschaftliche Gesamtrechnungen des Bundes;JAHR;Jahr;2023;DINSG;Deutschland insgesamt;DG;Deutschland;VGRPB5;Preisbasis (jeweilige Preise / preisbereinigt);VGRPKM;preisbereinigt, Kettenindex (2020=100);105,830;jew. ME;BWS001;Bruttowertschöpfung\n",
      "81000;Volkswirtschaftliche Gesamtrechnungen des Bundes;JAHR;Jahr;2023;DINSG;Deutschland insgesamt;DG;Deutschland;VGRPB5;Preisbasis (jeweilige Preise / preisbereinigt);VGRPKM;preisbereinigt, Kettenindex (2020=100);548,520;jew. ME;SUB003;Gütersubventionen\n",
      "81000;Volkswirtschaftliche Gesamtrechnungen des Bundes;JAHR;Jahr;2024;DINSG;Deutschland insgesamt;DG;Deutschland;VGRPB5;Preisbasis (jeweilige Preise / preisbereinigt);VGRPVU;preisbereinigt, unverkettete Volumenang.(Mrd. EUR);-;jew. ME;BIP004;Bruttoinlandsprodukt je Einwohner\n",
      "81000;Volkswirtschaftliche Gesamtrechnungen des Bundes;JAHR;Jahr;2024;DINSG;Deutschland insgesamt;DG;Deutschland;VGRPB5;Preisbasis (jeweilige Preise / preisbereinigt);VGRPVU;preisbereinigt, unverkettete Volumenang.(Mrd. EUR);-;jew. ME;STR020;Gütersteuern\n",
      "81000;Volkswirtschaftliche Gesamtrechnungen des Bundes;JAHR;Jahr;2024;DINSG;Deutschland insgesamt;DG;Deutschland;VGRPB5;Preisbasis (jeweilige Preise / preisbereinigt);VGRPVU;preisbereinigt, unverkettete Volumenang.(Mrd. EUR);-;Prozent;BIP005;Bruttoinlandsprodukt (Veränderung in %)\n",
      "81000;Volkswirtschaftliche Gesamtrechnungen des Bundes;JAHR;Jahr;2024;DINSG;Deutschland insgesamt;DG;Deutschland;VGRPB5;Preisbasis (jeweilige Preise / preisbereinigt);VGRPVU;preisbereinigt, unverkettete Volumenang.(Mrd. EUR);4175,831;jew. ME;VGR014;Bruttoinlandsprodukt\n",
      "81000;Volkswirtschaftliche Gesamtrechnungen des Bundes;JAHR;Jahr;2024;DINSG;Deutschland insgesamt;DG;Deutschland;VGRPB5;Preisbasis (jeweilige Preise / preisbereinigt);VGRPVU;preisbereinigt, unverkettete Volumenang.(Mrd. EUR);-;jew. ME;STR006;Gütersteuern abzügl. Gütersubventionen\n",
      "81000;Volkswirtschaftliche Gesamtrechnungen des Bundes;JAHR;Jahr;2024;DINSG;Deutschland insgesamt;DG;Deutschland;VGRPB5;Preisbasis (jeweilige Preise / preisbereinigt);VGRPVU;preisbereinigt, unverkettete Volumenang.(Mrd. EUR);3810,379;jew. ME;BWS001;Bruttowertschöpfung\n",
      "81000;Volkswirtschaftliche Gesamtrechnungen des Bundes;JAHR;Jahr;2024;DINSG;Deutschland insgesamt;DG;Deutschland;VGRPB5;Preisbasis (jeweilige Preise / preisbereinigt);VGRPVU;preisbereinigt, unverkettete Volumenang.(Mrd. EUR);-;jew. ME;SUB003;Gütersubventionen\n",
      "81000;Volkswirtschaftliche Gesamtrechnungen des Bundes;JAHR;Jahr;2019;DINSG;Deutschland insgesamt;DG;Deutschland;VGRPB5;Preisbasis (jeweilige Preise / preisbereinigt);VGRJPM;in jeweiligen Preisen (Mrd. EUR);42541,000;jew. ME;BIP004;Bruttoinlandsprodukt je Einwohner\n",
      "81000;Volkswirtschaftliche Gesamtrechnungen des Bundes;JAHR;Jahr;2019;DINSG;Deutschland insgesamt;DG;Deutschland;VGRPB5;Preisbasis (jeweilige Preise / preisbereinigt);VGRJPM;in jeweiligen Preisen (Mrd. EUR);375,707;jew. ME;STR020;Gütersteuern\n",
      "81000;Volkswirtschaftliche Gesamtrechnungen des Bundes;JAHR;Jahr;2019;DINSG;Deutschland insgesamt;DG;Deutschland;VGRPB5;Preisbasis (jeweilige Preise / preisbereinigt);VGRJPM;in jeweiligen Preisen (Mrd. EUR);3,0;Prozent;BIP005;Bruttoinlandsprodukt (Veränderung in %)\n",
      "81000;Volkswirtschaftliche Gesamtrechnungen des Bundes;JAHR;Jahr;2019;DINSG;Deutschland insgesamt;DG;Deutschland;VGRPB5;Preisbasis (jeweilige Preise / preisbereinigt);VGRJPM;in jeweiligen Preisen (Mrd. EUR);3534,880;jew. ME;VGR014;Bruttoinlandsprodukt\n",
      "81000;Volkswirtschaftliche Gesamtrechnungen des Bundes;JAHR;Jahr;2019;DINSG;Deutschland insgesamt;DG;Deutschland;VGRPB5;Preisbasis (jeweilige Preise / preisbereinigt);VGRJPM;in jeweiligen Preisen (Mrd. EUR);375,607;jew. ME;STR006;Gütersteuern abzügl. Gütersubventionen\n",
      "81000;Volkswirtschaftliche Gesamtrechnungen des Bundes;JAHR;Jahr;2019;DINSG;Deutschland insgesamt;DG;Deutschland;VGRPB5;Preisbasis (jeweilige Preise / preisbereinigt);VGRJPM;in jeweiligen Preisen (Mrd. EUR);3159,273;jew. ME;BWS001;Bruttowertschöpfung\n",
      "81000;Volkswirtschaftliche Gesamtrechnungen des Bundes;JAHR;Jahr;2019;DINSG;Deutschland insgesamt;DG;Deutschland;VGRPB5;Preisbasis (jeweilige Preise / preisbereinigt);VGRJPM;in jeweiligen Preisen (Mrd. EUR);0,100;jew. ME;SUB003;Gütersubventionen\n",
      "81000;Volkswirtschaftliche Gesamtrechnungen des Bundes;JAHR;Jahr;2018;DINSG;Deutschland insgesamt;DG;Deutschland;VGRPB5;Preisbasis (jeweilige Preise / preisbereinigt);VGRPVK;preisbereinigt, verkettete Volumenang. (Mrd. EUR);-;jew. ME;BIP004;Bruttoinlandsprodukt je Einwohner\n",
      "81000;Volkswirtschaftliche Gesamtrechnungen des Bundes;JAHR;Jahr;2018;DINSG;Deutschland insgesamt;DG;Deutschland;VGRPB5;Preisbasis (jeweilige Preise / preisbereinigt);VGRPVK;preisbereinigt, verkettete Volumenang. (Mrd. EUR);-;jew. ME;STR020;Gütersteuern\n",
      "81000;Volkswirtschaftliche Gesamtrechnungen des Bundes;JAHR;Jahr;2018;DINSG;Deutschland insgesamt;DG;Deutschland;VGRPB5;Preisbasis (jeweilige Preise / preisbereinigt);VGRPVK;preisbereinigt, verkettete Volumenang. (Mrd. EUR);-;Prozent;BIP005;Bruttoinlandsprodukt (Veränderung in %)\n",
      "81000;Volkswirtschaftliche Gesamtrechnungen des Bundes;JAHR;Jahr;2018;DINSG;Deutschland insgesamt;DG;Deutschland;VGRPB5;Preisbasis (jeweilige Preise / preisbereinigt);VGRPVK;preisbereinigt, verkettete Volumenang. (Mrd. EUR);3561,733;jew. ME;VGR014;Bruttoinlandsprodukt\n",
      "81000;Volkswirtschaftliche Gesamtrechnungen des Bundes;JAHR;Jahr;2018;DINSG;Deutschland insgesamt;DG;Deutschland;VGRPB5;Preisbasis (jeweilige Preise / preisbereinigt);VGRPVK;preisbereinigt, verkettete Volumenang. (Mrd. EUR);-;jew. ME;STR006;Gütersteuern abzügl. Gütersubventionen\n",
      "81000;Volkswirtschaftliche Gesamtrechnungen des Bundes;JAHR;Jahr;2018;DINSG;Deutschland insgesamt;DG;Deutschland;VGRPB5;Preisbasis (jeweilige Preise / preisbereinigt);VGRPVK;preisbereinigt, verkettete Volumenang. (Mrd. EUR);3215,209;jew. ME;BWS001;Bruttowertschöpfung\n",
      "81000;Volkswirtschaftliche Gesamtrechnungen des Bundes;JAHR;Jahr;2018;DINSG;Deutschland insgesamt;DG;Deutschland;VGRPB5;Preisbasis (jeweilige Preise / preisbereinigt);VGRPVK;preisbereinigt, verkettete Volumenang. (Mrd. EUR);-;jew. ME;SUB003;Gütersubventionen\n",
      "81000;Volkswirtschaftliche Gesamtrechnungen des Bundes;JAHR;Jahr;2015;DINSG;Deutschland insgesamt;DG;Deutschland;VGRPB5;Preisbasis (jeweilige Preise / preisbereinigt);VGRPVK;preisbereinigt, verkettete Volumenang. (Mrd. EUR);-;jew. ME;BIP004;Bruttoinlandsprodukt je Einwohner\n",
      "81000;Volkswirtschaftliche Gesamtrechnungen des Bundes;JAHR;Jahr;2015;DINSG;Deutschland insgesamt;DG;Deutschland;VGRPB5;Preisbasis (jeweilige Preise / preisbereinigt);VGRPVK;preisbereinigt, verkettete Volumenang. (Mrd. EUR);-;jew. ME;STR020;Gütersteuern\n",
      "81000;Volkswirtschaftliche Gesamtrechnungen des Bundes;JAHR;Jahr;2015;DINSG;Deutschland insgesamt;DG;Deutschland;VGRPB5;Preisbasis (jeweilige Preise / preisbereinigt);VGRPVK;preisbereinigt, verkettete Volumenang. (Mrd. EUR);-;Prozent;BIP005;Bruttoinlandsprodukt (Veränderung in %)\n",
      "81000;Volkswirtschaftliche Gesamtrechnungen des Bundes;JAHR;Jahr;2015;DINSG;Deutschland insgesamt;DG;Deutschland;VGRPB5;Preisbasis (jeweilige Preise / preisbereinigt);VGRPVK;preisbereinigt, verkettete Volumenang. (Mrd. EUR);3352,341;jew. ME;VGR014;Bruttoinlandsprodukt\n",
      "81000;Volkswirtschaftliche Gesamtrechnungen des Bundes;JAHR;Jahr;2015;DINSG;Deutschland insgesamt;DG;Deutschland;VGRPB5;Preisbasis (jeweilige Preise / preisbereinigt);VGRPVK;preisbereinigt, verkettete Volumenang. (Mrd. EUR);-;jew. ME;STR006;Gütersteuern abzügl. Gütersubventionen\n",
      "81000;Volkswirtschaftliche Gesamtrechnungen des Bundes;JAHR;Jahr;2015;DINSG;Deutschland insgesamt;DG;Deutschland;VGRPB5;Preisbasis (jeweilige Preise / preisbereinigt);VGRPVK;preisbereinigt, verkettete Volumenang. (Mrd. EUR);3018,733;jew. ME;BWS001;Bruttowertschöpfung\n",
      "81000;Volkswirtschaftliche Gesamtrechnungen des Bundes;JAHR;Jahr;2015;DINSG;Deutschland insgesamt;DG;Deutschland;VGRPB5;Preisbasis (jeweilige Preise / preisbereinigt);VGRPVK;preisbereinigt, verkettete Volumenang. (Mrd. EUR);-;jew. ME;SUB003;Gütersubventionen\n",
      "81000;Volkswirtschaftliche Gesamtrechnungen des Bundes;JAHR;Jahr;2021;DINSG;Deutschland insgesamt;DG;Deutschland;VGRPB5;Preisbasis (jeweilige Preise / preisbereinigt);VGRPVK;preisbereinigt, verkettete Volumenang. (Mrd. EUR);-;jew. ME;BIP004;Bruttoinlandsprodukt je Einwohner\n",
      "81000;Volkswirtschaftliche Gesamtrechnungen des Bundes;JAHR;Jahr;2021;DINSG;Deutschland insgesamt;DG;Deutschland;VGRPB5;Preisbasis (jeweilige Preise / preisbereinigt);VGRPVK;preisbereinigt, verkettete Volumenang. (Mrd. EUR);-;jew. ME;STR020;Gütersteuern\n",
      "81000;Volkswirtschaftliche Gesamtrechnungen des Bundes;JAHR;Jahr;2021;DINSG;Deutschland insgesamt;DG;Deutschland;VGRPB5;Preisbasis (jeweilige Preise / preisbereinigt);VGRPVK;preisbereinigt, verkettete Volumenang. (Mrd. EUR);-;Prozent;BIP005;Bruttoinlandsprodukt (Veränderung in %)\n",
      "81000;Volkswirtschaftliche Gesamtrechnungen des Bundes;JAHR;Jahr;2021;DINSG;Deutschland insgesamt;DG;Deutschland;VGRPB5;Preisbasis (jeweilige Preise / preisbereinigt);VGRPVK;preisbereinigt, verkettete Volumenang. (Mrd. EUR);3576,221;jew. ME;VGR014;Bruttoinlandsprodukt\n",
      "81000;Volkswirtschaftliche Gesamtrechnungen des Bundes;JAHR;Jahr;2021;DINSG;Deutschland insgesamt;DG;Deutschland;VGRPB5;Preisbasis (jeweilige Preise / preisbereinigt);VGRPVK;preisbereinigt, verkettete Volumenang. (Mrd. EUR);-;jew. ME;STR006;Gütersteuern abzügl. Gütersubventionen\n",
      "81000;Volkswirtschaftliche Gesamtrechnungen des Bundes;JAHR;Jahr;2021;DINSG;Deutschland insgesamt;DG;Deutschland;VGRPB5;Preisbasis (jeweilige Preise / preisbereinigt);VGRPVK;preisbereinigt, verkettete Volumenang. (Mrd. EUR);3216,759;jew. ME;BWS001;Bruttowertschöpfung\n",
      "81000;Volkswirtschaftliche Gesamtrechnungen des Bundes;JAHR;Jahr;2021;DINSG;Deutschland insgesamt;DG;Deutschland;VGRPB5;Preisbasis (jeweilige Preise / preisbereinigt);VGRPVK;preisbereinigt, verkettete Volumenang. (Mrd. EUR);-;jew. ME;SUB003;Gütersubventionen\n",
      "81000;Volkswirtschaftliche Gesamtrechnungen des Bundes;JAHR;Jahr;2017;DINSG;Deutschland insgesamt;DG;Deutschland;VGRPB5;Preisbasis (jeweilige Preise / preisbereinigt);VGRPKM;preisbereinigt, Kettenindex (2020=100);102,740;jew. ME;BIP004;Bruttoinlandsprodukt je Einwohner\n",
      "81000;Volkswirtschaftliche Gesamtrechnungen des Bundes;JAHR;Jahr;2017;DINSG;Deutschland insgesamt;DG;Deutschland;VGRPB5;Preisbasis (jeweilige Preise / preisbereinigt);VGRPKM;preisbereinigt, Kettenindex (2020=100);98,670;jew. ME;STR020;Gütersteuern\n",
      "81000;Volkswirtschaftliche Gesamtrechnungen des Bundes;JAHR;Jahr;2017;DINSG;Deutschland insgesamt;DG;Deutschland;VGRPB5;Preisbasis (jeweilige Preise / preisbereinigt);VGRPKM;preisbereinigt, Kettenindex (2020=100);2,7;Prozent;BIP005;Bruttoinlandsprodukt (Veränderung in %)\n",
      "81000;Volkswirtschaftliche Gesamtrechnungen des Bundes;JAHR;Jahr;2017;DINSG;Deutschland insgesamt;DG;Deutschland;VGRPB5;Preisbasis (jeweilige Preise / preisbereinigt);VGRPKM;preisbereinigt, Kettenindex (2020=100);102,110;jew. ME;VGR014;Bruttoinlandsprodukt\n",
      "81000;Volkswirtschaftliche Gesamtrechnungen des Bundes;JAHR;Jahr;2017;DINSG;Deutschland insgesamt;DG;Deutschland;VGRPB5;Preisbasis (jeweilige Preise / preisbereinigt);VGRPKM;preisbereinigt, Kettenindex (2020=100);98,730;jew. ME;STR006;Gütersteuern abzügl. Gütersubventionen\n",
      "81000;Volkswirtschaftliche Gesamtrechnungen des Bundes;JAHR;Jahr;2017;DINSG;Deutschland insgesamt;DG;Deutschland;VGRPB5;Preisbasis (jeweilige Preise / preisbereinigt);VGRPKM;preisbereinigt, Kettenindex (2020=100);102,520;jew. ME;BWS001;Bruttowertschöpfung\n",
      "81000;Volkswirtschaftliche Gesamtrechnungen des Bundes;JAHR;Jahr;2017;DINSG;Deutschland insgesamt;DG;Deutschland;VGRPB5;Preisbasis (jeweilige Preise / preisbereinigt);VGRPKM;preisbereinigt, Kettenindex (2020=100);25,610;jew. ME;SUB003;Gütersubventionen\n",
      "81000;Volkswirtschaftliche Gesamtrechnungen des Bundes;JAHR;Jahr;2018;DINSG;Deutschland insgesamt;DG;Deutschland;VGRPB5;Preisbasis (jeweilige Preise / preisbereinigt);VGRPVU;preisbereinigt, unverkettete Volumenang.(Mrd. EUR);-;jew. ME;BIP004;Bruttoinlandsprodukt je Einwohner\n",
      "81000;Volkswirtschaftliche Gesamtrechnungen des Bundes;JAHR;Jahr;2018;DINSG;Deutschland insgesamt;DG;Deutschland;VGRPB5;Preisbasis (jeweilige Preise / preisbereinigt);VGRPVU;preisbereinigt, unverkettete Volumenang.(Mrd. EUR);-;jew. ME;STR020;Gütersteuern\n",
      "81000;Volkswirtschaftliche Gesamtrechnungen des Bundes;JAHR;Jahr;2018;DINSG;Deutschland insgesamt;DG;Deutschland;VGRPB5;Preisbasis (jeweilige Preise / preisbereinigt);VGRPVU;preisbereinigt, unverkettete Volumenang.(Mrd. EUR);-;Prozent;BIP005;Bruttoinlandsprodukt (Veränderung in %)\n",
      "81000;Volkswirtschaftliche Gesamtrechnungen des Bundes;JAHR;Jahr;2018;DINSG;Deutschland insgesamt;DG;Deutschland;VGRPB5;Preisbasis (jeweilige Preise / preisbereinigt);VGRPVU;preisbereinigt, unverkettete Volumenang.(Mrd. EUR);3368,339;jew. ME;VGR014;Bruttoinlandsprodukt\n",
      "81000;Volkswirtschaftliche Gesamtrechnungen des Bundes;JAHR;Jahr;2018;DINSG;Deutschland insgesamt;DG;Deutschland;VGRPB5;Preisbasis (jeweilige Preise / preisbereinigt);VGRPVU;preisbereinigt, unverkettete Volumenang.(Mrd. EUR);-;jew. ME;STR006;Gütersteuern abzügl. Gütersubventionen\n",
      "81000;Volkswirtschaftliche Gesamtrechnungen des Bundes;JAHR;Jahr;2018;DINSG;Deutschland insgesamt;DG;Deutschland;VGRPB5;Preisbasis (jeweilige Preise / preisbereinigt);VGRPVU;preisbereinigt, unverkettete Volumenang.(Mrd. EUR);3010,957;jew. ME;BWS001;Bruttowertschöpfung\n",
      "81000;Volkswirtschaftliche Gesamtrechnungen des Bundes;JAHR;Jahr;2018;DINSG;Deutschland insgesamt;DG;Deutschland;VGRPB5;Preisbasis (jeweilige Preise / preisbereinigt);VGRPVU;preisbereinigt, unverkettete Volumenang.(Mrd. EUR);-;jew. ME;SUB003;Gütersubventionen\n",
      "81000;Volkswirtschaftliche Gesamtrechnungen des Bundes;JAHR;Jahr;2015;DINSG;Deutschland insgesamt;DG;Deutschland;VGRPB5;Preisbasis (jeweilige Preise / preisbereinigt);VGRPVU;preisbereinigt, unverkettete Volumenang.(Mrd. EUR);-;jew. ME;BIP004;Bruttoinlandsprodukt je Einwohner\n",
      "81000;Volkswirtschaftliche Gesamtrechnungen des Bundes;JAHR;Jahr;2015;DINSG;Deutschland insgesamt;DG;Deutschland;VGRPB5;Preisbasis (jeweilige Preise / preisbereinigt);VGRPVU;preisbereinigt, unverkettete Volumenang.(Mrd. EUR);-;jew. ME;STR020;Gütersteuern\n",
      "81000;Volkswirtschaftliche Gesamtrechnungen des Bundes;JAHR;Jahr;2015;DINSG;Deutschland insgesamt;DG;Deutschland;VGRPB5;Preisbasis (jeweilige Preise / preisbereinigt);VGRPVU;preisbereinigt, unverkettete Volumenang.(Mrd. EUR);-;Prozent;BIP005;Bruttoinlandsprodukt (Veränderung in %)\n",
      "81000;Volkswirtschaftliche Gesamtrechnungen des Bundes;JAHR;Jahr;2015;DINSG;Deutschland insgesamt;DG;Deutschland;VGRPB5;Preisbasis (jeweilige Preise / preisbereinigt);VGRPVU;preisbereinigt, unverkettete Volumenang.(Mrd. EUR);3034,516;jew. ME;VGR014;Bruttoinlandsprodukt\n",
      "81000;Volkswirtschaftliche Gesamtrechnungen des Bundes;JAHR;Jahr;2015;DINSG;Deutschland insgesamt;DG;Deutschland;VGRPB5;Preisbasis (jeweilige Preise / preisbereinigt);VGRPVU;preisbereinigt, unverkettete Volumenang.(Mrd. EUR);-;jew. ME;STR006;Gütersteuern abzügl. Gütersubventionen\n",
      "81000;Volkswirtschaftliche Gesamtrechnungen des Bundes;JAHR;Jahr;2015;DINSG;Deutschland insgesamt;DG;Deutschland;VGRPB5;Preisbasis (jeweilige Preise / preisbereinigt);VGRPVU;preisbereinigt, unverkettete Volumenang.(Mrd. EUR);2700,857;jew. ME;BWS001;Bruttowertschöpfung\n",
      "81000;Volkswirtschaftliche Gesamtrechnungen des Bundes;JAHR;Jahr;2015;DINSG;Deutschland insgesamt;DG;Deutschland;VGRPB5;Preisbasis (jeweilige Preise / preisbereinigt);VGRPVU;preisbereinigt, unverkettete Volumenang.(Mrd. EUR);-;jew. ME;SUB003;Gütersubventionen\n",
      "81000;Volkswirtschaftliche Gesamtrechnungen des Bundes;JAHR;Jahr;2019;DINSG;Deutschland insgesamt;DG;Deutschland;VGRPB5;Preisbasis (jeweilige Preise / preisbereinigt);VGRPKM;preisbereinigt, Kettenindex (2020=100);104,350;jew. ME;BIP004;Bruttoinlandsprodukt je Einwohner\n",
      "81000;Volkswirtschaftliche Gesamtrechnungen des Bundes;JAHR;Jahr;2019;DINSG;Deutschland insgesamt;DG;Deutschland;VGRPB5;Preisbasis (jeweilige Preise / preisbereinigt);VGRPKM;preisbereinigt, Kettenindex (2020=100);102,510;jew. ME;STR020;Gütersteuern\n",
      "81000;Volkswirtschaftliche Gesamtrechnungen des Bundes;JAHR;Jahr;2019;DINSG;Deutschland insgesamt;DG;Deutschland;VGRPB5;Preisbasis (jeweilige Preise / preisbereinigt);VGRPKM;preisbereinigt, Kettenindex (2020=100);1,0;Prozent;BIP005;Bruttoinlandsprodukt (Veränderung in %)\n",
      "81000;Volkswirtschaftliche Gesamtrechnungen des Bundes;JAHR;Jahr;2019;DINSG;Deutschland insgesamt;DG;Deutschland;VGRPB5;Preisbasis (jeweilige Preise / preisbereinigt);VGRPKM;preisbereinigt, Kettenindex (2020=100);104,270;jew. ME;VGR014;Bruttoinlandsprodukt\n",
      "81000;Volkswirtschaftliche Gesamtrechnungen des Bundes;JAHR;Jahr;2019;DINSG;Deutschland insgesamt;DG;Deutschland;VGRPB5;Preisbasis (jeweilige Preise / preisbereinigt);VGRPKM;preisbereinigt, Kettenindex (2020=100);102,570;jew. ME;STR006;Gütersteuern abzügl. Gütersubventionen\n",
      "81000;Volkswirtschaftliche Gesamtrechnungen des Bundes;JAHR;Jahr;2019;DINSG;Deutschland insgesamt;DG;Deutschland;VGRPB5;Preisbasis (jeweilige Preise / preisbereinigt);VGRPKM;preisbereinigt, Kettenindex (2020=100);104,480;jew. ME;BWS001;Bruttowertschöpfung\n",
      "81000;Volkswirtschaftliche Gesamtrechnungen des Bundes;JAHR;Jahr;2019;DINSG;Deutschland insgesamt;DG;Deutschland;VGRPB5;Preisbasis (jeweilige Preise / preisbereinigt);VGRPKM;preisbereinigt, Kettenindex (2020=100);30,490;jew. ME;SUB003;Gütersubventionen\n",
      "81000;Volkswirtschaftliche Gesamtrechnungen des Bundes;JAHR;Jahr;2020;DINSG;Deutschland insgesamt;DG;Deutschland;VGRPB5;Preisbasis (jeweilige Preise / preisbereinigt);VGRJPM;in jeweiligen Preisen (Mrd. EUR);41481,000;jew. ME;BIP004;Bruttoinlandsprodukt je Einwohner\n",
      "81000;Volkswirtschaftliche Gesamtrechnungen des Bundes;JAHR;Jahr;2020;DINSG;Deutschland insgesamt;DG;Deutschland;VGRPB5;Preisbasis (jeweilige Preise / preisbereinigt);VGRJPM;in jeweiligen Preisen (Mrd. EUR);351,277;jew. ME;STR020;Gütersteuern\n",
      "81000;Volkswirtschaftliche Gesamtrechnungen des Bundes;JAHR;Jahr;2020;DINSG;Deutschland insgesamt;DG;Deutschland;VGRPB5;Preisbasis (jeweilige Preise / preisbereinigt);VGRJPM;in jeweiligen Preisen (Mrd. EUR);-2,4;Prozent;BIP005;Bruttoinlandsprodukt (Veränderung in %)\n",
      "81000;Volkswirtschaftliche Gesamtrechnungen des Bundes;JAHR;Jahr;2020;DINSG;Deutschland insgesamt;DG;Deutschland;VGRPB5;Preisbasis (jeweilige Preise / preisbereinigt);VGRJPM;in jeweiligen Preisen (Mrd. EUR);3449,620;jew. ME;VGR014;Bruttoinlandsprodukt\n",
      "81000;Volkswirtschaftliche Gesamtrechnungen des Bundes;JAHR;Jahr;2020;DINSG;Deutschland insgesamt;DG;Deutschland;VGRPB5;Preisbasis (jeweilige Preise / preisbereinigt);VGRJPM;in jeweiligen Preisen (Mrd. EUR);350,623;jew. ME;STR006;Gütersteuern abzügl. Gütersubventionen\n",
      "81000;Volkswirtschaftliche Gesamtrechnungen des Bundes;JAHR;Jahr;2020;DINSG;Deutschland insgesamt;DG;Deutschland;VGRPB5;Preisbasis (jeweilige Preise / preisbereinigt);VGRJPM;in jeweiligen Preisen (Mrd. EUR);3098,997;jew. ME;BWS001;Bruttowertschöpfung\n",
      "81000;Volkswirtschaftliche Gesamtrechnungen des Bundes;JAHR;Jahr;2020;DINSG;Deutschland insgesamt;DG;Deutschland;VGRPB5;Preisbasis (jeweilige Preise / preisbereinigt);VGRJPM;in jeweiligen Preisen (Mrd. EUR);0,654;jew. ME;SUB003;Gütersubventionen\n",
      "81000;Volkswirtschaftliche Gesamtrechnungen des Bundes;JAHR;Jahr;2022;DINSG;Deutschland insgesamt;DG;Deutschland;VGRPB5;Preisbasis (jeweilige Preise / preisbereinigt);VGRPKM;preisbereinigt, Kettenindex (2020=100);104,290;jew. ME;BIP004;Bruttoinlandsprodukt je Einwohner\n",
      "81000;Volkswirtschaftliche Gesamtrechnungen des Bundes;JAHR;Jahr;2022;DINSG;Deutschland insgesamt;DG;Deutschland;VGRPB5;Preisbasis (jeweilige Preise / preisbereinigt);VGRPKM;preisbereinigt, Kettenindex (2020=100);101,530;jew. ME;STR020;Gütersteuern\n",
      "81000;Volkswirtschaftliche Gesamtrechnungen des Bundes;JAHR;Jahr;2022;DINSG;Deutschland insgesamt;DG;Deutschland;VGRPB5;Preisbasis (jeweilige Preise / preisbereinigt);VGRPKM;preisbereinigt, Kettenindex (2020=100);1,4;Prozent;BIP005;Bruttoinlandsprodukt (Veränderung in %)\n",
      "81000;Volkswirtschaftliche Gesamtrechnungen des Bundes;JAHR;Jahr;2022;DINSG;Deutschland insgesamt;DG;Deutschland;VGRPB5;Preisbasis (jeweilige Preise / preisbereinigt);VGRPKM;preisbereinigt, Kettenindex (2020=100);105,090;jew. ME;VGR014;Bruttoinlandsprodukt\n",
      "81000;Volkswirtschaftliche Gesamtrechnungen des Bundes;JAHR;Jahr;2022;DINSG;Deutschland insgesamt;DG;Deutschland;VGRPB5;Preisbasis (jeweilige Preise / preisbereinigt);VGRPKM;preisbereinigt, Kettenindex (2020=100);100,740;jew. ME;STR006;Gütersteuern abzügl. Gütersubventionen\n",
      "81000;Volkswirtschaftliche Gesamtrechnungen des Bundes;JAHR;Jahr;2022;DINSG;Deutschland insgesamt;DG;Deutschland;VGRPB5;Preisbasis (jeweilige Preise / preisbereinigt);VGRPKM;preisbereinigt, Kettenindex (2020=100);105,600;jew. ME;BWS001;Bruttowertschöpfung\n",
      "81000;Volkswirtschaftliche Gesamtrechnungen des Bundes;JAHR;Jahr;2022;DINSG;Deutschland insgesamt;DG;Deutschland;VGRPB5;Preisbasis (jeweilige Preise / preisbereinigt);VGRPKM;preisbereinigt, Kettenindex (2020=100);529,840;jew. ME;SUB003;Gütersubventionen\n",
      "81000;Volkswirtschaftliche Gesamtrechnungen des Bundes;JAHR;Jahr;2020;DINSG;Deutschland insgesamt;DG;Deutschland;VGRPB5;Preisbasis (jeweilige Preise / preisbereinigt);VGRPKM;preisbereinigt, Kettenindex (2020=100);100,000;jew. ME;BIP004;Bruttoinlandsprodukt je Einwohner\n",
      "81000;Volkswirtschaftliche Gesamtrechnungen des Bundes;JAHR;Jahr;2020;DINSG;Deutschland insgesamt;DG;Deutschland;VGRPB5;Preisbasis (jeweilige Preise / preisbereinigt);VGRPKM;preisbereinigt, Kettenindex (2020=100);100,000;jew. ME;STR020;Gütersteuern\n",
      "81000;Volkswirtschaftliche Gesamtrechnungen des Bundes;JAHR;Jahr;2020;DINSG;Deutschland insgesamt;DG;Deutschland;VGRPB5;Preisbasis (jeweilige Preise / preisbereinigt);VGRPKM;preisbereinigt, Kettenindex (2020=100);-4,1;Prozent;BIP005;Bruttoinlandsprodukt (Veränderung in %)\n",
      "81000;Volkswirtschaftliche Gesamtrechnungen des Bundes;JAHR;Jahr;2020;DINSG;Deutschland insgesamt;DG;Deutschland;VGRPB5;Preisbasis (jeweilige Preise / preisbereinigt);VGRPKM;preisbereinigt, Kettenindex (2020=100);100,000;jew. ME;VGR014;Bruttoinlandsprodukt\n",
      "81000;Volkswirtschaftliche Gesamtrechnungen des Bundes;JAHR;Jahr;2020;DINSG;Deutschland insgesamt;DG;Deutschland;VGRPB5;Preisbasis (jeweilige Preise / preisbereinigt);VGRPKM;preisbereinigt, Kettenindex (2020=100);100,000;jew. ME;STR006;Gütersteuern abzügl. Gütersubventionen\n",
      "81000;Volkswirtschaftliche Gesamtrechnungen des Bundes;JAHR;Jahr;2020;DINSG;Deutschland insgesamt;DG;Deutschland;VGRPB5;Preisbasis (jeweilige Preise / preisbereinigt);VGRPKM;preisbereinigt, Kettenindex (2020=100);100,000;jew. ME;BWS001;Bruttowertschöpfung\n",
      "81000;Volkswirtschaftliche Gesamtrechnungen des Bundes;JAHR;Jahr;2020;DINSG;Deutschland insgesamt;DG;Deutschland;VGRPB5;Preisbasis (jeweilige Preise / preisbereinigt);VGRPKM;preisbereinigt, Kettenindex (2020=100);100,000;jew. ME;SUB003;Gütersubventionen\n",
      "81000;Volkswirtschaftliche Gesamtrechnungen des Bundes;JAHR;Jahr;2024;DINSG;Deutschland insgesamt;DG;Deutschland;VGRPB5;Preisbasis (jeweilige Preise / preisbereinigt);VGRPVK;preisbereinigt, verkettete Volumenang. (Mrd. EUR);-;jew. ME;BIP004;Bruttoinlandsprodukt je Einwohner\n",
      "81000;Volkswirtschaftliche Gesamtrechnungen des Bundes;JAHR;Jahr;2024;DINSG;Deutschland insgesamt;DG;Deutschland;VGRPB5;Preisbasis (jeweilige Preise / preisbereinigt);VGRPVK;preisbereinigt, verkettete Volumenang. (Mrd. EUR);-;jew. ME;STR020;Gütersteuern\n",
      "81000;Volkswirtschaftliche Gesamtrechnungen des Bundes;JAHR;Jahr;2024;DINSG;Deutschland insgesamt;DG;Deutschland;VGRPB5;Preisbasis (jeweilige Preise / preisbereinigt);VGRPVK;preisbereinigt, verkettete Volumenang. (Mrd. EUR);-;Prozent;BIP005;Bruttoinlandsprodukt (Veränderung in %)\n",
      "81000;Volkswirtschaftliche Gesamtrechnungen des Bundes;JAHR;Jahr;2024;DINSG;Deutschland insgesamt;DG;Deutschland;VGRPB5;Preisbasis (jeweilige Preise / preisbereinigt);VGRPVK;preisbereinigt, verkettete Volumenang. (Mrd. EUR);3606,923;jew. ME;VGR014;Bruttoinlandsprodukt\n",
      "81000;Volkswirtschaftliche Gesamtrechnungen des Bundes;JAHR;Jahr;2024;DINSG;Deutschland insgesamt;DG;Deutschland;VGRPB5;Preisbasis (jeweilige Preise / preisbereinigt);VGRPVK;preisbereinigt, verkettete Volumenang. (Mrd. EUR);-;jew. ME;STR006;Gütersteuern abzügl. Gütersubventionen\n",
      "81000;Volkswirtschaftliche Gesamtrechnungen des Bundes;JAHR;Jahr;2024;DINSG;Deutschland insgesamt;DG;Deutschland;VGRPB5;Preisbasis (jeweilige Preise / preisbereinigt);VGRPVK;preisbereinigt, verkettete Volumenang. (Mrd. EUR);3270,681;jew. ME;BWS001;Bruttowertschöpfung\n",
      "81000;Volkswirtschaftliche Gesamtrechnungen des Bundes;JAHR;Jahr;2024;DINSG;Deutschland insgesamt;DG;Deutschland;VGRPB5;Preisbasis (jeweilige Preise / preisbereinigt);VGRPVK;preisbereinigt, verkettete Volumenang. (Mrd. EUR);-;jew. ME;SUB003;Gütersubventionen\n",
      "81000;Volkswirtschaftliche Gesamtrechnungen des Bundes;JAHR;Jahr;2016;DINSG;Deutschland insgesamt;DG;Deutschland;VGRPB5;Preisbasis (jeweilige Preise / preisbereinigt);VGRJPM;in jeweiligen Preisen (Mrd. EUR);38812,000;jew. ME;BIP004;Bruttoinlandsprodukt je Einwohner\n",
      "81000;Volkswirtschaftliche Gesamtrechnungen des Bundes;JAHR;Jahr;2016;DINSG;Deutschland insgesamt;DG;Deutschland;VGRPB5;Preisbasis (jeweilige Preise / preisbereinigt);VGRJPM;in jeweiligen Preisen (Mrd. EUR);343,124;jew. ME;STR020;Gütersteuern\n",
      "81000;Volkswirtschaftliche Gesamtrechnungen des Bundes;JAHR;Jahr;2016;DINSG;Deutschland insgesamt;DG;Deutschland;VGRPB5;Preisbasis (jeweilige Preise / preisbereinigt);VGRJPM;in jeweiligen Preisen (Mrd. EUR);3,6;Prozent;BIP005;Bruttoinlandsprodukt (Veränderung in %)\n",
      "81000;Volkswirtschaftliche Gesamtrechnungen des Bundes;JAHR;Jahr;2016;DINSG;Deutschland insgesamt;DG;Deutschland;VGRPB5;Preisbasis (jeweilige Preise / preisbereinigt);VGRJPM;in jeweiligen Preisen (Mrd. EUR);3196,110;jew. ME;VGR014;Bruttoinlandsprodukt\n",
      "81000;Volkswirtschaftliche Gesamtrechnungen des Bundes;JAHR;Jahr;2016;DINSG;Deutschland insgesamt;DG;Deutschland;VGRPB5;Preisbasis (jeweilige Preise / preisbereinigt);VGRJPM;in jeweiligen Preisen (Mrd. EUR);343,064;jew. ME;STR006;Gütersteuern abzügl. Gütersubventionen\n",
      "81000;Volkswirtschaftliche Gesamtrechnungen des Bundes;JAHR;Jahr;2016;DINSG;Deutschland insgesamt;DG;Deutschland;VGRPB5;Preisbasis (jeweilige Preise / preisbereinigt);VGRJPM;in jeweiligen Preisen (Mrd. EUR);2853,046;jew. ME;BWS001;Bruttowertschöpfung\n",
      "81000;Volkswirtschaftliche Gesamtrechnungen des Bundes;JAHR;Jahr;2016;DINSG;Deutschland insgesamt;DG;Deutschland;VGRPB5;Preisbasis (jeweilige Preise / preisbereinigt);VGRJPM;in jeweiligen Preisen (Mrd. EUR);0,060;jew. ME;SUB003;Gütersubventionen\n",
      "81000;Volkswirtschaftliche Gesamtrechnungen des Bundes;JAHR;Jahr;2021;DINSG;Deutschland insgesamt;DG;Deutschland;VGRPB5;Preisbasis (jeweilige Preise / preisbereinigt);VGRPVU;preisbereinigt, unverkettete Volumenang.(Mrd. EUR);-;jew. ME;BIP004;Bruttoinlandsprodukt je Einwohner\n",
      "81000;Volkswirtschaftliche Gesamtrechnungen des Bundes;JAHR;Jahr;2021;DINSG;Deutschland insgesamt;DG;Deutschland;VGRPB5;Preisbasis (jeweilige Preise / preisbereinigt);VGRPVU;preisbereinigt, unverkettete Volumenang.(Mrd. EUR);-;jew. ME;STR020;Gütersteuern\n",
      "81000;Volkswirtschaftliche Gesamtrechnungen des Bundes;JAHR;Jahr;2021;DINSG;Deutschland insgesamt;DG;Deutschland;VGRPB5;Preisbasis (jeweilige Preise / preisbereinigt);VGRPVU;preisbereinigt, unverkettete Volumenang.(Mrd. EUR);-;Prozent;BIP005;Bruttoinlandsprodukt (Veränderung in %)\n",
      "81000;Volkswirtschaftliche Gesamtrechnungen des Bundes;JAHR;Jahr;2021;DINSG;Deutschland insgesamt;DG;Deutschland;VGRPB5;Preisbasis (jeweilige Preise / preisbereinigt);VGRPVU;preisbereinigt, unverkettete Volumenang.(Mrd. EUR);3576,094;jew. ME;VGR014;Bruttoinlandsprodukt\n",
      "81000;Volkswirtschaftliche Gesamtrechnungen des Bundes;JAHR;Jahr;2021;DINSG;Deutschland insgesamt;DG;Deutschland;VGRPB5;Preisbasis (jeweilige Preise / preisbereinigt);VGRPVU;preisbereinigt, unverkettete Volumenang.(Mrd. EUR);-;jew. ME;STR006;Gütersteuern abzügl. Gütersubventionen\n",
      "81000;Volkswirtschaftliche Gesamtrechnungen des Bundes;JAHR;Jahr;2021;DINSG;Deutschland insgesamt;DG;Deutschland;VGRPB5;Preisbasis (jeweilige Preise / preisbereinigt);VGRPVU;preisbereinigt, unverkettete Volumenang.(Mrd. EUR);3216,677;jew. ME;BWS001;Bruttowertschöpfung\n",
      "81000;Volkswirtschaftliche Gesamtrechnungen des Bundes;JAHR;Jahr;2021;DINSG;Deutschland insgesamt;DG;Deutschland;VGRPB5;Preisbasis (jeweilige Preise / preisbereinigt);VGRPVU;preisbereinigt, unverkettete Volumenang.(Mrd. EUR);-;jew. ME;SUB003;Gütersubventionen\n",
      "\n"
     ]
    }
   ],
   "source": [
    "print(t.raw_data)"
   ]
  },
  {
   "cell_type": "markdown",
   "id": "5ae90416",
   "metadata": {},
   "source": [
    "More likely, you are interested in the `pandas` `DataFrame`, which is accessible via the `.data` attribute.\n"
   ]
  },
  {
   "cell_type": "code",
   "execution_count": 6,
   "id": "874bbbb9",
   "metadata": {},
   "outputs": [
    {
     "data": {
      "application/vnd.microsoft.datawrangler.viewer.v0+json": {
       "columns": [
        {
         "name": "index",
         "rawType": "int64",
         "type": "integer"
        },
        {
         "name": "Jahr",
         "rawType": "object",
         "type": "string"
        },
        {
         "name": "Preisbasis (jeweilige Preise / preisbereinigt)",
         "rawType": "object",
         "type": "string"
        },
        {
         "name": "Bruttoinlandsprodukt (Veränderung in %)__Prozent",
         "rawType": "float64",
         "type": "float"
        },
        {
         "name": "Bruttoinlandsprodukt je Einwohner__jew. ME",
         "rawType": "float64",
         "type": "float"
        },
        {
         "name": "Bruttoinlandsprodukt__jew. ME",
         "rawType": "float64",
         "type": "float"
        },
        {
         "name": "Bruttowertschöpfung__jew. ME",
         "rawType": "float64",
         "type": "float"
        },
        {
         "name": "Gütersteuern abzügl. Gütersubventionen__jew. ME",
         "rawType": "float64",
         "type": "float"
        },
        {
         "name": "Gütersteuern__jew. ME",
         "rawType": "float64",
         "type": "float"
        },
        {
         "name": "Gütersubventionen__jew. ME",
         "rawType": "float64",
         "type": "float"
        }
       ],
       "conversionMethod": "pd.DataFrame",
       "ref": "1fa6d8e7-9acc-42f4-9f84-370c892c9f66",
       "rows": [
        [
         "0",
         "2015",
         "in jeweiligen Preisen (Mrd. EUR)",
         "3.4",
         "37774.0",
         "3085.65",
         "2751.937",
         "333.713",
         "333.77",
         "0.057"
        ],
        [
         "1",
         "2015",
         "preisbereinigt, Kettenindex (2020=100)",
         "1.7",
         "98.93",
         "97.18",
         "97.41",
         "95.36",
         "95.29",
         "17.96"
        ],
        [
         "2",
         "2015",
         "preisbereinigt, verkettete Volumenang. (Mrd. EUR)",
         null,
         null,
         "3352.341",
         "3018.733",
         null,
         null,
         null
        ],
        [
         "3",
         "2015",
         "preisbereinigt, unverkettete Volumenang.(Mrd. EUR)",
         null,
         null,
         "3034.516",
         "2700.857",
         null,
         null,
         null
        ],
        [
         "4",
         "2016",
         "in jeweiligen Preisen (Mrd. EUR)",
         "3.6",
         "38812.0",
         "3196.11",
         "2853.046",
         "343.064",
         "343.124",
         "0.06"
        ]
       ],
       "shape": {
        "columns": 9,
        "rows": 5
       }
      },
      "text/html": [
       "<div>\n",
       "<style scoped>\n",
       "    .dataframe tbody tr th:only-of-type {\n",
       "        vertical-align: middle;\n",
       "    }\n",
       "\n",
       "    .dataframe tbody tr th {\n",
       "        vertical-align: top;\n",
       "    }\n",
       "\n",
       "    .dataframe thead th {\n",
       "        text-align: right;\n",
       "    }\n",
       "</style>\n",
       "<table border=\"1\" class=\"dataframe\">\n",
       "  <thead>\n",
       "    <tr style=\"text-align: right;\">\n",
       "      <th></th>\n",
       "      <th>Jahr</th>\n",
       "      <th>Preisbasis (jeweilige Preise / preisbereinigt)</th>\n",
       "      <th>Bruttoinlandsprodukt (Veränderung in %)__Prozent</th>\n",
       "      <th>Bruttoinlandsprodukt je Einwohner__jew. ME</th>\n",
       "      <th>Bruttoinlandsprodukt__jew. ME</th>\n",
       "      <th>Bruttowertschöpfung__jew. ME</th>\n",
       "      <th>Gütersteuern abzügl. Gütersubventionen__jew. ME</th>\n",
       "      <th>Gütersteuern__jew. ME</th>\n",
       "      <th>Gütersubventionen__jew. ME</th>\n",
       "    </tr>\n",
       "  </thead>\n",
       "  <tbody>\n",
       "    <tr>\n",
       "      <th>0</th>\n",
       "      <td>2015</td>\n",
       "      <td>in jeweiligen Preisen (Mrd. EUR)</td>\n",
       "      <td>3.4</td>\n",
       "      <td>37774.00</td>\n",
       "      <td>3085.650</td>\n",
       "      <td>2751.937</td>\n",
       "      <td>333.713</td>\n",
       "      <td>333.770</td>\n",
       "      <td>0.057</td>\n",
       "    </tr>\n",
       "    <tr>\n",
       "      <th>1</th>\n",
       "      <td>2015</td>\n",
       "      <td>preisbereinigt, Kettenindex (2020=100)</td>\n",
       "      <td>1.7</td>\n",
       "      <td>98.93</td>\n",
       "      <td>97.180</td>\n",
       "      <td>97.410</td>\n",
       "      <td>95.360</td>\n",
       "      <td>95.290</td>\n",
       "      <td>17.960</td>\n",
       "    </tr>\n",
       "    <tr>\n",
       "      <th>2</th>\n",
       "      <td>2015</td>\n",
       "      <td>preisbereinigt, verkettete Volumenang. (Mrd. EUR)</td>\n",
       "      <td>NaN</td>\n",
       "      <td>NaN</td>\n",
       "      <td>3352.341</td>\n",
       "      <td>3018.733</td>\n",
       "      <td>NaN</td>\n",
       "      <td>NaN</td>\n",
       "      <td>NaN</td>\n",
       "    </tr>\n",
       "    <tr>\n",
       "      <th>3</th>\n",
       "      <td>2015</td>\n",
       "      <td>preisbereinigt, unverkettete Volumenang.(Mrd. EUR)</td>\n",
       "      <td>NaN</td>\n",
       "      <td>NaN</td>\n",
       "      <td>3034.516</td>\n",
       "      <td>2700.857</td>\n",
       "      <td>NaN</td>\n",
       "      <td>NaN</td>\n",
       "      <td>NaN</td>\n",
       "    </tr>\n",
       "    <tr>\n",
       "      <th>4</th>\n",
       "      <td>2016</td>\n",
       "      <td>in jeweiligen Preisen (Mrd. EUR)</td>\n",
       "      <td>3.6</td>\n",
       "      <td>38812.00</td>\n",
       "      <td>3196.110</td>\n",
       "      <td>2853.046</td>\n",
       "      <td>343.064</td>\n",
       "      <td>343.124</td>\n",
       "      <td>0.060</td>\n",
       "    </tr>\n",
       "  </tbody>\n",
       "</table>\n",
       "</div>"
      ],
      "text/plain": [
       "   Jahr      Preisbasis (jeweilige Preise / preisbereinigt)  Bruttoinlandsprodukt (Veränderung in %)__Prozent  Bruttoinlandsprodukt je Einwohner__jew. ME  Bruttoinlandsprodukt__jew. ME  Bruttowertschöpfung__jew. ME  Gütersteuern abzügl. Gütersubventionen__jew. ME  Gütersteuern__jew. ME  Gütersubventionen__jew. ME\n",
       "0  2015                    in jeweiligen Preisen (Mrd. EUR)                                               3.4                                    37774.00                       3085.650                      2751.937                                          333.713                333.770                       0.057\n",
       "1  2015              preisbereinigt, Kettenindex (2020=100)                                               1.7                                       98.93                         97.180                        97.410                                           95.360                 95.290                      17.960\n",
       "2  2015   preisbereinigt, verkettete Volumenang. (Mrd. EUR)                                               NaN                                         NaN                       3352.341                      3018.733                                              NaN                    NaN                         NaN\n",
       "3  2015  preisbereinigt, unverkettete Volumenang.(Mrd. EUR)                                               NaN                                         NaN                       3034.516                      2700.857                                              NaN                    NaN                         NaN\n",
       "4  2016                    in jeweiligen Preisen (Mrd. EUR)                                               3.6                                    38812.00                       3196.110                      2853.046                                          343.064                343.124                       0.060"
      ]
     },
     "execution_count": 6,
     "metadata": {},
     "output_type": "execute_result"
    }
   ],
   "source": [
    "t.data.head()"
   ]
  },
  {
   "cell_type": "markdown",
   "id": "677d68b7",
   "metadata": {},
   "source": [
    "Finally, you can also access the metadata for this table via the `.metadata` attribute.\n"
   ]
  },
  {
   "cell_type": "code",
   "execution_count": 7,
   "id": "5f3672e9",
   "metadata": {},
   "outputs": [
    {
     "name": "stdout",
     "output_type": "stream",
     "text": [
      "{'Copyright': '© Statistisches Bundesamt (Destatis), 2025',\n",
      " 'Ident': {'Method': 'table', 'Service': 'metadata'},\n",
      " 'Object': {'Code': '81000-0001',\n",
      "            'Content': 'VGR des Bundes - Bruttowertschöpfung, '\n",
      "                       'Bruttoinlandsprodukt\\n'\n",
      "                       '(nominal/preisbereinigt): Deutschland, Jahre',\n",
      "            'Structure': {'Columns': [{'Code': 'JAHR',\n",
      "                                       'Content': 'Jahr',\n",
      "                                       'Functions': None,\n",
      "                                       'Selected': '10',\n",
      "                                       'Structure': None,\n",
      "                                       'Type': 'Merkmal',\n",
      "                                       'Updated': 'see parent',\n",
      "                                       'Values': '10'}],\n",
      "                          'Head': {'Code': '81000',\n",
      "                                   'Content': 'Volkswirtschaftliche '\n",
      "                                              'Gesamtrechnungen des Bundes',\n",
      "                                   'Functions': None,\n",
      "                                   'Selected': None,\n",
      "                                   'Structure': [{'Code': 'DINSG',\n",
      "                                                  'Content': 'Deutschland '\n",
      "                                                             'insgesamt',\n",
      "                                                  'Functions': None,\n",
      "                                                  'Selected': '1',\n",
      "                                                  'Structure': None,\n",
      "                                                  'Type': 'Merkmal',\n",
      "                                                  'Updated': 'see parent',\n",
      "                                                  'Values': '1'}],\n",
      "                                   'Type': 'Statistik',\n",
      "                                   'Updated': 'see parent',\n",
      "                                   'Values': None},\n",
      "                          'Rows': [{'Code': 'BWS001',\n",
      "                                    'Content': 'Bruttowertschöpfung',\n",
      "                                    'Functions': None,\n",
      "                                    'Selected': None,\n",
      "                                    'Structure': None,\n",
      "                                    'Type': 'Merkmal',\n",
      "                                    'Updated': 'see parent',\n",
      "                                    'Values': None},\n",
      "                                   {'Code': 'STR006',\n",
      "                                    'Content': 'Gütersteuern abzügl. '\n",
      "                                               'Gütersubventionen',\n",
      "                                    'Functions': None,\n",
      "                                    'Selected': None,\n",
      "                                    'Structure': None,\n",
      "                                    'Type': 'Merkmal',\n",
      "                                    'Updated': 'see parent',\n",
      "                                    'Values': None},\n",
      "                                   {'Code': 'STR020',\n",
      "                                    'Content': 'Gütersteuern',\n",
      "                                    'Functions': None,\n",
      "                                    'Selected': None,\n",
      "                                    'Structure': None,\n",
      "                                    'Type': 'Merkmal',\n",
      "                                    'Updated': 'see parent',\n",
      "                                    'Values': None},\n",
      "                                   {'Code': 'SUB003',\n",
      "                                    'Content': 'Gütersubventionen',\n",
      "                                    'Functions': None,\n",
      "                                    'Selected': None,\n",
      "                                    'Structure': None,\n",
      "                                    'Type': 'Merkmal',\n",
      "                                    'Updated': 'see parent',\n",
      "                                    'Values': None},\n",
      "                                   {'Code': 'VGR014',\n",
      "                                    'Content': 'Bruttoinlandsprodukt',\n",
      "                                    'Functions': None,\n",
      "                                    'Selected': None,\n",
      "                                    'Structure': None,\n",
      "                                    'Type': 'Merkmal',\n",
      "                                    'Updated': 'see parent',\n",
      "                                    'Values': None},\n",
      "                                   {'Code': 'BIP005',\n",
      "                                    'Content': 'Bruttoinlandsprodukt '\n",
      "                                               '(Veränderung in %)',\n",
      "                                    'Functions': None,\n",
      "                                    'Selected': None,\n",
      "                                    'Structure': None,\n",
      "                                    'Type': 'Merkmal',\n",
      "                                    'Updated': 'see parent',\n",
      "                                    'Values': None},\n",
      "                                   {'Code': 'BIP004',\n",
      "                                    'Content': 'Bruttoinlandsprodukt je '\n",
      "                                               'Einwohner',\n",
      "                                    'Functions': None,\n",
      "                                    'Selected': None,\n",
      "                                    'Structure': None,\n",
      "                                    'Type': 'Merkmal',\n",
      "                                    'Updated': 'see parent',\n",
      "                                    'Values': None}],\n",
      "                          'Subheading': {'Code': 'VGRPB5',\n",
      "                                         'Content': 'Preisbasis (jeweilige '\n",
      "                                                    'Preise / preisbereinigt)',\n",
      "                                         'Functions': None,\n",
      "                                         'Selected': None,\n",
      "                                         'Structure': None,\n",
      "                                         'Type': 'Merkmal',\n",
      "                                         'Updated': 'see parent',\n",
      "                                         'Values': None},\n",
      "                          'Subtitel': None},\n",
      "            'Time': {'From': '1991', 'To': '2024'},\n",
      "            'Updated': '27.08.2024 17:20:21h',\n",
      "            'Valid': 'false'},\n",
      " 'Parameter': {'area': 'Alle',\n",
      "               'language': 'de',\n",
      "               'name': '81000-0001',\n",
      "               'password': '********************',\n",
      "               'username': '********************'},\n",
      " 'Status': {'Code': 0, 'Content': 'erfolgreich', 'Type': 'Information'}}\n"
     ]
    }
   ],
   "source": [
    "from pprint import pprint\n",
    "\n",
    "pprint(t.metadata)"
   ]
  },
  {
   "cell_type": "markdown",
   "id": "953d7cb2",
   "metadata": {},
   "source": [
    "## How `pystatis` prepares the data for you\n"
   ]
  },
  {
   "cell_type": "markdown",
   "id": "22b075b6",
   "metadata": {},
   "source": [
    "As you can notice from a comparison between the `.raw_data` and `.data` formats, `pystatis` is doing a lot behind the scenes to provide you with a format that is hopefully the most useful for you. You will see and learn that there are a few parameters that you can use to actually change this behavior and adjust the table to your needs.\n",
    "\n",
    "But first we would like to explain to you how `pystatis` is preparing the data by default so you have a better understanding of the underlying process.\n"
   ]
  },
  {
   "cell_type": "markdown",
   "id": "889e27db",
   "metadata": {},
   "source": [
    "When we look at the header of the raw data, we can notice a few things:\n",
    "\n",
    "- Many columns always come in a pair of `*_Code` and `*_Label` columns. Both contain the same information, only provided differently.\n",
    "- There are columns that don't have a direct use as they contain information not needed in the table, like the `Statistik_Code` and `Statistik_Label` columns at the beginning. You already know the statistic from the name of the table and this information is the same for each and every row anyway.\n",
    "- There is always a time dimension, broken down into three different columns `Zeit_Code`, `Zeit_Label` and `Zeit` (or `time_*` in English).\n",
    "- The other dimensions are called variables (German \"Merkmale\") and they always come in groups of four columns: `N_Merkmal_Code`, `N_Merkmal_Label`, `N_Auspraegung_Code`, and `N_Auspraegung_Label` (English: variable code and label and variable value code and label).\n",
    "- The actual measurements or values are at the end of the table after the variables and each measurement has one column. The name of this column follows the format `<CODE>__<LABEL>__<UNIT>`, e.g. \"BWS001**Bruttowertschoepfung**jew.\\_ME\". \"BWS001\" is the unique code for this variable, \"Bruttowertschoepfung\" is the human readable label of the variable, and \"jew.\\_ME\" is the unit the measurement was recorded in.\n",
    "\n",
    "**Note** This is only true for tables from Genesis and Regionalstatistik, the format of the Zensus tables is noticeably different from this. However, we follow a similar approach to provide you the same convenient output format.\n"
   ]
  },
  {
   "cell_type": "markdown",
   "id": "ef48ba95",
   "metadata": {},
   "source": [
    "The following table hopefully makes it a little bit clearer what is happening when going from the raw data string to the pandas `DataFrame`. The example is showing the Table \"11111-02-01-4\" from Regionalstatistik, but remember, that Genesis and Regionalstatistik have identically formats. The table has a time dimension, one attribute and one value.\n",
    "\n",
    "| Statistik_Code | Statistik_Label                 | Zeit_Code | Zeit_Label | Zeit       | 1_Merkmal_Code | 1_Merkmal_Label              | 1_Auspraegung_Code | 1_Auspraegung_Label | GEM001**Zahl_der_Gemeinden**Anzahl |\n",
    "| -------------- | ------------------------------- | --------- | ---------- | ---------- | -------------- | ---------------------------- | ------------------ | ------------------- | ---------------------------------- |\n",
    "| 11111          | Feststellung des Gebietsstandes | STAG      | Stichtag   | 31.12.2022 | KREISE         | Kreise und kreisfreie Städte | DG                 | Deutschland         | 10786                              |\n",
    "| 11111          | Feststellung des Gebietsstandes | STAG      | Stichtag   | 31.12.2022 | KREISE         | Kreise und kreisfreie Städte | 01                 | Schleswig-Holstein  | 1106                               |\n"
   ]
  },
  {
   "cell_type": "markdown",
   "id": "663d6fd9",
   "metadata": {},
   "source": [
    "The same table has the following pandas representation after being \"prettified\" by `pystatis`:\n"
   ]
  },
  {
   "cell_type": "code",
   "execution_count": 8,
   "id": "483a1a0e",
   "metadata": {},
   "outputs": [
    {
     "name": "stderr",
     "output_type": "stream",
     "text": [
      "INFO:pystatis.http_helper:Database selected: regio\n"
     ]
    },
    {
     "name": "stdout",
     "output_type": "stream",
     "text": [
      "hit\n"
     ]
    },
    {
     "name": "stderr",
     "output_type": "stream",
     "text": [
      "INFO:pystatis.http_helper:Code 0: erfolgreich\n"
     ]
    },
    {
     "data": {
      "application/vnd.microsoft.datawrangler.viewer.v0+json": {
       "columns": [
        {
         "name": "index",
         "rawType": "int64",
         "type": "integer"
        },
        {
         "name": "Stichtag",
         "rawType": "datetime64[ns]",
         "type": "datetime"
        },
        {
         "name": "Amtlicher Gemeindeschlüssel (AGS)__Code",
         "rawType": "object",
         "type": "string"
        },
        {
         "name": "Amtlicher Gemeindeschlüssel (AGS)",
         "rawType": "object",
         "type": "string"
        },
        {
         "name": "Zahl der Gemeinden__Anzahl",
         "rawType": "float64",
         "type": "float"
        }
       ],
       "conversionMethod": "pd.DataFrame",
       "ref": "d9b6ec0e-763b-428d-ac5f-6fc08123c218",
       "rows": [
        [
         "0",
         "2023-12-31 00:00:00",
         "DG",
         "Deutschland",
         "10775.0"
        ],
        [
         "1",
         "2023-12-31 00:00:00",
         "01",
         "Schleswig-Holstein",
         "1104.0"
        ]
       ],
       "shape": {
        "columns": 4,
        "rows": 2
       }
      },
      "text/html": [
       "<div>\n",
       "<style scoped>\n",
       "    .dataframe tbody tr th:only-of-type {\n",
       "        vertical-align: middle;\n",
       "    }\n",
       "\n",
       "    .dataframe tbody tr th {\n",
       "        vertical-align: top;\n",
       "    }\n",
       "\n",
       "    .dataframe thead th {\n",
       "        text-align: right;\n",
       "    }\n",
       "</style>\n",
       "<table border=\"1\" class=\"dataframe\">\n",
       "  <thead>\n",
       "    <tr style=\"text-align: right;\">\n",
       "      <th></th>\n",
       "      <th>Stichtag</th>\n",
       "      <th>Amtlicher Gemeindeschlüssel (AGS)__Code</th>\n",
       "      <th>Amtlicher Gemeindeschlüssel (AGS)</th>\n",
       "      <th>Zahl der Gemeinden__Anzahl</th>\n",
       "    </tr>\n",
       "  </thead>\n",
       "  <tbody>\n",
       "    <tr>\n",
       "      <th>0</th>\n",
       "      <td>2023-12-31</td>\n",
       "      <td>DG</td>\n",
       "      <td>Deutschland</td>\n",
       "      <td>10775.0</td>\n",
       "    </tr>\n",
       "    <tr>\n",
       "      <th>1</th>\n",
       "      <td>2023-12-31</td>\n",
       "      <td>01</td>\n",
       "      <td>Schleswig-Holstein</td>\n",
       "      <td>1104.0</td>\n",
       "    </tr>\n",
       "  </tbody>\n",
       "</table>\n",
       "</div>"
      ],
      "text/plain": [
       "    Stichtag Amtlicher Gemeindeschlüssel (AGS)__Code Amtlicher Gemeindeschlüssel (AGS)  Zahl der Gemeinden__Anzahl\n",
       "0 2023-12-31                                      DG                       Deutschland                     10775.0\n",
       "1 2023-12-31                                      01                Schleswig-Holstein                      1104.0"
      ]
     },
     "execution_count": 8,
     "metadata": {},
     "output_type": "execute_result"
    }
   ],
   "source": [
    "t = Table(\"11111-02-01-4\")\n",
    "t.get_data()\n",
    "t.data.head(2)"
   ]
  },
  {
   "cell_type": "markdown",
   "id": "08ee995a",
   "metadata": {},
   "source": [
    "As you can see and hopefully agree, the pandas version (what we call \"prettified\") provides the same information, actually even more, because the header column names have become meaningful and there is a lot less noise that you need to filter out before you can get to the actual data.\n"
   ]
  },
  {
   "cell_type": "markdown",
   "id": "1e048322",
   "metadata": {},
   "source": [
    "For Zensus `pystatis` is basically doing the same, but in a slightly different way because since the release of Zensus 2022 the API no longer returns each measurement as a single column but only a single column for all values. `pystatis` is transforming this long data format back into a wide data format, so you can work with a tidy data set. See the following example of Table \"4000W-1002\" to understand what is going on.\n",
    "\n",
    "| statistics_code | statistics_label                    | time_code | time_label | time       | 1_variable_code | 1_variable_label | 1_variable_attribute_code | 1_variable_attribute_label | 2_variable_code | 2_variable_label                      | 2_variable_attribute_code | 2_variable_attribute_label | value   | value_unit | value_variable_code | value_variable_label               |\n",
    "| --------------- | ----------------------------------- | --------- | ---------- | ---------- | --------------- | ---------------- | ------------------------- | -------------------------- | --------------- | ------------------------------------- | ------------------------- | -------------------------- | ------- | ---------- | ------------------- | ---------------------------------- |\n",
    "| 4000W           | Wohnungen (Gebietsstand 15.05.2022) | STAG      | Stichtag   | 2022-05-15 | GEODL1          | Deutschland      | DG                        | Deutschland                | WHGFL2          | Fläche der Wohnung (10 m²-Intervalle) | WFL170B179                | 170 - 179 m²               | 1,2     | %          | WHG002              | Wohnungen in Gebäuden mit Wohnraum |\n",
    "| 4000W           | Wohnungen (Gebietsstand 15.05.2022) | STAG      | Stichtag   | 2022-05-15 | GEODL1          | Deutschland      | DG                        | Deutschland                | WHGFL2          | Fläche der Wohnung (10 m²-Intervalle) | WFL170B179                | 170 - 179 m²               | 509041  | Anzahl     | WHG002              | Wohnungen in Gebäuden mit Wohnraum |\n",
    "| 4000W           | Wohnungen (Gebietsstand 15.05.2022) | STAG      | Stichtag   | 2022-05-15 | GEODL1          | Deutschland      | DG                        | Deutschland                | WHGFL2          | Fläche der Wohnung (10 m²-Intervalle) | WFL090B099                | 90 - 99 m²                 | 7,2     | %          | WHG002              | Wohnungen in Gebäuden mit Wohnraum |\n",
    "| 4000W           | Wohnungen (Gebietsstand 15.05.2022) | STAG      | Stichtag   | 2022-05-15 | GEODL1          | Deutschland      | DG                        | Deutschland                | WHGFL2          | Fläche der Wohnung (10 m²-Intervalle) | WFL090B099                | 90 - 99 m²                 | 3082890 | Anzahl     | WHG002              | Wohnungen in Gebäuden mit Wohnraum |\n"
   ]
  },
  {
   "cell_type": "code",
   "execution_count": 9,
   "id": "b1c811c2",
   "metadata": {},
   "outputs": [
    {
     "name": "stderr",
     "output_type": "stream",
     "text": [
      "INFO:pystatis.cache:Data was successfully cached under /Users/miay/.pystatis/data/4000W-1002/3d1d8e69a7d4397b08b0/20250412.zip.\n",
      "INFO:pystatis.http_helper:Database selected: zensus\n",
      "INFO:pystatis.http_helper:Code 0: erfolgreich\n"
     ]
    },
    {
     "data": {
      "application/vnd.microsoft.datawrangler.viewer.v0+json": {
       "columns": [
        {
         "name": "index",
         "rawType": "int64",
         "type": "integer"
        },
        {
         "name": "Stichtag",
         "rawType": "datetime64[ns]",
         "type": "datetime"
        },
        {
         "name": "Fläche der Wohnung (10 m²-Intervalle)",
         "rawType": "object",
         "type": "string"
        },
        {
         "name": "Wohnungen in Gebäuden mit Wohnraum__%",
         "rawType": "float64",
         "type": "float"
        },
        {
         "name": "Wohnungen in Gebäuden mit Wohnraum__Anzahl",
         "rawType": "float64",
         "type": "float"
        }
       ],
       "conversionMethod": "pd.DataFrame",
       "ref": "22d34605-1d9e-4506-9ef6-1d28793a050a",
       "rows": [
        [
         "0",
         "2022-05-15 00:00:00",
         "Insgesamt",
         "100.0",
         "43106589.0"
        ],
        [
         "1",
         "2022-05-15 00:00:00",
         "Unter 30 m²",
         "2.1",
         "909120.0"
        ]
       ],
       "shape": {
        "columns": 4,
        "rows": 2
       }
      },
      "text/html": [
       "<div>\n",
       "<style scoped>\n",
       "    .dataframe tbody tr th:only-of-type {\n",
       "        vertical-align: middle;\n",
       "    }\n",
       "\n",
       "    .dataframe tbody tr th {\n",
       "        vertical-align: top;\n",
       "    }\n",
       "\n",
       "    .dataframe thead th {\n",
       "        text-align: right;\n",
       "    }\n",
       "</style>\n",
       "<table border=\"1\" class=\"dataframe\">\n",
       "  <thead>\n",
       "    <tr style=\"text-align: right;\">\n",
       "      <th></th>\n",
       "      <th>Stichtag</th>\n",
       "      <th>Fläche der Wohnung (10 m²-Intervalle)</th>\n",
       "      <th>Wohnungen in Gebäuden mit Wohnraum__%</th>\n",
       "      <th>Wohnungen in Gebäuden mit Wohnraum__Anzahl</th>\n",
       "    </tr>\n",
       "  </thead>\n",
       "  <tbody>\n",
       "    <tr>\n",
       "      <th>0</th>\n",
       "      <td>2022-05-15</td>\n",
       "      <td>Insgesamt</td>\n",
       "      <td>100.0</td>\n",
       "      <td>43106589.0</td>\n",
       "    </tr>\n",
       "    <tr>\n",
       "      <th>1</th>\n",
       "      <td>2022-05-15</td>\n",
       "      <td>Unter 30 m²</td>\n",
       "      <td>2.1</td>\n",
       "      <td>909120.0</td>\n",
       "    </tr>\n",
       "  </tbody>\n",
       "</table>\n",
       "</div>"
      ],
      "text/plain": [
       "    Stichtag Fläche der Wohnung (10 m²-Intervalle)  Wohnungen in Gebäuden mit Wohnraum__%  Wohnungen in Gebäuden mit Wohnraum__Anzahl\n",
       "0 2022-05-15                             Insgesamt                                  100.0                                  43106589.0\n",
       "1 2022-05-15                           Unter 30 m²                                    2.1                                    909120.0"
      ]
     },
     "execution_count": 9,
     "metadata": {},
     "output_type": "execute_result"
    }
   ],
   "source": [
    "t = Table(\"4000W-1002\")\n",
    "t.get_data()\n",
    "t.data.head(2)"
   ]
  },
  {
   "cell_type": "markdown",
   "id": "61d6df19",
   "metadata": {},
   "source": [
    "As you can see, `pystatis` is not only increasing readability and making data access easy, it also reduces the amount of data you have to work with. Going from a long format back to a tidy wide format means cutting the number of rows to 1/3 because all three measurements get back their own column.\n"
   ]
  },
  {
   "cell_type": "markdown",
   "id": "57acff63",
   "metadata": {},
   "source": [
    "`pystatis` is doing the following things (by default) when parsing the original raw string:\n",
    "\n",
    "- remove the information about the statistic\n",
    "- for all variables: only keep the value column and choose the variable label as the column name\n",
    "- for all measurements: remove the variable code from the column name, only keep label and unit\n",
    "- set the proper data types (`datetime` for the time variable, if appropriate; `str` for regional codes)\n",
    "- handling missing values (i.e. replacing characters \"...\", \".\", \"-\", \"/\" and \"x\" by proper `NaN` values) and special characters\n",
    "- choosing the right decimal character depending on the specified language (German: \",\", English: \".\")\n"
   ]
  },
  {
   "cell_type": "markdown",
   "id": "051de4fa",
   "metadata": {},
   "source": [
    "All of this happens behind the scenes when you are downloading the data with `get_data()` and access it via the `Table.data` attribute.\n"
   ]
  },
  {
   "cell_type": "markdown",
   "id": "1c9a8e49",
   "metadata": {},
   "source": [
    "## All `get_data()` parameters explained\n"
   ]
  },
  {
   "cell_type": "markdown",
   "id": "cbd4c6bb",
   "metadata": {},
   "source": [
    "You can find a list of all parameters in the [documentation](https://correlaid.github.io/pystatis/dev/pystatis.html#pystatis.table.Table.get_data) or in the docstring. All parameters are keyword parameters only (fancy Python star syntax: `f(*, everything from here on has to be a keyword only parameter)`).\n"
   ]
  },
  {
   "cell_type": "code",
   "execution_count": 10,
   "id": "e67dcfb7",
   "metadata": {},
   "outputs": [
    {
     "name": "stdout",
     "output_type": "stream",
     "text": [
      "\u001b[31mSignature:\u001b[39m\n",
      "t.get_data(\n",
      "    *,\n",
      "    prettify: bool = \u001b[38;5;28;01mTrue\u001b[39;00m,\n",
      "    area: str = \u001b[33m'all'\u001b[39m,\n",
      "    startyear: str = \u001b[33m''\u001b[39m,\n",
      "    endyear: str = \u001b[33m''\u001b[39m,\n",
      "    timeslices: str = \u001b[33m''\u001b[39m,\n",
      "    regionalvariable: str = \u001b[33m''\u001b[39m,\n",
      "    regionalkey: str = \u001b[33m''\u001b[39m,\n",
      "    stand: str = \u001b[33m''\u001b[39m,\n",
      "    language: str = \u001b[33m'de'\u001b[39m,\n",
      "    quality: str = \u001b[33m'off'\u001b[39m,\n",
      ") -> \u001b[38;5;28;01mNone\u001b[39;00m\n",
      "\u001b[31mDocstring:\u001b[39m\n",
      "Downloads raw data and metadata from GENESIS-Online.\n",
      "\n",
      "Additional keyword arguments are passed on to the GENESIS-Online GET request for tablefile.\n",
      "\n",
      "Args:\n",
      "    prettify (bool, optional): Reformats the table into a readable format. Defaults to True.\n",
      "    area (str, optional): Area to search for the object in GENESIS-Online. Defaults to \"all\".\n",
      "    startyear (str, optional): Data beginning with that year will be returned.\n",
      "        Parameter is cumulative to `timeslices`. Supports 4 digits (jjjj) or 4+2 digits (jjjj/jj).\n",
      "        Accepts values between \"1900\" and \"2100\".\n",
      "    endyear (str, optional): Data ending with that year will be returned.\n",
      "        Parameter is cumulative to `timeslices`. Supports 4 digits (jjjj) or 4+2 digits (jjjj/jj).\n",
      "        Accepts values between \"1900\" and \"2100\".\n",
      "    timeslices (str, optional): Number of time slices to be returned.\n",
      "        This parameter is cumulative to `startyear` and `endyear`.\n",
      "    regionalvariable (str, optional): \"code\" of the regional classification (RKMerkmal),\n",
      "        to which the selection using `regionalkey` is to be applied.\n",
      "        Accepts 1-6 characters.\n",
      "        Can be used with any table that uses a regional attribute.\n",
      "\n",
      "        The following attribute codes are handled by `pystatis` by adding an extra column for the official municipality key (AGS):\n",
      "\n",
      "        - GENESIS-Online (for all tables, see /catalogue/variables):\n",
      "            - \"DLAND\" (Bundesländer, 16)\n",
      "            - \"DINSG\" (Deutschland insgesamt, 1) -> will not return extra AGS column\n",
      "            - \"DLANDR\" (Bundesländer mit Restposition, 17)\n",
      "            - \"DLANDS\" (Bundesländer mit Seehäfen, 6)\n",
      "            - \"DLANDU\" (Bundesländer und Ausland, 17)\n",
      "            - \"DLANDX\" (Bundesländer mit Ausland und Restposition, 18)\n",
      "            - \"KREISE\" (Kreise, 476)\n",
      "            - \"REGBEZ\" (Regierungsbezirke, 38)\n",
      "\n",
      "        - Regionalstatistik (only for tables ending with \"B\", see /catalogue/variables):\n",
      "            - \"DG\" (Deutschland, 1) -> will not return ARS column\n",
      "            - \"DINSG\" (Deutschland räumlich insgesamt, 1) -> will not return ARS column\n",
      "            - \"DLAND\" (Bundesländer, 16)\n",
      "            - \"DLANDU\" Bundesländer, 19)\n",
      "            - \"FAMTGEM\" (Gemeinden und Gemeindeverbände, 12779)\n",
      "            - \"FDINSG\" (Flächenländer insgesamt, 1) -> will not return ARS column\n",
      "            - \"FDLAND\" (Bundesländer, 13)\n",
      "            - \"FGEMEIN\" (Gemeinden, 4795)\n",
      "            - \"FKREISE\" (Kreise und kreisfreie Städte, 411)\n",
      "            - \"FREGBEZ\" (Regierungsbezirke / Statistische Regionen, 41)\n",
      "            - \"GEMEIN\" (Gemeinden, 13565)\n",
      "            - \"GRSTADT\" (Großstadt, 15)\n",
      "            - \"KREISE\" (Kreise und kreisfreie Städte, 489)\n",
      "            - \"NUTS-2\" (NUTS-II Regionen, 38)\n",
      "            - \"PGEM-2DI\" (Gemeinden Pendler, 6857)\n",
      "            - \"PGEMEIN\" (Gemeinden Pendler, 6857)\n",
      "            - \"REGBEZ\" (Regierungsbezirke / Statistische Regionen, 44)\n",
      "\n",
      "        - Zensusdatenbank (for all tables, see /catalogue/variables):\n",
      "            - \"GEOBL1\" (Bundesländer, 16)\n",
      "            - \"GEOBL3\" (Bundesländer, 16)\n",
      "            - \"GEOBZ1\" (Bezirke (Hamburg und Berlin), 19)\n",
      "            - \"GEODL1\" (Deutschland, 1) -> will not return extra ARS column\n",
      "            - \"GEODL3\" (Deutschland, 1) -> will not return extra ARS column\n",
      "            - \"GEOGM1\" (Gemeinden, 11340)\n",
      "            - \"GEOGM2\" (Gemeinden mit min. 10_000 Einwohnern, 1574)\n",
      "            - \"GEOGM3\" (Gemeinden mit min. 10_000 Einwohnern, 1574)\n",
      "            - \"GEOGM4\" (Gemeinden (Gebietsstand 15.05.2022), 10787)\n",
      "            - \"GEOGM5\" (Gemeinden > 10.000 Einwohner (Stand 15.05.2022), 1578)\n",
      "            - \"GEOLK1\" (Landkreise u. krsfr. Städte (Stand 09.05.11), 412)\n",
      "            - \"GEOLK3\" (Landkreise und kreisfreie Städte, 412)\n",
      "            - \"GEOLK4\" (Landkreise u. krsfr. Städte (Stand 15.05.22), 400)\n",
      "            - \"GEORB1\" (Regierungsbezirke/Statistische Regionen, 36)\n",
      "            - \"GEORB3\" (Regierungsbezirke/Statistische Regionen, 36)\n",
      "            - \"GEOVB1\" (Gemeindeverbände (Gebietsstand 09.05.2011), 1333)\n",
      "            - \"GEOVB2\" (Gemeindeverbände mit mindestens 10 000 Einwohnern, 338)\n",
      "            - \"GEOVB3\" (Gemeindeverbände mit mindestens 10 000 Einwohnern, 157)\n",
      "            - \"GEOVB4\" (Gemeindeverbände (Gebietsstand 15.05.2022), 1207)\n",
      "            - \"GEOVB5\" (Gemeindeverbände > 10.000 Einw. (Stand 15.05.2022), 588)\n",
      "\n",
      "    regionalkey (str, optional): Official municipality key (AGS).\n",
      "        Multiple values can be passed as a comma-separated list.\n",
      "        Accepts 1-12 characters. \"*\" can be used as wildcard.\n",
      "    stand (str, optional): Only download the table if it is newer than the status date.\n",
      "        \"tt.mm.jjjj hh:mm\" or \"tt.mm.jjjj\". Example: \"24.12.2001 19:15\".\n",
      "    language (str, optional): Messages and data descriptions are supplied in this language.\n",
      "        For GENESIS and Zensus, ['de', 'en'] are supported. For Regionalstatistik, only 'de' is supported.\n",
      "    quality (str): One of \"on\" or \"off\". If \"on\", quality symbols are part of the download and\n",
      "        additional columns (__q) are displayed. Defaults to \"off\".\n",
      "        The explanation of the quality labels can be found online after retrieving the table values,\n",
      "        table -> explanation of symbols or at e.g.\n",
      "        https://www-genesis.destatis.de/genesis/online?operation=ergebnistabelleQualitaet&language=en&levelindex=3&levelid=1719342760835#abreadcrumb.\n",
      "\u001b[31mFile:\u001b[39m      ~/git/github/CorrelAid/pystatis/src/pystatis/table.py\n",
      "\u001b[31mType:\u001b[39m      method"
     ]
    }
   ],
   "source": [
    "?t.get_data"
   ]
  },
  {
   "cell_type": "markdown",
   "id": "27f2deb1",
   "metadata": {},
   "source": [
    "### `prettify`\n"
   ]
  },
  {
   "cell_type": "markdown",
   "id": "1f2dcb9e",
   "metadata": {},
   "source": [
    "`prettify` is a boolean and can only be `True` or `False`. The default is `True` because `prettify` is basically doing all the above mentioned work behind the scenes to transform the raw data into the nicer tidy version. However, as we don't know what specific requirements you have, it can always be the case that we are not doing what you want to do or we are doing it in a wrong way. Instead of starting from scratch with the raw string, `prettify=False` will still give you a pandas `DataFrame` but without the transformations described in the previous sections. Basically, `prettify=False` gives you the raw data as a pandas `DataFrame` instead of a string without any transformation from our side.\n"
   ]
  },
  {
   "cell_type": "code",
   "execution_count": 11,
   "id": "5953416f",
   "metadata": {},
   "outputs": [
    {
     "name": "stderr",
     "output_type": "stream",
     "text": [
      "INFO:pystatis.http_helper:Database selected: zensus\n"
     ]
    },
    {
     "name": "stdout",
     "output_type": "stream",
     "text": [
      "hit\n"
     ]
    },
    {
     "name": "stderr",
     "output_type": "stream",
     "text": [
      "INFO:pystatis.http_helper:Code 0: erfolgreich\n"
     ]
    },
    {
     "data": {
      "application/vnd.microsoft.datawrangler.viewer.v0+json": {
       "columns": [
        {
         "name": "index",
         "rawType": "int64",
         "type": "integer"
        },
        {
         "name": "statistics_code",
         "rawType": "object",
         "type": "string"
        },
        {
         "name": "statistics_label",
         "rawType": "object",
         "type": "string"
        },
        {
         "name": "time_code",
         "rawType": "object",
         "type": "string"
        },
        {
         "name": "time_label",
         "rawType": "object",
         "type": "string"
        },
        {
         "name": "time",
         "rawType": "datetime64[ns]",
         "type": "datetime"
        },
        {
         "name": "1_variable_code",
         "rawType": "object",
         "type": "string"
        },
        {
         "name": "1_variable_label",
         "rawType": "object",
         "type": "string"
        },
        {
         "name": "1_variable_attribute_code",
         "rawType": "object",
         "type": "string"
        },
        {
         "name": "1_variable_attribute_label",
         "rawType": "object",
         "type": "string"
        },
        {
         "name": "value",
         "rawType": "int64",
         "type": "integer"
        },
        {
         "name": "value_unit",
         "rawType": "object",
         "type": "string"
        },
        {
         "name": "value_variable_code",
         "rawType": "object",
         "type": "string"
        },
        {
         "name": "value_variable_label",
         "rawType": "object",
         "type": "string"
        }
       ],
       "conversionMethod": "pd.DataFrame",
       "ref": "067e2b60-0e26-40d4-9cd0-ffdb99c2d1d7",
       "rows": [
        [
         "0",
         "1000A",
         "Bevölkerung kompakt (Gebietsstand 15.05.2022)",
         "STAG",
         "Stichtag",
         "2022-05-15 00:00:00",
         "GEODL1",
         "Deutschland",
         "DG",
         "Deutschland",
         "82719540",
         "Anzahl",
         "PRS001",
         "Personen"
        ],
        [
         "1",
         "1000A",
         "Bevölkerung kompakt (Gebietsstand 15.05.2022)",
         "STAG",
         "Stichtag",
         "2022-05-15 00:00:00",
         "GEOGM4",
         "Gemeinden (Gebietsstand 15.05.2022)",
         "092760130130",
         "Lindberg",
         "2294",
         "Anzahl",
         "PRS018",
         "Personen"
        ],
        [
         "2",
         "1000A",
         "Bevölkerung kompakt (Gebietsstand 15.05.2022)",
         "STAG",
         "Stichtag",
         "2022-05-15 00:00:00",
         "GEOGM4",
         "Gemeinden (Gebietsstand 15.05.2022)",
         "073355011022",
         "Landstuhl, Sickingenstadt, Stadt",
         "8305",
         "Anzahl",
         "PRS018",
         "Personen"
        ]
       ],
       "shape": {
        "columns": 13,
        "rows": 3
       }
      },
      "text/html": [
       "<div>\n",
       "<style scoped>\n",
       "    .dataframe tbody tr th:only-of-type {\n",
       "        vertical-align: middle;\n",
       "    }\n",
       "\n",
       "    .dataframe tbody tr th {\n",
       "        vertical-align: top;\n",
       "    }\n",
       "\n",
       "    .dataframe thead th {\n",
       "        text-align: right;\n",
       "    }\n",
       "</style>\n",
       "<table border=\"1\" class=\"dataframe\">\n",
       "  <thead>\n",
       "    <tr style=\"text-align: right;\">\n",
       "      <th></th>\n",
       "      <th>statistics_code</th>\n",
       "      <th>statistics_label</th>\n",
       "      <th>time_code</th>\n",
       "      <th>time_label</th>\n",
       "      <th>time</th>\n",
       "      <th>1_variable_code</th>\n",
       "      <th>1_variable_label</th>\n",
       "      <th>1_variable_attribute_code</th>\n",
       "      <th>1_variable_attribute_label</th>\n",
       "      <th>value</th>\n",
       "      <th>value_unit</th>\n",
       "      <th>value_variable_code</th>\n",
       "      <th>value_variable_label</th>\n",
       "    </tr>\n",
       "  </thead>\n",
       "  <tbody>\n",
       "    <tr>\n",
       "      <th>0</th>\n",
       "      <td>1000A</td>\n",
       "      <td>Bevölkerung kompakt (Gebietsstand 15.05.2022)</td>\n",
       "      <td>STAG</td>\n",
       "      <td>Stichtag</td>\n",
       "      <td>2022-05-15</td>\n",
       "      <td>GEODL1</td>\n",
       "      <td>Deutschland</td>\n",
       "      <td>DG</td>\n",
       "      <td>Deutschland</td>\n",
       "      <td>82719540</td>\n",
       "      <td>Anzahl</td>\n",
       "      <td>PRS001</td>\n",
       "      <td>Personen</td>\n",
       "    </tr>\n",
       "    <tr>\n",
       "      <th>1</th>\n",
       "      <td>1000A</td>\n",
       "      <td>Bevölkerung kompakt (Gebietsstand 15.05.2022)</td>\n",
       "      <td>STAG</td>\n",
       "      <td>Stichtag</td>\n",
       "      <td>2022-05-15</td>\n",
       "      <td>GEOGM4</td>\n",
       "      <td>Gemeinden (Gebietsstand 15.05.2022)</td>\n",
       "      <td>092760130130</td>\n",
       "      <td>Lindberg</td>\n",
       "      <td>2294</td>\n",
       "      <td>Anzahl</td>\n",
       "      <td>PRS018</td>\n",
       "      <td>Personen</td>\n",
       "    </tr>\n",
       "    <tr>\n",
       "      <th>2</th>\n",
       "      <td>1000A</td>\n",
       "      <td>Bevölkerung kompakt (Gebietsstand 15.05.2022)</td>\n",
       "      <td>STAG</td>\n",
       "      <td>Stichtag</td>\n",
       "      <td>2022-05-15</td>\n",
       "      <td>GEOGM4</td>\n",
       "      <td>Gemeinden (Gebietsstand 15.05.2022)</td>\n",
       "      <td>073355011022</td>\n",
       "      <td>Landstuhl, Sickingenstadt, Stadt</td>\n",
       "      <td>8305</td>\n",
       "      <td>Anzahl</td>\n",
       "      <td>PRS018</td>\n",
       "      <td>Personen</td>\n",
       "    </tr>\n",
       "  </tbody>\n",
       "</table>\n",
       "</div>"
      ],
      "text/plain": [
       "  statistics_code                               statistics_label time_code time_label       time 1_variable_code                     1_variable_label 1_variable_attribute_code        1_variable_attribute_label     value value_unit value_variable_code value_variable_label\n",
       "0           1000A  Bevölkerung kompakt (Gebietsstand 15.05.2022)      STAG   Stichtag 2022-05-15          GEODL1                          Deutschland                        DG                       Deutschland  82719540     Anzahl              PRS001             Personen\n",
       "1           1000A  Bevölkerung kompakt (Gebietsstand 15.05.2022)      STAG   Stichtag 2022-05-15          GEOGM4  Gemeinden (Gebietsstand 15.05.2022)              092760130130                          Lindberg      2294     Anzahl              PRS018             Personen\n",
       "2           1000A  Bevölkerung kompakt (Gebietsstand 15.05.2022)      STAG   Stichtag 2022-05-15          GEOGM4  Gemeinden (Gebietsstand 15.05.2022)              073355011022  Landstuhl, Sickingenstadt, Stadt      8305     Anzahl              PRS018             Personen"
      ]
     },
     "execution_count": 11,
     "metadata": {},
     "output_type": "execute_result"
    }
   ],
   "source": [
    "t = Table(\"1000A-0000\")\n",
    "t.get_data(prettify=False)\n",
    "t.data.head(3)"
   ]
  },
  {
   "cell_type": "code",
   "execution_count": null,
   "id": "993660a3",
   "metadata": {},
   "outputs": [
    {
     "name": "stderr",
     "output_type": "stream",
     "text": [
      "INFO:pystatis.http_helper:Database selected: zensus\n"
     ]
    },
    {
     "name": "stdout",
     "output_type": "stream",
     "text": [
      "hit\n"
     ]
    },
    {
     "name": "stderr",
     "output_type": "stream",
     "text": [
      "INFO:pystatis.http_helper:Code 0: erfolgreich\n"
     ]
    },
    {
     "data": {
      "application/vnd.microsoft.datawrangler.viewer.v0+json": {
       "columns": [
        {
         "name": "index",
         "rawType": "int64",
         "type": "integer"
        },
        {
         "name": "Stichtag",
         "rawType": "datetime64[ns]",
         "type": "datetime"
        },
        {
         "name": "Amtlicher Regionalschlüssel (ARS)__Code",
         "rawType": "object",
         "type": "string"
        },
        {
         "name": "Amtlicher Regionalschlüssel (ARS)",
         "rawType": "object",
         "type": "string"
        },
        {
         "name": "Personen__Anzahl",
         "rawType": "int64",
         "type": "integer"
        }
       ],
       "conversionMethod": "pd.DataFrame",
       "ref": "1d23c831-177d-4bf5-8ca4-0ea49573fb37",
       "rows": [
        [
         "0",
         "2022-05-15 00:00:00",
         "DG",
         "Deutschland",
         "82719540"
        ],
        [
         "4816",
         "2022-05-15 00:00:00",
         "073355011022",
         "Landstuhl, Sickingenstadt, Stadt",
         "8305"
        ],
        [
         "6934",
         "2022-05-15 00:00:00",
         "092760130130",
         "Lindberg",
         "2294"
        ]
       ],
       "shape": {
        "columns": 4,
        "rows": 3
       }
      },
      "text/html": [
       "<div>\n",
       "<style scoped>\n",
       "    .dataframe tbody tr th:only-of-type {\n",
       "        vertical-align: middle;\n",
       "    }\n",
       "\n",
       "    .dataframe tbody tr th {\n",
       "        vertical-align: top;\n",
       "    }\n",
       "\n",
       "    .dataframe thead th {\n",
       "        text-align: right;\n",
       "    }\n",
       "</style>\n",
       "<table border=\"1\" class=\"dataframe\">\n",
       "  <thead>\n",
       "    <tr style=\"text-align: right;\">\n",
       "      <th></th>\n",
       "      <th>Stichtag</th>\n",
       "      <th>Amtlicher Regionalschlüssel (ARS)__Code</th>\n",
       "      <th>Amtlicher Regionalschlüssel (ARS)</th>\n",
       "      <th>Personen__Anzahl</th>\n",
       "    </tr>\n",
       "  </thead>\n",
       "  <tbody>\n",
       "    <tr>\n",
       "      <th>0</th>\n",
       "      <td>2022-05-15</td>\n",
       "      <td>DG</td>\n",
       "      <td>Deutschland</td>\n",
       "      <td>82719540</td>\n",
       "    </tr>\n",
       "    <tr>\n",
       "      <th>4816</th>\n",
       "      <td>2022-05-15</td>\n",
       "      <td>073355011022</td>\n",
       "      <td>Landstuhl, Sickingenstadt, Stadt</td>\n",
       "      <td>8305</td>\n",
       "    </tr>\n",
       "    <tr>\n",
       "      <th>6934</th>\n",
       "      <td>2022-05-15</td>\n",
       "      <td>092760130130</td>\n",
       "      <td>Lindberg</td>\n",
       "      <td>2294</td>\n",
       "    </tr>\n",
       "  </tbody>\n",
       "</table>\n",
       "</div>"
      ],
      "text/plain": [
       "       Stichtag Amtlicher Regionalschlüssel (ARS)__Code Amtlicher Regionalschlüssel (ARS)  Personen__Anzahl\n",
       "0    2022-05-15                                      DG                       Deutschland          82719540\n",
       "4816 2022-05-15                            073355011022  Landstuhl, Sickingenstadt, Stadt              8305\n",
       "6934 2022-05-15                            092760130130                          Lindberg              2294"
      ]
     },
     "execution_count": 18,
     "metadata": {},
     "output_type": "execute_result"
    }
   ],
   "source": [
    "# don't be confused by the query, we have to query by ARS in this example because prettify=True sorts the data by ARS and the order is different from above\n",
    "t = Table(\"1000A-0000\")\n",
    "t.get_data(prettify=True)\n",
    "t.data[\n",
    "    t.data[\"Amtlicher Regionalschlüssel (ARS)__Code\"].isin(\n",
    "        [\"092760130130\", \"073355011022\", \"DG\"]\n",
    "    )\n",
    "]"
   ]
  },
  {
   "cell_type": "code",
   "execution_count": 19,
   "id": "caef5440",
   "metadata": {},
   "outputs": [
    {
     "name": "stdout",
     "output_type": "stream",
     "text": [
      "<class 'pandas.core.frame.DataFrame'>\n",
      "RangeIndex: 10787 entries, 0 to 10786\n",
      "Data columns (total 4 columns):\n",
      " #   Column                                   Non-Null Count  Dtype         \n",
      "---  ------                                   --------------  -----         \n",
      " 0   Stichtag                                 10787 non-null  datetime64[ns]\n",
      " 1   Amtlicher Regionalschlüssel (ARS)__Code  10787 non-null  object        \n",
      " 2   Amtlicher Regionalschlüssel (ARS)        10787 non-null  object        \n",
      " 3   Personen__Anzahl                         10787 non-null  int64         \n",
      "dtypes: datetime64[ns](1), int64(1), object(2)\n",
      "memory usage: 337.2+ KB\n"
     ]
    }
   ],
   "source": [
    "t.data.info()"
   ]
  },
  {
   "cell_type": "markdown",
   "id": "2a9d87bb",
   "metadata": {},
   "source": [
    "### `area`\n"
   ]
  },
  {
   "cell_type": "markdown",
   "id": "91c8216b",
   "metadata": {},
   "source": [
    "We don't have a good explanation for this one, so if you have a concrete use case, please let us know!\n",
    "\n",
    "Here is the description from the official [documentation](https://www-genesis.destatis.de/genesis/misc/GENESIS-Webservices_Einfuehrung.pdf):\n",
    "\n",
    "The area query parameter specifies the area in which the object is stored, which is analogous to online navigation. Here is the breakdown:\n",
    "\n",
    "For internal users:\n",
    "\n",
    "- Meine/Benutzer\n",
    "- Gruppe\n",
    "- Amt\n",
    "- Katalog/Öffentlich\n",
    "- Alle\n",
    "\n",
    "For external users:\n",
    "\n",
    "- Meine/Benutzer\n",
    "- Katalog/Öffentlich\n",
    "\n",
    "This parameter corresponds to:\n",
    "\n",
    "- Bereich=Benutzer as Bereich=Meine\n",
    "- Bereich=Öffentlich as Bereich=Katalog\n"
   ]
  },
  {
   "cell_type": "markdown",
   "id": "b1bc5047",
   "metadata": {},
   "source": [
    "### `startyear`, `endyear` and `timeslices`\n"
   ]
  },
  {
   "cell_type": "markdown",
   "id": "e72f9b69",
   "metadata": {},
   "source": [
    "All three parameters can be used to fetch data of a certain time range for the given Table. The default is Table specific and has to be checked for each Table, often it is just the latest period of time available.\n",
    "\n",
    "The important thing here is that `timeslices` is **cumulative** to the other two options, meaning that `timeslices=N` will give you N years after `startyear` or before `endyear`.\n"
   ]
  },
  {
   "cell_type": "markdown",
   "id": "d21d8bf4",
   "metadata": {},
   "source": [
    "Let's say you are interested in school-leaving qualifications over the years in Germany. Then Table [21111-0004](https://www-genesis.destatis.de/genesis//online?operation=table&code=21111-0004) might be of interest to you. The description of the table mentions that data is available for the years 1997/98 - 2021/22. But what will the API return if you specify no time parameter?\n"
   ]
  },
  {
   "cell_type": "code",
   "execution_count": 20,
   "id": "c1e32498",
   "metadata": {},
   "outputs": [
    {
     "name": "stderr",
     "output_type": "stream",
     "text": [
      "INFO:pystatis.cache:Data was successfully cached under /Users/miay/.pystatis/data/21111-0004/7f787b175d83ae25ee55/20250412.zip.\n",
      "INFO:pystatis.http_helper:Database selected: genesis\n",
      "INFO:pystatis.http_helper:Code 0: erfolgreich\n"
     ]
    },
    {
     "data": {
      "text/plain": [
       "array(['2021-P1Y', '2022-P1Y'], dtype=object)"
      ]
     },
     "execution_count": 20,
     "metadata": {},
     "output_type": "execute_result"
    }
   ],
   "source": [
    "t = Table(\"21111-0004\")\n",
    "t.get_data()\n",
    "t.data[\"Schuljahr\"].unique()"
   ]
  },
  {
   "cell_type": "markdown",
   "id": "f687bd08",
   "metadata": {},
   "source": [
    "As you can see, `pystatis` only returns you, for whatever reason, the years 2020/21 and 2021/22. How can you get the ten latest years? Let's see:\n"
   ]
  },
  {
   "cell_type": "code",
   "execution_count": 21,
   "id": "9b34306a",
   "metadata": {},
   "outputs": [
    {
     "name": "stderr",
     "output_type": "stream",
     "text": [
      "INFO:pystatis.cache:Data was successfully cached under /Users/miay/.pystatis/data/21111-0004/188b2885044566b1329d/20250412.zip.\n",
      "INFO:pystatis.http_helper:Database selected: genesis\n",
      "INFO:pystatis.http_helper:Code 0: erfolgreich\n"
     ]
    },
    {
     "data": {
      "text/plain": [
       "array(['2013-P1Y', '2014-P1Y', '2015-P1Y', '2016-P1Y', '2017-P1Y',\n",
       "       '2018-P1Y', '2019-P1Y', '2020-P1Y', '2021-P1Y', '2022-P1Y'],\n",
       "      dtype=object)"
      ]
     },
     "execution_count": 21,
     "metadata": {},
     "output_type": "execute_result"
    }
   ],
   "source": [
    "t.get_data(timeslices=10)\n",
    "t.data[\"Schuljahr\"].unique()"
   ]
  },
  {
   "cell_type": "code",
   "execution_count": 22,
   "id": "037dfbd8",
   "metadata": {},
   "outputs": [
    {
     "name": "stderr",
     "output_type": "stream",
     "text": [
      "INFO:pystatis.cache:Data was successfully cached under /Users/miay/.pystatis/data/21111-0004/2cd6fefd6a6c423b70bd/20250412.zip.\n",
      "INFO:pystatis.http_helper:Database selected: genesis\n",
      "INFO:pystatis.http_helper:Code 0: erfolgreich\n"
     ]
    },
    {
     "data": {
      "text/plain": [
       "array(['2012-P1Y', '2013-P1Y', '2014-P1Y', '2015-P1Y', '2016-P1Y',\n",
       "       '2017-P1Y', '2018-P1Y', '2019-P1Y', '2020-P1Y', '2021-P1Y',\n",
       "       '2022-P1Y'], dtype=object)"
      ]
     },
     "execution_count": 22,
     "metadata": {},
     "output_type": "execute_result"
    }
   ],
   "source": [
    "t.get_data(startyear=\"2012\")\n",
    "t.data[\"Schuljahr\"].unique()"
   ]
  },
  {
   "cell_type": "markdown",
   "id": "630d5fff",
   "metadata": {},
   "source": [
    "If you are only interested in a time period somewhere in between, you need to use both `startyear` and `endyear`:\n"
   ]
  },
  {
   "cell_type": "code",
   "execution_count": 23,
   "id": "d0b70aad",
   "metadata": {},
   "outputs": [
    {
     "name": "stderr",
     "output_type": "stream",
     "text": [
      "INFO:pystatis.cache:Data was successfully cached under /Users/miay/.pystatis/data/21111-0004/23e95897ca6a80fd2617/20250412.zip.\n",
      "INFO:pystatis.http_helper:Database selected: genesis\n",
      "INFO:pystatis.http_helper:Code 0: erfolgreich\n"
     ]
    },
    {
     "data": {
      "text/plain": [
       "array(['2012-P1Y', '2013-P1Y', '2014-P1Y', '2015-P1Y'], dtype=object)"
      ]
     },
     "execution_count": 23,
     "metadata": {},
     "output_type": "execute_result"
    }
   ],
   "source": [
    "t.get_data(startyear=\"2012\", endyear=\"2015\")\n",
    "t.data[\"Schuljahr\"].unique()"
   ]
  },
  {
   "cell_type": "markdown",
   "id": "6edd09e4",
   "metadata": {},
   "source": [
    "You might expect that using `startyear` and `timeslices` might give the same result, but it turns out that this is not the case and quite misleading. In fact, `timeslices` is always coming on top of whatever you have selected with `startyear` and `endyear`. Is that confusing? We definitely think so!\n"
   ]
  },
  {
   "cell_type": "code",
   "execution_count": null,
   "id": "9bc604d4",
   "metadata": {},
   "outputs": [
    {
     "name": "stderr",
     "output_type": "stream",
     "text": [
      "INFO:pystatis.cache:Data was successfully cached under /Users/miay/.pystatis/data/21111-0004/3286f8f1af46f895cd26/20250412.zip.\n",
      "INFO:pystatis.http_helper:Database selected: genesis\n",
      "INFO:pystatis.http_helper:Code 0: erfolgreich\n"
     ]
    },
    {
     "data": {
      "text/plain": [
       "array(['2012-P1Y', '2013-P1Y', '2014-P1Y', '2015-P1Y', '2020-P1Y',\n",
       "       '2021-P1Y', '2022-P1Y'], dtype=object)"
      ]
     },
     "execution_count": 24,
     "metadata": {},
     "output_type": "execute_result"
    }
   ],
   "source": [
    "t.get_data(\n",
    "    startyear=\"2012\", endyear=\"2015\", timeslices=3\n",
    ")  # gives everything between 2012 and 2015 three more years\n",
    "t.data[\"Schuljahr\"].unique()"
   ]
  },
  {
   "cell_type": "markdown",
   "id": "31cfa070",
   "metadata": {},
   "source": []
  },
  {
   "cell_type": "code",
   "execution_count": null,
   "id": "b3bbe0ed",
   "metadata": {},
   "outputs": [
    {
     "name": "stderr",
     "output_type": "stream",
     "text": [
      "INFO:pystatis.cache:Data was successfully cached under /Users/miay/.pystatis/data/21111-0004/6e1a814d2cac7d1233f1/20250412.zip.\n",
      "INFO:pystatis.http_helper:Database selected: genesis\n",
      "INFO:pystatis.http_helper:Code 0: erfolgreich\n"
     ]
    },
    {
     "data": {
      "text/plain": [
       "array(['1997-P1Y', '1998-P1Y', '1999-P1Y', '2000-P1Y', '2001-P1Y',\n",
       "       '2002-P1Y', '2003-P1Y', '2004-P1Y', '2005-P1Y', '2006-P1Y',\n",
       "       '2007-P1Y', '2008-P1Y', '2009-P1Y', '2010-P1Y', '2011-P1Y',\n",
       "       '2012-P1Y', '2013-P1Y', '2014-P1Y', '2015-P1Y', '2020-P1Y',\n",
       "       '2021-P1Y', '2022-P1Y'], dtype=object)"
      ]
     },
     "execution_count": 25,
     "metadata": {},
     "output_type": "execute_result"
    }
   ],
   "source": [
    "t.get_data(\n",
    "    endyear=\"2015\", timeslices=3\n",
    ")  # gives everything up to 2015 and three more years\n",
    "t.data[\"Schuljahr\"].unique()"
   ]
  },
  {
   "cell_type": "markdown",
   "id": "1293aa0f",
   "metadata": {},
   "source": [
    "### `regionalvariable` and `regionalkey`\n"
   ]
  },
  {
   "cell_type": "markdown",
   "id": "561f5029",
   "metadata": {},
   "source": [
    "Tables that end with a \"B\" in Regionalstatistik are special: They allow to change the regional depth of the data, meaning that you can fetch data for different regional areas depending on these two variables. The same is true for all Zensus tables.\n",
    "\n",
    "To select a specific region area, you can either specify `regionalvariable` and pass one of the reserved codes for this geo variable, or you can directly select a specific region via its key. Let's see some examples, so let's analyze Table [12613-01-01-5-B](https://www.regionalstatistik.de/genesis//online?operation=table&code=12613-01-01-5-B):\n"
   ]
  },
  {
   "cell_type": "code",
   "execution_count": 26,
   "id": "0a5ac832",
   "metadata": {},
   "outputs": [
    {
     "name": "stderr",
     "output_type": "stream",
     "text": [
      "INFO:pystatis.cache:Data was successfully cached under /Users/miay/.pystatis/data/12613-01-01-5-B/f2058cbcdbbce74f2ba4/20250412.zip.\n",
      "INFO:pystatis.http_helper:Database selected: regio\n",
      "INFO:pystatis.http_helper:Code 0: erfolgreich\n"
     ]
    },
    {
     "data": {
      "application/vnd.microsoft.datawrangler.viewer.v0+json": {
       "columns": [
        {
         "name": "index",
         "rawType": "int64",
         "type": "integer"
        },
        {
         "name": "Jahr",
         "rawType": "object",
         "type": "string"
        },
        {
         "name": "Amtlicher Gemeindeschlüssel (AGS)__Code",
         "rawType": "object",
         "type": "string"
        },
        {
         "name": "Amtlicher Gemeindeschlüssel (AGS)",
         "rawType": "object",
         "type": "string"
        },
        {
         "name": "Geschlecht",
         "rawType": "object",
         "type": "string"
        },
        {
         "name": "Gestorbene__Anzahl",
         "rawType": "float64",
         "type": "float"
        }
       ],
       "conversionMethod": "pd.DataFrame",
       "ref": "d9847c4a-b02d-4440-af66-8753ebc2590f",
       "rows": [
        [
         "0",
         "2023",
         "01001000",
         "Flensburg, kreisfreie Stadt",
         "Insgesamt",
         null
        ],
        [
         "1",
         "2023",
         "01001000",
         "Flensburg, kreisfreie Stadt",
         "männlich",
         null
        ],
        [
         "2",
         "2023",
         "01001000",
         "Flensburg, kreisfreie Stadt",
         "weiblich",
         null
        ],
        [
         "3",
         "2023",
         "01002000",
         "Kiel, kreisfreie Stadt, Landeshauptstadt",
         "Insgesamt",
         null
        ],
        [
         "4",
         "2023",
         "01002000",
         "Kiel, kreisfreie Stadt, Landeshauptstadt",
         "männlich",
         null
        ]
       ],
       "shape": {
        "columns": 5,
        "rows": 5
       }
      },
      "text/html": [
       "<div>\n",
       "<style scoped>\n",
       "    .dataframe tbody tr th:only-of-type {\n",
       "        vertical-align: middle;\n",
       "    }\n",
       "\n",
       "    .dataframe tbody tr th {\n",
       "        vertical-align: top;\n",
       "    }\n",
       "\n",
       "    .dataframe thead th {\n",
       "        text-align: right;\n",
       "    }\n",
       "</style>\n",
       "<table border=\"1\" class=\"dataframe\">\n",
       "  <thead>\n",
       "    <tr style=\"text-align: right;\">\n",
       "      <th></th>\n",
       "      <th>Jahr</th>\n",
       "      <th>Amtlicher Gemeindeschlüssel (AGS)__Code</th>\n",
       "      <th>Amtlicher Gemeindeschlüssel (AGS)</th>\n",
       "      <th>Geschlecht</th>\n",
       "      <th>Gestorbene__Anzahl</th>\n",
       "    </tr>\n",
       "  </thead>\n",
       "  <tbody>\n",
       "    <tr>\n",
       "      <th>0</th>\n",
       "      <td>2023</td>\n",
       "      <td>01001000</td>\n",
       "      <td>Flensburg, kreisfreie Stadt</td>\n",
       "      <td>Insgesamt</td>\n",
       "      <td>NaN</td>\n",
       "    </tr>\n",
       "    <tr>\n",
       "      <th>1</th>\n",
       "      <td>2023</td>\n",
       "      <td>01001000</td>\n",
       "      <td>Flensburg, kreisfreie Stadt</td>\n",
       "      <td>männlich</td>\n",
       "      <td>NaN</td>\n",
       "    </tr>\n",
       "    <tr>\n",
       "      <th>2</th>\n",
       "      <td>2023</td>\n",
       "      <td>01001000</td>\n",
       "      <td>Flensburg, kreisfreie Stadt</td>\n",
       "      <td>weiblich</td>\n",
       "      <td>NaN</td>\n",
       "    </tr>\n",
       "    <tr>\n",
       "      <th>3</th>\n",
       "      <td>2023</td>\n",
       "      <td>01002000</td>\n",
       "      <td>Kiel, kreisfreie Stadt, Landeshauptstadt</td>\n",
       "      <td>Insgesamt</td>\n",
       "      <td>NaN</td>\n",
       "    </tr>\n",
       "    <tr>\n",
       "      <th>4</th>\n",
       "      <td>2023</td>\n",
       "      <td>01002000</td>\n",
       "      <td>Kiel, kreisfreie Stadt, Landeshauptstadt</td>\n",
       "      <td>männlich</td>\n",
       "      <td>NaN</td>\n",
       "    </tr>\n",
       "  </tbody>\n",
       "</table>\n",
       "</div>"
      ],
      "text/plain": [
       "   Jahr Amtlicher Gemeindeschlüssel (AGS)__Code         Amtlicher Gemeindeschlüssel (AGS) Geschlecht  Gestorbene__Anzahl\n",
       "0  2023                                01001000               Flensburg, kreisfreie Stadt  Insgesamt                 NaN\n",
       "1  2023                                01001000               Flensburg, kreisfreie Stadt   männlich                 NaN\n",
       "2  2023                                01001000               Flensburg, kreisfreie Stadt   weiblich                 NaN\n",
       "3  2023                                01002000  Kiel, kreisfreie Stadt, Landeshauptstadt  Insgesamt                 NaN\n",
       "4  2023                                01002000  Kiel, kreisfreie Stadt, Landeshauptstadt   männlich                 NaN"
      ]
     },
     "execution_count": 26,
     "metadata": {},
     "output_type": "execute_result"
    }
   ],
   "source": [
    "t = Table(\"12613-01-01-5-B\")\n",
    "t.get_data()\n",
    "t.data.head(5)"
   ]
  },
  {
   "cell_type": "markdown",
   "id": "e173637e",
   "metadata": {},
   "source": [
    "Instead of fetching the data for all municipalities, we can choose a different regional depth (see the codes [here](https://correlaid.github.io/pystatis/dev/pystatis.html#module-pystatis.table)), for example \"KREISE\", one level above \"GEMEINDE\", which is the default for this table.\n"
   ]
  },
  {
   "cell_type": "code",
   "execution_count": 27,
   "id": "ad1ee900",
   "metadata": {},
   "outputs": [
    {
     "name": "stderr",
     "output_type": "stream",
     "text": [
      "INFO:pystatis.cache:Data was successfully cached under /Users/miay/.pystatis/data/12613-01-01-5-B/2827c2eaae48cfa74268/20250412.zip.\n",
      "INFO:pystatis.http_helper:Database selected: regio\n",
      "INFO:pystatis.http_helper:Code 0: erfolgreich\n"
     ]
    },
    {
     "data": {
      "application/vnd.microsoft.datawrangler.viewer.v0+json": {
       "columns": [
        {
         "name": "index",
         "rawType": "int64",
         "type": "integer"
        },
        {
         "name": "Jahr",
         "rawType": "object",
         "type": "string"
        },
        {
         "name": "Amtlicher Gemeindeschlüssel (AGS)__Code",
         "rawType": "object",
         "type": "string"
        },
        {
         "name": "Amtlicher Gemeindeschlüssel (AGS)",
         "rawType": "object",
         "type": "string"
        },
        {
         "name": "Geschlecht",
         "rawType": "object",
         "type": "string"
        },
        {
         "name": "Gestorbene__Anzahl",
         "rawType": "float64",
         "type": "float"
        }
       ],
       "conversionMethod": "pd.DataFrame",
       "ref": "c9fc6432-bf2d-4468-a246-d5947b5ff2b2",
       "rows": [
        [
         "0",
         "2023",
         "01001",
         "Flensburg, kreisfreie Stadt",
         "Insgesamt",
         "1165.0"
        ],
        [
         "1",
         "2023",
         "01001",
         "Flensburg, kreisfreie Stadt",
         "männlich",
         "609.0"
        ],
        [
         "2",
         "2023",
         "01001",
         "Flensburg, kreisfreie Stadt",
         "weiblich",
         "556.0"
        ],
        [
         "3",
         "2023",
         "01002",
         "Kiel, kreisfreie Stadt",
         "Insgesamt",
         "2758.0"
        ],
        [
         "4",
         "2023",
         "01002",
         "Kiel, kreisfreie Stadt",
         "männlich",
         "1364.0"
        ]
       ],
       "shape": {
        "columns": 5,
        "rows": 5
       }
      },
      "text/html": [
       "<div>\n",
       "<style scoped>\n",
       "    .dataframe tbody tr th:only-of-type {\n",
       "        vertical-align: middle;\n",
       "    }\n",
       "\n",
       "    .dataframe tbody tr th {\n",
       "        vertical-align: top;\n",
       "    }\n",
       "\n",
       "    .dataframe thead th {\n",
       "        text-align: right;\n",
       "    }\n",
       "</style>\n",
       "<table border=\"1\" class=\"dataframe\">\n",
       "  <thead>\n",
       "    <tr style=\"text-align: right;\">\n",
       "      <th></th>\n",
       "      <th>Jahr</th>\n",
       "      <th>Amtlicher Gemeindeschlüssel (AGS)__Code</th>\n",
       "      <th>Amtlicher Gemeindeschlüssel (AGS)</th>\n",
       "      <th>Geschlecht</th>\n",
       "      <th>Gestorbene__Anzahl</th>\n",
       "    </tr>\n",
       "  </thead>\n",
       "  <tbody>\n",
       "    <tr>\n",
       "      <th>0</th>\n",
       "      <td>2023</td>\n",
       "      <td>01001</td>\n",
       "      <td>Flensburg, kreisfreie Stadt</td>\n",
       "      <td>Insgesamt</td>\n",
       "      <td>1165.0</td>\n",
       "    </tr>\n",
       "    <tr>\n",
       "      <th>1</th>\n",
       "      <td>2023</td>\n",
       "      <td>01001</td>\n",
       "      <td>Flensburg, kreisfreie Stadt</td>\n",
       "      <td>männlich</td>\n",
       "      <td>609.0</td>\n",
       "    </tr>\n",
       "    <tr>\n",
       "      <th>2</th>\n",
       "      <td>2023</td>\n",
       "      <td>01001</td>\n",
       "      <td>Flensburg, kreisfreie Stadt</td>\n",
       "      <td>weiblich</td>\n",
       "      <td>556.0</td>\n",
       "    </tr>\n",
       "    <tr>\n",
       "      <th>3</th>\n",
       "      <td>2023</td>\n",
       "      <td>01002</td>\n",
       "      <td>Kiel, kreisfreie Stadt</td>\n",
       "      <td>Insgesamt</td>\n",
       "      <td>2758.0</td>\n",
       "    </tr>\n",
       "    <tr>\n",
       "      <th>4</th>\n",
       "      <td>2023</td>\n",
       "      <td>01002</td>\n",
       "      <td>Kiel, kreisfreie Stadt</td>\n",
       "      <td>männlich</td>\n",
       "      <td>1364.0</td>\n",
       "    </tr>\n",
       "  </tbody>\n",
       "</table>\n",
       "</div>"
      ],
      "text/plain": [
       "   Jahr Amtlicher Gemeindeschlüssel (AGS)__Code Amtlicher Gemeindeschlüssel (AGS) Geschlecht  Gestorbene__Anzahl\n",
       "0  2023                                   01001       Flensburg, kreisfreie Stadt  Insgesamt              1165.0\n",
       "1  2023                                   01001       Flensburg, kreisfreie Stadt   männlich               609.0\n",
       "2  2023                                   01001       Flensburg, kreisfreie Stadt   weiblich               556.0\n",
       "3  2023                                   01002            Kiel, kreisfreie Stadt  Insgesamt              2758.0\n",
       "4  2023                                   01002            Kiel, kreisfreie Stadt   männlich              1364.0"
      ]
     },
     "execution_count": 27,
     "metadata": {},
     "output_type": "execute_result"
    }
   ],
   "source": [
    "t = Table(\"12613-01-01-5-B\")\n",
    "t.get_data(regionalvariable=\"KREISE\")\n",
    "t.data.head(5)"
   ]
  },
  {
   "cell_type": "markdown",
   "id": "783cbae6",
   "metadata": {},
   "source": [
    "`regionalkey` can be used to fetch only certain areas, see <https://datengui.de/statistik-erklaert/ags>. We now fetch only municipalities in Baden-Württemberg:\n"
   ]
  },
  {
   "cell_type": "code",
   "execution_count": 28,
   "id": "84329699",
   "metadata": {},
   "outputs": [
    {
     "name": "stderr",
     "output_type": "stream",
     "text": [
      "INFO:pystatis.cache:Data was successfully cached under /Users/miay/.pystatis/data/12613-01-01-5-B/a9ac273e2f2278e1df8b/20250412.zip.\n",
      "INFO:pystatis.http_helper:Database selected: regio\n",
      "INFO:pystatis.http_helper:Code 0: erfolgreich\n"
     ]
    },
    {
     "data": {
      "application/vnd.microsoft.datawrangler.viewer.v0+json": {
       "columns": [
        {
         "name": "index",
         "rawType": "int64",
         "type": "integer"
        },
        {
         "name": "Jahr",
         "rawType": "object",
         "type": "string"
        },
        {
         "name": "Amtlicher Gemeindeschlüssel (AGS)__Code",
         "rawType": "object",
         "type": "string"
        },
        {
         "name": "Amtlicher Gemeindeschlüssel (AGS)",
         "rawType": "object",
         "type": "string"
        },
        {
         "name": "Geschlecht",
         "rawType": "object",
         "type": "string"
        },
        {
         "name": "Gestorbene__Anzahl",
         "rawType": "float64",
         "type": "float"
        }
       ],
       "conversionMethod": "pd.DataFrame",
       "ref": "8e8a8f22-0cb8-4e29-8b5c-509ee05de370",
       "rows": [
        [
         "0",
         "2023",
         "08111000",
         "Stuttgart, Landeshauptstadt",
         "Insgesamt",
         null
        ],
        [
         "1",
         "2023",
         "08111000",
         "Stuttgart, Landeshauptstadt",
         "männlich",
         null
        ],
        [
         "2",
         "2023",
         "08111000",
         "Stuttgart, Landeshauptstadt",
         "weiblich",
         null
        ],
        [
         "3",
         "2023",
         "08115001",
         "Aidlingen",
         "Insgesamt",
         null
        ],
        [
         "4",
         "2023",
         "08115001",
         "Aidlingen",
         "männlich",
         null
        ]
       ],
       "shape": {
        "columns": 5,
        "rows": 5
       }
      },
      "text/html": [
       "<div>\n",
       "<style scoped>\n",
       "    .dataframe tbody tr th:only-of-type {\n",
       "        vertical-align: middle;\n",
       "    }\n",
       "\n",
       "    .dataframe tbody tr th {\n",
       "        vertical-align: top;\n",
       "    }\n",
       "\n",
       "    .dataframe thead th {\n",
       "        text-align: right;\n",
       "    }\n",
       "</style>\n",
       "<table border=\"1\" class=\"dataframe\">\n",
       "  <thead>\n",
       "    <tr style=\"text-align: right;\">\n",
       "      <th></th>\n",
       "      <th>Jahr</th>\n",
       "      <th>Amtlicher Gemeindeschlüssel (AGS)__Code</th>\n",
       "      <th>Amtlicher Gemeindeschlüssel (AGS)</th>\n",
       "      <th>Geschlecht</th>\n",
       "      <th>Gestorbene__Anzahl</th>\n",
       "    </tr>\n",
       "  </thead>\n",
       "  <tbody>\n",
       "    <tr>\n",
       "      <th>0</th>\n",
       "      <td>2023</td>\n",
       "      <td>08111000</td>\n",
       "      <td>Stuttgart, Landeshauptstadt</td>\n",
       "      <td>Insgesamt</td>\n",
       "      <td>NaN</td>\n",
       "    </tr>\n",
       "    <tr>\n",
       "      <th>1</th>\n",
       "      <td>2023</td>\n",
       "      <td>08111000</td>\n",
       "      <td>Stuttgart, Landeshauptstadt</td>\n",
       "      <td>männlich</td>\n",
       "      <td>NaN</td>\n",
       "    </tr>\n",
       "    <tr>\n",
       "      <th>2</th>\n",
       "      <td>2023</td>\n",
       "      <td>08111000</td>\n",
       "      <td>Stuttgart, Landeshauptstadt</td>\n",
       "      <td>weiblich</td>\n",
       "      <td>NaN</td>\n",
       "    </tr>\n",
       "    <tr>\n",
       "      <th>3</th>\n",
       "      <td>2023</td>\n",
       "      <td>08115001</td>\n",
       "      <td>Aidlingen</td>\n",
       "      <td>Insgesamt</td>\n",
       "      <td>NaN</td>\n",
       "    </tr>\n",
       "    <tr>\n",
       "      <th>4</th>\n",
       "      <td>2023</td>\n",
       "      <td>08115001</td>\n",
       "      <td>Aidlingen</td>\n",
       "      <td>männlich</td>\n",
       "      <td>NaN</td>\n",
       "    </tr>\n",
       "  </tbody>\n",
       "</table>\n",
       "</div>"
      ],
      "text/plain": [
       "   Jahr Amtlicher Gemeindeschlüssel (AGS)__Code Amtlicher Gemeindeschlüssel (AGS) Geschlecht  Gestorbene__Anzahl\n",
       "0  2023                                08111000       Stuttgart, Landeshauptstadt  Insgesamt                 NaN\n",
       "1  2023                                08111000       Stuttgart, Landeshauptstadt   männlich                 NaN\n",
       "2  2023                                08111000       Stuttgart, Landeshauptstadt   weiblich                 NaN\n",
       "3  2023                                08115001                         Aidlingen  Insgesamt                 NaN\n",
       "4  2023                                08115001                         Aidlingen   männlich                 NaN"
      ]
     },
     "execution_count": 28,
     "metadata": {},
     "output_type": "execute_result"
    }
   ],
   "source": [
    "t = Table(\"12613-01-01-5-B\")\n",
    "t.get_data(regionalkey=\"08*\")\n",
    "t.data.head(5)"
   ]
  },
  {
   "cell_type": "markdown",
   "id": "d1497a9a",
   "metadata": {},
   "source": [
    "### `stand`\n"
   ]
  },
  {
   "cell_type": "markdown",
   "id": "5aa0d3d6",
   "metadata": {},
   "source": [
    "Can be used to only download tables that have a version newer than the given date.\n"
   ]
  },
  {
   "cell_type": "code",
   "execution_count": 29,
   "id": "055850e8",
   "metadata": {},
   "outputs": [
    {
     "name": "stderr",
     "output_type": "stream",
     "text": [
      "INFO:pystatis.http_helper:Database selected: genesis\n"
     ]
    },
    {
     "name": "stdout",
     "output_type": "stream",
     "text": [
      "hit\n"
     ]
    },
    {
     "name": "stderr",
     "output_type": "stream",
     "text": [
      "INFO:pystatis.http_helper:Code 0: erfolgreich\n"
     ]
    },
    {
     "data": {
      "application/vnd.microsoft.datawrangler.viewer.v0+json": {
       "columns": [
        {
         "name": "index",
         "rawType": "int64",
         "type": "integer"
        },
        {
         "name": "Schuljahr",
         "rawType": "object",
         "type": "string"
        },
        {
         "name": "Geschlecht",
         "rawType": "object",
         "type": "string"
        },
        {
         "name": "Schulart (mit Abschlussmöglichkeit)",
         "rawType": "object",
         "type": "string"
        },
        {
         "name": "Schulabschlüsse",
         "rawType": "object",
         "type": "string"
        },
        {
         "name": "Absolventen und Abgänger__Anzahl",
         "rawType": "float64",
         "type": "float"
        }
       ],
       "conversionMethod": "pd.DataFrame",
       "ref": "a57c5c02-05da-4147-b272-db94c3463769",
       "rows": [
        [
         "0",
         "2021-P1Y",
         "Insgesamt",
         "Insgesamt",
         "Insgesamt",
         "769411.0"
        ],
        [
         "1",
         "2021-P1Y",
         "Insgesamt",
         "Insgesamt",
         "Ohne Hauptschulabschluss",
         "52262.0"
        ],
        [
         "2",
         "2021-P1Y",
         "Insgesamt",
         "Insgesamt",
         "Hauptschulabschluss",
         "125224.0"
        ],
        [
         "3",
         "2021-P1Y",
         "Insgesamt",
         "Insgesamt",
         "Mittlerer Schulabschluss",
         "331806.0"
        ],
        [
         "4",
         "2021-P1Y",
         "Insgesamt",
         "Insgesamt",
         "Fachhochschulreife",
         "770.0"
        ]
       ],
       "shape": {
        "columns": 5,
        "rows": 5
       }
      },
      "text/html": [
       "<div>\n",
       "<style scoped>\n",
       "    .dataframe tbody tr th:only-of-type {\n",
       "        vertical-align: middle;\n",
       "    }\n",
       "\n",
       "    .dataframe tbody tr th {\n",
       "        vertical-align: top;\n",
       "    }\n",
       "\n",
       "    .dataframe thead th {\n",
       "        text-align: right;\n",
       "    }\n",
       "</style>\n",
       "<table border=\"1\" class=\"dataframe\">\n",
       "  <thead>\n",
       "    <tr style=\"text-align: right;\">\n",
       "      <th></th>\n",
       "      <th>Schuljahr</th>\n",
       "      <th>Geschlecht</th>\n",
       "      <th>Schulart (mit Abschlussmöglichkeit)</th>\n",
       "      <th>Schulabschlüsse</th>\n",
       "      <th>Absolventen und Abgänger__Anzahl</th>\n",
       "    </tr>\n",
       "  </thead>\n",
       "  <tbody>\n",
       "    <tr>\n",
       "      <th>0</th>\n",
       "      <td>2021-P1Y</td>\n",
       "      <td>Insgesamt</td>\n",
       "      <td>Insgesamt</td>\n",
       "      <td>Insgesamt</td>\n",
       "      <td>769411.0</td>\n",
       "    </tr>\n",
       "    <tr>\n",
       "      <th>1</th>\n",
       "      <td>2021-P1Y</td>\n",
       "      <td>Insgesamt</td>\n",
       "      <td>Insgesamt</td>\n",
       "      <td>Ohne Hauptschulabschluss</td>\n",
       "      <td>52262.0</td>\n",
       "    </tr>\n",
       "    <tr>\n",
       "      <th>2</th>\n",
       "      <td>2021-P1Y</td>\n",
       "      <td>Insgesamt</td>\n",
       "      <td>Insgesamt</td>\n",
       "      <td>Hauptschulabschluss</td>\n",
       "      <td>125224.0</td>\n",
       "    </tr>\n",
       "    <tr>\n",
       "      <th>3</th>\n",
       "      <td>2021-P1Y</td>\n",
       "      <td>Insgesamt</td>\n",
       "      <td>Insgesamt</td>\n",
       "      <td>Mittlerer Schulabschluss</td>\n",
       "      <td>331806.0</td>\n",
       "    </tr>\n",
       "    <tr>\n",
       "      <th>4</th>\n",
       "      <td>2021-P1Y</td>\n",
       "      <td>Insgesamt</td>\n",
       "      <td>Insgesamt</td>\n",
       "      <td>Fachhochschulreife</td>\n",
       "      <td>770.0</td>\n",
       "    </tr>\n",
       "  </tbody>\n",
       "</table>\n",
       "</div>"
      ],
      "text/plain": [
       "  Schuljahr Geschlecht Schulart (mit Abschlussmöglichkeit)           Schulabschlüsse  Absolventen und Abgänger__Anzahl\n",
       "0  2021-P1Y  Insgesamt                           Insgesamt                 Insgesamt                          769411.0\n",
       "1  2021-P1Y  Insgesamt                           Insgesamt  Ohne Hauptschulabschluss                           52262.0\n",
       "2  2021-P1Y  Insgesamt                           Insgesamt       Hauptschulabschluss                          125224.0\n",
       "3  2021-P1Y  Insgesamt                           Insgesamt  Mittlerer Schulabschluss                          331806.0\n",
       "4  2021-P1Y  Insgesamt                           Insgesamt        Fachhochschulreife                             770.0"
      ]
     },
     "execution_count": 29,
     "metadata": {},
     "output_type": "execute_result"
    }
   ],
   "source": [
    "t = Table(\"21111-0004\")\n",
    "t.get_data()\n",
    "t.data.head(5)"
   ]
  },
  {
   "cell_type": "code",
   "execution_count": 30,
   "id": "8928e0de",
   "metadata": {},
   "outputs": [
    {
     "data": {
      "text/plain": [
       "'24.11.2023 14:49:25h'"
      ]
     },
     "execution_count": 30,
     "metadata": {},
     "output_type": "execute_result"
    }
   ],
   "source": [
    "t.metadata[\"Object\"][\"Updated\"]"
   ]
  },
  {
   "cell_type": "code",
   "execution_count": 31,
   "id": "4bb78e4f",
   "metadata": {},
   "outputs": [
    {
     "name": "stderr",
     "output_type": "stream",
     "text": [
      "INFO:pystatis.cache:Data was successfully cached under /Users/miay/.pystatis/data/21111-0004/6d26e280578c1022c09e/20250412.zip.\n",
      "INFO:pystatis.http_helper:Database selected: genesis\n",
      "INFO:pystatis.http_helper:Code 0: erfolgreich\n"
     ]
    },
    {
     "data": {
      "application/vnd.microsoft.datawrangler.viewer.v0+json": {
       "columns": [
        {
         "name": "index",
         "rawType": "int64",
         "type": "integer"
        },
        {
         "name": "Schuljahr",
         "rawType": "object",
         "type": "string"
        },
        {
         "name": "Geschlecht",
         "rawType": "object",
         "type": "string"
        },
        {
         "name": "Schulart (mit Abschlussmöglichkeit)",
         "rawType": "object",
         "type": "string"
        },
        {
         "name": "Schulabschlüsse",
         "rawType": "object",
         "type": "string"
        },
        {
         "name": "Absolventen und Abgänger__Anzahl",
         "rawType": "float64",
         "type": "float"
        }
       ],
       "conversionMethod": "pd.DataFrame",
       "ref": "add5e8c4-9f43-403e-8603-940bbb3895db",
       "rows": [
        [
         "0",
         "2021-P1Y",
         "Insgesamt",
         "Insgesamt",
         "Insgesamt",
         "769411.0"
        ],
        [
         "1",
         "2021-P1Y",
         "Insgesamt",
         "Insgesamt",
         "Ohne Hauptschulabschluss",
         "52262.0"
        ],
        [
         "2",
         "2021-P1Y",
         "Insgesamt",
         "Insgesamt",
         "Hauptschulabschluss",
         "125224.0"
        ],
        [
         "3",
         "2021-P1Y",
         "Insgesamt",
         "Insgesamt",
         "Mittlerer Schulabschluss",
         "331806.0"
        ],
        [
         "4",
         "2021-P1Y",
         "Insgesamt",
         "Insgesamt",
         "Fachhochschulreife",
         "770.0"
        ]
       ],
       "shape": {
        "columns": 5,
        "rows": 5
       }
      },
      "text/html": [
       "<div>\n",
       "<style scoped>\n",
       "    .dataframe tbody tr th:only-of-type {\n",
       "        vertical-align: middle;\n",
       "    }\n",
       "\n",
       "    .dataframe tbody tr th {\n",
       "        vertical-align: top;\n",
       "    }\n",
       "\n",
       "    .dataframe thead th {\n",
       "        text-align: right;\n",
       "    }\n",
       "</style>\n",
       "<table border=\"1\" class=\"dataframe\">\n",
       "  <thead>\n",
       "    <tr style=\"text-align: right;\">\n",
       "      <th></th>\n",
       "      <th>Schuljahr</th>\n",
       "      <th>Geschlecht</th>\n",
       "      <th>Schulart (mit Abschlussmöglichkeit)</th>\n",
       "      <th>Schulabschlüsse</th>\n",
       "      <th>Absolventen und Abgänger__Anzahl</th>\n",
       "    </tr>\n",
       "  </thead>\n",
       "  <tbody>\n",
       "    <tr>\n",
       "      <th>0</th>\n",
       "      <td>2021-P1Y</td>\n",
       "      <td>Insgesamt</td>\n",
       "      <td>Insgesamt</td>\n",
       "      <td>Insgesamt</td>\n",
       "      <td>769411.0</td>\n",
       "    </tr>\n",
       "    <tr>\n",
       "      <th>1</th>\n",
       "      <td>2021-P1Y</td>\n",
       "      <td>Insgesamt</td>\n",
       "      <td>Insgesamt</td>\n",
       "      <td>Ohne Hauptschulabschluss</td>\n",
       "      <td>52262.0</td>\n",
       "    </tr>\n",
       "    <tr>\n",
       "      <th>2</th>\n",
       "      <td>2021-P1Y</td>\n",
       "      <td>Insgesamt</td>\n",
       "      <td>Insgesamt</td>\n",
       "      <td>Hauptschulabschluss</td>\n",
       "      <td>125224.0</td>\n",
       "    </tr>\n",
       "    <tr>\n",
       "      <th>3</th>\n",
       "      <td>2021-P1Y</td>\n",
       "      <td>Insgesamt</td>\n",
       "      <td>Insgesamt</td>\n",
       "      <td>Mittlerer Schulabschluss</td>\n",
       "      <td>331806.0</td>\n",
       "    </tr>\n",
       "    <tr>\n",
       "      <th>4</th>\n",
       "      <td>2021-P1Y</td>\n",
       "      <td>Insgesamt</td>\n",
       "      <td>Insgesamt</td>\n",
       "      <td>Fachhochschulreife</td>\n",
       "      <td>770.0</td>\n",
       "    </tr>\n",
       "  </tbody>\n",
       "</table>\n",
       "</div>"
      ],
      "text/plain": [
       "  Schuljahr Geschlecht Schulart (mit Abschlussmöglichkeit)           Schulabschlüsse  Absolventen und Abgänger__Anzahl\n",
       "0  2021-P1Y  Insgesamt                           Insgesamt                 Insgesamt                          769411.0\n",
       "1  2021-P1Y  Insgesamt                           Insgesamt  Ohne Hauptschulabschluss                           52262.0\n",
       "2  2021-P1Y  Insgesamt                           Insgesamt       Hauptschulabschluss                          125224.0\n",
       "3  2021-P1Y  Insgesamt                           Insgesamt  Mittlerer Schulabschluss                          331806.0\n",
       "4  2021-P1Y  Insgesamt                           Insgesamt        Fachhochschulreife                             770.0"
      ]
     },
     "execution_count": 31,
     "metadata": {},
     "output_type": "execute_result"
    }
   ],
   "source": [
    "t.get_data(stand=\"01.01.2023\")  # before updated date, so should return data\n",
    "t.data.head()"
   ]
  },
  {
   "cell_type": "code",
   "execution_count": 32,
   "id": "b40994e3",
   "metadata": {},
   "outputs": [
    {
     "ename": "NoNewerDataError",
     "evalue": "Keine aktualisierten Daten vorhanden. (Mindestens ein Parameter enthält ungültige Werte. Er wurde angepasst, um den Service starten zu können.: stand)",
     "output_type": "error",
     "traceback": [
      "\u001b[31m---------------------------------------------------------------------------\u001b[39m",
      "\u001b[31mNoNewerDataError\u001b[39m                          Traceback (most recent call last)",
      "\u001b[36mCell\u001b[39m\u001b[36m \u001b[39m\u001b[32mIn[32]\u001b[39m\u001b[32m, line 1\u001b[39m\n\u001b[32m----> \u001b[39m\u001b[32m1\u001b[39m \u001b[43mt\u001b[49m\u001b[43m.\u001b[49m\u001b[43mget_data\u001b[49m\u001b[43m(\u001b[49m\u001b[43mstand\u001b[49m\u001b[43m=\u001b[49m\u001b[33;43m\"\u001b[39;49m\u001b[33;43m01.12.2024\u001b[39;49m\u001b[33;43m\"\u001b[39;49m\u001b[43m)\u001b[49m  \u001b[38;5;66;03m# after updated date, so error\u001b[39;00m\n\u001b[32m      2\u001b[39m t.data.head()\n",
      "\u001b[36mFile \u001b[39m\u001b[32m~/git/github/CorrelAid/pystatis/src/pystatis/table.py:148\u001b[39m, in \u001b[36mTable.get_data\u001b[39m\u001b[34m(self, prettify, area, startyear, endyear, timeslices, regionalvariable, regionalkey, stand, language, quality)\u001b[39m\n\u001b[32m    145\u001b[39m db_matches = db.identify_db_matches(\u001b[38;5;28mself\u001b[39m.name)\n\u001b[32m    146\u001b[39m db_name = db.select_db_by_credentials(db_matches)\n\u001b[32m--> \u001b[39m\u001b[32m148\u001b[39m raw_data_bytes = \u001b[43mload_data\u001b[49m\u001b[43m(\u001b[49m\u001b[43mendpoint\u001b[49m\u001b[43m=\u001b[49m\u001b[33;43m\"\u001b[39;49m\u001b[33;43mdata\u001b[39;49m\u001b[33;43m\"\u001b[39;49m\u001b[43m,\u001b[49m\u001b[43m \u001b[49m\u001b[43mmethod\u001b[49m\u001b[43m=\u001b[49m\u001b[33;43m\"\u001b[39;49m\u001b[33;43mtablefile\u001b[39;49m\u001b[33;43m\"\u001b[39;49m\u001b[43m,\u001b[49m\u001b[43m \u001b[49m\u001b[43mparams\u001b[49m\u001b[43m=\u001b[49m\u001b[43mparams\u001b[49m\u001b[43m,\u001b[49m\u001b[43m \u001b[49m\u001b[43mdb_name\u001b[49m\u001b[43m=\u001b[49m\u001b[43mdb_name\u001b[49m\u001b[43m)\u001b[49m\n\u001b[32m    149\u001b[39m \u001b[38;5;28;01mtry\u001b[39;00m:\n\u001b[32m    150\u001b[39m     raw_data_str = raw_data_bytes.decode(\u001b[33m\"\u001b[39m\u001b[33mutf-8-sig\u001b[39m\u001b[33m\"\u001b[39m)\n",
      "\u001b[36mFile \u001b[39m\u001b[32m~/git/github/CorrelAid/pystatis/src/pystatis/http_helper.py:53\u001b[39m, in \u001b[36mload_data\u001b[39m\u001b[34m(endpoint, method, params, db_name)\u001b[39m\n\u001b[32m     51\u001b[39m     data = read_from_cache(cache_dir, name, params)\n\u001b[32m     52\u001b[39m \u001b[38;5;28;01melse\u001b[39;00m:\n\u001b[32m---> \u001b[39m\u001b[32m53\u001b[39m     response = \u001b[43mget_data_from_endpoint\u001b[49m\u001b[43m(\u001b[49m\u001b[43mendpoint\u001b[49m\u001b[43m,\u001b[49m\u001b[43m \u001b[49m\u001b[43mmethod\u001b[49m\u001b[43m,\u001b[49m\u001b[43m \u001b[49m\u001b[43mparams\u001b[49m\u001b[43m,\u001b[49m\u001b[43m \u001b[49m\u001b[43mdb_name\u001b[49m\u001b[43m)\u001b[49m\n\u001b[32m     54\u001b[39m     content_type = response.headers.get(\u001b[33m\"\u001b[39m\u001b[33mContent-Type\u001b[39m\u001b[33m\"\u001b[39m, \u001b[33m\"\u001b[39m\u001b[33mtext/csv\u001b[39m\u001b[33m\"\u001b[39m).split(\u001b[33m\"\u001b[39m\u001b[33m/\u001b[39m\u001b[33m\"\u001b[39m)[\n\u001b[32m     55\u001b[39m         -\u001b[32m1\u001b[39m\n\u001b[32m     56\u001b[39m     ]\n\u001b[32m     57\u001b[39m     data = response.content\n",
      "\u001b[36mFile \u001b[39m\u001b[32m~/git/github/CorrelAid/pystatis/src/pystatis/http_helper.py:148\u001b[39m, in \u001b[36mget_data_from_endpoint\u001b[39m\u001b[34m(endpoint, method, params, db_name)\u001b[39m\n\u001b[32m    146\u001b[39m response.encoding = \u001b[33m\"\u001b[39m\u001b[33mUTF-8\u001b[39m\u001b[33m\"\u001b[39m\n\u001b[32m    147\u001b[39m _check_invalid_status_code(response)\n\u001b[32m--> \u001b[39m\u001b[32m148\u001b[39m \u001b[43m_check_invalid_destatis_status_code\u001b[49m\u001b[43m(\u001b[49m\u001b[43mresponse\u001b[49m\u001b[43m)\u001b[49m\n\u001b[32m    150\u001b[39m \u001b[38;5;28;01mreturn\u001b[39;00m response\n",
      "\u001b[36mFile \u001b[39m\u001b[32m~/git/github/CorrelAid/pystatis/src/pystatis/http_helper.py:298\u001b[39m, in \u001b[36m_check_invalid_destatis_status_code\u001b[39m\u001b[34m(response)\u001b[39m\n\u001b[32m    295\u001b[39m     response_dict = \u001b[38;5;28;01mNone\u001b[39;00m\n\u001b[32m    297\u001b[39m \u001b[38;5;28;01mif\u001b[39;00m response_dict \u001b[38;5;129;01mis\u001b[39;00m \u001b[38;5;129;01mnot\u001b[39;00m \u001b[38;5;28;01mNone\u001b[39;00m:\n\u001b[32m--> \u001b[39m\u001b[32m298\u001b[39m     \u001b[43m_check_destatis_status\u001b[49m\u001b[43m(\u001b[49m\u001b[43mresponse_dict\u001b[49m\u001b[43m.\u001b[49m\u001b[43mget\u001b[49m\u001b[43m(\u001b[49m\u001b[33;43m\"\u001b[39;49m\u001b[33;43mStatus\u001b[39;49m\u001b[33;43m\"\u001b[39;49m\u001b[43m,\u001b[49m\u001b[43m \u001b[49m\u001b[43m{\u001b[49m\u001b[43m}\u001b[49m\u001b[43m)\u001b[49m\u001b[43m)\u001b[49m\n",
      "\u001b[36mFile \u001b[39m\u001b[32m~/git/github/CorrelAid/pystatis/src/pystatis/http_helper.py:340\u001b[39m, in \u001b[36m_check_destatis_status\u001b[39m\u001b[34m(destatis_status)\u001b[39m\n\u001b[32m    338\u001b[39m     \u001b[38;5;28;01mpass\u001b[39;00m\n\u001b[32m    339\u001b[39m \u001b[38;5;28;01melif\u001b[39;00m destatis_status_code == \u001b[32m50\u001b[39m:\n\u001b[32m--> \u001b[39m\u001b[32m340\u001b[39m     \u001b[38;5;28;01mraise\u001b[39;00m NoNewerDataError(destatis_status_content)\n\u001b[32m    341\u001b[39m \u001b[38;5;28;01melif\u001b[39;00m destatis_status_code == \u001b[32m90\u001b[39m:\n\u001b[32m    342\u001b[39m     \u001b[38;5;28;01mraise\u001b[39;00m TableNotFoundError(destatis_status_content)\n",
      "\u001b[31mNoNewerDataError\u001b[39m: Keine aktualisierten Daten vorhanden. (Mindestens ein Parameter enthält ungültige Werte. Er wurde angepasst, um den Service starten zu können.: stand)"
     ]
    }
   ],
   "source": [
    "t.get_data(stand=\"01.12.2024\")  # after updated date, so error\n",
    "t.data.head()"
   ]
  },
  {
   "cell_type": "markdown",
   "id": "b1040396",
   "metadata": {},
   "source": [
    "### `language`\n"
   ]
  },
  {
   "cell_type": "markdown",
   "id": "43f5a88b",
   "metadata": {},
   "source": [
    "`language` can either be \"de\" or \"en, with \"de\" being the default, obviously. Regionalstatistik is not supporting \"en\" and will not translate any data, Genesis and Zensus have some support for English, but you have to check for yourself, if the data is translated and to what extend.\n"
   ]
  },
  {
   "cell_type": "code",
   "execution_count": 33,
   "id": "a714ddf8",
   "metadata": {},
   "outputs": [
    {
     "name": "stderr",
     "output_type": "stream",
     "text": [
      "INFO:pystatis.http_helper:Database selected: genesis\n"
     ]
    },
    {
     "name": "stdout",
     "output_type": "stream",
     "text": [
      "hit\n"
     ]
    },
    {
     "name": "stderr",
     "output_type": "stream",
     "text": [
      "INFO:pystatis.http_helper:Code 0: erfolgreich\n"
     ]
    },
    {
     "data": {
      "application/vnd.microsoft.datawrangler.viewer.v0+json": {
       "columns": [
        {
         "name": "index",
         "rawType": "int64",
         "type": "integer"
        },
        {
         "name": "Jahr",
         "rawType": "object",
         "type": "string"
        },
        {
         "name": "Preisbasis (jeweilige Preise / preisbereinigt)",
         "rawType": "object",
         "type": "string"
        },
        {
         "name": "Bruttoinlandsprodukt (Veränderung in %)__Prozent",
         "rawType": "float64",
         "type": "float"
        },
        {
         "name": "Bruttoinlandsprodukt je Einwohner__jew. ME",
         "rawType": "float64",
         "type": "float"
        },
        {
         "name": "Bruttoinlandsprodukt__jew. ME",
         "rawType": "float64",
         "type": "float"
        },
        {
         "name": "Bruttowertschöpfung__jew. ME",
         "rawType": "float64",
         "type": "float"
        },
        {
         "name": "Gütersteuern abzügl. Gütersubventionen__jew. ME",
         "rawType": "float64",
         "type": "float"
        },
        {
         "name": "Gütersteuern__jew. ME",
         "rawType": "float64",
         "type": "float"
        },
        {
         "name": "Gütersubventionen__jew. ME",
         "rawType": "float64",
         "type": "float"
        }
       ],
       "conversionMethod": "pd.DataFrame",
       "ref": "0c2fb160-25ad-4f9c-94d3-6061c6b15e28",
       "rows": [
        [
         "0",
         "2015",
         "in jeweiligen Preisen (Mrd. EUR)",
         "3.4",
         "37774.0",
         "3085.65",
         "2751.937",
         "333.713",
         "333.77",
         "0.057"
        ]
       ],
       "shape": {
        "columns": 9,
        "rows": 1
       }
      },
      "text/html": [
       "<div>\n",
       "<style scoped>\n",
       "    .dataframe tbody tr th:only-of-type {\n",
       "        vertical-align: middle;\n",
       "    }\n",
       "\n",
       "    .dataframe tbody tr th {\n",
       "        vertical-align: top;\n",
       "    }\n",
       "\n",
       "    .dataframe thead th {\n",
       "        text-align: right;\n",
       "    }\n",
       "</style>\n",
       "<table border=\"1\" class=\"dataframe\">\n",
       "  <thead>\n",
       "    <tr style=\"text-align: right;\">\n",
       "      <th></th>\n",
       "      <th>Jahr</th>\n",
       "      <th>Preisbasis (jeweilige Preise / preisbereinigt)</th>\n",
       "      <th>Bruttoinlandsprodukt (Veränderung in %)__Prozent</th>\n",
       "      <th>Bruttoinlandsprodukt je Einwohner__jew. ME</th>\n",
       "      <th>Bruttoinlandsprodukt__jew. ME</th>\n",
       "      <th>Bruttowertschöpfung__jew. ME</th>\n",
       "      <th>Gütersteuern abzügl. Gütersubventionen__jew. ME</th>\n",
       "      <th>Gütersteuern__jew. ME</th>\n",
       "      <th>Gütersubventionen__jew. ME</th>\n",
       "    </tr>\n",
       "  </thead>\n",
       "  <tbody>\n",
       "    <tr>\n",
       "      <th>0</th>\n",
       "      <td>2015</td>\n",
       "      <td>in jeweiligen Preisen (Mrd. EUR)</td>\n",
       "      <td>3.4</td>\n",
       "      <td>37774.0</td>\n",
       "      <td>3085.65</td>\n",
       "      <td>2751.937</td>\n",
       "      <td>333.713</td>\n",
       "      <td>333.77</td>\n",
       "      <td>0.057</td>\n",
       "    </tr>\n",
       "  </tbody>\n",
       "</table>\n",
       "</div>"
      ],
      "text/plain": [
       "   Jahr Preisbasis (jeweilige Preise / preisbereinigt)  Bruttoinlandsprodukt (Veränderung in %)__Prozent  Bruttoinlandsprodukt je Einwohner__jew. ME  Bruttoinlandsprodukt__jew. ME  Bruttowertschöpfung__jew. ME  Gütersteuern abzügl. Gütersubventionen__jew. ME  Gütersteuern__jew. ME  Gütersubventionen__jew. ME\n",
       "0  2015               in jeweiligen Preisen (Mrd. EUR)                                               3.4                                     37774.0                        3085.65                      2751.937                                          333.713                 333.77                       0.057"
      ]
     },
     "execution_count": 33,
     "metadata": {},
     "output_type": "execute_result"
    }
   ],
   "source": [
    "t = Table(\"81000-0001\")\n",
    "t.get_data()\n",
    "t.data.head(1)"
   ]
  },
  {
   "cell_type": "code",
   "execution_count": 34,
   "id": "49f4d094",
   "metadata": {},
   "outputs": [
    {
     "name": "stderr",
     "output_type": "stream",
     "text": [
      "INFO:pystatis.cache:Data was successfully cached under /Users/miay/.pystatis/data/81000-0001/e70f84061d5d48f4285a/20250412.zip.\n",
      "INFO:pystatis.http_helper:Database selected: genesis\n",
      "INFO:pystatis.http_helper:Code 0: successfull\n"
     ]
    },
    {
     "data": {
      "application/vnd.microsoft.datawrangler.viewer.v0+json": {
       "columns": [
        {
         "name": "index",
         "rawType": "int64",
         "type": "integer"
        },
        {
         "name": "Year",
         "rawType": "object",
         "type": "string"
        },
        {
         "name": "Price base (current prices / price-adjusted)",
         "rawType": "object",
         "type": "string"
        },
        {
         "name": "Gross domestic product (change in %)__percent",
         "rawType": "float64",
         "type": "float"
        },
        {
         "name": "Gross domestic product per inhabitant__unit app.",
         "rawType": "float64",
         "type": "float"
        },
        {
         "name": "Gross domestic product__unit app.",
         "rawType": "float64",
         "type": "float"
        },
        {
         "name": "Gross value added__unit app.",
         "rawType": "float64",
         "type": "float"
        },
        {
         "name": "Subsidies on products__unit app.",
         "rawType": "float64",
         "type": "float"
        },
        {
         "name": "Taxes on products less subsidies__unit app.",
         "rawType": "float64",
         "type": "float"
        },
        {
         "name": "Taxes on products__unit app.",
         "rawType": "float64",
         "type": "float"
        }
       ],
       "conversionMethod": "pd.DataFrame",
       "ref": "6769e22e-5112-447d-a3fb-8cdc7382c2ce",
       "rows": [
        [
         "0",
         "2015",
         "At current prices (bn EUR)",
         "3.4",
         "37774.0",
         "3085.65",
         "2751.937",
         "0.057",
         "333.713",
         "333.77"
        ]
       ],
       "shape": {
        "columns": 9,
        "rows": 1
       }
      },
      "text/html": [
       "<div>\n",
       "<style scoped>\n",
       "    .dataframe tbody tr th:only-of-type {\n",
       "        vertical-align: middle;\n",
       "    }\n",
       "\n",
       "    .dataframe tbody tr th {\n",
       "        vertical-align: top;\n",
       "    }\n",
       "\n",
       "    .dataframe thead th {\n",
       "        text-align: right;\n",
       "    }\n",
       "</style>\n",
       "<table border=\"1\" class=\"dataframe\">\n",
       "  <thead>\n",
       "    <tr style=\"text-align: right;\">\n",
       "      <th></th>\n",
       "      <th>Year</th>\n",
       "      <th>Price base (current prices / price-adjusted)</th>\n",
       "      <th>Gross domestic product (change in %)__percent</th>\n",
       "      <th>Gross domestic product per inhabitant__unit app.</th>\n",
       "      <th>Gross domestic product__unit app.</th>\n",
       "      <th>Gross value added__unit app.</th>\n",
       "      <th>Subsidies on products__unit app.</th>\n",
       "      <th>Taxes on products less subsidies__unit app.</th>\n",
       "      <th>Taxes on products__unit app.</th>\n",
       "    </tr>\n",
       "  </thead>\n",
       "  <tbody>\n",
       "    <tr>\n",
       "      <th>0</th>\n",
       "      <td>2015</td>\n",
       "      <td>At current prices (bn EUR)</td>\n",
       "      <td>3.4</td>\n",
       "      <td>37774.0</td>\n",
       "      <td>3085.65</td>\n",
       "      <td>2751.937</td>\n",
       "      <td>0.057</td>\n",
       "      <td>333.713</td>\n",
       "      <td>333.77</td>\n",
       "    </tr>\n",
       "  </tbody>\n",
       "</table>\n",
       "</div>"
      ],
      "text/plain": [
       "   Year Price base (current prices / price-adjusted)  Gross domestic product (change in %)__percent  Gross domestic product per inhabitant__unit app.  Gross domestic product__unit app.  Gross value added__unit app.  Subsidies on products__unit app.  Taxes on products less subsidies__unit app.  Taxes on products__unit app.\n",
       "0  2015                   At current prices (bn EUR)                                            3.4                                           37774.0                            3085.65                      2751.937                             0.057                                      333.713                        333.77"
      ]
     },
     "execution_count": 34,
     "metadata": {},
     "output_type": "execute_result"
    }
   ],
   "source": [
    "t = Table(\"81000-0001\")\n",
    "t.get_data(language=\"en\")\n",
    "t.data.head(1)"
   ]
  },
  {
   "cell_type": "markdown",
   "id": "6fa9de37",
   "metadata": {},
   "source": [
    "### `quality`\n"
   ]
  },
  {
   "cell_type": "markdown",
   "id": "762e1744",
   "metadata": {},
   "source": [
    "`quality` can be either \"on\" or \"off\", with \"off\" being the default. When switching to \"on\", the downloaded table has additional quality columns \"\\_\\_q\" for each value column with quality symbols. Check [Explanation of symbols](https://www-genesis.destatis.de/genesis/online?operation=ergebnistabelleQualitaet&language=en&levelindex=3&levelid=1719342760835#abreadcrumb.) Not supported for all tables or databases.\n"
   ]
  },
  {
   "cell_type": "code",
   "execution_count": 35,
   "id": "f3467e20",
   "metadata": {},
   "outputs": [
    {
     "name": "stderr",
     "output_type": "stream",
     "text": [
      "INFO:pystatis.http_helper:Database selected: genesis\n"
     ]
    },
    {
     "name": "stdout",
     "output_type": "stream",
     "text": [
      "hit\n"
     ]
    },
    {
     "name": "stderr",
     "output_type": "stream",
     "text": [
      "INFO:pystatis.http_helper:Code 0: erfolgreich\n"
     ]
    },
    {
     "data": {
      "application/vnd.microsoft.datawrangler.viewer.v0+json": {
       "columns": [
        {
         "name": "index",
         "rawType": "int64",
         "type": "integer"
        },
        {
         "name": "Jahr",
         "rawType": "object",
         "type": "string"
        },
        {
         "name": "Beschäftigtengrößenklassen",
         "rawType": "object",
         "type": "string"
        },
        {
         "name": "WZ2008 (Abschnitte): URS",
         "rawType": "object",
         "type": "string"
        },
        {
         "name": "Unternehmen (EU)__Anzahl",
         "rawType": "int64",
         "type": "integer"
        },
        {
         "name": "Unternehmen (EU)__Anzahl__q",
         "rawType": "object",
         "type": "string"
        }
       ],
       "conversionMethod": "pd.DataFrame",
       "ref": "a7f4272d-8d13-4e3f-b450-e300cc833863",
       "rows": [
        [
         "0",
         "2022",
         "0 bis unter 10 abhängig Beschäftigte",
         "Bergbau und Gewinnung von Steinen und Erden",
         "1051",
         "e"
        ]
       ],
       "shape": {
        "columns": 5,
        "rows": 1
       }
      },
      "text/html": [
       "<div>\n",
       "<style scoped>\n",
       "    .dataframe tbody tr th:only-of-type {\n",
       "        vertical-align: middle;\n",
       "    }\n",
       "\n",
       "    .dataframe tbody tr th {\n",
       "        vertical-align: top;\n",
       "    }\n",
       "\n",
       "    .dataframe thead th {\n",
       "        text-align: right;\n",
       "    }\n",
       "</style>\n",
       "<table border=\"1\" class=\"dataframe\">\n",
       "  <thead>\n",
       "    <tr style=\"text-align: right;\">\n",
       "      <th></th>\n",
       "      <th>Jahr</th>\n",
       "      <th>Beschäftigtengrößenklassen</th>\n",
       "      <th>WZ2008 (Abschnitte): URS</th>\n",
       "      <th>Unternehmen (EU)__Anzahl</th>\n",
       "      <th>Unternehmen (EU)__Anzahl__q</th>\n",
       "    </tr>\n",
       "  </thead>\n",
       "  <tbody>\n",
       "    <tr>\n",
       "      <th>0</th>\n",
       "      <td>2022</td>\n",
       "      <td>0 bis unter 10 abhängig Beschäftigte</td>\n",
       "      <td>Bergbau und Gewinnung von Steinen und Erden</td>\n",
       "      <td>1051</td>\n",
       "      <td>e</td>\n",
       "    </tr>\n",
       "  </tbody>\n",
       "</table>\n",
       "</div>"
      ],
      "text/plain": [
       "   Jahr            Beschäftigtengrößenklassen                     WZ2008 (Abschnitte): URS  Unternehmen (EU)__Anzahl Unternehmen (EU)__Anzahl__q\n",
       "0  2022  0 bis unter 10 abhängig Beschäftigte  Bergbau und Gewinnung von Steinen und Erden                      1051                           e"
      ]
     },
     "execution_count": 35,
     "metadata": {},
     "output_type": "execute_result"
    }
   ],
   "source": [
    "t = Table(\"52111-0001\")\n",
    "t.get_data(quality=\"on\")\n",
    "t.data.head(1)"
   ]
  },
  {
   "cell_type": "code",
   "execution_count": 36,
   "id": "955f782d",
   "metadata": {},
   "outputs": [
    {
     "name": "stderr",
     "output_type": "stream",
     "text": [
      "INFO:pystatis.http_helper:Database selected: regio\n"
     ]
    },
    {
     "name": "stdout",
     "output_type": "stream",
     "text": [
      "hit\n"
     ]
    },
    {
     "name": "stderr",
     "output_type": "stream",
     "text": [
      "INFO:pystatis.http_helper:Code 0: erfolgreich\n"
     ]
    },
    {
     "data": {
      "application/vnd.microsoft.datawrangler.viewer.v0+json": {
       "columns": [
        {
         "name": "index",
         "rawType": "int64",
         "type": "integer"
        },
        {
         "name": "Jahr",
         "rawType": "object",
         "type": "string"
        },
        {
         "name": "Amtlicher Gemeindeschlüssel (AGS)__Code",
         "rawType": "object",
         "type": "string"
        },
        {
         "name": "Amtlicher Gemeindeschlüssel (AGS)",
         "rawType": "object",
         "type": "string"
        },
        {
         "name": "Art der Lebensform",
         "rawType": "object",
         "type": "string"
        },
        {
         "name": "Lebensformen__1000",
         "rawType": "float64",
         "type": "float"
        },
        {
         "name": "Lebensformen__1000__q",
         "rawType": "object",
         "type": "string"
        }
       ],
       "conversionMethod": "pd.DataFrame",
       "ref": "163621cc-365f-4771-bb8c-a772704f8d42",
       "rows": [
        [
         "0",
         "2019",
         "DG",
         "Deutschland",
         "Alleinstehende",
         "18653.0",
         "e"
        ]
       ],
       "shape": {
        "columns": 6,
        "rows": 1
       }
      },
      "text/html": [
       "<div>\n",
       "<style scoped>\n",
       "    .dataframe tbody tr th:only-of-type {\n",
       "        vertical-align: middle;\n",
       "    }\n",
       "\n",
       "    .dataframe tbody tr th {\n",
       "        vertical-align: top;\n",
       "    }\n",
       "\n",
       "    .dataframe thead th {\n",
       "        text-align: right;\n",
       "    }\n",
       "</style>\n",
       "<table border=\"1\" class=\"dataframe\">\n",
       "  <thead>\n",
       "    <tr style=\"text-align: right;\">\n",
       "      <th></th>\n",
       "      <th>Jahr</th>\n",
       "      <th>Amtlicher Gemeindeschlüssel (AGS)__Code</th>\n",
       "      <th>Amtlicher Gemeindeschlüssel (AGS)</th>\n",
       "      <th>Art der Lebensform</th>\n",
       "      <th>Lebensformen__1000</th>\n",
       "      <th>Lebensformen__1000__q</th>\n",
       "    </tr>\n",
       "  </thead>\n",
       "  <tbody>\n",
       "    <tr>\n",
       "      <th>0</th>\n",
       "      <td>2019</td>\n",
       "      <td>DG</td>\n",
       "      <td>Deutschland</td>\n",
       "      <td>Alleinstehende</td>\n",
       "      <td>18653.0</td>\n",
       "      <td>e</td>\n",
       "    </tr>\n",
       "  </tbody>\n",
       "</table>\n",
       "</div>"
      ],
      "text/plain": [
       "   Jahr Amtlicher Gemeindeschlüssel (AGS)__Code Amtlicher Gemeindeschlüssel (AGS) Art der Lebensform  Lebensformen__1000 Lebensformen__1000__q\n",
       "0  2019                                      DG                       Deutschland     Alleinstehende             18653.0                     e"
      ]
     },
     "execution_count": 36,
     "metadata": {},
     "output_type": "execute_result"
    }
   ],
   "source": [
    "t = Table(\"12211-Z-11\")\n",
    "t.get_data(quality=\"on\")  # not supported, ignored, but also no warning\n",
    "t.data.head(1)"
   ]
  },
  {
   "cell_type": "code",
   "execution_count": 37,
   "id": "f5700bc3",
   "metadata": {},
   "outputs": [
    {
     "name": "stderr",
     "output_type": "stream",
     "text": [
      "INFO:pystatis.cache:Data was successfully cached under /Users/miay/.pystatis/data/1000A-0000/ec488574ddc014f6340b/20250412.zip.\n",
      "INFO:pystatis.http_helper:Database selected: zensus\n",
      "INFO:pystatis.http_helper:Code 0: erfolgreich\n"
     ]
    },
    {
     "data": {
      "application/vnd.microsoft.datawrangler.viewer.v0+json": {
       "columns": [
        {
         "name": "index",
         "rawType": "int64",
         "type": "integer"
        },
        {
         "name": "Stichtag",
         "rawType": "datetime64[ns]",
         "type": "datetime"
        },
        {
         "name": "Amtlicher Regionalschlüssel (ARS)__Code",
         "rawType": "object",
         "type": "string"
        },
        {
         "name": "Amtlicher Regionalschlüssel (ARS)",
         "rawType": "object",
         "type": "string"
        },
        {
         "name": "Personen__Anzahl",
         "rawType": "int64",
         "type": "integer"
        },
        {
         "name": "Personen__Anzahl__q",
         "rawType": "object",
         "type": "string"
        }
       ],
       "conversionMethod": "pd.DataFrame",
       "ref": "d6b90871-8d2d-43e2-85e9-4054eec51920",
       "rows": [
        [
         "0",
         "2022-05-15 00:00:00",
         "DG",
         "Deutschland",
         "82719540",
         "e"
        ]
       ],
       "shape": {
        "columns": 5,
        "rows": 1
       }
      },
      "text/html": [
       "<div>\n",
       "<style scoped>\n",
       "    .dataframe tbody tr th:only-of-type {\n",
       "        vertical-align: middle;\n",
       "    }\n",
       "\n",
       "    .dataframe tbody tr th {\n",
       "        vertical-align: top;\n",
       "    }\n",
       "\n",
       "    .dataframe thead th {\n",
       "        text-align: right;\n",
       "    }\n",
       "</style>\n",
       "<table border=\"1\" class=\"dataframe\">\n",
       "  <thead>\n",
       "    <tr style=\"text-align: right;\">\n",
       "      <th></th>\n",
       "      <th>Stichtag</th>\n",
       "      <th>Amtlicher Regionalschlüssel (ARS)__Code</th>\n",
       "      <th>Amtlicher Regionalschlüssel (ARS)</th>\n",
       "      <th>Personen__Anzahl</th>\n",
       "      <th>Personen__Anzahl__q</th>\n",
       "    </tr>\n",
       "  </thead>\n",
       "  <tbody>\n",
       "    <tr>\n",
       "      <th>0</th>\n",
       "      <td>2022-05-15</td>\n",
       "      <td>DG</td>\n",
       "      <td>Deutschland</td>\n",
       "      <td>82719540</td>\n",
       "      <td>e</td>\n",
       "    </tr>\n",
       "  </tbody>\n",
       "</table>\n",
       "</div>"
      ],
      "text/plain": [
       "    Stichtag Amtlicher Regionalschlüssel (ARS)__Code Amtlicher Regionalschlüssel (ARS)  Personen__Anzahl Personen__Anzahl__q\n",
       "0 2022-05-15                                      DG                       Deutschland          82719540                   e"
      ]
     },
     "execution_count": 37,
     "metadata": {},
     "output_type": "execute_result"
    }
   ],
   "source": [
    "t = Table(\"1000A-0000\")\n",
    "t.get_data(quality=\"on\")\n",
    "t.data.head(1)"
   ]
  }
 ],
 "metadata": {
  "kernelspec": {
   "display_name": ".venv",
   "language": "python",
   "name": "python3"
  },
  "language_info": {
   "codemirror_mode": {
    "name": "ipython",
    "version": 3
   },
   "file_extension": ".py",
   "mimetype": "text/x-python",
   "name": "python",
   "nbconvert_exporter": "python",
   "pygments_lexer": "ipython3",
   "version": "3.13.2"
  }
 },
 "nbformat": 4,
 "nbformat_minor": 5
}
