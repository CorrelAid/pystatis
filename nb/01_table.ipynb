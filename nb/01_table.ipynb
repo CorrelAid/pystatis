{
 "cells": [
  {
   "cell_type": "code",
   "execution_count": 1,
   "id": "165da3a1",
   "metadata": {
    "scrolled": true
   },
   "outputs": [],
   "source": [
    "import logging\n",
    "logging.basicConfig(level=logging.INFO)\n",
    "\n",
    "from pystatis import Table"
   ]
  },
  {
   "cell_type": "code",
   "execution_count": 2,
   "id": "5d25c79a",
   "metadata": {},
   "outputs": [],
   "source": [
    "t = Table(name=\"13231-0001\")"
   ]
  },
  {
   "cell_type": "code",
   "execution_count": 3,
   "id": "632fc783",
   "metadata": {
    "scrolled": false
   },
   "outputs": [
    {
     "name": "stderr",
     "output_type": "stream",
     "text": [
      "INFO:pystatis.http_helper:Code 0: erfolgreich\n"
     ]
    }
   ],
   "source": [
    "t.get_data()"
   ]
  },
  {
   "cell_type": "code",
   "execution_count": 4,
   "id": "f5f1aded",
   "metadata": {},
   "outputs": [
    {
     "data": {
      "text/plain": [
       "'13231-0001'"
      ]
     },
     "execution_count": 4,
     "metadata": {},
     "output_type": "execute_result"
    }
   ],
   "source": [
    "t.name"
   ]
  },
  {
   "cell_type": "code",
   "execution_count": 5,
   "id": "8fede338",
   "metadata": {},
   "outputs": [
    {
     "data": {
      "text/plain": [
       "'Statistik_Code;Statistik_Label;Zeit_Code;Zeit_Label;Zeit;1_Merkmal_Code;1_Merkmal_Label;1_Auspraegung_Code;1_Auspraegung_Label;2_Merkmal_Code;2_Merkmal_Label;2_Auspraegung_Code;2_Auspraegung_Label;3_Merkmal_Code;3_Merkmal_Label;3_Auspraegung_Code;3_Auspraegung_Label;ERW001__Erwerbspersonen__Mill.;ERW002__Erwerbstaetige__Mill.;ERW003__Erwerbslose__Mill.;ERW089__Erwerbslosenquote__Prozent\\n13231;Erwerbslosenstatistik nach dem ILO-Konzept;JAHR;Jahr;2022;DINSG;Deutschland insgesamt;DG;Deutschland;MONAT;Monate;MONAT01;Januar;WERT06;Original- und bereinigte Daten;WERTORG;Originalwerte;43,11;41,68;1,43;3,3\\n13231;Erwerbslosenstatistik nach dem ILO-Konzept;JAHR;Jahr;2022;DINSG;Deutschland insgesamt;DG;Deutschland;MONAT;Monate;MONAT01;Januar;WERT06;Original- und bereinigte Daten;X13JDTB;X13 JDemetra+  Trend;43,27;41,91;1,36;3,1\\n13231;Erwerbslosenstatistik nach dem ILO-Konzept;JAHR;Jahr;2022;DINSG;Deutschland insgesamt;DG;Deutschland;MONAT;Monate;MONAT01;Januar;WERT06;Original- und bereinigte Daten;BV4TB;BV4.1 Trend;43,38;42,02;1,36;3,1\\n13231;Erwerbslosenstatistik nach dem ILO-Konzept;JAHR;Jahr;2022;DINSG;Deutschland insgesamt;DG;Deutschland;MONAT;Monate;MONAT02;Februar;WERT06;Original- und bereinigte Daten;WERTORG;Originalwerte;43,17;41,77;1,40;3,2\\n13231;Erwerbslosenstatistik nach dem ILO-Konzept;JAHR;Jahr;2022;DINSG;Deutschland insgesamt;DG;Deutschland;MONAT;Monate;MONAT02;Februar;WERT06;Original- und bereinigte Daten;X13JDTB;X13 JDemetra+  Trend;43,38;42,04;1,34;3,1\\n13231;Erwerbslosenstatistik nach dem ILO-Konzept;JAHR;Jahr;2022;DINSG;Deutschland insgesamt;DG;Deutschland;MONAT;Monate;MONAT02;Februar;WERT06;Original- und bereinigte Daten;BV4TB;BV4.1 Trend;43,46;42,11;1,35;3,1\\n13231;Erwerbslosenstatistik nach dem ILO-Konzept;JAHR;Jahr;2022;DINSG;Deutschland insgesamt;DG;Deutschland;MONAT;Monate;MONAT03;März;WERT06;Original- und bereinigte Daten;WERTORG;Originalwerte;43,22;41,93;1,29;3,0\\n13231;Erwerbslosenstatistik nach dem ILO-Konzept;JAHR;Jahr;2022;DINSG;Deutschland insgesamt;DG;Deutschland;MONAT;Monate;MONAT03;März;WERT06;Original- und bereinigte Daten;X13JDTB;X13 JDemetra+  Trend;43,51;42,18;1,33;3,1\\n13231;Erwerbslosenstatistik nach dem ILO-Konzept;JAHR;Jahr;2022;DINSG;Deutschland insgesamt;DG;Deutschland;MONAT;Monate;MONAT03;März;WERT06;Original- und bereinigte Daten;BV4TB;BV4.1 Trend;43,54;42,20;1,34;3,1\\n13231;Erwerbslosenstatistik nach dem ILO-Konzept;JAHR;Jahr;2022;DINSG;Deutschland insgesamt;DG;Deutschland;MONAT;Monate;MONAT04;April;WERT06;Original- und bereinigte Daten;WERTORG;Originalwerte;43,64;42,25;1,39;3,2\\n13231;Erwerbslosenstatistik nach dem ILO-Konzept;JAHR;Jahr;2022;DINSG;Deutschland insgesamt;DG;Deutschland;MONAT;Monate;MONAT04;April;WERT06;Original- und bereinigte Daten;X13JDTB;X13 JDemetra+  Trend;43,64;42,32;1,32;3,0\\n13231;Erwerbslosenstatistik nach dem ILO-Konzept;JAHR;Jahr;2022;DINSG;Deutschland insgesamt;DG;Deutschland;MONAT;Monate;MONAT04;April;WERT06;Original- und bereinigte Daten;BV4TB;BV4.1 Trend;43,62;42,28;1,34;3,1\\n13231;Erwerbslosenstatistik nach dem ILO-Konzept;JAHR;Jahr;2022;DINSG;Deutschland insgesamt;DG;Deutschland;MONAT;Monate;MONAT05;Mai;WERT06;Original- und bereinigte Daten;WERTORG;Originalwerte;43,73;42,44;1,29;2,9\\n13231;Erwerbslosenstatistik nach dem ILO-Konzept;JAHR;Jahr;2022;DINSG;Deutschland insgesamt;DG;Deutschland;MONAT;Monate;MONAT05;Mai;WERT06;Original- und bereinigte Daten;X13JDTB;X13 JDemetra+  Trend;43,74;42,42;1,32;3,0\\n13231;Erwerbslosenstatistik nach dem ILO-Konzept;JAHR;Jahr;2022;DINSG;Deutschland insgesamt;DG;Deutschland;MONAT;Monate;MONAT05;Mai;WERT06;Original- und bereinigte Daten;BV4TB;BV4.1 Trend;43,70;42,36;1,34;3,1\\n13231;Erwerbslosenstatistik nach dem ILO-Konzept;JAHR;Jahr;2022;DINSG;Deutschland insgesamt;DG;Deutschland;MONAT;Monate;MONAT06;Juni;WERT06;Original- und bereinigte Daten;WERTORG;Originalwerte;43,75;42,49;1,26;2,9\\n13231;Erwerbslosenstatistik nach dem ILO-Konzept;JAHR;Jahr;2022;DINSG;Deutschland insgesamt;DG;Deutschland;MONAT;Monate;MONAT06;Juni;WERT06;Original- und bereinigte Daten;X13JDTB;X13 JDemetra+  Trend;43,81;42,48;1,33;3,0\\n13231;Erwerbslosenstatistik nach dem ILO-Konzept;JAHR;Jahr;2022;DINSG;Deutschland insgesamt;DG;Deutschland;MONAT;Monate;MONAT06;Juni;WERT06;Original- und bereinigte Daten;BV4TB;BV4.1 Trend;43,77;42,43;1,34;3,1\\n13231;Erwerbslosenstatistik nach dem ILO-Konzept;JAHR;Jahr;2022;DINSG;Deutschland insgesamt;DG;Deutschland;MONAT;Monate;MONAT07;Juli;WERT06;Original- und bereinigte Daten;WERTORG;Originalwerte;43,88;42,41;1,47;3,4\\n13231;Erwerbslosenstatistik nach dem ILO-Konzept;JAHR;Jahr;2022;DINSG;Deutschland insgesamt;DG;Deutschland;MONAT;Monate;MONAT07;Juli;WERT06;Original- und bereinigte Daten;X13JDTB;X13 JDemetra+  Trend;43,86;42,52;1,34;3,0\\n13231;Erwerbslosenstatistik nach dem ILO-Konzept;JAHR;Jahr;2022;DINSG;Deutschland insgesamt;DG;Deutschland;MONAT;Monate;MONAT07;Juli;WERT06;Original- und bereinigte Daten;BV4TB;BV4.1 Trend;43,85;42,51;1,34;3,0\\n13231;Erwerbslosenstatistik nach dem ILO-Konzept;JAHR;Jahr;2022;DINSG;Deutschland insgesamt;DG;Deutschland;MONAT;Monate;MONAT08;August;WERT06;Original- und bereinigte Daten;WERTORG;Originalwerte;44,05;42,69;1,36;3,1\\n13231;Erwerbslosenstatistik nach dem ILO-Konzept;JAHR;Jahr;2022;DINSG;Deutschland insgesamt;DG;Deutschland;MONAT;Monate;MONAT08;August;WERT06;Original- und bereinigte Daten;X13JDTB;X13 JDemetra+  Trend;43,88;42,54;1,34;3,1\\n13231;Erwerbslosenstatistik nach dem ILO-Konzept;JAHR;Jahr;2022;DINSG;Deutschland insgesamt;DG;Deutschland;MONAT;Monate;MONAT08;August;WERT06;Original- und bereinigte Daten;BV4TB;BV4.1 Trend;43,92;42,59;1,33;3,0\\n13231;Erwerbslosenstatistik nach dem ILO-Konzept;JAHR;Jahr;2022;DINSG;Deutschland insgesamt;DG;Deutschland;MONAT;Monate;MONAT09;September;WERT06;Original- und bereinigte Daten;WERTORG;Originalwerte;44,11;42,82;1,29;2,9\\n13231;Erwerbslosenstatistik nach dem ILO-Konzept;JAHR;Jahr;2022;DINSG;Deutschland insgesamt;DG;Deutschland;MONAT;Monate;MONAT09;September;WERT06;Original- und bereinigte Daten;X13JDTB;X13 JDemetra+  Trend;43,94;42,59;1,35;3,1\\n13231;Erwerbslosenstatistik nach dem ILO-Konzept;JAHR;Jahr;2022;DINSG;Deutschland insgesamt;DG;Deutschland;MONAT;Monate;MONAT09;September;WERT06;Original- und bereinigte Daten;BV4TB;BV4.1 Trend;44,00;42,67;1,33;3,0\\n13231;Erwerbslosenstatistik nach dem ILO-Konzept;JAHR;Jahr;2022;DINSG;Deutschland insgesamt;DG;Deutschland;MONAT;Monate;MONAT10;Oktober;WERT06;Original- und bereinigte Daten;WERTORG;Originalwerte;44,20;42,87;1,33;3,0\\n13231;Erwerbslosenstatistik nach dem ILO-Konzept;JAHR;Jahr;2022;DINSG;Deutschland insgesamt;DG;Deutschland;MONAT;Monate;MONAT10;Oktober;WERT06;Original- und bereinigte Daten;X13JDTB;X13 JDemetra+  Trend;43,99;42,65;1,34;3,1\\n13231;Erwerbslosenstatistik nach dem ILO-Konzept;JAHR;Jahr;2022;DINSG;Deutschland insgesamt;DG;Deutschland;MONAT;Monate;MONAT10;Oktober;WERT06;Original- und bereinigte Daten;BV4TB;BV4.1 Trend;44,06;42,73;1,33;3,0\\n13231;Erwerbslosenstatistik nach dem ILO-Konzept;JAHR;Jahr;2022;DINSG;Deutschland insgesamt;DG;Deutschland;MONAT;Monate;MONAT11;November;WERT06;Original- und bereinigte Daten;WERTORG;Originalwerte;44,26;42,94;1,32;3,0\\n13231;Erwerbslosenstatistik nach dem ILO-Konzept;JAHR;Jahr;2022;DINSG;Deutschland insgesamt;DG;Deutschland;MONAT;Monate;MONAT11;November;WERT06;Original- und bereinigte Daten;X13JDTB;X13 JDemetra+  Trend;44,08;42,74;1,34;3,0\\n13231;Erwerbslosenstatistik nach dem ILO-Konzept;JAHR;Jahr;2022;DINSG;Deutschland insgesamt;DG;Deutschland;MONAT;Monate;MONAT11;November;WERT06;Original- und bereinigte Daten;BV4TB;BV4.1 Trend;44,10;42,78;1,32;3,0\\n13231;Erwerbslosenstatistik nach dem ILO-Konzept;JAHR;Jahr;2022;DINSG;Deutschland insgesamt;DG;Deutschland;MONAT;Monate;MONAT12;Dezember;WERT06;Original- und bereinigte Daten;WERTORG;Originalwerte;44,00;42,71;1,29;2,9\\n13231;Erwerbslosenstatistik nach dem ILO-Konzept;JAHR;Jahr;2022;DINSG;Deutschland insgesamt;DG;Deutschland;MONAT;Monate;MONAT12;Dezember;WERT06;Original- und bereinigte Daten;X13JDTB;X13 JDemetra+  Trend;44,15;42,83;1,32;3,0\\n13231;Erwerbslosenstatistik nach dem ILO-Konzept;JAHR;Jahr;2022;DINSG;Deutschland insgesamt;DG;Deutschland;MONAT;Monate;MONAT12;Dezember;WERT06;Original- und bereinigte Daten;BV4TB;BV4.1 Trend;44,13;42,81;1,32;3,0\\n13231;Erwerbslosenstatistik nach dem ILO-Konzept;JAHR;Jahr;2023;DINSG;Deutschland insgesamt;DG;Deutschland;MONAT;Monate;MONAT01;Januar;WERT06;Original- und bereinigte Daten;WERTORG;Originalwerte;44,28;42,93;1,35;3,1\\n13231;Erwerbslosenstatistik nach dem ILO-Konzept;JAHR;Jahr;2023;DINSG;Deutschland insgesamt;DG;Deutschland;MONAT;Monate;MONAT01;Januar;WERT06;Original- und bereinigte Daten;X13JDTB;X13 JDemetra+  Trend;44,23;42,92;1,31;3,0\\n13231;Erwerbslosenstatistik nach dem ILO-Konzept;JAHR;Jahr;2023;DINSG;Deutschland insgesamt;DG;Deutschland;MONAT;Monate;MONAT01;Januar;WERT06;Original- und bereinigte Daten;BV4TB;BV4.1 Trend;44,16;42,84;1,32;3,0\\n13231;Erwerbslosenstatistik nach dem ILO-Konzept;JAHR;Jahr;2023;DINSG;Deutschland insgesamt;DG;Deutschland;MONAT;Monate;MONAT02;Februar;WERT06;Original- und bereinigte Daten;WERTORG;Originalwerte;44,40;43,05;1,35;3,0\\n13231;Erwerbslosenstatistik nach dem ILO-Konzept;JAHR;Jahr;2023;DINSG;Deutschland insgesamt;DG;Deutschland;MONAT;Monate;MONAT02;Februar;WERT06;Original- und bereinigte Daten;X13JDTB;X13 JDemetra+  Trend;44,29;42,99;1,30;2,9\\n13231;Erwerbslosenstatistik nach dem ILO-Konzept;JAHR;Jahr;2023;DINSG;Deutschland insgesamt;DG;Deutschland;MONAT;Monate;MONAT02;Februar;WERT06;Original- und bereinigte Daten;BV4TB;BV4.1 Trend;44,19;42,87;1,32;3,0\\n13231;Erwerbslosenstatistik nach dem ILO-Konzept;JAHR;Jahr;2023;DINSG;Deutschland insgesamt;DG;Deutschland;MONAT;Monate;MONAT03;März;WERT06;Original- und bereinigte Daten;WERTORG;Originalwerte;43,91;42,62;1,29;2,9\\n13231;Erwerbslosenstatistik nach dem ILO-Konzept;JAHR;Jahr;2023;DINSG;Deutschland insgesamt;DG;Deutschland;MONAT;Monate;MONAT03;März;WERT06;Original- und bereinigte Daten;X13JDTB;X13 JDemetra+  Trend;44,31;43,01;1,30;2,9\\n13231;Erwerbslosenstatistik nach dem ILO-Konzept;JAHR;Jahr;2023;DINSG;Deutschland insgesamt;DG;Deutschland;MONAT;Monate;MONAT03;März;WERT06;Original- und bereinigte Daten;BV4TB;BV4.1 Trend;44,21;42,89;1,32;3,0\\n13231;Erwerbslosenstatistik nach dem ILO-Konzept;JAHR;Jahr;2023;DINSG;Deutschland insgesamt;DG;Deutschland;MONAT;Monate;MONAT04;April;WERT06;Original- und bereinigte Daten;WERTORG;Originalwerte;44,27;42,92;1,35;3,1\\n13231;Erwerbslosenstatistik nach dem ILO-Konzept;JAHR;Jahr;2023;DINSG;Deutschland insgesamt;DG;Deutschland;MONAT;Monate;MONAT04;April;WERT06;Original- und bereinigte Daten;X13JDTB;X13 JDemetra+  Trend;44,29;42,99;1,30;2,9\\n13231;Erwerbslosenstatistik nach dem ILO-Konzept;JAHR;Jahr;2023;DINSG;Deutschland insgesamt;DG;Deutschland;MONAT;Monate;MONAT04;April;WERT06;Original- und bereinigte Daten;BV4TB;BV4.1 Trend;44,22;42,90;1,32;3,0\\n13231;Erwerbslosenstatistik nach dem ILO-Konzept;JAHR;Jahr;2023;DINSG;Deutschland insgesamt;DG;Deutschland;MONAT;Monate;MONAT05;Mai;WERT06;Original- und bereinigte Daten;WERTORG;Originalwerte;44,20;42,95;1,25;2,8\\n13231;Erwerbslosenstatistik nach dem ILO-Konzept;JAHR;Jahr;2023;DINSG;Deutschland insgesamt;DG;Deutschland;MONAT;Monate;MONAT05;Mai;WERT06;Original- und bereinigte Daten;X13JDTB;X13 JDemetra+  Trend;44,24;42,94;1,30;2,9\\n13231;Erwerbslosenstatistik nach dem ILO-Konzept;JAHR;Jahr;2023;DINSG;Deutschland insgesamt;DG;Deutschland;MONAT;Monate;MONAT05;Mai;WERT06;Original- und bereinigte Daten;BV4TB;BV4.1 Trend;44,23;42,91;1,32;3,0\\n13231;Erwerbslosenstatistik nach dem ILO-Konzept;JAHR;Jahr;2023;DINSG;Deutschland insgesamt;DG;Deutschland;MONAT;Monate;MONAT06;Juni;WERT06;Original- und bereinigte Daten;WERTORG;Originalwerte;43,99;42,66;1,33;3,0\\n13231;Erwerbslosenstatistik nach dem ILO-Konzept;JAHR;Jahr;2023;DINSG;Deutschland insgesamt;DG;Deutschland;MONAT;Monate;MONAT06;Juni;WERT06;Original- und bereinigte Daten;X13JDTB;X13 JDemetra+  Trend;44,21;42,89;1,32;3,0\\n13231;Erwerbslosenstatistik nach dem ILO-Konzept;JAHR;Jahr;2023;DINSG;Deutschland insgesamt;DG;Deutschland;MONAT;Monate;MONAT06;Juni;WERT06;Original- und bereinigte Daten;BV4TB;BV4.1 Trend;44,22;42,89;1,33;3,0\\n13231;Erwerbslosenstatistik nach dem ILO-Konzept;JAHR;Jahr;2023;DINSG;Deutschland insgesamt;DG;Deutschland;MONAT;Monate;MONAT07;Juli;WERT06;Original- und bereinigte Daten;WERTORG;Originalwerte;44,04;42,73;1,31;3,0\\n13231;Erwerbslosenstatistik nach dem ILO-Konzept;JAHR;Jahr;2023;DINSG;Deutschland insgesamt;DG;Deutschland;MONAT;Monate;MONAT07;Juli;WERT06;Original- und bereinigte Daten;X13JDTB;X13 JDemetra+  Trend;44,17;42,84;1,33;3,0\\n13231;Erwerbslosenstatistik nach dem ILO-Konzept;JAHR;Jahr;2023;DINSG;Deutschland insgesamt;DG;Deutschland;MONAT;Monate;MONAT07;Juli;WERT06;Original- und bereinigte Daten;BV4TB;BV4.1 Trend;44,23;42,90;1,33;3,0\\n13231;Erwerbslosenstatistik nach dem ILO-Konzept;JAHR;Jahr;2023;DINSG;Deutschland insgesamt;DG;Deutschland;MONAT;Monate;MONAT08;August;WERT06;Original- und bereinigte Daten;WERTORG;Originalwerte;44,34;42,93;1,41;3,2\\n13231;Erwerbslosenstatistik nach dem ILO-Konzept;JAHR;Jahr;2023;DINSG;Deutschland insgesamt;DG;Deutschland;MONAT;Monate;MONAT08;August;WERT06;Original- und bereinigte Daten;X13JDTB;X13 JDemetra+  Trend;44,18;42,84;1,34;3,0\\n13231;Erwerbslosenstatistik nach dem ILO-Konzept;JAHR;Jahr;2023;DINSG;Deutschland insgesamt;DG;Deutschland;MONAT;Monate;MONAT08;August;WERT06;Original- und bereinigte Daten;BV4TB;BV4.1 Trend;44,27;42,93;1,34;3,0\\n13231;Erwerbslosenstatistik nach dem ILO-Konzept;JAHR;Jahr;2023;DINSG;Deutschland insgesamt;DG;Deutschland;MONAT;Monate;MONAT09;September;WERT06;Original- und bereinigte Daten;WERTORG;Originalwerte;44,33;43,02;1,31;3,0\\n13231;Erwerbslosenstatistik nach dem ILO-Konzept;JAHR;Jahr;2023;DINSG;Deutschland insgesamt;DG;Deutschland;MONAT;Monate;MONAT09;September;WERT06;Original- und bereinigte Daten;X13JDTB;X13 JDemetra+  Trend;44,21;42,86;1,35;3,1\\n13231;Erwerbslosenstatistik nach dem ILO-Konzept;JAHR;Jahr;2023;DINSG;Deutschland insgesamt;DG;Deutschland;MONAT;Monate;MONAT09;September;WERT06;Original- und bereinigte Daten;BV4TB;BV4.1 Trend;44,32;42,98;1,34;3,0\\n13231;Erwerbslosenstatistik nach dem ILO-Konzept;JAHR;Jahr;2023;DINSG;Deutschland insgesamt;DG;Deutschland;MONAT;Monate;MONAT10;Oktober;WERT06;Original- und bereinigte Daten;WERTORG;Originalwerte;44,52;43,12;1,40;3,1\\n13231;Erwerbslosenstatistik nach dem ILO-Konzept;JAHR;Jahr;2023;DINSG;Deutschland insgesamt;DG;Deutschland;MONAT;Monate;MONAT10;Oktober;WERT06;Original- und bereinigte Daten;X13JDTB;X13 JDemetra+  Trend;44,29;42,93;1,36;3,1\\n13231;Erwerbslosenstatistik nach dem ILO-Konzept;JAHR;Jahr;2023;DINSG;Deutschland insgesamt;DG;Deutschland;MONAT;Monate;MONAT10;Oktober;WERT06;Original- und bereinigte Daten;BV4TB;BV4.1 Trend;44,37;43,03;1,34;3,0\\n13231;Erwerbslosenstatistik nach dem ILO-Konzept;JAHR;Jahr;2023;DINSG;Deutschland insgesamt;DG;Deutschland;MONAT;Monate;MONAT11;November;WERT06;Original- und bereinigte Daten;WERTORG;Originalwerte;44,51;43,16;1,35;3,0\\n13231;Erwerbslosenstatistik nach dem ILO-Konzept;JAHR;Jahr;2023;DINSG;Deutschland insgesamt;DG;Deutschland;MONAT;Monate;MONAT11;November;WERT06;Original- und bereinigte Daten;X13JDTB;X13 JDemetra+  Trend;44,38;43,01;1,37;3,1\\n13231;Erwerbslosenstatistik nach dem ILO-Konzept;JAHR;Jahr;2023;DINSG;Deutschland insgesamt;DG;Deutschland;MONAT;Monate;MONAT11;November;WERT06;Original- und bereinigte Daten;BV4TB;BV4.1 Trend;44,41;43,06;1,35;3,0\\n13231;Erwerbslosenstatistik nach dem ILO-Konzept;JAHR;Jahr;2023;DINSG;Deutschland insgesamt;DG;Deutschland;MONAT;Monate;MONAT12;Dezember;WERT06;Original- und bereinigte Daten;WERTORG;Originalwerte;44,51;43,21;1,30;2,9\\n13231;Erwerbslosenstatistik nach dem ILO-Konzept;JAHR;Jahr;2023;DINSG;Deutschland insgesamt;DG;Deutschland;MONAT;Monate;MONAT12;Dezember;WERT06;Original- und bereinigte Daten;X13JDTB;X13 JDemetra+  Trend;44,46;43,09;1,37;3,1\\n13231;Erwerbslosenstatistik nach dem ILO-Konzept;JAHR;Jahr;2023;DINSG;Deutschland insgesamt;DG;Deutschland;MONAT;Monate;MONAT12;Dezember;WERT06;Original- und bereinigte Daten;BV4TB;BV4.1 Trend;44,43;43,08;1,35;3,0\\n'"
      ]
     },
     "execution_count": 5,
     "metadata": {},
     "output_type": "execute_result"
    }
   ],
   "source": [
    "t.raw_data"
   ]
  },
  {
   "cell_type": "code",
   "execution_count": 6,
   "id": "874bbbb9",
   "metadata": {},
   "outputs": [
    {
     "data": {
      "text/html": [
       "<div>\n",
       "<style scoped>\n",
       "    .dataframe tbody tr th:only-of-type {\n",
       "        vertical-align: middle;\n",
       "    }\n",
       "\n",
       "    .dataframe tbody tr th {\n",
       "        vertical-align: top;\n",
       "    }\n",
       "\n",
       "    .dataframe thead th {\n",
       "        text-align: right;\n",
       "    }\n",
       "</style>\n",
       "<table border=\"1\" class=\"dataframe\">\n",
       "  <thead>\n",
       "    <tr style=\"text-align: right;\">\n",
       "      <th></th>\n",
       "      <th>Jahr</th>\n",
       "      <th>Deutschland insgesamt</th>\n",
       "      <th>Monate</th>\n",
       "      <th>Original- und bereinigte Daten</th>\n",
       "      <th>Erwerbspersonen</th>\n",
       "      <th>Erwerbstaetige</th>\n",
       "      <th>Erwerbslose</th>\n",
       "      <th>Erwerbslosenquote</th>\n",
       "    </tr>\n",
       "  </thead>\n",
       "  <tbody>\n",
       "    <tr>\n",
       "      <th>0</th>\n",
       "      <td>2022</td>\n",
       "      <td>Deutschland</td>\n",
       "      <td>Januar</td>\n",
       "      <td>Originalwerte</td>\n",
       "      <td>43,11</td>\n",
       "      <td>41,68</td>\n",
       "      <td>1,43</td>\n",
       "      <td>3,3</td>\n",
       "    </tr>\n",
       "    <tr>\n",
       "      <th>1</th>\n",
       "      <td>2022</td>\n",
       "      <td>Deutschland</td>\n",
       "      <td>Januar</td>\n",
       "      <td>X13 JDemetra+  Trend</td>\n",
       "      <td>43,27</td>\n",
       "      <td>41,91</td>\n",
       "      <td>1,36</td>\n",
       "      <td>3,1</td>\n",
       "    </tr>\n",
       "    <tr>\n",
       "      <th>2</th>\n",
       "      <td>2022</td>\n",
       "      <td>Deutschland</td>\n",
       "      <td>Januar</td>\n",
       "      <td>BV4.1 Trend</td>\n",
       "      <td>43,38</td>\n",
       "      <td>42,02</td>\n",
       "      <td>1,36</td>\n",
       "      <td>3,1</td>\n",
       "    </tr>\n",
       "    <tr>\n",
       "      <th>3</th>\n",
       "      <td>2022</td>\n",
       "      <td>Deutschland</td>\n",
       "      <td>Februar</td>\n",
       "      <td>Originalwerte</td>\n",
       "      <td>43,17</td>\n",
       "      <td>41,77</td>\n",
       "      <td>1,40</td>\n",
       "      <td>3,2</td>\n",
       "    </tr>\n",
       "    <tr>\n",
       "      <th>4</th>\n",
       "      <td>2022</td>\n",
       "      <td>Deutschland</td>\n",
       "      <td>Februar</td>\n",
       "      <td>X13 JDemetra+  Trend</td>\n",
       "      <td>43,38</td>\n",
       "      <td>42,04</td>\n",
       "      <td>1,34</td>\n",
       "      <td>3,1</td>\n",
       "    </tr>\n",
       "    <tr>\n",
       "      <th>...</th>\n",
       "      <td>...</td>\n",
       "      <td>...</td>\n",
       "      <td>...</td>\n",
       "      <td>...</td>\n",
       "      <td>...</td>\n",
       "      <td>...</td>\n",
       "      <td>...</td>\n",
       "      <td>...</td>\n",
       "    </tr>\n",
       "    <tr>\n",
       "      <th>67</th>\n",
       "      <td>2023</td>\n",
       "      <td>Deutschland</td>\n",
       "      <td>November</td>\n",
       "      <td>X13 JDemetra+  Trend</td>\n",
       "      <td>44,38</td>\n",
       "      <td>43,01</td>\n",
       "      <td>1,37</td>\n",
       "      <td>3,1</td>\n",
       "    </tr>\n",
       "    <tr>\n",
       "      <th>68</th>\n",
       "      <td>2023</td>\n",
       "      <td>Deutschland</td>\n",
       "      <td>November</td>\n",
       "      <td>BV4.1 Trend</td>\n",
       "      <td>44,41</td>\n",
       "      <td>43,06</td>\n",
       "      <td>1,35</td>\n",
       "      <td>3,0</td>\n",
       "    </tr>\n",
       "    <tr>\n",
       "      <th>69</th>\n",
       "      <td>2023</td>\n",
       "      <td>Deutschland</td>\n",
       "      <td>Dezember</td>\n",
       "      <td>Originalwerte</td>\n",
       "      <td>44,51</td>\n",
       "      <td>43,21</td>\n",
       "      <td>1,30</td>\n",
       "      <td>2,9</td>\n",
       "    </tr>\n",
       "    <tr>\n",
       "      <th>70</th>\n",
       "      <td>2023</td>\n",
       "      <td>Deutschland</td>\n",
       "      <td>Dezember</td>\n",
       "      <td>X13 JDemetra+  Trend</td>\n",
       "      <td>44,46</td>\n",
       "      <td>43,09</td>\n",
       "      <td>1,37</td>\n",
       "      <td>3,1</td>\n",
       "    </tr>\n",
       "    <tr>\n",
       "      <th>71</th>\n",
       "      <td>2023</td>\n",
       "      <td>Deutschland</td>\n",
       "      <td>Dezember</td>\n",
       "      <td>BV4.1 Trend</td>\n",
       "      <td>44,43</td>\n",
       "      <td>43,08</td>\n",
       "      <td>1,35</td>\n",
       "      <td>3,0</td>\n",
       "    </tr>\n",
       "  </tbody>\n",
       "</table>\n",
       "<p>72 rows × 8 columns</p>\n",
       "</div>"
      ],
      "text/plain": [
       "    Jahr Deutschland insgesamt    Monate Original- und bereinigte Daten Erwerbspersonen Erwerbstaetige Erwerbslose Erwerbslosenquote\n",
       "0   2022           Deutschland    Januar                  Originalwerte           43,11          41,68        1,43               3,3\n",
       "1   2022           Deutschland    Januar           X13 JDemetra+  Trend           43,27          41,91        1,36               3,1\n",
       "2   2022           Deutschland    Januar                    BV4.1 Trend           43,38          42,02        1,36               3,1\n",
       "3   2022           Deutschland   Februar                  Originalwerte           43,17          41,77        1,40               3,2\n",
       "4   2022           Deutschland   Februar           X13 JDemetra+  Trend           43,38          42,04        1,34               3,1\n",
       "..   ...                   ...       ...                            ...             ...            ...         ...               ...\n",
       "67  2023           Deutschland  November           X13 JDemetra+  Trend           44,38          43,01        1,37               3,1\n",
       "68  2023           Deutschland  November                    BV4.1 Trend           44,41          43,06        1,35               3,0\n",
       "69  2023           Deutschland  Dezember                  Originalwerte           44,51          43,21        1,30               2,9\n",
       "70  2023           Deutschland  Dezember           X13 JDemetra+  Trend           44,46          43,09        1,37               3,1\n",
       "71  2023           Deutschland  Dezember                    BV4.1 Trend           44,43          43,08        1,35               3,0\n",
       "\n",
       "[72 rows x 8 columns]"
      ]
     },
     "execution_count": 6,
     "metadata": {},
     "output_type": "execute_result"
    }
   ],
   "source": [
    "t.data"
   ]
  },
  {
   "cell_type": "code",
   "execution_count": 7,
   "id": "81d27994",
   "metadata": {},
   "outputs": [
    {
     "name": "stdout",
     "output_type": "stream",
     "text": [
      "{'Copyright': '© Statistisches Bundesamt (Destatis), 2024',\n",
      " 'Ident': {'Method': 'table', 'Service': 'metadata'},\n",
      " 'Object': {'Code': '13231-0001',\n",
      "            'Content': 'Erwerbslose, Erwerbstätige, Erwerbspersonen,\\n'\n",
      "                       'Erwerbslosenquote: Deutschland, Monate, Original- und\\n'\n",
      "                       'bereinigte Daten',\n",
      "            'Structure': {'Columns': [{'Code': 'WERT06',\n",
      "                                       'Content': 'Original- und bereinigte '\n",
      "                                                  'Daten',\n",
      "                                       'Selected': None,\n",
      "                                       'Structure': [{'Code': 'ERW001',\n",
      "                                                      'Content': 'Erwerbspersonen',\n",
      "                                                      'Selected': None,\n",
      "                                                      'Structure': None,\n",
      "                                                      'Type': 'Merkmal',\n",
      "                                                      'Updated': 'see parent',\n",
      "                                                      'Values': None},\n",
      "                                                     {'Code': 'ERW002',\n",
      "                                                      'Content': 'Erwerbstätige',\n",
      "                                                      'Selected': None,\n",
      "                                                      'Structure': None,\n",
      "                                                      'Type': 'Merkmal',\n",
      "                                                      'Updated': 'see parent',\n",
      "                                                      'Values': None},\n",
      "                                                     {'Code': 'ERW003',\n",
      "                                                      'Content': 'Erwerbslose',\n",
      "                                                      'Selected': None,\n",
      "                                                      'Structure': None,\n",
      "                                                      'Type': 'Merkmal',\n",
      "                                                      'Updated': 'see parent',\n",
      "                                                      'Values': None},\n",
      "                                                     {'Code': 'ERW089',\n",
      "                                                      'Content': 'Erwerbslosenquote',\n",
      "                                                      'Selected': None,\n",
      "                                                      'Structure': None,\n",
      "                                                      'Type': 'Merkmal',\n",
      "                                                      'Updated': 'see parent',\n",
      "                                                      'Values': None}],\n",
      "                                       'Type': 'Merkmal',\n",
      "                                       'Updated': 'see parent',\n",
      "                                       'Values': None}],\n",
      "                          'Head': {'Code': '13231',\n",
      "                                   'Content': 'Erwerbslosenstatistik nach dem '\n",
      "                                              'ILO-Konzept',\n",
      "                                   'Selected': None,\n",
      "                                   'Structure': [{'Code': 'DINSG',\n",
      "                                                  'Content': 'Deutschland '\n",
      "                                                             'insgesamt',\n",
      "                                                  'Selected': '1',\n",
      "                                                  'Structure': None,\n",
      "                                                  'Type': 'Merkmal',\n",
      "                                                  'Updated': 'see parent',\n",
      "                                                  'Values': '1'}],\n",
      "                                   'Type': 'Statistik',\n",
      "                                   'Updated': 'see parent',\n",
      "                                   'Values': None},\n",
      "                          'Rows': [{'Code': 'JAHR',\n",
      "                                    'Content': 'Jahr',\n",
      "                                    'Selected': '2',\n",
      "                                    'Structure': [{'Code': 'MONAT',\n",
      "                                                   'Content': 'Monate',\n",
      "                                                   'Selected': None,\n",
      "                                                   'Structure': None,\n",
      "                                                   'Type': 'Merkmal',\n",
      "                                                   'Updated': 'see parent',\n",
      "                                                   'Values': None}],\n",
      "                                    'Type': 'Merkmal',\n",
      "                                    'Updated': 'see parent',\n",
      "                                    'Values': '2'}],\n",
      "                          'Subheading': None,\n",
      "                          'Subtitel': None},\n",
      "            'Time': {'From': '1991', 'To': '2023'},\n",
      "            'Updated': '28.12.2022 18:56:13h',\n",
      "            'Valid': 'false'},\n",
      " 'Parameter': {'area': 'Alle',\n",
      "               'language': 'de',\n",
      "               'name': '13231-0001',\n",
      "               'password': '********************',\n",
      "               'username': '********************'},\n",
      " 'Status': {'Code': 0, 'Content': 'erfolgreich', 'Type': 'Information'}}\n"
     ]
    }
   ],
   "source": [
    "from pprint import pprint\n",
    "\n",
    "pprint(t.metadata)"
   ]
  }
 ],
 "metadata": {
  "kernelspec": {
   "display_name": "Python 3.9.7 ('.venv': poetry)",
   "language": "python",
   "name": "python3"
  },
  "language_info": {
   "codemirror_mode": {
    "name": "ipython",
    "version": 3
   },
   "file_extension": ".py",
   "mimetype": "text/x-python",
   "name": "python",
   "nbconvert_exporter": "python",
   "pygments_lexer": "ipython3",
   "version": "3.11.6"
  },
  "vscode": {
   "interpreter": {
    "hash": "02e23b522f8c3795158421909d41ced4ef90521258d58d1c53bee449d96f71e3"
   }
  }
 },
 "nbformat": 4,
 "nbformat_minor": 5
}
