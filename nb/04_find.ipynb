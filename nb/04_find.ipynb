{
 "cells": [
  {
   "cell_type": "code",
   "execution_count": 1,
   "metadata": {},
   "outputs": [],
   "source": [
    "import logging\n",
    "logging.basicConfig(level=logging.INFO)\n",
    "\n",
    "from pystatis import Find"
   ]
  },
  {
   "cell_type": "markdown",
   "metadata": {},
   "source": [
    "You can initiate a find object using a search query, after you execute .run() it will automatically find the data (tables, variables, statistics, ...)"
   ]
  },
  {
   "cell_type": "code",
   "execution_count": 2,
   "metadata": {
    "pycharm": {
     "name": "#%%\n"
    }
   },
   "outputs": [],
   "source": [
    "results = Find(\"Abfall\", db_name=\"regio\")"
   ]
  },
  {
   "cell_type": "code",
   "execution_count": 3,
   "metadata": {
    "pycharm": {
     "name": "#%%\n"
    }
   },
   "outputs": [
    {
     "name": "stderr",
     "output_type": "stream",
     "text": [
      "INFO:pystatis.http_helper:Code 0: erfolgreich\n",
      "INFO:pystatis.http_helper:Code 0: erfolgreich\n",
      "INFO:pystatis.http_helper:Code 0: erfolgreich\n",
      "INFO:pystatis.http_helper:Code 0: erfolgreich\n"
     ]
    },
    {
     "name": "stdout",
     "output_type": "stream",
     "text": [
      "##### Results #####\n",
      "----------------------------------------\n",
      "# Number of tables: 5\n",
      "# Preview:\n",
      "|    | Code            | Content                                                                                    | Time   |\n",
      "|---:|:----------------|:-------------------------------------------------------------------------------------------|:-------|\n",
      "|  0 | 32121-01-02-4   | Haushaltsabfälle - Jahr - regionale Tiefe: Kreise und krfr. Städte                         |        |\n",
      "|  1 | 32121-01-02-4-B | Haushaltsabfälle - Jahr - regionale Ebenen                                                 |        |\n",
      "|  2 | 32151-01-01-4   | Primär nachgewiesene Abfallmengen - Jahressumme - regionale Tiefe: Kreise und krfr. Städte |        |\n",
      "|  3 | 32151-01-01-4-B | Primär nachgewiesene Abfallmengen - Jahressumme - regionale Ebenen                         |        |\n",
      "|  4 | AI019           | Regionalatlas Deutschland Themenbereich \"Umwelt\" Indikatoren zu \"Haushaltsabfälle\"         |        |\n",
      "----------------------------------------\n",
      "# Number of statistics: 3\n",
      "# Preview:\n",
      "|    |   Code | Content                                                               |   Cubes | Information   |\n",
      "|---:|-------:|:----------------------------------------------------------------------|--------:|:--------------|\n",
      "|  0 |  32121 | Erhebung der öffentlich-rechtlichen Abfallentsorgung                  |       8 | true          |\n",
      "|  1 |  32151 | Erhebung der gefährlichen Abfälle, über die Nachweise zu  führen sind |       8 | true          |\n",
      "|  2 |  99910 | Regionalatlas Deutschland                                             |     208 | true          |\n",
      "----------------------------------------\n",
      "# Number of variables: 3\n",
      "# Preview:\n",
      "|    | Code   | Content                                           | Type     |   Values | Information   |\n",
      "|---:|:-------|:--------------------------------------------------|:---------|---------:|:--------------|\n",
      "|  0 | ABFA01 | Abfallarten von Haushaltsabfällen                 | sachlich |        6 | false         |\n",
      "|  1 | AI1904 | Abfälle aus der Biotonne je EW                    | Wert     |       -1 | true          |\n",
      "|  2 | RVUEA1 | Reg. Verbleib der überwachungsbedürftigen Abfälle | sachlich |        2 | false         |\n",
      "----------------------------------------\n",
      "# Number of cubes: 16\n",
      "# Preview:\n",
      "|    | Code       | Content                                                                                                                                                                                      | State                  | Time      | LatestUpdate         | Information   |\n",
      "|---:|:-----------|:---------------------------------------------------------------------------------------------------------------------------------------------------------------------------------------------|:-----------------------|:----------|:---------------------|:--------------|\n",
      "|  0 | 32121BJ002 | Erhebung der öffentlich-rechtlichen Abfallentsorgung, Aufkommen an Haushaltsabfällen (oh.Elektroaltger.), Deutschland, Abfallarten von Haushaltsabfällen, Jahr                               | vollständig mit Werten | 2004-2021 | 12.05.2023 08:58:59h | false         |\n",
      "|  1 | 32121KJ002 | Erhebung der öffentlich-rechtlichen Abfallentsorgung, Aufkommen an Haushaltsabfällen (oh.Elektroaltger.), Kreise und kreisfreie Städte, Abfallarten von Haushaltsabfällen, Jahr              | vollständig mit Werten | 2004-2021 | 09.10.2023 13:13:52h | false         |\n",
      "|  2 | 32121LJ002 | Erhebung der öffentlich-rechtlichen Abfallentsorgung, Aufkommen an Haushaltsabfällen (oh.Elektroaltger.), Bundesländer, Abfallarten von Haushaltsabfällen, Jahr                              | vollständig mit Werten | 2004-2021 | 01.09.2023 14:41:23h | false         |\n",
      "|  3 | 32121RJ002 | Erhebung der öffentlich-rechtlichen Abfallentsorgung, Aufkommen an Haushaltsabfällen (oh.Elektroaltger.), Regierungsbezirke / Statistische Regionen, Abfallarten von Haushaltsabfällen, Jahr | vollständig mit Werten | 2004-2021 | 01.09.2023 14:41:23h | false         |\n",
      "|  4 | 32151BJ001 | Erhebung der gefährlichen Abfälle, über die Nachweise zu  führen sind , Erzeuger von primär nachgewiesenen Abfallmengen, Abgegebene Abfallmenge an Entsorger, Deutschland, Jahr              | vollständig mit Werten | 2001-2021 | 26.07.2023 14:30:27h | false         |\n",
      "----------------------------------------\n",
      "# Use object.tables, object.statistics, object.variables or object.cubes to get all results.\n",
      "----------------------------------------\n"
     ]
    }
   ],
   "source": [
    "results.run()"
   ]
  },
  {
   "cell_type": "code",
   "execution_count": 4,
   "metadata": {
    "pycharm": {
     "name": "#%%\n"
    }
   },
   "outputs": [
    {
     "data": {
      "text/plain": [
       "|    | Code            | Content                                                                                    | Time   |\n",
       "|---:|:----------------|:-------------------------------------------------------------------------------------------|:-------|\n",
       "|  0 | 32121-01-02-4   | Haushaltsabfälle - Jahr - regionale Tiefe: Kreise und krfr. Städte                         |        |\n",
       "|  1 | 32121-01-02-4-B | Haushaltsabfälle - Jahr - regionale Ebenen                                                 |        |\n",
       "|  2 | 32151-01-01-4   | Primär nachgewiesene Abfallmengen - Jahressumme - regionale Tiefe: Kreise und krfr. Städte |        |\n",
       "|  3 | 32151-01-01-4-B | Primär nachgewiesene Abfallmengen - Jahressumme - regionale Ebenen                         |        |\n",
       "|  4 | AI019           | Regionalatlas Deutschland Themenbereich \"Umwelt\" Indikatoren zu \"Haushaltsabfälle\"         |        |"
      ]
     },
     "execution_count": 4,
     "metadata": {},
     "output_type": "execute_result"
    }
   ],
   "source": [
    "results.tables"
   ]
  },
  {
   "cell_type": "code",
   "execution_count": 5,
   "metadata": {
    "pycharm": {
     "name": "#%%\n"
    }
   },
   "outputs": [
    {
     "data": {
      "text/html": [
       "<div>\n",
       "<style scoped>\n",
       "    .dataframe tbody tr th:only-of-type {\n",
       "        vertical-align: middle;\n",
       "    }\n",
       "\n",
       "    .dataframe tbody tr th {\n",
       "        vertical-align: top;\n",
       "    }\n",
       "\n",
       "    .dataframe thead th {\n",
       "        text-align: right;\n",
       "    }\n",
       "</style>\n",
       "<table border=\"1\" class=\"dataframe\">\n",
       "  <thead>\n",
       "    <tr style=\"text-align: right;\">\n",
       "      <th></th>\n",
       "      <th>Code</th>\n",
       "      <th>Content</th>\n",
       "      <th>Time</th>\n",
       "    </tr>\n",
       "  </thead>\n",
       "  <tbody>\n",
       "    <tr>\n",
       "      <th>0</th>\n",
       "      <td>32121-01-02-4</td>\n",
       "      <td>Haushaltsabfälle - Jahr - regionale Tiefe: Kreise und krfr. Städte</td>\n",
       "      <td></td>\n",
       "    </tr>\n",
       "    <tr>\n",
       "      <th>1</th>\n",
       "      <td>32121-01-02-4-B</td>\n",
       "      <td>Haushaltsabfälle - Jahr - regionale Ebenen</td>\n",
       "      <td></td>\n",
       "    </tr>\n",
       "    <tr>\n",
       "      <th>2</th>\n",
       "      <td>32151-01-01-4</td>\n",
       "      <td>Primär nachgewiesene Abfallmengen - Jahressumme - regionale Tiefe: Kreise und krfr. Städte</td>\n",
       "      <td></td>\n",
       "    </tr>\n",
       "    <tr>\n",
       "      <th>3</th>\n",
       "      <td>32151-01-01-4-B</td>\n",
       "      <td>Primär nachgewiesene Abfallmengen - Jahressumme - regionale Ebenen</td>\n",
       "      <td></td>\n",
       "    </tr>\n",
       "    <tr>\n",
       "      <th>4</th>\n",
       "      <td>AI019</td>\n",
       "      <td>Regionalatlas Deutschland Themenbereich \"Umwelt\" Indikatoren zu \"Haushaltsabfälle\"</td>\n",
       "      <td></td>\n",
       "    </tr>\n",
       "  </tbody>\n",
       "</table>\n",
       "</div>"
      ],
      "text/plain": [
       "              Code                                                                                     Content Time\n",
       "0    32121-01-02-4                          Haushaltsabfälle - Jahr - regionale Tiefe: Kreise und krfr. Städte     \n",
       "1  32121-01-02-4-B                                                  Haushaltsabfälle - Jahr - regionale Ebenen     \n",
       "2    32151-01-01-4  Primär nachgewiesene Abfallmengen - Jahressumme - regionale Tiefe: Kreise und krfr. Städte     \n",
       "3  32151-01-01-4-B                          Primär nachgewiesene Abfallmengen - Jahressumme - regionale Ebenen     \n",
       "4            AI019          Regionalatlas Deutschland Themenbereich \"Umwelt\" Indikatoren zu \"Haushaltsabfälle\"     "
      ]
     },
     "execution_count": 5,
     "metadata": {},
     "output_type": "execute_result"
    }
   ],
   "source": [
    "results.tables.df"
   ]
  },
  {
   "cell_type": "code",
   "execution_count": 6,
   "metadata": {
    "pycharm": {
     "name": "#%%\n"
    }
   },
   "outputs": [
    {
     "data": {
      "text/plain": [
       "['32121-01-02-4-B', '32151-01-01-4', '32151-01-01-4-B']"
      ]
     },
     "execution_count": 6,
     "metadata": {},
     "output_type": "execute_result"
    }
   ],
   "source": [
    "results.tables.get_code([1,2,3])"
   ]
  },
  {
   "cell_type": "code",
   "execution_count": 7,
   "metadata": {
    "pycharm": {
     "name": "#%%\n"
    }
   },
   "outputs": [
    {
     "name": "stderr",
     "output_type": "stream",
     "text": [
      "INFO:pystatis.http_helper:Code 0: erfolgreich\n"
     ]
    },
    {
     "name": "stdout",
     "output_type": "stream",
     "text": [
      "TABLES 32121-01-02-4-B - 1\n",
      "Name:\n",
      "Erhebung der öffentlich-rechtlichen Abfallentsorgung\n",
      "--------------------\n",
      "Columns:\n",
      "Aufkommen an Haushaltsabfällen (oh.Elektroaltger.)\n",
      "--------------------\n",
      "Rows:\n",
      "Kreise und kreisfreie Städte\n",
      "----------------------------------------\n"
     ]
    },
    {
     "name": "stderr",
     "output_type": "stream",
     "text": [
      "INFO:pystatis.http_helper:Code 0: erfolgreich\n"
     ]
    },
    {
     "name": "stdout",
     "output_type": "stream",
     "text": [
      "TABLES 32151-01-01-4 - 2\n",
      "Name:\n",
      "Erhebung der gefährlichen Abfälle, über die Nachweise zu  führen sind \n",
      "--------------------\n",
      "Columns:\n",
      "Erzeuger von primär nachgewiesenen Abfallmengen\n",
      "Abgegebene Abfallmenge an Entsorger\n",
      "--------------------\n",
      "Rows:\n",
      "Kreise und kreisfreie Städte\n",
      "----------------------------------------\n"
     ]
    }
   ],
   "source": [
    "results.tables.get_metadata([1,2])"
   ]
  },
  {
   "cell_type": "code",
   "execution_count": 8,
   "metadata": {
    "pycharm": {
     "name": "#%%\n"
    }
   },
   "outputs": [
    {
     "name": "stderr",
     "output_type": "stream",
     "text": [
      "INFO:pystatis.http_helper:Code 0: erfolgreich\n"
     ]
    },
    {
     "name": "stdout",
     "output_type": "stream",
     "text": [
      "CUBES 32121KJ002 - 1\n",
      "Name:\n",
      "Erhebung der öffentlich-rechtlichen Abfallentsorgung, Aufkommen an Haushaltsabfällen (oh.Elektroaltger.), Kreise und kreisfreie Städte, Abfallarten von Haushaltsabfällen, Jahr\n",
      "--------------------\n",
      "Content:\n",
      "Kreise und kreisfreie Städte\n",
      "Abfallarten von Haushaltsabfällen\n",
      "Jahr\n",
      "----------------------------------------\n"
     ]
    },
    {
     "name": "stderr",
     "output_type": "stream",
     "text": [
      "INFO:pystatis.http_helper:Code 0: erfolgreich\n"
     ]
    },
    {
     "name": "stdout",
     "output_type": "stream",
     "text": [
      "CUBES 32121LJ002 - 2\n",
      "Name:\n",
      "Erhebung der öffentlich-rechtlichen Abfallentsorgung, Aufkommen an Haushaltsabfällen (oh.Elektroaltger.), Bundesländer, Abfallarten von Haushaltsabfällen, Jahr\n",
      "--------------------\n",
      "Content:\n",
      "Bundesländer\n",
      "Abfallarten von Haushaltsabfällen\n",
      "Jahr\n",
      "----------------------------------------\n"
     ]
    }
   ],
   "source": [
    "results.cubes.get_metadata([1,2])"
   ]
  }
 ],
 "metadata": {
  "kernelspec": {
   "display_name": "Python 3.9.7 ('.venv': poetry)",
   "language": "python",
   "name": "python3"
  },
  "language_info": {
   "codemirror_mode": {
    "name": "ipython",
    "version": 3
   },
   "file_extension": ".py",
   "mimetype": "text/x-python",
   "name": "python",
   "nbconvert_exporter": "python",
   "pygments_lexer": "ipython3",
   "version": "3.11.6"
  },
  "vscode": {
   "interpreter": {
    "hash": "02e23b522f8c3795158421909d41ced4ef90521258d58d1c53bee449d96f71e3"
   }
  }
 },
 "nbformat": 4,
 "nbformat_minor": 2
}
