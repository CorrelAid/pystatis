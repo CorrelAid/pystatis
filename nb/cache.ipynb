{
 "cells": [
  {
   "cell_type": "code",
   "execution_count": null,
   "id": "6a0fdd61",
   "metadata": {},
   "outputs": [],
   "source": [
    "import logging\n",
    "logging.basicConfig(level=logging.INFO)\n",
    "\n",
    "import pystatis\n",
    "from pystatis import Cube, Table, clear_cache\n",
    "from pystatis.db import set_db"
   ]
  },
  {
   "cell_type": "code",
   "execution_count": null,
   "id": "5c944d20",
   "metadata": {},
   "outputs": [],
   "source": [
    "set_db(\"genesis\")"
   ]
  },
  {
   "cell_type": "code",
   "execution_count": null,
   "id": "601075cc",
   "metadata": {},
   "outputs": [],
   "source": [
    "# first, let's download two data sets\n",
    "# these will be cached under your \n",
    "#Cube(name=\"22922KJ1141\").get_data()\n",
    "Table(name=\"21311-0001\").get_data()"
   ]
  },
  {
   "cell_type": "code",
   "execution_count": null,
   "id": "fa6c2498",
   "metadata": {},
   "outputs": [],
   "source": [
    "# You can now test the clear_cache function!\n",
    "# Either with a particular name\n",
    "clear_cache(\"21311-0001\")"
   ]
  },
  {
   "cell_type": "code",
   "execution_count": null,
   "id": "836b9b2b",
   "metadata": {},
   "outputs": [],
   "source": [
    "# Or without a name to clear the whole cache at once\n",
    "clear_cache()"
   ]
  },
  {
   "cell_type": "code",
   "execution_count": null,
   "id": "7219b44b",
   "metadata": {},
   "outputs": [],
   "source": []
  }
 ],
 "metadata": {
  "kernelspec": {
   "display_name": "Python 3.9.7 ('.venv': poetry)",
   "language": "python",
   "name": "python3"
  },
  "language_info": {
   "codemirror_mode": {
    "name": "ipython",
    "version": 3
   },
   "file_extension": ".py",
   "mimetype": "text/x-python",
   "name": "python",
   "nbconvert_exporter": "python",
   "pygments_lexer": "ipython3",
   "version": "3.11.5"
  },
  "vscode": {
   "interpreter": {
    "hash": "02e23b522f8c3795158421909d41ced4ef90521258d58d1c53bee449d96f71e3"
   }
  }
 },
 "nbformat": 4,
 "nbformat_minor": 5
}
