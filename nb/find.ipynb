{
 "cells": [
  {
   "cell_type": "code",
   "execution_count": 2,
   "metadata": {},
   "outputs": [],
   "source": [
    "import logging\n",
    "logging.basicConfig(level=logging.INFO)\n",
    "\n",
    "from pystatis import Find"
   ]
  },
  {
   "cell_type": "markdown",
   "metadata": {},
   "source": [
    "You can initiate a find object using a search query, after you execute .run() it will automatically find the data (tables, variables, statistics, ...)"
   ]
  },
  {
   "cell_type": "code",
   "execution_count": 3,
   "metadata": {
    "pycharm": {
     "name": "#%%\n"
    }
   },
   "outputs": [],
   "source": [
    "results = Find(\"Rohöl\")"
   ]
  },
  {
   "cell_type": "code",
   "execution_count": 4,
   "metadata": {
    "pycharm": {
     "name": "#%%\n"
    }
   },
   "outputs": [
    {
     "name": "stdout",
     "output_type": "stream",
     "text": [
      "##### Results #####\n",
      "----------------------------------------\n",
      "# Number of tables: 16\n",
      "# Preview:\n",
      "|    | Code       | Content                                                                                                                                          | Time   |\n",
      "|---:|:-----------|:-------------------------------------------------------------------------------------------------------------------------------------------------|:-------|\n",
      "|  0 | 42131-0003 | Produktionswert, -menge, -gewicht und Unternehmen der Vierteljährlichen Produktionserhebung: Deutschland, Jahre, Güterverzeichnis (9-Steller)    |        |\n",
      "|  1 | 42131-0004 | Produktionswert, -menge, -gewicht und Unternehmen der Vierteljährlichen Produktionserhebung: Deutschland, Quartale, Güterverzeichnis (9-Steller) |        |\n",
      "|  2 | 51000-0005 | Aus- und Einfuhr (Außenhandel): Deutschland, Jahre, Warensystematik                                                                              |        |\n",
      "|  3 | 51000-0006 | Aus- und Einfuhr (Außenhandel): Deutschland, Monate, Warensystematik                                                                             |        |\n",
      "|  4 | 51000-0009 | Aus- und Einfuhr (Außenhandel): Deutschland, Jahre, Land, Warenverzeichnis (4-/6-Steller)                                                        |        |\n",
      "----------------------------------------# Number of statistics: 3\n",
      "# Preview:\n",
      "|    |   Code | Content                                            |   Cubes | Information   |\n",
      "|---:|-------:|:---------------------------------------------------|--------:|:--------------|\n",
      "|  0 |  42131 | Vierteljährliche Produktionserhebung i.Verarb.Gew. |      18 | true          |\n",
      "|  1 |  51000 | Außenhandel                                        |      79 | true          |\n",
      "|  2 |  61241 | Index der Erzeugerpreise gewerblicher Produkte     |      18 | true          |\n",
      "----------------------------------------\n",
      "# Number of variables: 6\n",
      "# Preview:\n",
      "|    | Code   | Content                                            | Type     |   Values | Information   |\n",
      "|---:|:-------|:---------------------------------------------------|:---------|---------:|:--------------|\n",
      "|  0 | GP02A9 | GP2002 (9-Steller (Arten))                         | sachlich |     6147 | true          |\n",
      "|  1 | GP09A9 | GP2009 (9-Steller (Arten))                         | sachlich |     5250 | true          |\n",
      "|  2 | GP09N1 | GP2009 (ausgewählte 9-Steller): Gewerbl. Produkte  | sachlich |     1350 | false         |\n",
      "|  3 | GP19A9 | GP2019 (9-Steller (Arten))                         | sachlich |     5018 | true          |\n",
      "|  4 | WAM6   | Warenverzeichnis Außenhandelsstatistik (6-Steller) | sachlich |     6339 | true          |\n",
      "----------------------------------------\n",
      "# Number of cubes: 16\n",
      "# Preview:\n",
      "|    | Code       | Content                                                                                                                                                                                                                                                                                                                                                                                                                                                                                                                                                                            | State                  | Time                            | LatestUpdate         | Information   |\n",
      "|---:|:-----------|:-----------------------------------------------------------------------------------------------------------------------------------------------------------------------------------------------------------------------------------------------------------------------------------------------------------------------------------------------------------------------------------------------------------------------------------------------------------------------------------------------------------------------------------------------------------------------------------|:-----------------------|:--------------------------------|:---------------------|:--------------|\n",
      "|  0 | 42131BJ003 | Vierteljährliche Produktionserhebung i.Verarb.Gew., Wert der zum Absatz bestimmten Produktion, Menge der zum Absatz bestimmten Produktion (BM), Gewicht der zum Absatz bestimmten Produktion, Gewicht der zum Absatz bestimmten Produktion (kg), Menge der zum Absatz bestimmten Produktion, Menge der Gesamtproduktion (BM), Gewicht der Gesamtproduktion, Gewicht der Gesamtproduktion (kg), Menge der Gesamtproduktion (Stück), Unternehmen mit zum Absatz bestimmter Produktion, Unternehmen mit Produktion, GP2002 (9-Steller (Arten)), Deutschland insgesamt, Jahr           | vollständig mit Werten | 2002-2008                       | 10.07.2019 11:54:06h | false         |\n",
      "|  1 | 42131BJ103 | Vierteljährliche Produktionserhebung i.Verarb.Gew., Wert der zum Absatz bestimmten Produktion, Menge der zum Absatz bestimmten Produktion (BM), Gewicht der zum Absatz bestimmten Produktion, Gewicht der zum Absatz bestimmten Produktion (kg), Menge der zum Absatz bestimmten Produktion, Menge der Gesamtproduktion (BM), Gewicht der Gesamtproduktion, Gewicht der Gesamtproduktion (kg), Menge der Gesamtproduktion (Stück), Unternehmen mit zum Absatz bestimmter Produktion, Unternehmen mit Produktion, GP2009 (9-Steller (Arten)), Deutschland insgesamt, Jahr           | vollständig mit Werten | 2009-2018                       | 16.08.2021 16:30:29h | false         |\n",
      "|  2 | 42131BJ203 | Vierteljährliche Produktionserhebung i.Verarb.Gew., Wert der zum Absatz bestimmten Produktion, Menge der zum Absatz bestimmten Produktion (BM), Gewicht der zum Absatz bestimmten Produktion, Gewicht der zum Absatz bestimmten Produktion (kg), Menge der zum Absatz bestimmten Produktion, Menge der Gesamtproduktion (BM), Gewicht der Gesamtproduktion, Gewicht der Gesamtproduktion (kg), Menge der Gesamtproduktion (Stück), Unternehmen mit zum Absatz bestimmter Produktion, Unternehmen mit Produktion, GP2019 (9-Steller (Arten)), Deutschland insgesamt, Jahr           | vollständig mit Werten | 2019-2021                       | 29.04.2022 08:02:58h | false         |\n",
      "|  3 | 42131BV003 | Vierteljährliche Produktionserhebung i.Verarb.Gew., Wert der zum Absatz bestimmten Produktion, Menge der zum Absatz bestimmten Produktion (BM), Gewicht der zum Absatz bestimmten Produktion, Gewicht der zum Absatz bestimmten Produktion (kg), Menge der zum Absatz bestimmten Produktion, Menge der Gesamtproduktion (BM), Gewicht der Gesamtproduktion, Gewicht der Gesamtproduktion (kg), Menge der Gesamtproduktion (Stück), Unternehmen mit zum Absatz bestimmter Produktion, Unternehmen mit Produktion, GP2002 (9-Steller (Arten)), Deutschland insgesamt, Quartale, Jahr | vollständig mit Werten | 1. Quartal 2002-4. Quartal 2008 | 10.07.2019 11:51:58h | false         |\n",
      "|  4 | 42131BV103 | Vierteljährliche Produktionserhebung i.Verarb.Gew., Wert der zum Absatz bestimmten Produktion, Menge der zum Absatz bestimmten Produktion (BM), Gewicht der zum Absatz bestimmten Produktion, Gewicht der zum Absatz bestimmten Produktion (kg), Menge der zum Absatz bestimmten Produktion, Menge der Gesamtproduktion (BM), Gewicht der Gesamtproduktion, Gewicht der Gesamtproduktion (kg), Menge der Gesamtproduktion (Stück), Unternehmen mit zum Absatz bestimmter Produktion, Unternehmen mit Produktion, GP2009 (9-Steller (Arten)), Deutschland insgesamt, Quartale, Jahr | vollständig mit Werten | 1. Quartal 2009-4. Quartal 2018 | 16.08.2021 16:32:10h | false         |\n",
      "----------------------------------------\n",
      "# Use object.tables, object.statistics, object.variables or object.cubes to get all results.\n",
      "----------------------------------------\n"
     ]
    }
   ],
   "source": [
    "results.run()"
   ]
  },
  {
   "cell_type": "code",
   "execution_count": 5,
   "metadata": {
    "pycharm": {
     "name": "#%%\n"
    }
   },
   "outputs": [
    {
     "data": {
      "text/plain": [
       "|    | Code       | Content                                                                                                                                          | Time   |\n",
       "|---:|:-----------|:-------------------------------------------------------------------------------------------------------------------------------------------------|:-------|\n",
       "|  0 | 42131-0003 | Produktionswert, -menge, -gewicht und Unternehmen der Vierteljährlichen Produktionserhebung: Deutschland, Jahre, Güterverzeichnis (9-Steller)    |        |\n",
       "|  1 | 42131-0004 | Produktionswert, -menge, -gewicht und Unternehmen der Vierteljährlichen Produktionserhebung: Deutschland, Quartale, Güterverzeichnis (9-Steller) |        |\n",
       "|  2 | 51000-0005 | Aus- und Einfuhr (Außenhandel): Deutschland, Jahre, Warensystematik                                                                              |        |\n",
       "|  3 | 51000-0006 | Aus- und Einfuhr (Außenhandel): Deutschland, Monate, Warensystematik                                                                             |        |\n",
       "|  4 | 51000-0009 | Aus- und Einfuhr (Außenhandel): Deutschland, Jahre, Land, Warenverzeichnis (4-/6-Steller)                                                        |        |\n",
       "|  5 | 51000-0010 | Aus- und Einfuhr (Außenhandel): Deutschland, Jahre, Ware (4-/6-Steller), Länder                                                                  |        |\n",
       "|  6 | 51000-0011 | Aus- und Einfuhr (Außenhandel): Deutschland, Monate, Land, Warenverzeichnis (4-/6-Steller)                                                       |        |\n",
       "|  7 | 51000-0012 | Aus- und Einfuhr (Außenhandel): Deutschland, Monate, Ware (4-/6-Steller), Länder                                                                 |        |\n",
       "|  8 | 51000-0013 | Aus- und Einfuhr (Außenhandel): Deutschland, Jahre, Warenverzeichnis (8-Steller)                                                                 |        |\n",
       "|  9 | 51000-0014 | Aus- und Einfuhr (Außenhandel): Deutschland, Monate, Warenverzeichnis (8-Steller)                                                                |        |\n",
       "| 10 | 51000-0015 | Aus- und Einfuhr (Außenhandel): Deutschland, Jahre, Land, Warenverzeichnis (8-Steller)                                                           |        |\n",
       "| 11 | 51000-0016 | Aus- und Einfuhr (Außenhandel): Deutschland, Jahre, Ware (8-Steller), Länder                                                                     |        |\n",
       "| 12 | 51000-0017 | Aus- und Einfuhr (Außenhandel): Deutschland, Monate, Land, Warenverzeichnis (8-Steller)                                                          |        |\n",
       "| 13 | 51000-0018 | Aus- und Einfuhr (Außenhandel): Deutschland, Monate, Ware (8-Steller), Länder                                                                    |        |\n",
       "| 14 | 61241-0003 | Erzeugerpreisindex gewerblicher Produkte: Deutschland, Jahre, Güterverzeichnis (GP2009 2-/3-/4-/5-/6-/9-Steller/ Sonderpositionen)               |        |\n",
       "| 15 | 61241-0004 | Erzeugerpreisindex gewerblicher Produkte: Deutschland, Monate, Güterverzeichnis (GP2009 2-/3-/4-/5-/6-/9-Steller/ Sonderpositionen)              |        |"
      ]
     },
     "execution_count": 5,
     "metadata": {},
     "output_type": "execute_result"
    }
   ],
   "source": [
    "results.tables"
   ]
  },
  {
   "cell_type": "code",
   "execution_count": 6,
   "metadata": {
    "pycharm": {
     "name": "#%%\n"
    }
   },
   "outputs": [
    {
     "data": {
      "text/html": [
       "<div>\n",
       "<style scoped>\n",
       "    .dataframe tbody tr th:only-of-type {\n",
       "        vertical-align: middle;\n",
       "    }\n",
       "\n",
       "    .dataframe tbody tr th {\n",
       "        vertical-align: top;\n",
       "    }\n",
       "\n",
       "    .dataframe thead th {\n",
       "        text-align: right;\n",
       "    }\n",
       "</style>\n",
       "<table border=\"1\" class=\"dataframe\">\n",
       "  <thead>\n",
       "    <tr style=\"text-align: right;\">\n",
       "      <th></th>\n",
       "      <th>Code</th>\n",
       "      <th>Content</th>\n",
       "      <th>Time</th>\n",
       "    </tr>\n",
       "  </thead>\n",
       "  <tbody>\n",
       "    <tr>\n",
       "      <th>0</th>\n",
       "      <td>42131-0003</td>\n",
       "      <td>Produktionswert, -menge, -gewicht und Unternehmen der Vierteljährlichen Produktionserhebung: Deutschland, Jahre, Güterverzeichnis (9-Steller)</td>\n",
       "      <td></td>\n",
       "    </tr>\n",
       "    <tr>\n",
       "      <th>1</th>\n",
       "      <td>42131-0004</td>\n",
       "      <td>Produktionswert, -menge, -gewicht und Unternehmen der Vierteljährlichen Produktionserhebung: Deutschland, Quartale, Güterverzeichnis (9-Steller)</td>\n",
       "      <td></td>\n",
       "    </tr>\n",
       "    <tr>\n",
       "      <th>2</th>\n",
       "      <td>51000-0005</td>\n",
       "      <td>Aus- und Einfuhr (Außenhandel): Deutschland, Jahre, Warensystematik</td>\n",
       "      <td></td>\n",
       "    </tr>\n",
       "    <tr>\n",
       "      <th>3</th>\n",
       "      <td>51000-0006</td>\n",
       "      <td>Aus- und Einfuhr (Außenhandel): Deutschland, Monate, Warensystematik</td>\n",
       "      <td></td>\n",
       "    </tr>\n",
       "    <tr>\n",
       "      <th>4</th>\n",
       "      <td>51000-0009</td>\n",
       "      <td>Aus- und Einfuhr (Außenhandel): Deutschland, Jahre, Land, Warenverzeichnis (4-/6-Steller)</td>\n",
       "      <td></td>\n",
       "    </tr>\n",
       "    <tr>\n",
       "      <th>5</th>\n",
       "      <td>51000-0010</td>\n",
       "      <td>Aus- und Einfuhr (Außenhandel): Deutschland, Jahre, Ware (4-/6-Steller), Länder</td>\n",
       "      <td></td>\n",
       "    </tr>\n",
       "    <tr>\n",
       "      <th>6</th>\n",
       "      <td>51000-0011</td>\n",
       "      <td>Aus- und Einfuhr (Außenhandel): Deutschland, Monate, Land, Warenverzeichnis (4-/6-Steller)</td>\n",
       "      <td></td>\n",
       "    </tr>\n",
       "    <tr>\n",
       "      <th>7</th>\n",
       "      <td>51000-0012</td>\n",
       "      <td>Aus- und Einfuhr (Außenhandel): Deutschland, Monate, Ware (4-/6-Steller), Länder</td>\n",
       "      <td></td>\n",
       "    </tr>\n",
       "    <tr>\n",
       "      <th>8</th>\n",
       "      <td>51000-0013</td>\n",
       "      <td>Aus- und Einfuhr (Außenhandel): Deutschland, Jahre, Warenverzeichnis (8-Steller)</td>\n",
       "      <td></td>\n",
       "    </tr>\n",
       "    <tr>\n",
       "      <th>9</th>\n",
       "      <td>51000-0014</td>\n",
       "      <td>Aus- und Einfuhr (Außenhandel): Deutschland, Monate, Warenverzeichnis (8-Steller)</td>\n",
       "      <td></td>\n",
       "    </tr>\n",
       "    <tr>\n",
       "      <th>10</th>\n",
       "      <td>51000-0015</td>\n",
       "      <td>Aus- und Einfuhr (Außenhandel): Deutschland, Jahre, Land, Warenverzeichnis (8-Steller)</td>\n",
       "      <td></td>\n",
       "    </tr>\n",
       "    <tr>\n",
       "      <th>11</th>\n",
       "      <td>51000-0016</td>\n",
       "      <td>Aus- und Einfuhr (Außenhandel): Deutschland, Jahre, Ware (8-Steller), Länder</td>\n",
       "      <td></td>\n",
       "    </tr>\n",
       "    <tr>\n",
       "      <th>12</th>\n",
       "      <td>51000-0017</td>\n",
       "      <td>Aus- und Einfuhr (Außenhandel): Deutschland, Monate, Land, Warenverzeichnis (8-Steller)</td>\n",
       "      <td></td>\n",
       "    </tr>\n",
       "    <tr>\n",
       "      <th>13</th>\n",
       "      <td>51000-0018</td>\n",
       "      <td>Aus- und Einfuhr (Außenhandel): Deutschland, Monate, Ware (8-Steller), Länder</td>\n",
       "      <td></td>\n",
       "    </tr>\n",
       "    <tr>\n",
       "      <th>14</th>\n",
       "      <td>61241-0003</td>\n",
       "      <td>Erzeugerpreisindex gewerblicher Produkte: Deutschland, Jahre, Güterverzeichnis (GP2009 2-/3-/4-/5-/6-/9-Steller/ Sonderpositionen)</td>\n",
       "      <td></td>\n",
       "    </tr>\n",
       "    <tr>\n",
       "      <th>15</th>\n",
       "      <td>61241-0004</td>\n",
       "      <td>Erzeugerpreisindex gewerblicher Produkte: Deutschland, Monate, Güterverzeichnis (GP2009 2-/3-/4-/5-/6-/9-Steller/ Sonderpositionen)</td>\n",
       "      <td></td>\n",
       "    </tr>\n",
       "  </tbody>\n",
       "</table>\n",
       "</div>"
      ],
      "text/plain": [
       "          Code                                                                                                                                           Content Time\n",
       "0   42131-0003     Produktionswert, -menge, -gewicht und Unternehmen der Vierteljährlichen Produktionserhebung: Deutschland, Jahre, Güterverzeichnis (9-Steller)     \n",
       "1   42131-0004  Produktionswert, -menge, -gewicht und Unternehmen der Vierteljährlichen Produktionserhebung: Deutschland, Quartale, Güterverzeichnis (9-Steller)     \n",
       "2   51000-0005                                                                               Aus- und Einfuhr (Außenhandel): Deutschland, Jahre, Warensystematik     \n",
       "3   51000-0006                                                                              Aus- und Einfuhr (Außenhandel): Deutschland, Monate, Warensystematik     \n",
       "4   51000-0009                                                         Aus- und Einfuhr (Außenhandel): Deutschland, Jahre, Land, Warenverzeichnis (4-/6-Steller)     \n",
       "5   51000-0010                                                                   Aus- und Einfuhr (Außenhandel): Deutschland, Jahre, Ware (4-/6-Steller), Länder     \n",
       "6   51000-0011                                                        Aus- und Einfuhr (Außenhandel): Deutschland, Monate, Land, Warenverzeichnis (4-/6-Steller)     \n",
       "7   51000-0012                                                                  Aus- und Einfuhr (Außenhandel): Deutschland, Monate, Ware (4-/6-Steller), Länder     \n",
       "8   51000-0013                                                                  Aus- und Einfuhr (Außenhandel): Deutschland, Jahre, Warenverzeichnis (8-Steller)     \n",
       "9   51000-0014                                                                 Aus- und Einfuhr (Außenhandel): Deutschland, Monate, Warenverzeichnis (8-Steller)     \n",
       "10  51000-0015                                                            Aus- und Einfuhr (Außenhandel): Deutschland, Jahre, Land, Warenverzeichnis (8-Steller)     \n",
       "11  51000-0016                                                                      Aus- und Einfuhr (Außenhandel): Deutschland, Jahre, Ware (8-Steller), Länder     \n",
       "12  51000-0017                                                           Aus- und Einfuhr (Außenhandel): Deutschland, Monate, Land, Warenverzeichnis (8-Steller)     \n",
       "13  51000-0018                                                                     Aus- und Einfuhr (Außenhandel): Deutschland, Monate, Ware (8-Steller), Länder     \n",
       "14  61241-0003                Erzeugerpreisindex gewerblicher Produkte: Deutschland, Jahre, Güterverzeichnis (GP2009 2-/3-/4-/5-/6-/9-Steller/ Sonderpositionen)     \n",
       "15  61241-0004               Erzeugerpreisindex gewerblicher Produkte: Deutschland, Monate, Güterverzeichnis (GP2009 2-/3-/4-/5-/6-/9-Steller/ Sonderpositionen)     "
      ]
     },
     "execution_count": 6,
     "metadata": {},
     "output_type": "execute_result"
    }
   ],
   "source": [
    "results.tables.df"
   ]
  },
  {
   "cell_type": "code",
   "execution_count": 7,
   "metadata": {
    "pycharm": {
     "name": "#%%\n"
    }
   },
   "outputs": [
    {
     "data": {
      "text/plain": [
       "['42131-0004', '51000-0005', '51000-0006']"
      ]
     },
     "execution_count": 7,
     "metadata": {},
     "output_type": "execute_result"
    }
   ],
   "source": [
    "results.tables.get_code([1,2,3])"
   ]
  },
  {
   "cell_type": "code",
   "execution_count": 8,
   "metadata": {
    "pycharm": {
     "name": "#%%\n"
    }
   },
   "outputs": [
    {
     "name": "stdout",
     "output_type": "stream",
     "text": [
      "TABLES 42131-0004 - 1\n",
      "Name:\n",
      "Vierteljährliche Produktionserhebung i.Verarb.Gew.\n",
      "--------------------\n",
      "Columns:\n",
      "Quartale\n",
      "--------------------\n",
      "Rows:\n",
      "GP2019 (9-Steller (Arten))\n",
      "----------------------------------------\n",
      "TABLES 51000-0005 - 2\n",
      "Name:\n",
      "Außenhandel\n",
      "--------------------\n",
      "Columns:\n",
      "Ausfuhr: Gewicht\n",
      "Ausfuhr: Wert\n",
      "Ausfuhr: Wert (US-Dollar)\n",
      "Einfuhr: Gewicht\n",
      "Einfuhr: Wert\n",
      "Einfuhr: Wert (US-Dollar)\n",
      "--------------------\n",
      "Rows:\n",
      "Warenverzeichnis Außenhandelsstatistik (2-Steller)\n",
      "----------------------------------------\n"
     ]
    }
   ],
   "source": [
    "results.tables.get_metadata([1,2])"
   ]
  },
  {
   "cell_type": "code",
   "execution_count": 9,
   "metadata": {
    "pycharm": {
     "name": "#%%\n"
    }
   },
   "outputs": [
    {
     "name": "stdout",
     "output_type": "stream",
     "text": [
      "CUBES 42131BJ103 - 1\n",
      "Name:\n",
      "Vierteljährliche Produktionserhebung i.Verarb.Gew., Wert der zum Absatz bestimmten Produktion, Menge der zum Absatz bestimmten Produktion (BM), Gewicht der zum Absatz bestimmten Produktion, Gewicht der zum Absatz bestimmten Produktion (kg), Menge der zum Absatz bestimmten Produktion, Menge der Gesamtproduktion (BM), Gewicht der Gesamtproduktion, Gewicht der Gesamtproduktion (kg), Menge der Gesamtproduktion (Stück), Unternehmen mit zum Absatz bestimmter Produktion, Unternehmen mit Produktion, GP2009 (9-Steller (Arten)), Deutschland insgesamt, Jahr\n",
      "--------------------\n",
      "Content:\n",
      "GP2009 (9-Steller (Arten))\n",
      "Deutschland insgesamt\n",
      "Jahr\n",
      "----------------------------------------\n",
      "CUBES 42131BJ203 - 2\n",
      "Name:\n",
      "Vierteljährliche Produktionserhebung i.Verarb.Gew., Wert der zum Absatz bestimmten Produktion, Menge der zum Absatz bestimmten Produktion (BM), Gewicht der zum Absatz bestimmten Produktion, Gewicht der zum Absatz bestimmten Produktion (kg), Menge der zum Absatz bestimmten Produktion, Menge der Gesamtproduktion (BM), Gewicht der Gesamtproduktion, Gewicht der Gesamtproduktion (kg), Menge der Gesamtproduktion (Stück), Unternehmen mit zum Absatz bestimmter Produktion, Unternehmen mit Produktion, GP2019 (9-Steller (Arten)), Deutschland insgesamt, Jahr\n",
      "--------------------\n",
      "Content:\n",
      "GP2019 (9-Steller (Arten))\n",
      "Deutschland insgesamt\n",
      "Jahr\n",
      "----------------------------------------\n"
     ]
    }
   ],
   "source": [
    "results.cubes.get_metadata([1,2])"
   ]
  }
 ],
 "metadata": {
  "kernelspec": {
   "display_name": "Python 3.9.7 ('.venv': poetry)",
   "language": "python",
   "name": "python3"
  },
  "language_info": {
   "codemirror_mode": {
    "name": "ipython",
    "version": 3
   },
   "file_extension": ".py",
   "mimetype": "text/x-python",
   "name": "python",
   "nbconvert_exporter": "python",
   "pygments_lexer": "ipython3",
   "version": "3.9.7"
  },
  "vscode": {
   "interpreter": {
    "hash": "02e23b522f8c3795158421909d41ced4ef90521258d58d1c53bee449d96f71e3"
   }
  }
 },
 "nbformat": 4,
 "nbformat_minor": 2
}
