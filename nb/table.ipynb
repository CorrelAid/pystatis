{
 "cells": [
  {
   "cell_type": "code",
   "execution_count": null,
   "id": "165da3a1",
   "metadata": {
    "scrolled": true
   },
   "outputs": [],
   "source": [
    "import logging\n",
    "logging.basicConfig(level=logging.INFO)\n",
    "\n",
    "from pystatis import Table\n",
    "from pystatis import db"
   ]
  },
  {
   "cell_type": "code",
   "execution_count": null,
   "id": "c500ccb8",
   "metadata": {},
   "outputs": [],
   "source": [
    "db.set_db(\"genesis\")"
   ]
  },
  {
   "cell_type": "code",
   "execution_count": null,
   "id": "5d25c79a",
   "metadata": {},
   "outputs": [],
   "source": [
    "t = Table(name=\"21311-0001\")"
   ]
  },
  {
   "cell_type": "code",
   "execution_count": null,
   "id": "632fc783",
   "metadata": {
    "scrolled": false
   },
   "outputs": [],
   "source": [
    "t.get_data()"
   ]
  },
  {
   "cell_type": "code",
   "execution_count": null,
   "id": "f5f1aded",
   "metadata": {},
   "outputs": [],
   "source": [
    "t.name"
   ]
  },
  {
   "cell_type": "code",
   "execution_count": null,
   "id": "8fede338",
   "metadata": {},
   "outputs": [],
   "source": [
    "t.raw_data"
   ]
  },
  {
   "cell_type": "code",
   "execution_count": null,
   "id": "874bbbb9",
   "metadata": {},
   "outputs": [],
   "source": [
    "t.data"
   ]
  },
  {
   "cell_type": "code",
   "execution_count": null,
   "id": "81d27994",
   "metadata": {},
   "outputs": [],
   "source": [
    "from pprint import pprint\n",
    "\n",
    "pprint(t.metadata)"
   ]
  }
 ],
 "metadata": {
  "kernelspec": {
   "display_name": "Python 3.9.7 ('.venv': poetry)",
   "language": "python",
   "name": "python3"
  },
  "language_info": {
   "codemirror_mode": {
    "name": "ipython",
    "version": 3
   },
   "file_extension": ".py",
   "mimetype": "text/x-python",
   "name": "python",
   "nbconvert_exporter": "python",
   "pygments_lexer": "ipython3",
   "version": "3.11.5"
  },
  "vscode": {
   "interpreter": {
    "hash": "02e23b522f8c3795158421909d41ced4ef90521258d58d1c53bee449d96f71e3"
   }
  }
 },
 "nbformat": 4,
 "nbformat_minor": 5
}
